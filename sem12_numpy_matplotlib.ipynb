{
  "cells": [
    {
      "cell_type": "markdown",
      "metadata": {
        "id": "LKnE1J7LNjF3"
      },
      "source": [
        "# Инструменты для анализа данных: numpy и matplotlib\n",
        "\n",
        "[ссылка на оригинальный ноутбук](https://miptstats.github.io/courses/ad_fivt/python_digest.html)"
      ]
    },
    {
      "cell_type": "markdown",
      "metadata": {
        "id": "8jf-rT54JPJ0"
      },
      "source": [
        "## 1. NumPy\n",
        "\n",
        "В пакете  NumPy представлены удобные функции для работы c $n$-мерными массивами. В нём имеются функции для поэлементных операций, а также для работы с массивами, как с математическими объектами, например, функции для линейной алгебры.\n",
        "\n",
        "Они реализованы на C++, поэтому гораздо эффективнее аналогичных реализаций на Python."
      ]
    },
    {
      "cell_type": "code",
      "execution_count": null,
      "metadata": {
        "id": "lCCeZIpwQm39"
      },
      "outputs": [],
      "source": [
        "!pip install numpy"
      ]
    },
    {
      "cell_type": "code",
      "execution_count": 1,
      "metadata": {
        "ExecuteTime": {
          "end_time": "2023-02-04T14:03:09.275221Z",
          "start_time": "2023-02-04T14:03:09.206097Z"
        },
        "id": "ebOBsACXKTMh"
      },
      "outputs": [],
      "source": [
        "import numpy as np"
      ]
    },
    {
      "cell_type": "markdown",
      "metadata": {
        "id": "JPsVV55aKLWm"
      },
      "source": [
        "### 1.1 Основы"
      ]
    },
    {
      "cell_type": "markdown",
      "metadata": {
        "id": "cHSb3tFxKkQc"
      },
      "source": [
        "Создавать массивы можно различными способами."
      ]
    },
    {
      "cell_type": "code",
      "execution_count": 3,
      "metadata": {
        "ExecuteTime": {
          "end_time": "2023-02-04T14:03:09.283112Z",
          "start_time": "2023-02-04T14:03:09.277459Z"
        },
        "id": "FDfKIAL2KFnI"
      },
      "outputs": [],
      "source": [
        "# Из списка\n",
        "a = np.array([0, 2, 1])\n",
        "\n",
        "# Из равномерной сетки\n",
        "grid = np.linspace(0, 1, 500)\n",
        "\n",
        "# Перечисление 0, 1, 2, 3, 4\n",
        "nat_grid = np.arange(5)\n",
        "\n",
        "# Заполненный нулями\n",
        "zeros = np.zeros((1, 2, 3))"
      ]
    },
    {
      "cell_type": "markdown",
      "metadata": {
        "id": "inw-Bm6ZK9x9"
      },
      "source": [
        "У массивов можно узнать их размерность, форму и число элементов"
      ]
    },
    {
      "cell_type": "code",
      "execution_count": 7,
      "metadata": {
        "ExecuteTime": {
          "end_time": "2023-02-04T14:03:09.292613Z",
          "start_time": "2023-02-04T14:03:09.284871Z"
        },
        "colab": {
          "base_uri": "https://localhost:8080/"
        },
        "id": "AUQKm1cIK10f",
        "outputId": "6cdb9792-fe2f-4ecf-be1f-c762d17eacf2"
      },
      "outputs": [
        {
          "name": "stdout",
          "output_type": "stream",
          "text": [
            "3 (1, 2, 3) 6\n"
          ]
        }
      ],
      "source": [
        "print(zeros.ndim, zeros.shape, zeros.size)"
      ]
    },
    {
      "cell_type": "code",
      "execution_count": 8,
      "metadata": {
        "colab": {
          "base_uri": "https://localhost:8080/"
        },
        "id": "4sm6k9reRU80",
        "outputId": "12252ba1-db34-4a9d-c35d-d46f27227c5b"
      },
      "outputs": [
        {
          "data": {
            "text/plain": [
              "array([[[0., 0., 0.],\n",
              "        [0., 0., 0.]]])"
            ]
          },
          "execution_count": 8,
          "metadata": {},
          "output_type": "execute_result"
        }
      ],
      "source": [
        "zeros"
      ]
    },
    {
      "cell_type": "markdown",
      "metadata": {
        "id": "mlyXWmXLLNuy"
      },
      "source": [
        "Индексация похожа на индексацию списков"
      ]
    },
    {
      "cell_type": "code",
      "execution_count": 10,
      "metadata": {
        "ExecuteTime": {
          "end_time": "2023-02-04T14:03:09.301452Z",
          "start_time": "2023-02-04T14:03:09.294004Z"
        },
        "colab": {
          "base_uri": "https://localhost:8080/"
        },
        "id": "dAIIfCgMLJLe",
        "outputId": "47e939d7-fd7a-4051-dfc1-5ad846642cab"
      },
      "outputs": [
        {
          "name": "stdout",
          "output_type": "stream",
          "text": [
            "[1]\n",
            "[0.         0.2004008  0.4008016  0.6012024  0.80160321]\n"
          ]
        }
      ],
      "source": [
        "print(a[2:1:-1])\n",
        "print(grid[::100])"
      ]
    },
    {
      "cell_type": "code",
      "execution_count": 11,
      "metadata": {
        "colab": {
          "base_uri": "https://localhost:8080/"
        },
        "id": "OT-b73V3NjF7",
        "outputId": "e329da62-654e-4cbb-95bd-3dd041d55eb4"
      },
      "outputs": [
        {
          "name": "stdout",
          "output_type": "stream",
          "text": [
            "[[1, 2], [3, 4]]\n",
            "3\n"
          ]
        }
      ],
      "source": [
        "a = [[1,2],[3,4]]\n",
        "print(a)\n",
        "print(a[1][0])"
      ]
    },
    {
      "cell_type": "code",
      "execution_count": 17,
      "metadata": {
        "colab": {
          "base_uri": "https://localhost:8080/"
        },
        "id": "UFYXnewZNjF7",
        "outputId": "6fb191ad-7702-4236-b2aa-6b9c983e793b"
      },
      "outputs": [
        {
          "name": "stdout",
          "output_type": "stream",
          "text": [
            "[[1 2]\n",
            " [3 4]]\n",
            "(2, 2)\n",
            "3\n",
            "3\n",
            "[4 3]\n"
          ]
        }
      ],
      "source": [
        "a_np = np.array(a)\n",
        "print(a_np)\n",
        "print(a_np.shape)\n",
        "print(a_np[1][0])\n",
        "print(a_np[1, 0])\n",
        "print(a_np[1, ::-1])"
      ]
    },
    {
      "cell_type": "code",
      "execution_count": 33,
      "metadata": {
        "colab": {
          "base_uri": "https://localhost:8080/"
        },
        "id": "ItZlMsljNjF8",
        "outputId": "a53c3bbb-4b78-4add-bf5e-210a2a710f5f"
      },
      "outputs": [
        {
          "name": "stdout",
          "output_type": "stream",
          "text": [
            "a_np.dtype=dtype('int64')\n"
          ]
        }
      ],
      "source": [
        "print(f\"{a_np.dtype=}\")"
      ]
    },
    {
      "cell_type": "markdown",
      "metadata": {
        "id": "yWnky0inNjF8"
      },
      "source": [
        "Integer overflow example"
      ]
    },
    {
      "cell_type": "code",
      "execution_count": 34,
      "metadata": {
        "colab": {
          "base_uri": "https://localhost:8080/"
        },
        "id": "a-8MgCqhNjF8",
        "outputId": "1adf99fc-552d-480d-ebd8-def372f4aef7"
      },
      "outputs": [
        {
          "name": "stdout",
          "output_type": "stream",
          "text": [
            "[[1 2]\n",
            " [3 4]]\n"
          ]
        }
      ],
      "source": [
        "a_np_uint8 = a_np.astype(np.uint8)\n",
        "print(a_np_uint8)"
      ]
    },
    {
      "cell_type": "code",
      "execution_count": 35,
      "metadata": {
        "colab": {
          "base_uri": "https://localhost:8080/"
        },
        "id": "jNnU-hfaNjF9",
        "outputId": "bc7c0af2-6055-45cd-ceb7-360a891ecdb6"
      },
      "outputs": [
        {
          "name": "stdout",
          "output_type": "stream",
          "text": [
            "[[2 3]\n",
            " [4 5]]\n"
          ]
        }
      ],
      "source": [
        "print(a_np_uint8 + 1)"
      ]
    },
    {
      "cell_type": "code",
      "execution_count": 40,
      "metadata": {
        "colab": {
          "base_uri": "https://localhost:8080/"
        },
        "id": "LHxvnq1zNjF9",
        "outputId": "b02eb0f2-81bb-417d-986d-756b082ffe4b"
      },
      "outputs": [
        {
          "name": "stdout",
          "output_type": "stream",
          "text": [
            "[[0 1]\n",
            " [2 3]]\n",
            "uint8\n"
          ]
        }
      ],
      "source": [
        "print(a_np_uint8 + 255)\n",
        "print((a_np_uint8 + 255).dtype)"
      ]
    },
    {
      "cell_type": "code",
      "execution_count": 41,
      "metadata": {
        "colab": {
          "base_uri": "https://localhost:8080/"
        },
        "id": "glMn5DwwTc0W",
        "outputId": "f7c8befc-4abf-4433-d592-2764793795f6"
      },
      "outputs": [
        {
          "name": "stdout",
          "output_type": "stream",
          "text": [
            "[[257 258]\n",
            " [259 260]]\n",
            "uint16\n"
          ]
        }
      ],
      "source": [
        "print(a_np_uint8 + 256)\n",
        "print((a_np_uint8 + 256).dtype)"
      ]
    },
    {
      "cell_type": "markdown",
      "metadata": {
        "id": "Tob_ljbKNjF9"
      },
      "source": [
        "### 1.2 Соединение массивов и их форма"
      ]
    },
    {
      "cell_type": "markdown",
      "metadata": {
        "id": "Qug8Zw7SNjF9"
      },
      "source": [
        "Из одномерного массива можно сделать двумерный, указав необходимую форму."
      ]
    },
    {
      "cell_type": "code",
      "execution_count": 79,
      "metadata": {
        "ExecuteTime": {
          "end_time": "2023-02-04T14:03:09.310223Z",
          "start_time": "2023-02-04T14:03:09.303268Z"
        },
        "colab": {
          "base_uri": "https://localhost:8080/"
        },
        "id": "c-gnIbprNjF-",
        "outputId": "748991b4-c39f-402c-9d05-c5900dd50eeb"
      },
      "outputs": [
        {
          "data": {
            "text/plain": [
              "array([[0, 1, 2],\n",
              "       [3, 4, 5]])"
            ]
          },
          "execution_count": 79,
          "metadata": {},
          "output_type": "execute_result"
        }
      ],
      "source": [
        "A = np.arange(6).reshape((2, 3))  # произведение изначальных размерностей == произведение целевых размерностей\n",
        "A"
      ]
    },
    {
      "cell_type": "markdown",
      "metadata": {
        "id": "PVZP7oYANjF-"
      },
      "source": [
        "Два массива можно склеить горизонтально"
      ]
    },
    {
      "cell_type": "code",
      "execution_count": 80,
      "metadata": {
        "ExecuteTime": {
          "end_time": "2023-02-04T14:03:09.319787Z",
          "start_time": "2023-02-04T14:03:09.312863Z"
        },
        "colab": {
          "base_uri": "https://localhost:8080/"
        },
        "id": "q_Zq5lJ6NjF_",
        "outputId": "2c4ef6af-1303-491d-ad6d-d2423aaf0202"
      },
      "outputs": [
        {
          "name": "stdout",
          "output_type": "stream",
          "text": [
            "[[0. 0. 0. 0. 0.]\n",
            " [0. 0. 0. 0. 0.]]\n"
          ]
        }
      ],
      "source": [
        "B = np.zeros((2, 5))\n",
        "print(B)"
      ]
    },
    {
      "cell_type": "code",
      "execution_count": 81,
      "metadata": {
        "colab": {
          "base_uri": "https://localhost:8080/"
        },
        "id": "MU8YjmkwNjF_",
        "outputId": "99ad4b20-f8fb-44ff-e7da-878ff1816404"
      },
      "outputs": [
        {
          "data": {
            "text/plain": [
              "array([[0., 1., 2., 0., 0., 0., 0., 0.],\n",
              "       [3., 4., 5., 0., 0., 0., 0., 0.]])"
            ]
          },
          "execution_count": 81,
          "metadata": {},
          "output_type": "execute_result"
        }
      ],
      "source": [
        "np.hstack([A, B])"
      ]
    },
    {
      "cell_type": "code",
      "execution_count": 82,
      "metadata": {
        "colab": {
          "base_uri": "https://localhost:8080/"
        },
        "id": "TPt4NFpjNjF_",
        "outputId": "3255fc25-14a6-4ad4-ebe8-017069379337"
      },
      "outputs": [
        {
          "data": {
            "text/plain": [
              "array([[0., 1., 2., 0., 0., 0., 0., 0.],\n",
              "       [3., 4., 5., 0., 0., 0., 0., 0.]])"
            ]
          },
          "execution_count": 82,
          "metadata": {},
          "output_type": "execute_result"
        }
      ],
      "source": [
        "np.concatenate((A, B), axis=1)"
      ]
    },
    {
      "cell_type": "markdown",
      "metadata": {
        "id": "VsuZ1AumNjF_"
      },
      "source": [
        "и вертикально"
      ]
    },
    {
      "cell_type": "code",
      "execution_count": 83,
      "metadata": {
        "colab": {
          "base_uri": "https://localhost:8080/"
        },
        "id": "BP21-HLJNjF_",
        "outputId": "3ec21165-5326-49ee-cfd3-617671157550"
      },
      "outputs": [
        {
          "name": "stdout",
          "output_type": "stream",
          "text": [
            "[[0. 0. 0.]]\n"
          ]
        }
      ],
      "source": [
        "B = np.zeros((1, 3))\n",
        "print(B)"
      ]
    },
    {
      "cell_type": "code",
      "execution_count": 84,
      "metadata": {
        "ExecuteTime": {
          "end_time": "2023-02-04T14:03:09.327328Z",
          "start_time": "2023-02-04T14:03:09.322886Z"
        },
        "colab": {
          "base_uri": "https://localhost:8080/"
        },
        "id": "M1BMVSPJNjGA",
        "outputId": "17c7ba7c-21f6-4889-da06-fc1580300eb7"
      },
      "outputs": [
        {
          "data": {
            "text/plain": [
              "array([[0., 1., 2.],\n",
              "       [3., 4., 5.],\n",
              "       [0., 0., 0.]])"
            ]
          },
          "execution_count": 84,
          "metadata": {},
          "output_type": "execute_result"
        }
      ],
      "source": [
        "np.vstack([A, B])"
      ]
    },
    {
      "cell_type": "code",
      "execution_count": 85,
      "metadata": {
        "colab": {
          "base_uri": "https://localhost:8080/"
        },
        "id": "up-CiNy8NjGA",
        "outputId": "ce3d507a-da8f-4ad8-eaaf-6861d969c42d"
      },
      "outputs": [
        {
          "data": {
            "text/plain": [
              "array([[0., 1., 2.],\n",
              "       [3., 4., 5.],\n",
              "       [0., 0., 0.]])"
            ]
          },
          "execution_count": 85,
          "metadata": {},
          "output_type": "execute_result"
        }
      ],
      "source": [
        "np.concatenate((A, B), axis=0)"
      ]
    },
    {
      "cell_type": "code",
      "execution_count": 86,
      "metadata": {
        "colab": {
          "base_uri": "https://localhost:8080/"
        },
        "id": "Ay_G6KhWWHug",
        "outputId": "e11ae81f-6f04-4cde-b620-183cdeca7308"
      },
      "outputs": [
        {
          "data": {
            "text/plain": [
              "array([[[ 0.,  1.,  2.,  0.],\n",
              "        [ 3.,  4.,  5.,  0.]],\n",
              "\n",
              "       [[ 6.,  7.,  8.,  0.],\n",
              "        [ 9., 10., 11.,  0.]]])"
            ]
          },
          "execution_count": 86,
          "metadata": {},
          "output_type": "execute_result"
        }
      ],
      "source": [
        "A = np.arange(12).reshape((2, 2, 3))\n",
        "B = np.zeros((2, 2, 1))\n",
        "\n",
        "np.dstack((A, B))"
      ]
    },
    {
      "cell_type": "code",
      "execution_count": 87,
      "metadata": {
        "colab": {
          "base_uri": "https://localhost:8080/"
        },
        "id": "_u0i3dGEWU1y",
        "outputId": "4b57b958-6809-46cd-a676-0710771aa035"
      },
      "outputs": [
        {
          "data": {
            "text/plain": [
              "array([[[ 0.,  1.,  2.,  0.],\n",
              "        [ 3.,  4.,  5.,  0.]],\n",
              "\n",
              "       [[ 6.,  7.,  8.,  0.],\n",
              "        [ 9., 10., 11.,  0.]]])"
            ]
          },
          "execution_count": 87,
          "metadata": {},
          "output_type": "execute_result"
        }
      ],
      "source": [
        "np.concatenate((A, B), axis=2)"
      ]
    },
    {
      "cell_type": "markdown",
      "metadata": {
        "id": "54Net2IZLt7j"
      },
      "source": [
        "### 1.3 Операции над массивами"
      ]
    },
    {
      "cell_type": "markdown",
      "metadata": {
        "id": "nCwAns45L5SZ"
      },
      "source": [
        "Обычные арифметические операции работают поэлементно."
      ]
    },
    {
      "cell_type": "code",
      "execution_count": 88,
      "metadata": {
        "ExecuteTime": {
          "end_time": "2023-02-04T14:03:09.344304Z",
          "start_time": "2023-02-04T14:03:09.329716Z"
        },
        "id": "9vUmMvdgL9Jt"
      },
      "outputs": [],
      "source": [
        "a = np.array([1, 2, 3])\n",
        "b = np.array([3, 4, 5])"
      ]
    },
    {
      "cell_type": "code",
      "execution_count": 89,
      "metadata": {
        "colab": {
          "base_uri": "https://localhost:8080/"
        },
        "id": "VTjmGoDYNjGA",
        "outputId": "a616fc51-4b28-482a-b574-79ec5088b1d3"
      },
      "outputs": [
        {
          "name": "stdout",
          "output_type": "stream",
          "text": [
            "[3 6 9]\n"
          ]
        }
      ],
      "source": [
        "print(a * 3)"
      ]
    },
    {
      "cell_type": "code",
      "execution_count": 90,
      "metadata": {
        "ExecuteTime": {
          "end_time": "2023-02-04T14:03:09.352844Z",
          "start_time": "2023-02-04T14:03:09.346658Z"
        },
        "colab": {
          "base_uri": "https://localhost:8080/"
        },
        "id": "8KGU9AvaMEQu",
        "outputId": "4520a7ec-477e-4bb2-e50d-764cd0fe44ae"
      },
      "outputs": [
        {
          "name": "stdout",
          "output_type": "stream",
          "text": [
            "[ 3  8 15]\n"
          ]
        }
      ],
      "source": [
        "print(a * b)"
      ]
    },
    {
      "cell_type": "code",
      "execution_count": 91,
      "metadata": {
        "ExecuteTime": {
          "end_time": "2023-02-04T14:03:09.360101Z",
          "start_time": "2023-02-04T14:03:09.354897Z"
        },
        "colab": {
          "base_uri": "https://localhost:8080/"
        },
        "id": "SfXEDQbvMFKg",
        "outputId": "634903da-2749-423f-a117-b0da099fd783"
      },
      "outputs": [
        {
          "name": "stdout",
          "output_type": "stream",
          "text": [
            "[0.84147098 0.90929743 0.14112001]\n"
          ]
        }
      ],
      "source": [
        "print(np.sin(a))"
      ]
    },
    {
      "cell_type": "code",
      "execution_count": 92,
      "metadata": {
        "colab": {
          "base_uri": "https://localhost:8080/"
        },
        "id": "kabWYa4PNjGB",
        "outputId": "b729e593-44db-4fd7-bed0-a1f4da1dfa24"
      },
      "outputs": [
        {
          "data": {
            "text/plain": [
              "array([ 2.71828183,  7.3890561 , 20.08553692])"
            ]
          },
          "execution_count": 92,
          "metadata": {},
          "output_type": "execute_result"
        }
      ],
      "source": [
        "np.exp(a)"
      ]
    },
    {
      "cell_type": "code",
      "execution_count": 94,
      "metadata": {
        "colab": {
          "base_uri": "https://localhost:8080/"
        },
        "id": "vft85StvNjGB",
        "outputId": "0d73419d-da9c-412e-c87e-686c19153157"
      },
      "outputs": [
        {
          "data": {
            "text/plain": [
              "array([  1,  16, 243])"
            ]
          },
          "execution_count": 94,
          "metadata": {},
          "output_type": "execute_result"
        }
      ],
      "source": [
        "np.power(a, b)"
      ]
    },
    {
      "cell_type": "code",
      "execution_count": 95,
      "metadata": {
        "colab": {
          "base_uri": "https://localhost:8080/"
        },
        "id": "8ZE_bSHwNjGB",
        "outputId": "e5145589-8b57-413e-be9a-40c38fe0829d"
      },
      "outputs": [
        {
          "data": {
            "text/plain": [
              "array([1, 4, 9])"
            ]
          },
          "execution_count": 95,
          "metadata": {},
          "output_type": "execute_result"
        }
      ],
      "source": [
        "a**2"
      ]
    },
    {
      "cell_type": "markdown",
      "metadata": {
        "id": "IaT4_734Mkoq"
      },
      "source": [
        "Двумерный массив можно умножить на одномерный, как матрицу на вектор. Операция `@` реализует матричное умножение"
      ]
    },
    {
      "cell_type": "code",
      "execution_count": 99,
      "metadata": {
        "ExecuteTime": {
          "end_time": "2023-02-04T14:03:09.372922Z",
          "start_time": "2023-02-04T14:03:09.362033Z"
        },
        "colab": {
          "base_uri": "https://localhost:8080/"
        },
        "id": "lAWCzY6mMqIJ",
        "outputId": "73855c0a-73f7-4549-be31-7a106da28d16"
      },
      "outputs": [
        {
          "name": "stdout",
          "output_type": "stream",
          "text": [
            "(3,)\n",
            "(2,)\n"
          ]
        },
        {
          "data": {
            "text/plain": [
              "array([3., 3.])"
            ]
          },
          "execution_count": 99,
          "metadata": {},
          "output_type": "execute_result"
        }
      ],
      "source": [
        "# 2x3\n",
        "A = np.ones((2, 3))\n",
        "# 3x1\n",
        "b = np.ones(3)#.reshape(3, 1)\n",
        "print(b.shape)\n",
        "# 2x1\n",
        "# __matmul__ is called\n",
        "print((A @ b).shape)\n",
        "A @ b"
      ]
    },
    {
      "cell_type": "code",
      "execution_count": 100,
      "metadata": {
        "colab": {
          "base_uri": "https://localhost:8080/"
        },
        "id": "9pLdrAMlNjGC",
        "outputId": "43c6d810-e2f5-46bd-d48b-f53f290cf1cb"
      },
      "outputs": [
        {
          "name": "stdout",
          "output_type": "stream",
          "text": [
            "(2, 1)\n"
          ]
        },
        {
          "data": {
            "text/plain": [
              "array([[3.],\n",
              "       [3.]])"
            ]
          },
          "execution_count": 100,
          "metadata": {},
          "output_type": "execute_result"
        }
      ],
      "source": [
        "# 2x3\n",
        "A = np.ones((2, 3))\n",
        "# 3x1\n",
        "b = np.ones((3, 1))\n",
        "print((A @ b).shape)\n",
        "A @ b"
      ]
    },
    {
      "cell_type": "markdown",
      "metadata": {
        "id": "_eKEMQW5NjGC"
      },
      "source": [
        "Транспонировать матрицу можно с помощью метода `T`"
      ]
    },
    {
      "cell_type": "code",
      "execution_count": 104,
      "metadata": {
        "colab": {
          "base_uri": "https://localhost:8080/"
        },
        "id": "k1eQ5Ye8XrT2",
        "outputId": "298da80e-e7d6-451d-becd-4f8b31a570aa"
      },
      "outputs": [
        {
          "data": {
            "text/plain": [
              "(3, 2)"
            ]
          },
          "execution_count": 104,
          "metadata": {},
          "output_type": "execute_result"
        }
      ],
      "source": [
        "np.transpose(A).shape"
      ]
    },
    {
      "cell_type": "code",
      "execution_count": 105,
      "metadata": {
        "ExecuteTime": {
          "end_time": "2023-02-04T14:03:09.382499Z",
          "start_time": "2023-02-04T14:03:09.374623Z"
        },
        "colab": {
          "base_uri": "https://localhost:8080/"
        },
        "id": "alAWCvpgNjGC",
        "outputId": "be416e12-60ea-401f-b1b7-8761abdc0a19"
      },
      "outputs": [
        {
          "data": {
            "text/plain": [
              "(3, 2)"
            ]
          },
          "execution_count": 105,
          "metadata": {},
          "output_type": "execute_result"
        }
      ],
      "source": [
        "A.T.shape"
      ]
    },
    {
      "cell_type": "code",
      "execution_count": 106,
      "metadata": {
        "colab": {
          "base_uri": "https://localhost:8080/"
        },
        "id": "OmW113sqNjGC",
        "outputId": "2dffbc35-3421-4965-df4c-21c8a6c6c102"
      },
      "outputs": [
        {
          "name": "stdout",
          "output_type": "stream",
          "text": [
            "[[4 0]\n",
            " [0 4]]\n",
            "det: 15.999999999999998\n",
            "inv: \n",
            "[[0.25 0.  ]\n",
            " [0.   0.25]]\n",
            "A@A^-1: \n",
            "[[1. 0.]\n",
            " [0. 1.]]\n"
          ]
        }
      ],
      "source": [
        "A = np.array([[4, 0], [0, 4]])\n",
        "print(A)\n",
        "print(f\"det: {np.linalg.det(A)}\")\n",
        "print(f\"inv: \\n{np.linalg.inv(A)}\")\n",
        "print(f\"A@A^-1: \\n{A @ np.linalg.inv(A)}\")"
      ]
    },
    {
      "cell_type": "code",
      "execution_count": 110,
      "metadata": {
        "colab": {
          "base_uri": "https://localhost:8080/"
        },
        "id": "T0Xb_1vIX-YC",
        "outputId": "7b3bb2ba-f19c-4726-b06d-95f793c9951f"
      },
      "outputs": [
        {
          "name": "stdout",
          "output_type": "stream",
          "text": [
            "[[4 0]\n",
            " [0 0]]\n",
            "det: 0.0\n",
            "A has no inverse\n"
          ]
        }
      ],
      "source": [
        "A = np.array([[4, 0], [0, 0]])\n",
        "print(A)\n",
        "print(f\"det: {np.linalg.det(A)}\")\n",
        "try:\n",
        "    print(f\"inv: \\n{np.linalg.inv(A)}\")\n",
        "except:\n",
        "    print(\"A has no inverse\")"
      ]
    },
    {
      "cell_type": "markdown",
      "metadata": {
        "id": "bI7CUDHzNQR4"
      },
      "source": [
        "### 1.4 Способы суммирования"
      ]
    },
    {
      "cell_type": "markdown",
      "metadata": {
        "id": "yevRkb0XNYfU"
      },
      "source": [
        "Простое суммирование возвращает сумму всех элементов массива."
      ]
    },
    {
      "cell_type": "code",
      "execution_count": 112,
      "metadata": {
        "colab": {
          "base_uri": "https://localhost:8080/"
        },
        "id": "9J_SBQaJYWrx",
        "outputId": "4da708fa-4254-4b9d-b418-d561278659ba"
      },
      "outputs": [
        {
          "name": "stdout",
          "output_type": "stream",
          "text": [
            "[1 2 3]\n"
          ]
        }
      ],
      "source": [
        "print(a)"
      ]
    },
    {
      "cell_type": "code",
      "execution_count": 113,
      "metadata": {
        "ExecuteTime": {
          "end_time": "2023-02-04T14:03:09.391797Z",
          "start_time": "2023-02-04T14:03:09.384395Z"
        },
        "colab": {
          "base_uri": "https://localhost:8080/"
        },
        "id": "cK6TaPJyMOye",
        "outputId": "fb1b63b5-af48-49d4-91c7-433c01b9eb44"
      },
      "outputs": [
        {
          "name": "stdout",
          "output_type": "stream",
          "text": [
            "6\n",
            "6\n"
          ]
        }
      ],
      "source": [
        "print(np.sum(a))\n",
        "print(a.sum())"
      ]
    },
    {
      "cell_type": "code",
      "execution_count": 117,
      "metadata": {
        "colab": {
          "base_uri": "https://localhost:8080/"
        },
        "id": "oQB7yei3YZHb",
        "outputId": "f3b4bd5e-0e13-4bb7-9202-020d39cf467b"
      },
      "outputs": [
        {
          "name": "stdout",
          "output_type": "stream",
          "text": [
            "[[4 1]\n",
            " [0 0]]\n"
          ]
        }
      ],
      "source": [
        "A = np.array([[4, 1], [0, 0]])\n",
        "\n",
        "print(A)"
      ]
    },
    {
      "cell_type": "code",
      "execution_count": 118,
      "metadata": {
        "colab": {
          "base_uri": "https://localhost:8080/"
        },
        "id": "iYOzqUvvYael",
        "outputId": "287c60ab-e214-4f70-c8f5-89e0c72827d7"
      },
      "outputs": [
        {
          "data": {
            "text/plain": [
              "5"
            ]
          },
          "execution_count": 118,
          "metadata": {},
          "output_type": "execute_result"
        }
      ],
      "source": [
        "np.sum(A)"
      ]
    },
    {
      "cell_type": "code",
      "execution_count": 120,
      "metadata": {
        "colab": {
          "base_uri": "https://localhost:8080/"
        },
        "id": "2lOSU4NoYd0g",
        "outputId": "75da3898-1aca-4da7-eeb8-5e8e415afdd2"
      },
      "outputs": [
        {
          "data": {
            "text/plain": [
              "array([4, 1])"
            ]
          },
          "execution_count": 120,
          "metadata": {},
          "output_type": "execute_result"
        }
      ],
      "source": [
        "np.sum(A, axis=0)"
      ]
    },
    {
      "cell_type": "markdown",
      "metadata": {
        "id": "dMCJmY_gMawi"
      },
      "source": [
        "С многомерными массивами суммирование может работать сложнее. Например, можно суммировать вдоль определённой оси и получать не одно число, а массив."
      ]
    },
    {
      "cell_type": "code",
      "execution_count": 121,
      "metadata": {
        "ExecuteTime": {
          "end_time": "2023-02-04T14:03:09.406424Z",
          "start_time": "2023-02-04T14:03:09.398252Z"
        },
        "colab": {
          "base_uri": "https://localhost:8080/"
        },
        "id": "Pj87GqfMMVB7",
        "outputId": "478e3ef2-7a6b-4cb2-8f5e-0199a30947b5"
      },
      "outputs": [
        {
          "name": "stdout",
          "output_type": "stream",
          "text": [
            "[4 4 4]\n",
            "[3 3 3 3]\n"
          ]
        }
      ],
      "source": [
        "a = np.ones((3, 4), dtype=int)\n",
        "print(a.sum(axis=1))\n",
        "print(a.sum(axis=0))"
      ]
    },
    {
      "cell_type": "markdown",
      "metadata": {
        "id": "uMhhwXS2N3Lt"
      },
      "source": [
        "Для более продвинутых способов суммирования существуют, например, суммы Эйнштейна."
      ]
    },
    {
      "cell_type": "code",
      "execution_count": 122,
      "metadata": {
        "ExecuteTime": {
          "end_time": "2023-02-04T14:03:09.419342Z",
          "start_time": "2023-02-04T14:03:09.408182Z"
        },
        "colab": {
          "base_uri": "https://localhost:8080/"
        },
        "id": "bJ3A-iKoOpTa",
        "outputId": "506ea603-02b5-494c-cdac-3ab2fb2ecf43"
      },
      "outputs": [
        {
          "name": "stdout",
          "output_type": "stream",
          "text": [
            "[0 1 2]\n",
            "[[ 10  15  20]\n",
            " [100 150 200]]\n"
          ]
        }
      ],
      "source": [
        "A = np.array([0, 1, 2])\n",
        "B = np.array([[10, 15, 20], [100, 150, 200]])\n",
        "print(A)\n",
        "print(B)"
      ]
    },
    {
      "cell_type": "code",
      "execution_count": 124,
      "metadata": {
        "ExecuteTime": {
          "end_time": "2023-02-04T14:03:09.430115Z",
          "start_time": "2023-02-04T14:03:09.420911Z"
        },
        "colab": {
          "base_uri": "https://localhost:8080/"
        },
        "id": "C3VAEvpXOp15",
        "outputId": "59c3f4cd-c979-4262-90b6-79db94884139"
      },
      "outputs": [
        {
          "data": {
            "text/plain": [
              "array([ 55, 550])"
            ]
          },
          "execution_count": 124,
          "metadata": {},
          "output_type": "execute_result"
        }
      ],
      "source": [
        "# einops library -> more efficient\n",
        "np.einsum('i,ji->j', A, B)"
      ]
    },
    {
      "cell_type": "markdown",
      "metadata": {
        "id": "BJFJ50rDO3wp"
      },
      "source": [
        "В данном случае индексы суммирования приводят к такому вычислению:\n",
        "\n",
        "* $c_0 = a_0 \\cdot b^0_0 + a_1 \\cdot b^1_0 + a_2 \\cdot b^2_0$. В нашем случае: $c_0 = 0 \\cdot 1 + 1 \\cdot 15 + 2 \\cdot 20$.\n",
        "* $c_1 = a_0 \\cdot b^0_1 + a_1 \\cdot b^1_1 + a_2 \\cdot b^2_1$. В нашем случае: $c_1 = 0 \\cdot 1 + 1 \\cdot 150 + 2 \\cdot 200$.\n",
        "\n",
        "Чтобы подробно разобраться в синтаксисе, посмотрите <a href=\"https://miptstats.github.io/courses/python/05_numpy.html\">полный материал</a>."
      ]
    },
    {
      "cell_type": "markdown",
      "metadata": {
        "id": "Ou3tehN0NjGD"
      },
      "source": [
        "### 1.5 Бродкастинг"
      ]
    },
    {
      "cell_type": "markdown",
      "metadata": {
        "id": "JXtSZptRNjGD"
      },
      "source": [
        "Broadcasting &mdash; процедура обработки массивов с различными формами во время арифметических операций. При соблюдении определенных ограничений меньший массив приводится к форме по большему массиву.\n",
        "\n",
        "Рассмотрим поэлементное умножение двух массивов одинаковой формы"
      ]
    },
    {
      "cell_type": "code",
      "execution_count": 126,
      "metadata": {
        "ExecuteTime": {
          "end_time": "2023-02-04T14:03:09.443380Z",
          "start_time": "2023-02-04T14:03:09.431642Z"
        },
        "colab": {
          "base_uri": "https://localhost:8080/"
        },
        "id": "Avd8HOGLNjGD",
        "outputId": "17e39835-e65d-4de2-8d81-51d2eeba3853"
      },
      "outputs": [
        {
          "name": "stdout",
          "output_type": "stream",
          "text": [
            "(3,)\n",
            "(3,)\n"
          ]
        },
        {
          "data": {
            "text/plain": [
              "array([2., 4., 6.])"
            ]
          },
          "execution_count": 126,
          "metadata": {},
          "output_type": "execute_result"
        }
      ],
      "source": [
        "a = np.array([1.0, 2.0, 3.0])\n",
        "b = np.array([2.0, 2.0, 2.0])\n",
        "print(a.shape)\n",
        "print(b.shape)\n",
        "a * b"
      ]
    },
    {
      "cell_type": "markdown",
      "metadata": {
        "id": "Y2I00VauNjGE"
      },
      "source": [
        "А теперь массивы разной формы"
      ]
    },
    {
      "cell_type": "code",
      "execution_count": 127,
      "metadata": {
        "ExecuteTime": {
          "end_time": "2023-02-04T14:03:09.454673Z",
          "start_time": "2023-02-04T14:03:09.447233Z"
        },
        "colab": {
          "base_uri": "https://localhost:8080/"
        },
        "id": "oIbPVUMzNjGE",
        "outputId": "0ea30b2f-220f-4ec7-9735-6dbfcba618ec"
      },
      "outputs": [
        {
          "name": "stdout",
          "output_type": "stream",
          "text": [
            "(3,)\n",
            "(1,)\n"
          ]
        },
        {
          "data": {
            "text/plain": [
              "array([2., 4., 6.])"
            ]
          },
          "execution_count": 127,
          "metadata": {},
          "output_type": "execute_result"
        }
      ],
      "source": [
        "a = np.array([1.0, 2.0, 3.0])\n",
        "b = np.array([2.0])\n",
        "print(a.shape)\n",
        "print(b.shape)\n",
        "a * b"
      ]
    },
    {
      "cell_type": "markdown",
      "metadata": {
        "id": "DAPne4FCNjGE"
      },
      "source": [
        "Результат получился тем же, поскольку в данном случае произошло растяжение массива `b` до размеров массива `a` с помощью дублирования элементов массива `b`.\n",
        "\n",
        "<!-- ![broadcasting_1.png](attachment:broadcasting_1.png) -->\n",
        "\n",
        "*Примечание.* Термин \"растяжение\" используется лишь для понимания. Операции реализуются более \"умным\" способом без лишнего копирования элементов.\n",
        "\n",
        "**Правило бродкастинга**\n",
        "\n",
        "При работе с двумя массивами numpy сравнивает их формы начиная с крайних правых размерностей. Два измерения совместимы, если\n",
        "* они равны или\n",
        "* одна из них равна 1.\n",
        "Если эти условия не выполняются, возникает `ValueError`.\n",
        "\n",
        "Посмотрим еще на пример"
      ]
    },
    {
      "cell_type": "code",
      "execution_count": 131,
      "metadata": {
        "ExecuteTime": {
          "end_time": "2023-02-04T14:03:09.470506Z",
          "start_time": "2023-02-04T14:03:09.456216Z"
        },
        "colab": {
          "base_uri": "https://localhost:8080/",
          "height": 208
        },
        "id": "oqSrymWlNjGE",
        "outputId": "7e0652b2-8dc0-4332-e094-a482de6e4e0d"
      },
      "outputs": [
        {
          "ename": "ValueError",
          "evalue": "ignored",
          "output_type": "error",
          "traceback": [
            "\u001b[0;31m---------------------------------------------------------------------------\u001b[0m",
            "\u001b[0;31mValueError\u001b[0m                                Traceback (most recent call last)",
            "\u001b[0;32m<ipython-input-131-d3fc584069af>\u001b[0m in \u001b[0;36m<cell line: 4>\u001b[0;34m()\u001b[0m\n\u001b[1;32m      2\u001b[0m \u001b[0mb\u001b[0m \u001b[0;34m=\u001b[0m \u001b[0mnp\u001b[0m\u001b[0;34m.\u001b[0m\u001b[0mones\u001b[0m\u001b[0;34m(\u001b[0m\u001b[0;34m(\u001b[0m\u001b[0;36m2\u001b[0m\u001b[0;34m,\u001b[0m\u001b[0;36m1\u001b[0m\u001b[0;34m,\u001b[0m\u001b[0;36m5\u001b[0m\u001b[0;34m)\u001b[0m\u001b[0;34m)\u001b[0m\u001b[0;34m\u001b[0m\u001b[0;34m\u001b[0m\u001b[0m\n\u001b[1;32m      3\u001b[0m \u001b[0;34m\u001b[0m\u001b[0m\n\u001b[0;32m----> 4\u001b[0;31m \u001b[0ma\u001b[0m \u001b[0;34m+\u001b[0m \u001b[0mb\u001b[0m\u001b[0;34m\u001b[0m\u001b[0;34m\u001b[0m\u001b[0m\n\u001b[0m",
            "\u001b[0;31mValueError\u001b[0m: operands could not be broadcast together with shapes (4,3) (2,1,5) "
          ]
        }
      ],
      "source": [
        "a = np.zeros(( 4,3))\n",
        "b = np.ones((2,1,5))\n",
        "\n",
        "a + b"
      ]
    },
    {
      "cell_type": "code",
      "execution_count": 135,
      "metadata": {
        "ExecuteTime": {
          "end_time": "2023-02-04T14:03:09.526442Z",
          "start_time": "2023-02-04T14:03:09.471864Z"
        },
        "colab": {
          "base_uri": "https://localhost:8080/"
        },
        "id": "lHb8XEcANjGE",
        "outputId": "64c28593-9f69-4ec0-f31b-03565f158e80"
      },
      "outputs": [
        {
          "name": "stdout",
          "output_type": "stream",
          "text": [
            "(4, 3)\n",
            "(3,)\n"
          ]
        },
        {
          "data": {
            "text/plain": [
              "array([[1., 2., 3.],\n",
              "       [1., 2., 3.],\n",
              "       [1., 2., 3.],\n",
              "       [1., 2., 3.]])"
            ]
          },
          "execution_count": 135,
          "metadata": {},
          "output_type": "execute_result"
        }
      ],
      "source": [
        "b = np.array([1.0, 2.0, 3.0])\n",
        "print(a.shape)\n",
        "print(b.shape)\n",
        "a + b"
      ]
    },
    {
      "cell_type": "markdown",
      "metadata": {
        "id": "Ldt4WP-YNjGE"
      },
      "source": [
        "\n",
        "Если массивы имеют несовместимый размер, можно их сначала привести к одной форме"
      ]
    },
    {
      "cell_type": "code",
      "execution_count": 141,
      "metadata": {
        "ExecuteTime": {
          "end_time": "2023-02-04T14:03:20.267643Z",
          "start_time": "2023-02-04T14:03:20.260127Z"
        },
        "colab": {
          "base_uri": "https://localhost:8080/"
        },
        "id": "49hpj1s0NjGE",
        "outputId": "53667eaf-ec0c-43de-d34f-25291d045a93"
      },
      "outputs": [
        {
          "name": "stdout",
          "output_type": "stream",
          "text": [
            "(4,)\n",
            "(3,)\n",
            "[[ 1.  2.  3.]\n",
            " [11. 12. 13.]\n",
            " [21. 22. 23.]\n",
            " [31. 32. 33.]]\n"
          ]
        }
      ],
      "source": [
        "a = np.array([0.0, 10.0, 20.0, 30.0])\n",
        "b = np.array([1.0, 2.0, 3.0])\n",
        "print(a.shape)\n",
        "print(b.shape)\n",
        "print(a.reshape(-1, 1) + b)\n",
        "# (4, 1), (3, )\n",
        "#\n",
        "# (4, 1)\n",
        "# ( , 3)\n",
        "#\n",
        "# (4, 3)\n",
        "# ( , 3)\n",
        "#\n",
        "# (4, 3)\n",
        "# (1, 3)\n",
        "#\n",
        "# (4, 3)\n",
        "# (4, 3)"
      ]
    },
    {
      "cell_type": "code",
      "execution_count": 144,
      "metadata": {
        "colab": {
          "base_uri": "https://localhost:8080/"
        },
        "id": "v6AiTx9yaxCS",
        "outputId": "a652918f-3d8a-4e14-dd99-0bebe65d7bf6"
      },
      "outputs": [
        {
          "data": {
            "text/plain": [
              "array([[[ 0,  1,  2,  3,  4,  5,  6,  7,  8,  9],\n",
              "        [10, 11, 12, 13, 14, 15, 16, 17, 18, 19],\n",
              "        [20, 21, 22, 23, 24, 25, 26, 27, 28, 29]],\n",
              "\n",
              "       [[30, 31, 32, 33, 34, 35, 36, 37, 38, 39],\n",
              "        [40, 41, 42, 43, 44, 45, 46, 47, 48, 49],\n",
              "        [50, 51, 52, 53, 54, 55, 56, 57, 58, 59]]])"
            ]
          },
          "execution_count": 144,
          "metadata": {},
          "output_type": "execute_result"
        }
      ],
      "source": [
        "a = np.arange(2*3*5*2)\n",
        "a.reshape((2, 3, -1))"
      ]
    },
    {
      "cell_type": "code",
      "execution_count": 145,
      "metadata": {
        "colab": {
          "base_uri": "https://localhost:8080/"
        },
        "id": "3Lx7StjNbCIP",
        "outputId": "9f8ea14b-f4be-48b3-d357-39774f2eb1b5"
      },
      "outputs": [
        {
          "name": "stdout",
          "output_type": "stream",
          "text": [
            "[0 1 2 3 4 5]\n"
          ]
        }
      ],
      "source": [
        "a = np.arange(2 * 3)\n",
        "print(a)"
      ]
    },
    {
      "cell_type": "code",
      "execution_count": 147,
      "metadata": {
        "colab": {
          "base_uri": "https://localhost:8080/"
        },
        "id": "r2bOKJCAbEi1",
        "outputId": "3ca343b4-fac3-4a9c-9e15-1d8a11401ad0"
      },
      "outputs": [
        {
          "name": "stdout",
          "output_type": "stream",
          "text": [
            "[[0 1 2]\n",
            " [3 4 5]]\n"
          ]
        }
      ],
      "source": [
        "print(a.reshape((2,3)))"
      ]
    },
    {
      "cell_type": "code",
      "execution_count": 148,
      "metadata": {
        "colab": {
          "base_uri": "https://localhost:8080/"
        },
        "id": "dU8Xxx_ybIGq",
        "outputId": "eb6f2755-8a45-436a-f1f4-8f1fbb1b3207"
      },
      "outputs": [
        {
          "name": "stdout",
          "output_type": "stream",
          "text": [
            "[[0 1 2]\n",
            " [3 4 5]]\n"
          ]
        }
      ],
      "source": [
        "print(a.reshape((2, (2 * 3) // 2)))"
      ]
    },
    {
      "cell_type": "code",
      "execution_count": 149,
      "metadata": {
        "colab": {
          "base_uri": "https://localhost:8080/"
        },
        "id": "n5tJu5_vbR8F",
        "outputId": "76e917fa-7952-45f6-a33f-3f555c248980"
      },
      "outputs": [
        {
          "name": "stdout",
          "output_type": "stream",
          "text": [
            "[[0 1 2]\n",
            " [3 4 5]]\n"
          ]
        }
      ],
      "source": [
        "print(a.reshape((2, -1)))"
      ]
    },
    {
      "cell_type": "code",
      "execution_count": 155,
      "metadata": {
        "colab": {
          "base_uri": "https://localhost:8080/"
        },
        "id": "CLipNFe9bXus",
        "outputId": "46b6e602-cb40-481e-c710-5f256e3d6400"
      },
      "outputs": [
        {
          "data": {
            "text/plain": [
              "(20, 2, 3)"
            ]
          },
          "execution_count": 155,
          "metadata": {},
          "output_type": "execute_result"
        }
      ],
      "source": [
        "num_elements = 2 * 3 * 4 * 5\n",
        "a = np.arange(num_elements)\n",
        "# a.reshape((2, 3, -1))\n",
        "# a.reshape((2, 3, num_elements // (2 * 3)))\n",
        "# a.reshape((2, -1, -1))\n",
        "a.reshape((-1, 2, 3)).shape"
      ]
    },
    {
      "cell_type": "markdown",
      "metadata": {
        "id": "rBUM6nGfNjGF"
      },
      "source": [
        "Соответствующее растяжение\n",
        "![broadcasting_4.png](attachment:broadcasting_4.png)"
      ]
    },
    {
      "cell_type": "code",
      "execution_count": 162,
      "metadata": {
        "colab": {
          "base_uri": "https://localhost:8080/"
        },
        "id": "bUM03IMKcJWm",
        "outputId": "d3bab20e-325a-4c6f-d693-bb6ec55fc581"
      },
      "outputs": [
        {
          "name": "stdout",
          "output_type": "stream",
          "text": [
            "[-1.  1.]\n",
            "[1. 2.]\n",
            "[1 2]\n"
          ]
        }
      ],
      "source": [
        "# useful\n",
        "\n",
        "# Ax = b\n",
        "A = np.array([[1, 2], [3, 5]])\n",
        "b = np.array([1, 2])\n",
        "# A - square matrix [n x n]\n",
        "# b = [n]\n",
        "x = np.linalg.solve(A, b)\n",
        "print(x)\n",
        "print(A@x)\n",
        "print(b)"
      ]
    },
    {
      "cell_type": "code",
      "execution_count": 164,
      "metadata": {
        "colab": {
          "base_uri": "https://localhost:8080/",
          "height": 430
        },
        "id": "yKiXmKy4cxDt",
        "outputId": "02f32815-fc9c-4795-b70b-89bb746207ca"
      },
      "outputs": [
        {
          "data": {
            "image/png": "[encoded data removed]",
            "text/plain": [
              "<Figure size 640x480 with 1 Axes>"
            ]
          },
          "metadata": {},
          "output_type": "display_data"
        }
      ],
      "source": [
        "x = np.array([0, 1, 2, 3])\n",
        "y = np.array([-1, 0.2, 0.9, 2.1])\n",
        "A = np.vstack([x, np.ones(len(x))]).T\n",
        "m, c = np.linalg.lstsq(A, y, rcond=None)[0]\n",
        "\n",
        "\n",
        "import matplotlib.pyplot as plt\n",
        "_ = plt.plot(x, y, 'o', label='Original data', markersize=10)\n",
        "_ = plt.plot(x, m*x + c, 'r', label='Fitted line')\n",
        "_ = plt.legend()\n",
        "plt.show()"
      ]
    },
    {
      "cell_type": "markdown",
      "metadata": {
        "id": "Je7i5xbZQ1Qs"
      },
      "source": [
        "## 2. Matplotlib\n",
        "\n",
        "Модуль `matplotlib` — одно из популярных средств для построения графиков. При использовании `matplotlib` не забудьте написать `%matplotlib inline` для того, чтобы графики отображались в вашем окне браузера.\n",
        "\n",
        "Начнём с построения простых графиков."
      ]
    },
    {
      "cell_type": "code",
      "execution_count": 167,
      "metadata": {
        "ExecuteTime": {
          "end_time": "2023-02-04T14:03:20.945972Z",
          "start_time": "2023-02-04T14:03:20.794164Z"
        },
        "id": "-cJHKLhMR6M1"
      },
      "outputs": [],
      "source": [
        "import numpy as np\n",
        "import matplotlib.pyplot as plt\n",
        "from mpl_toolkits.mplot3d import Axes3D\n",
        "\n",
        "%matplotlib inline"
      ]
    },
    {
      "cell_type": "markdown",
      "metadata": {
        "id": "gCCVxo8YSSpU"
      },
      "source": [
        "График, соединяющий точки, строится с помощью `plt.plot`. Передаём список $x$ и $y$. Если не хотите соединять точки, используйте `plt.scatter`."
      ]
    },
    {
      "cell_type": "code",
      "execution_count": 171,
      "metadata": {
        "ExecuteTime": {
          "end_time": "2023-02-04T14:03:21.281024Z",
          "start_time": "2023-02-04T14:03:21.137272Z"
        },
        "colab": {
          "base_uri": "https://localhost:8080/",
          "height": 430
        },
        "id": "uazwp5-KSMtG",
        "outputId": "c04e9451-4185-41e4-c665-f5c824150fcc"
      },
      "outputs": [
        {
          "data": {
            "image/png": "[encoded data removed]",
            "text/plain": [
              "<Figure size 640x480 with 1 Axes>"
            ]
          },
          "metadata": {},
          "output_type": "display_data"
        }
      ],
      "source": [
        "plt.plot([0, 0.25, 1], [0, 1, 0.5])\n",
        "plt.scatter([0.25, 0.75, 1], [0, 0.5, 1])\n",
        "plt.show()"
      ]
    },
    {
      "cell_type": "markdown",
      "metadata": {
        "id": "Be2Mk9Y-SyLR"
      },
      "source": [
        "Можно изображать несколько кривых, тогда они будут рисоваться разными цветами. Чтобы рисовать график функции, достаточно соединить много точек."
      ]
    },
    {
      "cell_type": "code",
      "execution_count": 175,
      "metadata": {
        "ExecuteTime": {
          "end_time": "2023-02-04T14:03:21.565595Z",
          "start_time": "2023-02-04T14:03:21.441815Z"
        },
        "colab": {
          "base_uri": "https://localhost:8080/",
          "height": 676
        },
        "id": "HMvR7-CnSQLf",
        "outputId": "8eb7a898-2504-4dcd-e6b4-f903a7e653f8"
      },
      "outputs": [
        {
          "data": {
            "image/png": "[encoded data removed]",
            "text/plain": [
              "<Figure size 800x800 with 1 Axes>"
            ]
          },
          "metadata": {},
          "output_type": "display_data"
        }
      ],
      "source": [
        "x = np.linspace(0, 2, 100)\n",
        "\n",
        "plt.figure(figsize=(8, 8))\n",
        "plt.plot(x, x, label=\"x\")\n",
        "plt.plot(x, x**2, label=\"$x^2$\")\n",
        "plt.plot(x, x**3, label=\"$x^3$\")\n",
        "plt.legend()\n",
        "plt.show()"
      ]
    },
    {
      "cell_type": "markdown",
      "metadata": {
        "id": "34JMo4XzTGsc"
      },
      "source": [
        "На график можно добавить подписи, легенду, настроить цвета и стиль линий."
      ]
    },
    {
      "cell_type": "code",
      "execution_count": 183,
      "metadata": {
        "ExecuteTime": {
          "end_time": "2023-02-04T14:03:22.089138Z",
          "start_time": "2023-02-04T14:03:21.790458Z"
        },
        "colab": {
          "base_uri": "https://localhost:8080/",
          "height": 718
        },
        "id": "xPG3wMIDTLdk",
        "outputId": "87c331fc-f555-4b69-c5c5-3ffc73a9a580"
      },
      "outputs": [
        {
          "data": {
            "image/png": "[encoded data removed]",
            "text/plain": [
              "<Figure size 800x800 with 1 Axes>"
            ]
          },
          "metadata": {},
          "output_type": "display_data"
        }
      ],
      "source": [
        "x = np.linspace(-2, 2, 100)\n",
        "\n",
        "plt.figure(figsize=(8, 8))\n",
        "plt.plot(x, x ** 2, linestyle='--', lw=3,\n",
        "         label='$y=x^2$', color='red')\n",
        "plt.xlabel('Ось X'), plt.ylabel('Ось Y')\n",
        "plt.legend(fontsize=15)\n",
        "plt.title('Парабола')\n",
        "plt.grid(ls=':')\n",
        "plt.show()"
      ]
    },
    {
      "cell_type": "markdown",
      "metadata": {
        "id": "fLA1pgEJNjGG"
      },
      "source": [
        "Закрасить область между двумя кривыми $y=y(x)$ можно с помощью функции `plt.fill_between`, а между двумя кривыми вида $x = x(y)$ ---  с помощью функции `plt.fill_betweenx`.\n",
        "\n",
        "Горизонтальные линии можно нарисовать с помощью `plt.hlines`, а вертикальные --- с помощью `plt.vlines`."
      ]
    },
    {
      "cell_type": "code",
      "execution_count": 189,
      "metadata": {
        "ExecuteTime": {
          "end_time": "2023-02-04T14:03:22.288730Z",
          "start_time": "2023-02-04T14:03:22.150494Z"
        },
        "colab": {
          "base_uri": "https://localhost:8080/",
          "height": 619
        },
        "id": "_dAnFT5yNjGG",
        "outputId": "12afda11-a9ed-41c8-f5a8-3f833485540a",
        "scrolled": false
      },
      "outputs": [
        {
          "data": {
            "image/png": "[encoded data removed]",
            "text/plain": [
              "<Figure size 1200x700 with 1 Axes>"
            ]
          },
          "metadata": {},
          "output_type": "display_data"
        }
      ],
      "source": [
        "x = np.linspace(-10, 10, 100)\n",
        "\n",
        "plt.figure(figsize=(12, 7))\n",
        "plt.fill_between(x, -x+np.sin(x), x+np.sin(x), alpha=0.5)\n",
        "plt.hlines([-10, -11, -12], -10, 10)\n",
        "plt.vlines([-10, -11, -12], -10, 10)\n",
        "plt.xlabel('Ось X')\n",
        "plt.ylabel('Ось Y')\n",
        "plt.grid(ls=':')\n",
        "plt.show()"
      ]
    },
    {
      "cell_type": "markdown",
      "metadata": {
        "id": "j7U03-gUT1i4"
      },
      "source": [
        "Кроме графиков в двумерных координатах, `matplotlib` позволяет строить трёхмерные графики или поверхности."
      ]
    },
    {
      "cell_type": "code",
      "execution_count": 192,
      "metadata": {
        "colab": {
          "base_uri": "https://localhost:8080/",
          "height": 464
        },
        "id": "0mTLi7FRNjGG",
        "outputId": "e8f8c134-89cd-4b38-e77f-c3edc6619383"
      },
      "outputs": [
        {
          "name": "stdout",
          "output_type": "stream",
          "text": [
            "(10, 10)\n",
            "(10, 10)\n"
          ]
        },
        {
          "data": {
            "image/png": "[encoded data removed]",
            "text/plain": [
              "<Figure size 640x480 with 1 Axes>"
            ]
          },
          "metadata": {},
          "output_type": "display_data"
        }
      ],
      "source": [
        "# meshgrid visualization\n",
        "\n",
        "a = np.linspace(-10, 10, 10)\n",
        "x, y = np.meshgrid(a, a)\n",
        "\n",
        "print(x.shape)\n",
        "print(y.shape)\n",
        "\n",
        "plt.figure()\n",
        "for i in range(10):\n",
        "    plt.scatter(x[i], y[i])\n",
        "plt.show()"
      ]
    },
    {
      "cell_type": "markdown",
      "metadata": {
        "id": "Fuxmwo5OflaN"
      },
      "source": [
        "---"
      ]
    },
    {
      "cell_type": "code",
      "execution_count": 193,
      "metadata": {
        "ExecuteTime": {
          "end_time": "2023-02-04T14:03:22.507796Z",
          "start_time": "2023-02-04T14:03:22.502191Z"
        },
        "id": "SshCuT-0UI4P"
      },
      "outputs": [],
      "source": [
        "X = 10\n",
        "N = 50\n",
        "u = np.linspace(-X, X, N)\n",
        "x, y = np.meshgrid(u, u)\n",
        "r = np.sqrt(x ** 2 + y ** 2)\n",
        "z = np.sin(r) / r"
      ]
    },
    {
      "cell_type": "code",
      "execution_count": 197,
      "metadata": {
        "ExecuteTime": {
          "end_time": "2023-02-04T14:03:22.996408Z",
          "start_time": "2023-02-04T14:03:22.689949Z"
        },
        "colab": {
          "base_uri": "https://localhost:8080/",
          "height": 34
        },
        "id": "lt5yN_RvUClV",
        "outputId": "81e6faf9-5bd7-49d5-8844-0947b1bbd031"
      },
      "outputs": [
        {
          "data": {
            "text/plain": [
              "<Figure size 640x480 with 0 Axes>"
            ]
          },
          "metadata": {},
          "output_type": "display_data"
        }
      ],
      "source": [
        "fig = plt.figure()\n",
        "ax = Axes3D(fig)\n",
        "ax.plot_surface(x, y, z, rstride=1, cstride=1, cmap='gnuplot')\n",
        "plt.show()"
      ]
    },
    {
      "cell_type": "markdown",
      "metadata": {
        "id": "OKt4Bz3xUKyl"
      },
      "source": [
        "Чтобы посмотреть, как ещё можно настраивать графики в matplotlib, строить контурные графики и делать пиксельные картинки, можете перейти к <a href=\"https://miptstats.github.io/courses/python/06_matplotlib.html\">полному материалу</a>."
      ]
    }
  ],
  "metadata": {
    "colab": {
      "collapsed_sections": [
        "52VfdBf3ETQW",
        "1WUoq9ltGHwb",
        "8jf-rT54JPJ0",
        "Je7i5xbZQ1Qs"
      ],
      "provenance": []
    },
    "kernelspec": {
      "display_name": "Python 3",
      "language": "python",
      "name": "python3"
    },
    "language_info": {
      "codemirror_mode": {
        "name": "ipython",
        "version": 3
      },
      "file_extension": ".py",
      "mimetype": "text/x-python",
      "name": "python",
      "nbconvert_exporter": "python",
      "pygments_lexer": "ipython3",
      "version": "3.9.18"
    }
  },
  "nbformat": 4,
  "nbformat_minor": 0
}
