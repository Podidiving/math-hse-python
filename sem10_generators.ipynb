{
  "cells": [
    {
      "cell_type": "markdown",
      "metadata": {
        "id": "NXNqWnqnJLwo"
      },
      "source": [
        "# Семинар 10: генераторы, итераторы, оператор yield"
      ]
    },
    {
      "cell_type": "markdown",
      "metadata": {
        "id": "1N5QTvhDJLwp"
      },
      "source": [
        "### Глава 0: нерасказанное про классы *\n",
        "\n",
        "Множественное наследование (+ миксины)"
      ]
    },
    {
      "cell_type": "code",
      "execution_count": null,
      "metadata": {
        "id": "7mmIIJY_JLwq"
      },
      "outputs": [],
      "source": [
        "from dataclasses import dataclass\n",
        "\n",
        "\n",
        "@dataclass\n",
        "class EmailMixin:\n",
        "    email: str\n",
        "\n",
        "\n",
        "@dataclass\n",
        "class BasePerson:\n",
        "    name: str\n",
        "    age: int\n",
        "\n",
        "\n",
        "@dataclass\n",
        "class Person(EmailMixin, BasePerson):\n",
        "    def __str__(self):\n",
        "        return f\"{self.name}, age {self.age}, email {self.email}\""
      ]
    },
    {
      "cell_type": "code",
      "source": [
        "email = EmailMixin(\"email\")  # не следует создавать standalone mixin"
      ],
      "metadata": {
        "id": "433477iIKDEW"
      },
      "execution_count": null,
      "outputs": []
    },
    {
      "cell_type": "code",
      "execution_count": null,
      "metadata": {
        "colab": {
          "base_uri": "https://localhost:8080/"
        },
        "id": "DQY5dg3YJLwq",
        "outputId": "8021a2ec-2cec-4d07-810c-31cba49fd913"
      },
      "outputs": [
        {
          "output_type": "stream",
          "name": "stdout",
          "text": [
            "Jon, age 22, email jon@hse.ru\n"
          ]
        }
      ],
      "source": [
        "me = Person(name=\"Jon\", age=22, email=\"jon@hse.ru\")\n",
        "\n",
        "print(me)"
      ]
    },
    {
      "cell_type": "code",
      "execution_count": null,
      "metadata": {
        "id": "ZtB7Z-82JLwr"
      },
      "outputs": [],
      "source": [
        "class A:\n",
        "    def __init__(self):\n",
        "        print(\"started call init A\")\n",
        "        super().__init__()\n",
        "        print(\"ended call init A\")\n",
        "\n",
        "class B:\n",
        "    def __init__(self):\n",
        "        print(\"started call init B\")\n",
        "        # super().__init__()\n",
        "        print(\"ended call init B\")\n",
        "\n",
        "class C(A, B):\n",
        "    def __init__(self):\n",
        "        print(\"started call init C\")\n",
        "        super().__init__()\n",
        "        print(\"ended call init C\")"
      ]
    },
    {
      "cell_type": "code",
      "execution_count": null,
      "metadata": {
        "colab": {
          "base_uri": "https://localhost:8080/"
        },
        "id": "ui3q4OZ0JLwr",
        "outputId": "593ece6d-8a6d-4a7a-c756-fe5aaf8c3dc4"
      },
      "outputs": [
        {
          "output_type": "stream",
          "name": "stdout",
          "text": [
            "started call init C\n",
            "started call init A\n",
            "started call init B\n",
            "ended call init B\n",
            "ended call init A\n",
            "ended call init C\n"
          ]
        }
      ],
      "source": [
        "c = C()"
      ]
    },
    {
      "cell_type": "code",
      "execution_count": null,
      "metadata": {
        "id": "hxw7ZwhaJLwr"
      },
      "outputs": [],
      "source": [
        "# class A:\n",
        "#     def __init__(self):\n",
        "#         print(\"called init A\")\n",
        "\n",
        "# class B:\n",
        "#     def __init__(self):\n",
        "#         print(\"called init B\")\n",
        "\n",
        "# class C(A, B):\n",
        "#     def __init__(self):\n",
        "#         super().__init__()\n",
        "#         super(A, self).__init__()"
      ]
    },
    {
      "cell_type": "code",
      "execution_count": null,
      "metadata": {
        "id": "_lzZW-20JLwr"
      },
      "outputs": [],
      "source": [
        "# c = C()"
      ]
    },
    {
      "cell_type": "markdown",
      "metadata": {
        "id": "zo6Sov-YJLws"
      },
      "source": [
        "Обращение к родителю через super()"
      ]
    },
    {
      "cell_type": "code",
      "execution_count": null,
      "metadata": {
        "id": "zJP4Yim9JLws"
      },
      "outputs": [],
      "source": [
        "from dataclasses import dataclass\n",
        "\n",
        "@dataclass\n",
        "class BasePerson:\n",
        "    name: str\n",
        "    age: int\n",
        "\n",
        "    def __str__(self):\n",
        "        return f\"{self.name}, age {self.age}\"\n",
        "\n",
        "\n",
        "@dataclass\n",
        "class Person(BasePerson):\n",
        "    def __str__(self):\n",
        "        # print(\"calling super\")\n",
        "        result = super().__str__()\n",
        "        return \"Person \" + result"
      ]
    },
    {
      "cell_type": "code",
      "execution_count": null,
      "metadata": {
        "colab": {
          "base_uri": "https://localhost:8080/"
        },
        "id": "yBvVRkkzJLws",
        "outputId": "b1737243-cd6f-4159-92fe-9eb1655be458"
      },
      "outputs": [
        {
          "output_type": "stream",
          "name": "stdout",
          "text": [
            "Person Tema, age 22\n"
          ]
        }
      ],
      "source": [
        "me = Person(name=\"Tema\", age=22)\n",
        "\n",
        "print(me)"
      ]
    },
    {
      "cell_type": "markdown",
      "metadata": {
        "id": "wPJQuj8hJLws"
      },
      "source": [
        "**Вопрос:** как будет работать если наследование множественное?"
      ]
    },
    {
      "cell_type": "markdown",
      "metadata": {
        "id": "JzutO0FzJLws"
      },
      "source": [
        "### Глава 1: генераторы\n",
        "\n",
        "Генераторы, это \"ленивые\" функции, возвращающие значения on demand, когда требуется, например, распаковать их в цикле.\n",
        "\n",
        "Пример: числа Фибоначчи:"
      ]
    },
    {
      "cell_type": "code",
      "execution_count": null,
      "metadata": {
        "id": "IQcQCsz3JLwt"
      },
      "outputs": [],
      "source": [
        "def my_range(a, b):\n",
        "    print(\"*1*\")\n",
        "    while a < b:\n",
        "        print(\"*2*\")\n",
        "        yield a\n",
        "        print(\"*3*\")\n",
        "        a += 1"
      ]
    },
    {
      "cell_type": "code",
      "execution_count": null,
      "metadata": {
        "id": "w--0GwLaJLwt"
      },
      "outputs": [],
      "source": [
        "rng = my_range(2, 10)"
      ]
    },
    {
      "cell_type": "code",
      "source": [
        "next(rng)  # rng.__next__()"
      ],
      "metadata": {
        "colab": {
          "base_uri": "https://localhost:8080/"
        },
        "id": "zib1DxjUM7SE",
        "outputId": "46ce919a-4b59-4e49-e3f6-b62aee369aa9"
      },
      "execution_count": null,
      "outputs": [
        {
          "output_type": "stream",
          "name": "stdout",
          "text": [
            "*1*\n",
            "*2*\n"
          ]
        },
        {
          "output_type": "execute_result",
          "data": {
            "text/plain": [
              "2"
            ]
          },
          "metadata": {},
          "execution_count": 55
        }
      ]
    },
    {
      "cell_type": "code",
      "source": [
        "print(next(rng))\n",
        "print(next(rng))\n",
        "print(next(rng))\n",
        "print(next(rng))\n",
        "print(next(rng))\n",
        "print(next(rng))\n",
        "print(next(rng))"
      ],
      "metadata": {
        "colab": {
          "base_uri": "https://localhost:8080/",
          "height": 548
        },
        "id": "zlQKIrK-NU7z",
        "outputId": "8e5ac036-098a-4203-9f1f-01d443e3ac91"
      },
      "execution_count": null,
      "outputs": [
        {
          "output_type": "stream",
          "name": "stdout",
          "text": [
            "*3*\n",
            "*2*\n",
            "4\n",
            "*3*\n",
            "*2*\n",
            "5\n",
            "*3*\n",
            "*2*\n",
            "6\n",
            "*3*\n",
            "*2*\n",
            "7\n",
            "*3*\n",
            "*2*\n",
            "8\n",
            "*3*\n",
            "*2*\n",
            "9\n",
            "*3*\n"
          ]
        },
        {
          "output_type": "error",
          "ename": "StopIteration",
          "evalue": "ignored",
          "traceback": [
            "\u001b[0;31m---------------------------------------------------------------------------\u001b[0m",
            "\u001b[0;31mStopIteration\u001b[0m                             Traceback (most recent call last)",
            "\u001b[0;32m<ipython-input-57-0bf8328207bb>\u001b[0m in \u001b[0;36m<cell line: 7>\u001b[0;34m()\u001b[0m\n\u001b[1;32m      5\u001b[0m \u001b[0mprint\u001b[0m\u001b[0;34m(\u001b[0m\u001b[0mnext\u001b[0m\u001b[0;34m(\u001b[0m\u001b[0mrng\u001b[0m\u001b[0;34m)\u001b[0m\u001b[0;34m)\u001b[0m\u001b[0;34m\u001b[0m\u001b[0;34m\u001b[0m\u001b[0m\n\u001b[1;32m      6\u001b[0m \u001b[0mprint\u001b[0m\u001b[0;34m(\u001b[0m\u001b[0mnext\u001b[0m\u001b[0;34m(\u001b[0m\u001b[0mrng\u001b[0m\u001b[0;34m)\u001b[0m\u001b[0;34m)\u001b[0m\u001b[0;34m\u001b[0m\u001b[0;34m\u001b[0m\u001b[0m\n\u001b[0;32m----> 7\u001b[0;31m \u001b[0mprint\u001b[0m\u001b[0;34m(\u001b[0m\u001b[0mnext\u001b[0m\u001b[0;34m(\u001b[0m\u001b[0mrng\u001b[0m\u001b[0;34m)\u001b[0m\u001b[0;34m)\u001b[0m\u001b[0;34m\u001b[0m\u001b[0;34m\u001b[0m\u001b[0m\n\u001b[0m\u001b[1;32m      8\u001b[0m \u001b[0mprint\u001b[0m\u001b[0;34m(\u001b[0m\u001b[0mnext\u001b[0m\u001b[0;34m(\u001b[0m\u001b[0mrng\u001b[0m\u001b[0;34m)\u001b[0m\u001b[0;34m)\u001b[0m\u001b[0;34m\u001b[0m\u001b[0;34m\u001b[0m\u001b[0m\n",
            "\u001b[0;31mStopIteration\u001b[0m: "
          ]
        }
      ]
    },
    {
      "cell_type": "code",
      "source": [
        "print(next(rng))"
      ],
      "metadata": {
        "colab": {
          "base_uri": "https://localhost:8080/",
          "height": 174
        },
        "id": "WyEu5UVVNtR8",
        "outputId": "d40be3e9-316f-42ec-f8f2-2fc69187398c"
      },
      "execution_count": null,
      "outputs": [
        {
          "output_type": "error",
          "ename": "StopIteration",
          "evalue": "ignored",
          "traceback": [
            "\u001b[0;31m---------------------------------------------------------------------------\u001b[0m",
            "\u001b[0;31mStopIteration\u001b[0m                             Traceback (most recent call last)",
            "\u001b[0;32m<ipython-input-58-d3c7c54d6312>\u001b[0m in \u001b[0;36m<cell line: 1>\u001b[0;34m()\u001b[0m\n\u001b[0;32m----> 1\u001b[0;31m \u001b[0mprint\u001b[0m\u001b[0;34m(\u001b[0m\u001b[0mnext\u001b[0m\u001b[0;34m(\u001b[0m\u001b[0mrng\u001b[0m\u001b[0;34m)\u001b[0m\u001b[0;34m)\u001b[0m\u001b[0;34m\u001b[0m\u001b[0;34m\u001b[0m\u001b[0m\n\u001b[0m",
            "\u001b[0;31mStopIteration\u001b[0m: "
          ]
        }
      ]
    },
    {
      "cell_type": "code",
      "source": [
        "def my_range(a, b):\n",
        "    while a < b:\n",
        "        yield a\n",
        "        a += 1"
      ],
      "metadata": {
        "id": "DlIYc-2pNwyN"
      },
      "execution_count": null,
      "outputs": []
    },
    {
      "cell_type": "code",
      "execution_count": null,
      "metadata": {
        "colab": {
          "base_uri": "https://localhost:8080/"
        },
        "id": "8_99nd-_JLwt",
        "outputId": "e600641e-1e65-478d-87b2-44ad536779ac"
      },
      "outputs": [
        {
          "output_type": "stream",
          "name": "stdout",
          "text": [
            "2\n",
            "3\n",
            "4\n",
            "5\n",
            "6\n",
            "7\n",
            "8\n",
            "9\n"
          ]
        }
      ],
      "source": [
        "for x in my_range(2, 10):\n",
        "    print(x)"
      ]
    },
    {
      "cell_type": "code",
      "source": [
        "gen = my_range(2, 10)\n",
        "while True:\n",
        "    try:\n",
        "        x = next(gen)\n",
        "        print(x)\n",
        "    except StopIteration:\n",
        "        break"
      ],
      "metadata": {
        "colab": {
          "base_uri": "https://localhost:8080/"
        },
        "id": "XoTob9Z0OFfp",
        "outputId": "04eba30c-2bf0-41fc-b274-993190a8d8b0"
      },
      "execution_count": null,
      "outputs": [
        {
          "output_type": "stream",
          "name": "stdout",
          "text": [
            "2\n",
            "3\n",
            "4\n",
            "5\n",
            "6\n",
            "7\n",
            "8\n",
            "9\n"
          ]
        }
      ]
    },
    {
      "cell_type": "code",
      "execution_count": null,
      "metadata": {
        "id": "U8-A1NgNJLwt"
      },
      "outputs": [],
      "source": [
        "def generate_fib(max_number):\n",
        "    fib_1, fib_2 = 1, 1\n",
        "    yield fib_1  # <---- волшебное слово, чтобы выдать очередное число, но не выходить из функции\n",
        "    yield fib_2\n",
        "\n",
        "    for _ in range(2, max_number):\n",
        "        fib_1, fib_2 = fib_2, fib_1 + fib_2\n",
        "        yield fib_2"
      ]
    },
    {
      "cell_type": "code",
      "execution_count": null,
      "metadata": {
        "colab": {
          "base_uri": "https://localhost:8080/"
        },
        "id": "h-TWXDATJLwu",
        "outputId": "b45a8913-3895-4b5c-afc5-a5b06705c438"
      },
      "outputs": [
        {
          "output_type": "stream",
          "name": "stdout",
          "text": [
            "1\n",
            "1\n",
            "2\n",
            "3\n"
          ]
        }
      ],
      "source": [
        "fibs = generate_fib(10)\n",
        "\n",
        "print(next(fibs))\n",
        "print(next(fibs))\n",
        "print(next(fibs))\n",
        "print(next(fibs))"
      ]
    },
    {
      "cell_type": "code",
      "execution_count": null,
      "metadata": {
        "colab": {
          "base_uri": "https://localhost:8080/"
        },
        "id": "a43CBFCMJLwu",
        "outputId": "19c3b813-c59c-45f8-91ef-cd197bb8a2b4"
      },
      "outputs": [
        {
          "output_type": "stream",
          "name": "stdout",
          "text": [
            "1\n",
            "1\n",
            "2\n",
            "3\n",
            "5\n",
            "8\n",
            "13\n",
            "21\n",
            "34\n",
            "55\n"
          ]
        }
      ],
      "source": [
        "fibs = generate_fib(10)\n",
        "for x in fibs:\n",
        "    print(x)"
      ]
    },
    {
      "cell_type": "code",
      "execution_count": null,
      "metadata": {
        "id": "vlONMnUAJLwu"
      },
      "outputs": [],
      "source": [
        "for x in fibs:  # второй раз уже не выведет ничего\n",
        "    print(x)"
      ]
    },
    {
      "cell_type": "code",
      "execution_count": null,
      "metadata": {
        "colab": {
          "base_uri": "https://localhost:8080/",
          "height": 174
        },
        "id": "kHfBCp0yJLwv",
        "outputId": "8a50c025-9267-4446-f47e-6f2078c4184a"
      },
      "outputs": [
        {
          "output_type": "error",
          "ename": "StopIteration",
          "evalue": "ignored",
          "traceback": [
            "\u001b[0;31m---------------------------------------------------------------------------\u001b[0m",
            "\u001b[0;31mStopIteration\u001b[0m                             Traceback (most recent call last)",
            "\u001b[0;32m<ipython-input-67-6dbe2df9c258>\u001b[0m in \u001b[0;36m<cell line: 1>\u001b[0;34m()\u001b[0m\n\u001b[0;32m----> 1\u001b[0;31m \u001b[0mnext\u001b[0m\u001b[0;34m(\u001b[0m\u001b[0mfibs\u001b[0m\u001b[0;34m)\u001b[0m  \u001b[0;31m# а next выдаст ошибку\u001b[0m\u001b[0;34m\u001b[0m\u001b[0;34m\u001b[0m\u001b[0m\n\u001b[0m",
            "\u001b[0;31mStopIteration\u001b[0m: "
          ]
        }
      ],
      "source": [
        "next(fibs)  # а next выдаст ошибку"
      ]
    },
    {
      "cell_type": "code",
      "source": [
        "def generate_fib_inf():\n",
        "    fib_1, fib_2 = 1, 1\n",
        "    yield fib_1\n",
        "    yield fib_2\n",
        "\n",
        "    while True:\n",
        "        fib_1, fib_2 = fib_2, fib_1 + fib_2\n",
        "        yield fib_2"
      ],
      "metadata": {
        "id": "V7YOPVEoOvmg"
      },
      "execution_count": null,
      "outputs": []
    },
    {
      "cell_type": "code",
      "source": [
        "# for x in generate_fib_inf():\n",
        "#     print(x)"
      ],
      "metadata": {
        "id": "1iccriiyO4-1"
      },
      "execution_count": null,
      "outputs": []
    },
    {
      "cell_type": "markdown",
      "metadata": {
        "id": "Fw-0XOlcJLwv"
      },
      "source": [
        "А если рекурсия?"
      ]
    },
    {
      "cell_type": "code",
      "execution_count": null,
      "metadata": {
        "id": "Fy3QqO1aJLwv"
      },
      "outputs": [],
      "source": [
        "def traverse_dict(d):\n",
        "    if not isinstance(d, dict):\n",
        "        yield d\n",
        "    else:  # isinstance(d, dict) is True\n",
        "        for v in d.values():\n",
        "            yield from traverse_dict(v)\n",
        "            # for x in traverse_dict(v):\n",
        "            #     yield x"
      ]
    },
    {
      "cell_type": "code",
      "execution_count": null,
      "metadata": {
        "id": "3-McAvUVJLwv",
        "colab": {
          "base_uri": "https://localhost:8080/"
        },
        "outputId": "8b8493f1-a044-406c-b732-f3b69ccdb191"
      },
      "outputs": [
        {
          "output_type": "stream",
          "name": "stdout",
          "text": [
            "four\n",
            "six\n",
            "eight\n"
          ]
        }
      ],
      "source": [
        "d = {\n",
        "    \"one\": {\n",
        "        \"two\": {\n",
        "            \"three\": \"four\",\n",
        "            \"five\": \"six\",\n",
        "        },\n",
        "    },\n",
        "    \"seven\": \"eight\",\n",
        "}\n",
        "\n",
        "for x in traverse_dict(d):\n",
        "    print(x)"
      ]
    },
    {
      "cell_type": "code",
      "source": [
        "def flatten_sequence(*args):\n",
        "    for arg in args:\n",
        "        yield from arg\n",
        "\n",
        "[x for x in flatten_sequence([1,2,3,4,5,6], (-1,-2,-3,-4,-5,-6), range(6))]"
      ],
      "metadata": {
        "colab": {
          "base_uri": "https://localhost:8080/"
        },
        "id": "AVSenbS6P2_c",
        "outputId": "e3479bbc-241d-4b1c-b901-fe477faaf2d4"
      },
      "execution_count": null,
      "outputs": [
        {
          "output_type": "execute_result",
          "data": {
            "text/plain": [
              "[1, 2, 3, 4, 5, 6, -1, -2, -3, -4, -5, -6, 0, 1, 2, 3, 4, 5]"
            ]
          },
          "metadata": {},
          "execution_count": 77
        }
      ]
    },
    {
      "cell_type": "code",
      "execution_count": null,
      "metadata": {
        "id": "Oz7YpRk7JLww"
      },
      "outputs": [],
      "source": [
        "squares = (x ** 2 for x in range(10))"
      ]
    },
    {
      "cell_type": "code",
      "execution_count": null,
      "metadata": {
        "id": "5kckPZ6qJLww",
        "colab": {
          "base_uri": "https://localhost:8080/"
        },
        "outputId": "3b9b02cd-615b-42ec-c594-8281c798dce0"
      },
      "outputs": [
        {
          "output_type": "stream",
          "name": "stdout",
          "text": [
            "0\n",
            "1\n",
            "4\n",
            "9\n",
            "16\n",
            "25\n",
            "36\n",
            "49\n",
            "64\n",
            "81\n"
          ]
        }
      ],
      "source": [
        "for x in squares:\n",
        "    print(x)"
      ]
    },
    {
      "cell_type": "code",
      "source": [
        "# использование yield справа от знака равно\n",
        "# (основа для асинхронных функций)\n",
        "def create_writer():\n",
        "    print(\"I'm gonna write something\")\n",
        "    while True:\n",
        "        line = yield\n",
        "        print(f\">>> {line}\")"
      ],
      "metadata": {
        "id": "T1Y8teqTQj3a"
      },
      "execution_count": null,
      "outputs": []
    },
    {
      "cell_type": "code",
      "source": [
        "writer = create_writer()"
      ],
      "metadata": {
        "id": "bWsKrfCOQ_7r"
      },
      "execution_count": null,
      "outputs": []
    },
    {
      "cell_type": "code",
      "source": [
        "type(writer)"
      ],
      "metadata": {
        "colab": {
          "base_uri": "https://localhost:8080/"
        },
        "id": "PziSPsN9RCqS",
        "outputId": "c5a7b4b3-cb15-4abe-ef67-f023f759dd05"
      },
      "execution_count": null,
      "outputs": [
        {
          "output_type": "execute_result",
          "data": {
            "text/plain": [
              "generator"
            ]
          },
          "metadata": {},
          "execution_count": 86
        }
      ]
    },
    {
      "cell_type": "code",
      "source": [
        "writer.send(None)"
      ],
      "metadata": {
        "colab": {
          "base_uri": "https://localhost:8080/"
        },
        "id": "uuKA3sGoRPNO",
        "outputId": "ae8a9844-0692-4f44-dd15-f4c59f774945"
      },
      "execution_count": null,
      "outputs": [
        {
          "output_type": "stream",
          "name": "stdout",
          "text": [
            "I'm gonna write something\n"
          ]
        }
      ]
    },
    {
      "cell_type": "code",
      "source": [
        "writer.send(\"Line 1\")"
      ],
      "metadata": {
        "colab": {
          "base_uri": "https://localhost:8080/"
        },
        "id": "ke6Ds7TPRXpA",
        "outputId": "b023a145-5080-4a41-f45c-9e51d5b11488"
      },
      "execution_count": null,
      "outputs": [
        {
          "output_type": "stream",
          "name": "stdout",
          "text": [
            ">>> Line 1\n"
          ]
        }
      ]
    },
    {
      "cell_type": "code",
      "source": [
        "writer.send(\"Line 2\")\n",
        "writer.send(\"Line 3\")\n",
        "writer.send(\"Line 4\")\n",
        "writer.send(\"Line 5\")"
      ],
      "metadata": {
        "colab": {
          "base_uri": "https://localhost:8080/"
        },
        "id": "Z3lttv8jRb7-",
        "outputId": "6dd15467-02a0-4bb9-e344-18027e6c0b8d"
      },
      "execution_count": null,
      "outputs": [
        {
          "output_type": "stream",
          "name": "stdout",
          "text": [
            ">>> Line 2\n",
            ">>> Line 3\n",
            ">>> Line 4\n",
            ">>> Line 5\n"
          ]
        }
      ]
    },
    {
      "cell_type": "code",
      "source": [
        "writer.close()"
      ],
      "metadata": {
        "id": "s4wnDtdYRgnJ"
      },
      "execution_count": null,
      "outputs": []
    },
    {
      "cell_type": "code",
      "source": [
        "writer.send(\"Line 1\")"
      ],
      "metadata": {
        "colab": {
          "base_uri": "https://localhost:8080/",
          "height": 174
        },
        "id": "3q8P4c23RoGY",
        "outputId": "5cc76be8-447a-4c3c-8b8a-75fc79733f4a"
      },
      "execution_count": null,
      "outputs": [
        {
          "output_type": "error",
          "ename": "StopIteration",
          "evalue": "ignored",
          "traceback": [
            "\u001b[0;31m---------------------------------------------------------------------------\u001b[0m",
            "\u001b[0;31mStopIteration\u001b[0m                             Traceback (most recent call last)",
            "\u001b[0;32m<ipython-input-92-d18f66524ebe>\u001b[0m in \u001b[0;36m<cell line: 1>\u001b[0;34m()\u001b[0m\n\u001b[0;32m----> 1\u001b[0;31m \u001b[0mwriter\u001b[0m\u001b[0;34m.\u001b[0m\u001b[0msend\u001b[0m\u001b[0;34m(\u001b[0m\u001b[0;34m\"Line 1\"\u001b[0m\u001b[0;34m)\u001b[0m\u001b[0;34m\u001b[0m\u001b[0;34m\u001b[0m\u001b[0m\n\u001b[0m",
            "\u001b[0;31mStopIteration\u001b[0m: "
          ]
        }
      ]
    },
    {
      "cell_type": "markdown",
      "metadata": {
        "id": "pm5NJzG3JLww"
      },
      "source": [
        "### Глава 2: итераторы"
      ]
    },
    {
      "cell_type": "code",
      "execution_count": null,
      "metadata": {
        "id": "2Ol83go1JLww"
      },
      "outputs": [],
      "source": [
        "collection = [1, 2, 3, 4, 5]\n",
        "\n",
        "list_iter = iter(collection)  # collection.__iter__"
      ]
    },
    {
      "cell_type": "code",
      "source": [
        "type(list_iter)"
      ],
      "metadata": {
        "colab": {
          "base_uri": "https://localhost:8080/"
        },
        "id": "_IRQNoOnSU3f",
        "outputId": "8705a6de-562f-4d64-b1f2-9d78e7314188"
      },
      "execution_count": null,
      "outputs": [
        {
          "output_type": "execute_result",
          "data": {
            "text/plain": [
              "list_iterator"
            ]
          },
          "metadata": {},
          "execution_count": 107
        }
      ]
    },
    {
      "cell_type": "code",
      "execution_count": null,
      "metadata": {
        "id": "l8BWdMhVJLww",
        "colab": {
          "base_uri": "https://localhost:8080/"
        },
        "outputId": "2cf6e986-035a-441e-d22b-6e0c2115203d"
      },
      "outputs": [
        {
          "output_type": "stream",
          "name": "stdout",
          "text": [
            "1\n",
            "2\n",
            "3\n",
            "4\n",
            "5\n"
          ]
        }
      ],
      "source": [
        "print(next(list_iter))\n",
        "print(next(list_iter))\n",
        "print(next(list_iter))\n",
        "print(next(list_iter))\n",
        "print(next(list_iter))"
      ]
    },
    {
      "cell_type": "code",
      "execution_count": null,
      "metadata": {
        "id": "p3kA2AfFJLww",
        "colab": {
          "base_uri": "https://localhost:8080/",
          "height": 174
        },
        "outputId": "5a94c324-2dba-4a68-b272-d2cfd79d8e17"
      },
      "outputs": [
        {
          "output_type": "error",
          "ename": "StopIteration",
          "evalue": "ignored",
          "traceback": [
            "\u001b[0;31m---------------------------------------------------------------------------\u001b[0m",
            "\u001b[0;31mStopIteration\u001b[0m                             Traceback (most recent call last)",
            "\u001b[0;32m<ipython-input-109-847004f5f0d0>\u001b[0m in \u001b[0;36m<cell line: 1>\u001b[0;34m()\u001b[0m\n\u001b[0;32m----> 1\u001b[0;31m \u001b[0mprint\u001b[0m\u001b[0;34m(\u001b[0m\u001b[0mnext\u001b[0m\u001b[0;34m(\u001b[0m\u001b[0mlist_iter\u001b[0m\u001b[0;34m)\u001b[0m\u001b[0;34m)\u001b[0m\u001b[0;34m\u001b[0m\u001b[0;34m\u001b[0m\u001b[0m\n\u001b[0m",
            "\u001b[0;31mStopIteration\u001b[0m: "
          ]
        }
      ],
      "source": [
        "print(next(list_iter))"
      ]
    },
    {
      "cell_type": "code",
      "execution_count": null,
      "metadata": {
        "id": "9erMgeuZJLwx",
        "colab": {
          "base_uri": "https://localhost:8080/"
        },
        "outputId": "052a396c-c22c-4390-ef3b-b683fcff93bf"
      },
      "outputs": [
        {
          "output_type": "stream",
          "name": "stdout",
          "text": [
            "(0, 1)\n",
            "(1, 2)\n",
            "(2, 3)\n",
            "(3, 4)\n",
            "(4, 5)\n"
          ]
        }
      ],
      "source": [
        "for x in enumerate(collection):\n",
        "    print(x)"
      ]
    },
    {
      "cell_type": "code",
      "execution_count": null,
      "metadata": {
        "id": "GZytPQAjJLwx",
        "colab": {
          "base_uri": "https://localhost:8080/"
        },
        "outputId": "ada7f3ed-019a-4360-bb0c-e504109f5c9d"
      },
      "outputs": [
        {
          "output_type": "stream",
          "name": "stdout",
          "text": [
            "(0, 1)\n",
            "(1, 2)\n",
            "(2, 3)\n",
            "(3, 4)\n",
            "(4, 5)\n"
          ]
        }
      ],
      "source": [
        "it = enumerate(collection)\n",
        "\n",
        "while True:\n",
        "    try:\n",
        "        print(next(it))\n",
        "    except StopIteration:\n",
        "        break"
      ]
    },
    {
      "cell_type": "code",
      "execution_count": null,
      "metadata": {
        "id": "d502N73hJLwx"
      },
      "outputs": [],
      "source": [
        "# f = open(\"input.txt\")  # <--- и это тоже!\n",
        "\n",
        "# f.readline()  # <--- а это фактически его next\n",
        "\n",
        "# for x in iter(f):\n",
        "#     print(x)\n",
        "\n",
        "# f.close()"
      ]
    },
    {
      "cell_type": "code",
      "execution_count": null,
      "metadata": {
        "id": "1J3tAn_wJLwx"
      },
      "outputs": [],
      "source": [
        "class FibonacciIterator:\n",
        "    def __init__(self, max_number):\n",
        "        self.prev = 1\n",
        "        self.cur = 1\n",
        "        self.num = 0\n",
        "        self.max_number = max_number\n",
        "\n",
        "    def __next__(self):\n",
        "        if self.num == self.max_number:\n",
        "            raise StopIteration\n",
        "\n",
        "        result = self.prev\n",
        "        self.prev, self.cur = self.cur, self.prev + self.cur\n",
        "        self.num += 1\n",
        "        return result\n",
        "\n",
        "    def __iter__(self):\n",
        "        return self"
      ]
    },
    {
      "cell_type": "code",
      "execution_count": null,
      "metadata": {
        "id": "LbpRtYMyJLwx",
        "colab": {
          "base_uri": "https://localhost:8080/"
        },
        "outputId": "b312fac6-18d0-4f88-a60b-6c6eb5f662e7"
      },
      "outputs": [
        {
          "output_type": "stream",
          "name": "stdout",
          "text": [
            "1\n",
            "1\n",
            "2\n",
            "3\n",
            "5\n",
            "8\n",
            "13\n",
            "21\n",
            "34\n",
            "55\n"
          ]
        }
      ],
      "source": [
        "fib_iter = FibonacciIterator(10)\n",
        "\n",
        "for x in fib_iter:\n",
        "    print(x)"
      ]
    },
    {
      "cell_type": "code",
      "execution_count": null,
      "metadata": {
        "id": "WjEl2OlIJLwx"
      },
      "outputs": [],
      "source": [
        "class SquareIterator:\n",
        "    def __init__(self, initial_number):\n",
        "        # Здесь хранится промежуточное значение\n",
        "        self.number_to_square = initial_number\n",
        "\n",
        "    def __next__(self):\n",
        "        # Здесь мы обновляем значение и возвращаем результат\n",
        "        self.number_to_square = self.number_to_square ** 2\n",
        "        return self.number_to_square\n",
        "\n",
        "    def __iter__(self):\n",
        "        return self"
      ]
    },
    {
      "cell_type": "code",
      "execution_count": null,
      "metadata": {
        "id": "Uu0qOTT3JLwx"
      },
      "outputs": [],
      "source": [
        "def squares(initial_number):\n",
        "    while True:\n",
        "        initial_number = initial_number ** 2\n",
        "        yield initial_number"
      ]
    },
    {
      "cell_type": "code",
      "execution_count": null,
      "metadata": {
        "id": "KoaJKfVIJLwx",
        "colab": {
          "base_uri": "https://localhost:8080/"
        },
        "outputId": "b6135858-d9f0-4d23-9578-de60a68e7e86"
      },
      "outputs": [
        {
          "output_type": "stream",
          "name": "stdout",
          "text": [
            "4\n",
            "16\n",
            "256\n",
            "65536\n"
          ]
        }
      ],
      "source": [
        "sq_iter = SquareIterator(2)\n",
        "\n",
        "print(next(sq_iter))\n",
        "print(next(sq_iter))\n",
        "print(next(sq_iter))\n",
        "print(next(sq_iter))"
      ]
    },
    {
      "cell_type": "markdown",
      "metadata": {
        "id": "M0ldKMzdJLwx"
      },
      "source": [
        "Важные моменты:\n",
        "\n",
        "1) Генераторы -- это тоже итераторы\n",
        "2) Любой объект, по которому можно сделать for (list, str, dict, set и тд) -- реализует протокол итератора"
      ]
    },
    {
      "cell_type": "code",
      "execution_count": null,
      "metadata": {
        "id": "N8lRQr_BJLwy"
      },
      "outputs": [],
      "source": [
        "from collections.abc import Iterable\n",
        "\n",
        "\n",
        "class MyEnumerate:\n",
        "    def __init__(self, iterable: Iterable, start: int = 0):\n",
        "        self.iterable = iter(iterable)\n",
        "        self.start = start\n",
        "\n",
        "    def __next__(self):\n",
        "        return_value = (self.start, next(self.iterable))\n",
        "        self.start += 1\n",
        "        return return_value\n",
        "\n",
        "    def __iter__(self):\n",
        "        return self"
      ]
    },
    {
      "cell_type": "code",
      "execution_count": null,
      "metadata": {
        "id": "xFj7OEeZJLwy",
        "colab": {
          "base_uri": "https://localhost:8080/"
        },
        "outputId": "e9d39c51-a0d2-4f21-88f9-7d607f561250"
      },
      "outputs": [
        {
          "output_type": "stream",
          "name": "stdout",
          "text": [
            "(0, 'abc')\n",
            "(1, 'cde')\n",
            "(2, 'def')\n"
          ]
        }
      ],
      "source": [
        "for x in MyEnumerate([\"abc\", \"cde\", \"def\"]):\n",
        "    print(x)"
      ]
    },
    {
      "cell_type": "markdown",
      "metadata": {
        "id": "CqV3wEfMJLwy"
      },
      "source": [
        "### Задание 1\n",
        "\n",
        "Написать cycle через итератор"
      ]
    },
    {
      "cell_type": "code",
      "source": [
        "from itertools import cycle\n",
        "\n",
        "x = cycle([1,2])\n",
        "print(next(x))\n",
        "print(next(x))\n",
        "print(next(x))\n",
        "print(next(x))\n",
        "print(next(x))\n",
        "print(next(x))\n",
        "print(next(x))\n",
        "print(next(x))\n",
        "print(next(x))"
      ],
      "metadata": {
        "colab": {
          "base_uri": "https://localhost:8080/"
        },
        "id": "Tb7zzwTqUXDv",
        "outputId": "1a0958b1-b18e-4c1e-bb0f-df4baa1941eb"
      },
      "execution_count": null,
      "outputs": [
        {
          "output_type": "stream",
          "name": "stdout",
          "text": [
            "1\n",
            "2\n",
            "1\n",
            "2\n",
            "1\n",
            "2\n",
            "1\n",
            "2\n",
            "1\n"
          ]
        }
      ]
    },
    {
      "cell_type": "code",
      "source": [
        "class CycleIterator(Iterable):\n",
        "    def __init__(self, iterable: Iterable):\n",
        "        self._iterable = iterable\n",
        "        self._idx = 0\n",
        "\n",
        "    def __iter__(self):\n",
        "        return self\n",
        "\n",
        "    def __next__(self):\n",
        "        to_return = self._iterable[self._idx]  # self._iterable.__getitem__\n",
        "        self._idx = (self._idx + 1) % len(self._iterable)  # self._iterable.__len__\n",
        "        return to_return"
      ],
      "metadata": {
        "id": "aTrTmQqKUCg2"
      },
      "execution_count": null,
      "outputs": []
    },
    {
      "cell_type": "code",
      "source": [
        "it = CycleIterator([1,2])\n",
        "print(next(it))\n",
        "print(next(it))\n",
        "print(next(it))\n",
        "print(next(it))\n",
        "print(next(it))\n",
        "print(next(it))"
      ],
      "metadata": {
        "colab": {
          "base_uri": "https://localhost:8080/"
        },
        "id": "sb9XiNRDVPyh",
        "outputId": "aad3a44b-bb89-47f6-e103-880a3e8dfc4d"
      },
      "execution_count": null,
      "outputs": [
        {
          "output_type": "stream",
          "name": "stdout",
          "text": [
            "1\n",
            "2\n",
            "1\n",
            "2\n",
            "1\n",
            "2\n"
          ]
        }
      ]
    },
    {
      "cell_type": "markdown",
      "metadata": {
        "id": "T2sK7A8pJLwy"
      },
      "source": [
        "### Задание 2\n",
        "\n",
        "написать свой генератор chain, который принимает на себя через * список коллекций, а возвращает лениво их итеративную склейку, например:\n",
        "\n",
        "```\n",
        "chain([1, 2, 3], {\"a\", \"b\", \"c\"}) -> 1, 2, 3, a, b, c\n",
        "```"
      ]
    },
    {
      "cell_type": "code",
      "execution_count": null,
      "metadata": {
        "id": "BFNcvTY9JLwy"
      },
      "outputs": [],
      "source": [
        "def my_chain(*iterables: Iterable):\n",
        "    for it in iterables:\n",
        "        for elem in it:\n",
        "            yield elem"
      ]
    },
    {
      "cell_type": "code",
      "execution_count": null,
      "metadata": {
        "id": "EBClq08aJLwy",
        "colab": {
          "base_uri": "https://localhost:8080/"
        },
        "outputId": "4ca1edf0-8ce2-4809-d3f9-0f2900be2666"
      },
      "outputs": [
        {
          "output_type": "stream",
          "name": "stdout",
          "text": [
            "1\n",
            "2\n",
            "3\n",
            "c\n",
            "a\n",
            "b\n"
          ]
        }
      ],
      "source": [
        "for x in my_chain([1, 2, 3], {\"a\", \"b\", \"c\"}):\n",
        "    print(x)"
      ]
    },
    {
      "cell_type": "code",
      "execution_count": null,
      "metadata": {
        "id": "0PsyLOzOJLwz"
      },
      "outputs": [],
      "source": [
        "isinstance([1, 2, 3], Iterable)"
      ]
    },
    {
      "cell_type": "markdown",
      "metadata": {
        "id": "S4HcN5_NJLwz"
      },
      "source": [
        "### Задание 3\n",
        "\n",
        "написать свой генератор flatten, принимающий коллекцию с вложенными iterable-сущностями, а возвращающую лениво (сплющенный список), например:\n",
        "\n",
        "```\n",
        "[[1, 2, 3], [4, [5, 6]]] -> [1, 2, 3, 4, 5, 6]\n",
        "```\n",
        "\n",
        "Для удобства проверять на итерируемость можно через\n",
        "\n",
        "```\n",
        "from collections.abc import Iterable\n",
        "...\n",
        "\n",
        "if isinstance(x, Iterable):\n",
        "    ...\n",
        "```"
      ]
    },
    {
      "cell_type": "code",
      "execution_count": null,
      "metadata": {
        "id": "bgYgX_MzJLwz"
      },
      "outputs": [],
      "source": [
        "from collections.abc import Iterable\n",
        "\n",
        "# a = [1, 2, 3]\n",
        "# isinstance(a, Iterable)\n",
        "\n",
        "def flatten(iterable: Iterable):\n",
        "    ..."
      ]
    },
    {
      "cell_type": "code",
      "execution_count": null,
      "metadata": {
        "id": "vFXr-9LKJLwz"
      },
      "outputs": [],
      "source": []
    }
  ],
  "metadata": {
    "kernelspec": {
      "display_name": "Python 3.10.8 64-bit",
      "language": "python",
      "name": "python3"
    },
    "language_info": {
      "codemirror_mode": {
        "name": "ipython",
        "version": 3
      },
      "file_extension": ".py",
      "mimetype": "text/x-python",
      "name": "python",
      "nbconvert_exporter": "python",
      "pygments_lexer": "ipython3",
      "version": "3.10.8"
    },
    "orig_nbformat": 4,
    "vscode": {
      "interpreter": {
        "hash": "6ecdebf77f2ee3a47348d003f751c63e810ca996c1c68d1179f338200fa83b34"
      }
    },
    "colab": {
      "provenance": []
    }
  },
  "nbformat": 4,
  "nbformat_minor": 0
}