{
  "nbformat": 4,
  "nbformat_minor": 0,
  "metadata": {
    "colab": {
      "provenance": []
    },
    "kernelspec": {
      "name": "python3",
      "display_name": "Python 3"
    },
    "language_info": {
      "name": "python"
    }
  },
  "cells": [
    {
      "cell_type": "markdown",
      "source": [
        "# Семинар 5\n",
        "### Продолжаем говорить про хэш-таблички\n",
        "\n",
        "#### Глава 1: словари\n",
        "\n",
        "Множества -- это достаточно удобная коллекция, чтобы хранить неповторяющиеся значения, однако иногда бывают случаи, когда хранить нужно не просто значение, а маппинг `key -> value`"
      ],
      "metadata": {
        "id": "BoAsy89z2aYM"
      }
    },
    {
      "cell_type": "code",
      "execution_count": null,
      "metadata": {
        "colab": {
          "base_uri": "https://localhost:8080/"
        },
        "id": "Yl1FqdGr2LIY",
        "outputId": "40b80210-7153-4a5b-ce95-f103282045c2"
      },
      "outputs": [
        {
          "output_type": "stream",
          "name": "stdout",
          "text": [
            "{'key1': 'value1', 'key2': 'value2'}\n"
          ]
        }
      ],
      "source": [
        "d = {}\n",
        "# d = dict()\n",
        "\n",
        "d = {\"key1\": \"value1\", \"key2\": \"value2\"}\n",
        "print(d)"
      ]
    },
    {
      "cell_type": "code",
      "source": [
        "d[\"key1\"]  # эффективно"
      ],
      "metadata": {
        "colab": {
          "base_uri": "https://localhost:8080/",
          "height": 35
        },
        "id": "32YLRRWW2k6K",
        "outputId": "2557fd0d-02fb-409b-8960-8b8845e90d75"
      },
      "execution_count": null,
      "outputs": [
        {
          "output_type": "execute_result",
          "data": {
            "text/plain": [
              "'value1'"
            ],
            "application/vnd.google.colaboratory.intrinsic+json": {
              "type": "string"
            }
          },
          "metadata": {},
          "execution_count": 9
        }
      ]
    },
    {
      "cell_type": "code",
      "source": [
        "d[\"key3\"] = \"value3\"  # эффективно\n",
        "\n",
        "print(d)"
      ],
      "metadata": {
        "colab": {
          "base_uri": "https://localhost:8080/"
        },
        "id": "Y10ZBWxG2pPQ",
        "outputId": "395a3e04-b7cc-401e-c3a9-c19d9d325cf7"
      },
      "execution_count": null,
      "outputs": [
        {
          "output_type": "stream",
          "name": "stdout",
          "text": [
            "{'key1': 'value1', 'key2': 'value2', 'key3': 'value3'}\n"
          ]
        }
      ]
    },
    {
      "cell_type": "code",
      "source": [
        "\"key2\" in d  # эффективно"
      ],
      "metadata": {
        "colab": {
          "base_uri": "https://localhost:8080/"
        },
        "id": "Adic4GPW2uTV",
        "outputId": "3e08b6c4-55de-4826-baf7-8aa7a1bf1875"
      },
      "execution_count": null,
      "outputs": [
        {
          "output_type": "execute_result",
          "data": {
            "text/plain": [
              "True"
            ]
          },
          "metadata": {},
          "execution_count": 11
        }
      ]
    },
    {
      "cell_type": "code",
      "source": [
        "value = d.pop(\"key1\")\n",
        "print(value)\n",
        "print(d)"
      ],
      "metadata": {
        "colab": {
          "base_uri": "https://localhost:8080/"
        },
        "id": "ryI6XVVq24yP",
        "outputId": "7ec9ae73-7f88-4271-d429-2a72ef19ef1a"
      },
      "execution_count": null,
      "outputs": [
        {
          "output_type": "stream",
          "name": "stdout",
          "text": [
            "value1\n",
            "{'key2': 'value2', 'key3': 'value3'}\n"
          ]
        }
      ]
    },
    {
      "cell_type": "code",
      "source": [
        "d.pop(\"key1\")"
      ],
      "metadata": {
        "colab": {
          "base_uri": "https://localhost:8080/",
          "height": 174
        },
        "id": "yJR2kKaq2yQH",
        "outputId": "f47b2b6e-aaa7-4f43-d238-68b59b8b50a7"
      },
      "execution_count": null,
      "outputs": [
        {
          "output_type": "error",
          "ename": "KeyError",
          "evalue": "ignored",
          "traceback": [
            "\u001b[0;31m---------------------------------------------------------------------------\u001b[0m",
            "\u001b[0;31mKeyError\u001b[0m                                  Traceback (most recent call last)",
            "\u001b[0;32m<ipython-input-13-c35b9bd20a46>\u001b[0m in \u001b[0;36m<cell line: 1>\u001b[0;34m()\u001b[0m\n\u001b[0;32m----> 1\u001b[0;31m \u001b[0md\u001b[0m\u001b[0;34m.\u001b[0m\u001b[0mpop\u001b[0m\u001b[0;34m(\u001b[0m\u001b[0;34m\"key1\"\u001b[0m\u001b[0;34m)\u001b[0m\u001b[0;34m\u001b[0m\u001b[0;34m\u001b[0m\u001b[0m\n\u001b[0m",
            "\u001b[0;31mKeyError\u001b[0m: 'key1'"
          ]
        }
      ]
    },
    {
      "cell_type": "code",
      "source": [
        "d.pop(\"key1\", \"DEFAULT VALUE\")"
      ],
      "metadata": {
        "colab": {
          "base_uri": "https://localhost:8080/",
          "height": 35
        },
        "id": "mxAUqAmm20ys",
        "outputId": "67c2a688-c443-484c-c61e-141ba2ec27e6"
      },
      "execution_count": null,
      "outputs": [
        {
          "output_type": "execute_result",
          "data": {
            "text/plain": [
              "'DEFAULT VALUE'"
            ],
            "application/vnd.google.colaboratory.intrinsic+json": {
              "type": "string"
            }
          },
          "metadata": {},
          "execution_count": 18
        }
      ]
    },
    {
      "cell_type": "code",
      "source": [
        "d.pop?"
      ],
      "metadata": {
        "id": "GTgvyy0b3NhW"
      },
      "execution_count": null,
      "outputs": []
    },
    {
      "cell_type": "markdown",
      "source": [
        "Инициализация"
      ],
      "metadata": {
        "id": "ReSQhd563Gau"
      }
    },
    {
      "cell_type": "code",
      "source": [
        "d = {\"key\": \"value\", \"anohter_key\": \"another_value\"}  # вот так"
      ],
      "metadata": {
        "id": "BaCDxcgi2_kY"
      },
      "execution_count": null,
      "outputs": []
    },
    {
      "cell_type": "code",
      "source": [
        "d = dict(\n",
        "    key=\"value\",\n",
        "    another_key=\"another_value\",  # trailing-comma -- это просто хороший тон, не более\n",
        ")"
      ],
      "metadata": {
        "id": "-kD1eh3n3aNy"
      },
      "execution_count": null,
      "outputs": []
    },
    {
      "cell_type": "markdown",
      "source": [
        "Важно: в качестве значения словарю можно указать **что угодно**, а вот в качестве ключа -- **только hashable**:"
      ],
      "metadata": {
        "id": "Dj9SQah83z7v"
      }
    },
    {
      "cell_type": "code",
      "source": [
        "d = {\"values\": [1, 2, 3], (1,2): dict(), 1: 12., 12.0: 312, frozenset([1,2,3]): 12}\n",
        "print(d)"
      ],
      "metadata": {
        "colab": {
          "base_uri": "https://localhost:8080/"
        },
        "id": "HidDk_rY3boS",
        "outputId": "b1321c3c-e8ec-4ee8-a972-767c6eccdf97"
      },
      "execution_count": null,
      "outputs": [
        {
          "output_type": "stream",
          "name": "stdout",
          "text": [
            "{'values': [1, 2, 3], (1, 2): {}, 1: 12.0, 12.0: 312, frozenset({1, 2, 3}): 12}\n"
          ]
        }
      ]
    },
    {
      "cell_type": "code",
      "source": [
        "d = {[1, 2, 3]: \"values\"}"
      ],
      "metadata": {
        "colab": {
          "base_uri": "https://localhost:8080/",
          "height": 174
        },
        "id": "yiojMLzc34b6",
        "outputId": "84c39db5-0e1f-445c-e383-26c8027cfe16"
      },
      "execution_count": null,
      "outputs": [
        {
          "output_type": "error",
          "ename": "TypeError",
          "evalue": "ignored",
          "traceback": [
            "\u001b[0;31m---------------------------------------------------------------------------\u001b[0m",
            "\u001b[0;31mTypeError\u001b[0m                                 Traceback (most recent call last)",
            "\u001b[0;32m<ipython-input-23-14f9acdeb845>\u001b[0m in \u001b[0;36m<cell line: 1>\u001b[0;34m()\u001b[0m\n\u001b[0;32m----> 1\u001b[0;31m \u001b[0md\u001b[0m \u001b[0;34m=\u001b[0m \u001b[0;34m{\u001b[0m\u001b[0;34m[\u001b[0m\u001b[0;36m1\u001b[0m\u001b[0;34m,\u001b[0m \u001b[0;36m2\u001b[0m\u001b[0;34m,\u001b[0m \u001b[0;36m3\u001b[0m\u001b[0;34m]\u001b[0m\u001b[0;34m:\u001b[0m \u001b[0;34m\"values\"\u001b[0m\u001b[0;34m}\u001b[0m\u001b[0;34m\u001b[0m\u001b[0;34m\u001b[0m\u001b[0m\n\u001b[0m",
            "\u001b[0;31mTypeError\u001b[0m: unhashable type: 'list'"
          ]
        }
      ]
    },
    {
      "cell_type": "markdown",
      "source": [
        "Интерфейс обращения со словарем"
      ],
      "metadata": {
        "id": "uEJXCrlz4Kur"
      }
    },
    {
      "cell_type": "code",
      "source": [
        "# создать словарь из ключей, указанных первым аргументом с определенным значением\n",
        "\n",
        "d = dict.fromkeys([\"one\", \"two\", \"three\"], 3)\n",
        "print(d)\n",
        "\n",
        "d[\"one\"] = 1\n",
        "print(d)"
      ],
      "metadata": {
        "colab": {
          "base_uri": "https://localhost:8080/"
        },
        "id": "te4nH00m4B23",
        "outputId": "b2d306e0-ddd6-43fa-8a37-4feb6728e914"
      },
      "execution_count": null,
      "outputs": [
        {
          "output_type": "stream",
          "name": "stdout",
          "text": [
            "{'one': 3, 'two': 3, 'three': 3}\n",
            "{'one': 1, 'two': 3, 'three': 3}\n"
          ]
        }
      ]
    },
    {
      "cell_type": "code",
      "source": [
        "d[\"four\"]"
      ],
      "metadata": {
        "colab": {
          "base_uri": "https://localhost:8080/",
          "height": 174
        },
        "id": "i-bCdDQK4NbM",
        "outputId": "b07f904e-9e8c-47a2-fe23-827bca445b2f"
      },
      "execution_count": null,
      "outputs": [
        {
          "output_type": "error",
          "ename": "KeyError",
          "evalue": "ignored",
          "traceback": [
            "\u001b[0;31m---------------------------------------------------------------------------\u001b[0m",
            "\u001b[0;31mKeyError\u001b[0m                                  Traceback (most recent call last)",
            "\u001b[0;32m<ipython-input-27-f83b04355b90>\u001b[0m in \u001b[0;36m<cell line: 1>\u001b[0;34m()\u001b[0m\n\u001b[0;32m----> 1\u001b[0;31m \u001b[0md\u001b[0m\u001b[0;34m[\u001b[0m\u001b[0;34m\"four\"\u001b[0m\u001b[0;34m]\u001b[0m\u001b[0;34m\u001b[0m\u001b[0;34m\u001b[0m\u001b[0m\n\u001b[0m",
            "\u001b[0;31mKeyError\u001b[0m: 'four'"
          ]
        }
      ]
    },
    {
      "cell_type": "code",
      "source": [
        "print(d.get(\"two\", -1))\n",
        "print(d.get(\"four\", -1))  # если ключа нет, вернется то, что записано вторым аргументом\n",
        "print(d.get(\"four\"))"
      ],
      "metadata": {
        "colab": {
          "base_uri": "https://localhost:8080/"
        },
        "id": "jngk53ue4TTy",
        "outputId": "d9a75649-97a3-415f-bde1-b43535630999"
      },
      "execution_count": null,
      "outputs": [
        {
          "output_type": "stream",
          "name": "stdout",
          "text": [
            "3\n",
            "-1\n",
            "None\n"
          ]
        }
      ]
    },
    {
      "cell_type": "code",
      "source": [
        "print(d.pop(\"two\", -1))  # аналогично .get, только с удалением ключа\n",
        "print(d.pop(\"four\", -1))  # если ключа нет, все так же вернется то, что записано вторым аргументом\n",
        "\n",
        "print(d)"
      ],
      "metadata": {
        "colab": {
          "base_uri": "https://localhost:8080/"
        },
        "id": "3DI-raH34aQL",
        "outputId": "95fc72a7-0822-4dc3-bbf5-8e67aac29719"
      },
      "execution_count": null,
      "outputs": [
        {
          "output_type": "stream",
          "name": "stdout",
          "text": [
            "3\n",
            "-1\n",
            "{'one': 1, 'three': 3}\n"
          ]
        }
      ]
    },
    {
      "cell_type": "code",
      "source": [
        "print(d)"
      ],
      "metadata": {
        "colab": {
          "base_uri": "https://localhost:8080/"
        },
        "id": "S0ymU-464gVJ",
        "outputId": "e7072925-0802-4027-9064-6955826be957"
      },
      "execution_count": null,
      "outputs": [
        {
          "output_type": "stream",
          "name": "stdout",
          "text": [
            "{'one': 1, 'three': 3}\n"
          ]
        }
      ]
    },
    {
      "cell_type": "code",
      "source": [
        "dd = {\"two\": 2, \"four\": 4}\n",
        "d.update(dd)"
      ],
      "metadata": {
        "id": "IqlHan5q4jll"
      },
      "execution_count": null,
      "outputs": []
    },
    {
      "cell_type": "code",
      "source": [
        "print(d)"
      ],
      "metadata": {
        "colab": {
          "base_uri": "https://localhost:8080/"
        },
        "id": "kjr2TAv-4m57",
        "outputId": "fbfc5354-155f-4742-caaa-fae797d97e58"
      },
      "execution_count": null,
      "outputs": [
        {
          "output_type": "stream",
          "name": "stdout",
          "text": [
            "{'one': 1, 'three': 3, 'two': 2, 'four': 4}\n"
          ]
        }
      ]
    },
    {
      "cell_type": "code",
      "source": [
        "dd = {\"two\": 42}\n",
        "d.update(dd)"
      ],
      "metadata": {
        "id": "Xfr9MEdv4n5T"
      },
      "execution_count": null,
      "outputs": []
    },
    {
      "cell_type": "code",
      "source": [
        "print(d)"
      ],
      "metadata": {
        "colab": {
          "base_uri": "https://localhost:8080/"
        },
        "id": "RNmbZSHd4s_m",
        "outputId": "0b6336dd-7f8d-412a-bac2-71a7979f7104"
      },
      "execution_count": null,
      "outputs": [
        {
          "output_type": "stream",
          "name": "stdout",
          "text": [
            "{'one': 1, 'three': 3, 'two': 42, 'four': 4}\n"
          ]
        }
      ]
    },
    {
      "cell_type": "code",
      "source": [
        "d = {**d, **{\"two\": 2, \"four\": 4}}  # лайфхак: еще вот так работает"
      ],
      "metadata": {
        "id": "sPQ4pdkj4t0Z"
      },
      "execution_count": null,
      "outputs": []
    },
    {
      "cell_type": "code",
      "source": [
        "print(d)"
      ],
      "metadata": {
        "colab": {
          "base_uri": "https://localhost:8080/"
        },
        "id": "KqCkkc9i4w5A",
        "outputId": "1f1a8464-de59-4956-ad3b-2acfcf3cfbfe"
      },
      "execution_count": null,
      "outputs": [
        {
          "output_type": "stream",
          "name": "stdout",
          "text": [
            "{'one': 1, 'three': 3, 'two': 2, 'four': 4}\n"
          ]
        }
      ]
    },
    {
      "cell_type": "code",
      "source": [
        "print(\"hello\", \"world\", sep=\", \", end=\"!\")"
      ],
      "metadata": {
        "colab": {
          "base_uri": "https://localhost:8080/"
        },
        "id": "HeKP7aIi4xUo",
        "outputId": "a4f54cc7-467c-4a6a-ac07-a83bcf2e901c"
      },
      "execution_count": null,
      "outputs": [
        {
          "output_type": "stream",
          "name": "stdout",
          "text": [
            "hello, world!"
          ]
        }
      ]
    },
    {
      "cell_type": "code",
      "source": [
        "words = [\"hello\", \"world\"]\n",
        "param = {\"sep\": \", \", \"end\": \"!\"}\n",
        "\n",
        "print(words[0], words[1], sep=param[\"sep\"], end=param[\"end\"])"
      ],
      "metadata": {
        "colab": {
          "base_uri": "https://localhost:8080/"
        },
        "id": "MG7KM8LW47Fo",
        "outputId": "5c97cd93-faa9-44f4-914b-564338c73df5"
      },
      "execution_count": null,
      "outputs": [
        {
          "output_type": "stream",
          "name": "stdout",
          "text": [
            "hello, world!"
          ]
        }
      ]
    },
    {
      "cell_type": "code",
      "source": [
        "print(*words, **param)"
      ],
      "metadata": {
        "colab": {
          "base_uri": "https://localhost:8080/"
        },
        "id": "ZQprHIGu5NOF",
        "outputId": "dcbf20df-3f07-4337-c313-15eac45f6b6f"
      },
      "execution_count": null,
      "outputs": [
        {
          "output_type": "stream",
          "name": "stdout",
          "text": [
            "hello, world!"
          ]
        }
      ]
    },
    {
      "cell_type": "code",
      "source": [
        "def f(a, b, c):\n",
        "    print(f\"A: {a}\")\n",
        "    print(f\"B: {b}\")\n",
        "    print(f\"C: {c}\")\n",
        "\n",
        "d = {\"a\": 1, \"b\": 2, \"c\": 3}\n",
        "f(**d)"
      ],
      "metadata": {
        "colab": {
          "base_uri": "https://localhost:8080/"
        },
        "id": "iTBKSaPU5TAY",
        "outputId": "a6dd5c72-4d23-459c-877f-81447cd503e8"
      },
      "execution_count": null,
      "outputs": [
        {
          "output_type": "stream",
          "name": "stdout",
          "text": [
            "A: 1\n",
            "B: 2\n",
            "C: 3\n"
          ]
        }
      ]
    },
    {
      "cell_type": "code",
      "source": [
        "def f(a, b, c):\n",
        "    print(f\"A: {a}\")\n",
        "    print(f\"B: {b}\")\n",
        "    print(f\"C: {c}\")\n",
        "\n",
        "d = {\"a\": 1, \"b\": 2, \"c\": 3, \"d\": 4}\n",
        "f(**d)"
      ],
      "metadata": {
        "colab": {
          "base_uri": "https://localhost:8080/",
          "height": 208
        },
        "id": "b3PIqn9d5bL0",
        "outputId": "eae8a42c-8203-41c1-f88d-66794982663a"
      },
      "execution_count": null,
      "outputs": [
        {
          "output_type": "error",
          "ename": "TypeError",
          "evalue": "ignored",
          "traceback": [
            "\u001b[0;31m---------------------------------------------------------------------------\u001b[0m",
            "\u001b[0;31mTypeError\u001b[0m                                 Traceback (most recent call last)",
            "\u001b[0;32m<ipython-input-47-2b9e796e162e>\u001b[0m in \u001b[0;36m<cell line: 7>\u001b[0;34m()\u001b[0m\n\u001b[1;32m      5\u001b[0m \u001b[0;34m\u001b[0m\u001b[0m\n\u001b[1;32m      6\u001b[0m \u001b[0md\u001b[0m \u001b[0;34m=\u001b[0m \u001b[0;34m{\u001b[0m\u001b[0;34m\"a\"\u001b[0m\u001b[0;34m:\u001b[0m \u001b[0;36m1\u001b[0m\u001b[0;34m,\u001b[0m \u001b[0;34m\"b\"\u001b[0m\u001b[0;34m:\u001b[0m \u001b[0;36m2\u001b[0m\u001b[0;34m,\u001b[0m \u001b[0;34m\"c\"\u001b[0m\u001b[0;34m:\u001b[0m \u001b[0;36m3\u001b[0m\u001b[0;34m,\u001b[0m \u001b[0;34m\"d\"\u001b[0m\u001b[0;34m:\u001b[0m \u001b[0;36m4\u001b[0m\u001b[0;34m}\u001b[0m\u001b[0;34m\u001b[0m\u001b[0;34m\u001b[0m\u001b[0m\n\u001b[0;32m----> 7\u001b[0;31m \u001b[0mf\u001b[0m\u001b[0;34m(\u001b[0m\u001b[0;34m**\u001b[0m\u001b[0md\u001b[0m\u001b[0;34m)\u001b[0m\u001b[0;34m\u001b[0m\u001b[0;34m\u001b[0m\u001b[0m\n\u001b[0m",
            "\u001b[0;31mTypeError\u001b[0m: f() got an unexpected keyword argument 'd'"
          ]
        }
      ]
    },
    {
      "cell_type": "code",
      "source": [
        "def f(a, b, c):\n",
        "    print(f\"A: {a}\")\n",
        "    print(f\"B: {b}\")\n",
        "    print(f\"C: {c}\")\n",
        "\n",
        "d = {\"a\": 1, \"b\": 2}\n",
        "f(**d)"
      ],
      "metadata": {
        "colab": {
          "base_uri": "https://localhost:8080/",
          "height": 208
        },
        "id": "qKFT8-4650QQ",
        "outputId": "31d103b5-01a9-4fde-fd8e-37b16c47ad07"
      },
      "execution_count": null,
      "outputs": [
        {
          "output_type": "error",
          "ename": "TypeError",
          "evalue": "ignored",
          "traceback": [
            "\u001b[0;31m---------------------------------------------------------------------------\u001b[0m",
            "\u001b[0;31mTypeError\u001b[0m                                 Traceback (most recent call last)",
            "\u001b[0;32m<ipython-input-48-7c82cffab7cf>\u001b[0m in \u001b[0;36m<cell line: 7>\u001b[0;34m()\u001b[0m\n\u001b[1;32m      5\u001b[0m \u001b[0;34m\u001b[0m\u001b[0m\n\u001b[1;32m      6\u001b[0m \u001b[0md\u001b[0m \u001b[0;34m=\u001b[0m \u001b[0;34m{\u001b[0m\u001b[0;34m\"a\"\u001b[0m\u001b[0;34m:\u001b[0m \u001b[0;36m1\u001b[0m\u001b[0;34m,\u001b[0m \u001b[0;34m\"b\"\u001b[0m\u001b[0;34m:\u001b[0m \u001b[0;36m2\u001b[0m\u001b[0;34m}\u001b[0m\u001b[0;34m\u001b[0m\u001b[0;34m\u001b[0m\u001b[0m\n\u001b[0;32m----> 7\u001b[0;31m \u001b[0mf\u001b[0m\u001b[0;34m(\u001b[0m\u001b[0;34m**\u001b[0m\u001b[0md\u001b[0m\u001b[0;34m)\u001b[0m\u001b[0;34m\u001b[0m\u001b[0;34m\u001b[0m\u001b[0m\n\u001b[0m",
            "\u001b[0;31mTypeError\u001b[0m: f() missing 1 required positional argument: 'c'"
          ]
        }
      ]
    },
    {
      "cell_type": "markdown",
      "source": [
        "Итерирование по словарям"
      ],
      "metadata": {
        "id": "1OXGGp0I6bIB"
      }
    },
    {
      "cell_type": "code",
      "source": [
        "d = {\"a\": 1, \"b\": 2, \"c\": 3, \"d\": 4}\n",
        "\n",
        "items = d.items()\n",
        "print(items)"
      ],
      "metadata": {
        "colab": {
          "base_uri": "https://localhost:8080/"
        },
        "id": "VJTSV5AY53lJ",
        "outputId": "ba5ed159-529c-4a29-bd57-ccc0346815d0"
      },
      "execution_count": null,
      "outputs": [
        {
          "output_type": "stream",
          "name": "stdout",
          "text": [
            "dict_items([('a', 1), ('b', 2), ('c', 3), ('d', 4)])\n"
          ]
        }
      ]
    },
    {
      "cell_type": "code",
      "source": [
        "d[\"e\"] = 5\n",
        "print(items)"
      ],
      "metadata": {
        "colab": {
          "base_uri": "https://localhost:8080/"
        },
        "id": "TD42Mht76AmB",
        "outputId": "f9d174ec-6f7c-4177-e418-1e3cc5bc0499"
      },
      "execution_count": null,
      "outputs": [
        {
          "output_type": "stream",
          "name": "stdout",
          "text": [
            "dict_items([('a', 1), ('b', 2), ('c', 3), ('d', 4), ('e', 5)])\n"
          ]
        }
      ]
    },
    {
      "cell_type": "code",
      "source": [
        "for k, v in d.items():\n",
        "    print(f\"{k}: {v}\")"
      ],
      "metadata": {
        "colab": {
          "base_uri": "https://localhost:8080/"
        },
        "id": "5EPKli2F6KC6",
        "outputId": "3900828a-53e6-4886-fb56-3436b18cdcf6"
      },
      "execution_count": null,
      "outputs": [
        {
          "output_type": "stream",
          "name": "stdout",
          "text": [
            "a: 1\n",
            "b: 2\n",
            "c: 3\n",
            "d: 4\n",
            "e: 5\n"
          ]
        }
      ]
    },
    {
      "cell_type": "code",
      "source": [
        "d = {\"a\": 1, \"b\": 2, \"c\": 3, \"d\": 4}\n",
        "\n",
        "keys = d.keys()\n",
        "print(keys)"
      ],
      "metadata": {
        "colab": {
          "base_uri": "https://localhost:8080/"
        },
        "id": "jJx90E-V6PLz",
        "outputId": "bcb8a361-76d1-4f69-ad8b-56b2e2831d00"
      },
      "execution_count": null,
      "outputs": [
        {
          "output_type": "stream",
          "name": "stdout",
          "text": [
            "dict_keys(['a', 'b', 'c', 'd'])\n"
          ]
        }
      ]
    },
    {
      "cell_type": "code",
      "source": [
        "d[\"e\"] = 5\n",
        "print(keys)"
      ],
      "metadata": {
        "colab": {
          "base_uri": "https://localhost:8080/"
        },
        "id": "HktWUZ056Sa0",
        "outputId": "74de2d64-b8dc-4067-fb8c-4a1b3c036738"
      },
      "execution_count": null,
      "outputs": [
        {
          "output_type": "stream",
          "name": "stdout",
          "text": [
            "dict_keys(['a', 'b', 'c', 'd', 'e'])\n"
          ]
        }
      ]
    },
    {
      "cell_type": "code",
      "source": [
        "d = {\"a\": 1, \"b\": 2, \"c\": 3, \"d\": 4}\n",
        "\n",
        "values = d.values()\n",
        "print(values)"
      ],
      "metadata": {
        "colab": {
          "base_uri": "https://localhost:8080/"
        },
        "id": "99wVzk9h6U2T",
        "outputId": "a5350c9f-0e60-43a3-ebf5-3dc58a656757"
      },
      "execution_count": null,
      "outputs": [
        {
          "output_type": "stream",
          "name": "stdout",
          "text": [
            "dict_values([1, 2, 3, 4])\n"
          ]
        }
      ]
    },
    {
      "cell_type": "code",
      "source": [
        "d[\"e\"] = 5\n",
        "print(values)"
      ],
      "metadata": {
        "colab": {
          "base_uri": "https://localhost:8080/"
        },
        "id": "yofibPPn6W_R",
        "outputId": "84846f6c-739a-4ffb-dc72-4fcad7b35aa3"
      },
      "execution_count": null,
      "outputs": [
        {
          "output_type": "stream",
          "name": "stdout",
          "text": [
            "dict_values([1, 2, 3, 4, 5])\n"
          ]
        }
      ]
    },
    {
      "cell_type": "code",
      "source": [
        "print(d)\n",
        "d.setdefault(\"a\", 42)\n",
        "print(d)\n",
        "d.setdefault(\"f\", 42)\n",
        "print(d)"
      ],
      "metadata": {
        "colab": {
          "base_uri": "https://localhost:8080/"
        },
        "id": "df2G04Ra6Yfw",
        "outputId": "33b524e0-5026-4b00-905a-e214208cc2a3"
      },
      "execution_count": null,
      "outputs": [
        {
          "output_type": "stream",
          "name": "stdout",
          "text": [
            "{'a': 1, 'b': 2, 'c': 3, 'd': 4, 'e': 5}\n",
            "{'a': 1, 'b': 2, 'c': 3, 'd': 4, 'e': 5}\n",
            "{'a': 1, 'b': 2, 'c': 3, 'd': 4, 'e': 5, 'f': 42}\n"
          ]
        }
      ]
    },
    {
      "cell_type": "code",
      "source": [
        "new_d = d.copy()  # те же самые методы копирования, что и в случае с другими коллекциями\n",
        "# при этом не забываем про необходимость deepcopy, если словарь вложенный!\n",
        "\n",
        "new_d[\"six\"] = 6\n",
        "print(new_d)\n",
        "print(d)"
      ],
      "metadata": {
        "colab": {
          "base_uri": "https://localhost:8080/"
        },
        "id": "TZtBvKQD6jnc",
        "outputId": "f2e66a0e-fb34-42a5-e139-109531514397"
      },
      "execution_count": null,
      "outputs": [
        {
          "output_type": "stream",
          "name": "stdout",
          "text": [
            "{'a': 1, 'b': 2, 'c': 3, 'd': 4, 'e': 5, 'f': 42, 'six': 6}\n",
            "{'a': 1, 'b': 2, 'c': 3, 'd': 4, 'e': 5, 'f': 42}\n"
          ]
        }
      ]
    },
    {
      "cell_type": "markdown",
      "source": [
        "\"Под капотом\" получение значения по ключу вызывает у словаря функцию `__getitem__`:"
      ],
      "metadata": {
        "id": "9o-X8ELL68V6"
      }
    },
    {
      "cell_type": "code",
      "source": [
        "print(d.__getitem__(\"a\") is d[\"a\"])"
      ],
      "metadata": {
        "colab": {
          "base_uri": "https://localhost:8080/"
        },
        "id": "Ag2QApEF64TU",
        "outputId": "c2ac154f-e234-4441-f640-a4b5b40ad0c7"
      },
      "execution_count": null,
      "outputs": [
        {
          "output_type": "stream",
          "name": "stdout",
          "text": [
            "True\n"
          ]
        }
      ]
    },
    {
      "cell_type": "code",
      "source": [
        "# d.pop(\"f\")\n",
        "del d[\"f\"]"
      ],
      "metadata": {
        "id": "1mna-jj27CPz"
      },
      "execution_count": null,
      "outputs": []
    },
    {
      "cell_type": "code",
      "source": [
        "print(d)"
      ],
      "metadata": {
        "colab": {
          "base_uri": "https://localhost:8080/"
        },
        "id": "FcbYskKC7Obt",
        "outputId": "ec85fd44-baf6-4232-d0aa-b593364fc7ea"
      },
      "execution_count": null,
      "outputs": [
        {
          "output_type": "stream",
          "name": "stdout",
          "text": [
            "{'a': 1, 'b': 2, 'c': 3, 'd': 4, 'e': 5}\n"
          ]
        }
      ]
    },
    {
      "cell_type": "code",
      "source": [
        "a = {\"a\": 1, \"b\": 2}\n",
        "b = {\"key\": a}\n",
        "\n",
        "b.pop(\"key\")\n",
        "print(a)"
      ],
      "metadata": {
        "colab": {
          "base_uri": "https://localhost:8080/"
        },
        "id": "FW0X5qrk7iEj",
        "outputId": "f0065d6a-cd61-41a4-8b14-5911843ccecc"
      },
      "execution_count": null,
      "outputs": [
        {
          "output_type": "stream",
          "name": "stdout",
          "text": [
            "{'a': 1, 'b': 2}\n"
          ]
        }
      ]
    },
    {
      "cell_type": "code",
      "source": [
        "a = {\"a\": 1, \"b\": 2}\n",
        "b = {\"key\": a}\n",
        "\n",
        "del b[\"key\"]\n",
        "print(a)"
      ],
      "metadata": {
        "colab": {
          "base_uri": "https://localhost:8080/"
        },
        "id": "Jf7onlAf7S1-",
        "outputId": "42481fd4-9e71-4788-bd79-cf528911ef19"
      },
      "execution_count": null,
      "outputs": [
        {
          "output_type": "stream",
          "name": "stdout",
          "text": [
            "{'a': 1, 'b': 2}\n"
          ]
        }
      ]
    },
    {
      "cell_type": "markdown",
      "source": [
        "**Задача** number count"
      ],
      "metadata": {
        "id": "6jKW6azM7u6L"
      }
    },
    {
      "cell_type": "code",
      "source": [
        "import random\n",
        "\n",
        "numbers = [random.randint(0, 10) for _ in range(100)]\n",
        "print(numbers)"
      ],
      "metadata": {
        "colab": {
          "base_uri": "https://localhost:8080/"
        },
        "id": "4U8zGR5j7ZqW",
        "outputId": "ed75eda6-1358-4c77-de23-725044dd3cc5"
      },
      "execution_count": null,
      "outputs": [
        {
          "output_type": "stream",
          "name": "stdout",
          "text": [
            "[8, 4, 4, 2, 10, 7, 10, 2, 9, 1, 1, 3, 9, 1, 8, 6, 6, 6, 6, 2, 8, 2, 5, 1, 7, 4, 8, 10, 9, 6, 8, 6, 8, 5, 1, 10, 9, 7, 3, 7, 2, 4, 10, 2, 9, 8, 5, 0, 6, 9, 4, 0, 7, 9, 3, 4, 2, 5, 4, 2, 7, 5, 8, 6, 3, 2, 10, 8, 3, 1, 1, 10, 1, 5, 4, 10, 2, 8, 6, 1, 5, 1, 3, 0, 9, 1, 2, 9, 4, 5, 2, 1, 1, 1, 7, 3, 9, 0, 7, 1]\n"
          ]
        }
      ]
    },
    {
      "cell_type": "code",
      "source": [
        "counter = dict()\n",
        "\n",
        "for i in range(11):\n",
        "    counter[i] = numbers.count(i)\n",
        "print(counter)"
      ],
      "metadata": {
        "colab": {
          "base_uri": "https://localhost:8080/"
        },
        "id": "IpWJWO2k73ey",
        "outputId": "b0fdf145-685d-43ce-c632-9280ec5c03ea"
      },
      "execution_count": null,
      "outputs": [
        {
          "output_type": "stream",
          "name": "stdout",
          "text": [
            "{0: 4, 1: 15, 2: 12, 3: 7, 4: 9, 5: 8, 6: 9, 7: 8, 8: 10, 9: 10, 10: 8}\n"
          ]
        }
      ]
    },
    {
      "cell_type": "code",
      "source": [
        "counter = dict()\n",
        "\n",
        "for number in numbers:\n",
        "    counter[number] += 1\n",
        "    # counter[number] = counter[number] + 1"
      ],
      "metadata": {
        "colab": {
          "base_uri": "https://localhost:8080/",
          "height": 208
        },
        "id": "33u1iLNG8Vx2",
        "outputId": "18dd624a-ab80-4912-9fd6-7ddd244e9272"
      },
      "execution_count": null,
      "outputs": [
        {
          "output_type": "error",
          "ename": "KeyError",
          "evalue": "ignored",
          "traceback": [
            "\u001b[0;31m---------------------------------------------------------------------------\u001b[0m",
            "\u001b[0;31mKeyError\u001b[0m                                  Traceback (most recent call last)",
            "\u001b[0;32m<ipython-input-78-33f6ce9fab3e>\u001b[0m in \u001b[0;36m<cell line: 3>\u001b[0;34m()\u001b[0m\n\u001b[1;32m      2\u001b[0m \u001b[0;34m\u001b[0m\u001b[0m\n\u001b[1;32m      3\u001b[0m \u001b[0;32mfor\u001b[0m \u001b[0mnumber\u001b[0m \u001b[0;32min\u001b[0m \u001b[0mnumbers\u001b[0m\u001b[0;34m:\u001b[0m\u001b[0;34m\u001b[0m\u001b[0;34m\u001b[0m\u001b[0m\n\u001b[0;32m----> 4\u001b[0;31m     \u001b[0mcounter\u001b[0m\u001b[0;34m[\u001b[0m\u001b[0mnumber\u001b[0m\u001b[0;34m]\u001b[0m \u001b[0;34m+=\u001b[0m \u001b[0;36m1\u001b[0m\u001b[0;34m\u001b[0m\u001b[0;34m\u001b[0m\u001b[0m\n\u001b[0m",
            "\u001b[0;31mKeyError\u001b[0m: 8"
          ]
        }
      ]
    },
    {
      "cell_type": "code",
      "source": [
        "counter = dict()\n",
        "\n",
        "for number in numbers:\n",
        "    if number in counter:\n",
        "        counter[number] += 1\n",
        "    else:\n",
        "        counter[number] = 1\n",
        "\n",
        "print(counter)"
      ],
      "metadata": {
        "colab": {
          "base_uri": "https://localhost:8080/"
        },
        "id": "B8qJpBqz8jQP",
        "outputId": "5819eef0-fd39-4cd6-9ed7-ea0091aabb9e"
      },
      "execution_count": null,
      "outputs": [
        {
          "output_type": "stream",
          "name": "stdout",
          "text": [
            "{8: 10, 4: 9, 2: 12, 10: 8, 7: 8, 9: 10, 1: 15, 3: 7, 6: 9, 5: 8, 0: 4}\n"
          ]
        }
      ]
    },
    {
      "cell_type": "code",
      "source": [
        "counter = dict()\n",
        "\n",
        "for number in numbers:\n",
        "    counter[number] = counter.get(number, 0) + 1\n",
        "\n",
        "print(counter)"
      ],
      "metadata": {
        "colab": {
          "base_uri": "https://localhost:8080/"
        },
        "id": "n_F1Y6BA8to5",
        "outputId": "2ee281c2-2660-4a4a-b4b0-ad510cc34c49"
      },
      "execution_count": null,
      "outputs": [
        {
          "output_type": "stream",
          "name": "stdout",
          "text": [
            "{8: 10, 4: 9, 2: 12, 10: 8, 7: 8, 9: 10, 1: 15, 3: 7, 6: 9, 5: 8, 0: 4}\n"
          ]
        }
      ]
    },
    {
      "cell_type": "markdown",
      "source": [
        "### Плюшка #1: defaultdict\n",
        "\n",
        "По сути, это словарь, у которого на все ключи задан `setdefault`."
      ],
      "metadata": {
        "id": "7NEA7ZcS9FVM"
      }
    },
    {
      "cell_type": "code",
      "source": [
        "from collections import defaultdict\n",
        "\n",
        "counter = defaultdict(int)\n",
        "\n",
        "for number in numbers:\n",
        "    counter[number] += 1\n",
        "    # counter[number] = counter[number] + 1\n",
        "\n",
        "print(counter)"
      ],
      "metadata": {
        "colab": {
          "base_uri": "https://localhost:8080/"
        },
        "id": "wI4ou5P989Fp",
        "outputId": "c42cace1-1f8c-4b55-ff00-bf8a05b0beba"
      },
      "execution_count": null,
      "outputs": [
        {
          "output_type": "stream",
          "name": "stdout",
          "text": [
            "defaultdict(<class 'int'>, {8: 10, 4: 9, 2: 12, 10: 8, 7: 8, 9: 10, 1: 15, 3: 7, 6: 9, 5: 8, 0: 4})\n"
          ]
        }
      ]
    },
    {
      "cell_type": "code",
      "source": [
        "print(counter.default_factory)\n",
        "print(counter.default_factory())"
      ],
      "metadata": {
        "colab": {
          "base_uri": "https://localhost:8080/"
        },
        "id": "Ow8ZAgws9POe",
        "outputId": "0d7c59d5-c979-489c-9d77-e1c7edc41266"
      },
      "execution_count": null,
      "outputs": [
        {
          "output_type": "stream",
          "name": "stdout",
          "text": [
            "<class 'int'>\n",
            "0\n"
          ]
        }
      ]
    },
    {
      "cell_type": "code",
      "source": [
        "counter = defaultdict(int)\n",
        "\n",
        "print(counter)"
      ],
      "metadata": {
        "colab": {
          "base_uri": "https://localhost:8080/"
        },
        "id": "7XRO6grS9emF",
        "outputId": "416e85bc-0289-43e4-ac39-b6b56aa1dac2"
      },
      "execution_count": null,
      "outputs": [
        {
          "output_type": "stream",
          "name": "stdout",
          "text": [
            "defaultdict(<class 'int'>, {})\n"
          ]
        }
      ]
    },
    {
      "cell_type": "code",
      "source": [
        "counter[\"any_key\"]"
      ],
      "metadata": {
        "colab": {
          "base_uri": "https://localhost:8080/"
        },
        "id": "Ej_62K_z9rS0",
        "outputId": "e3426f75-4f87-4ad6-859b-f64ab8f0ca7d"
      },
      "execution_count": null,
      "outputs": [
        {
          "output_type": "execute_result",
          "data": {
            "text/plain": [
              "0"
            ]
          },
          "metadata": {},
          "execution_count": 93
        }
      ]
    },
    {
      "cell_type": "code",
      "source": [
        "print(counter)"
      ],
      "metadata": {
        "colab": {
          "base_uri": "https://localhost:8080/"
        },
        "id": "z6JIrwZE9zum",
        "outputId": "76795a95-b55b-4d7f-c0af-092b25b2b593"
      },
      "execution_count": null,
      "outputs": [
        {
          "output_type": "stream",
          "name": "stdout",
          "text": [
            "defaultdict(<class 'int'>, {'any_key': 0})\n"
          ]
        }
      ]
    },
    {
      "cell_type": "markdown",
      "source": [
        "Можно задать явно любое другое значение по умолчанию с помощью `lambda`:"
      ],
      "metadata": {
        "id": "UCBqVBFp98o5"
      }
    },
    {
      "cell_type": "code",
      "source": [
        "# первым аргументом будет значение по умолчанию, которое присвоится, если словаря нет\n",
        "# вторая --  дадим словарь которым мы инициализируем defaultdict\n",
        "\n",
        "d = defaultdict(lambda: \"not found\", {\"wiki\": \"wikipedia.org\", \"hse\": \"hse.ru\"})\n",
        "\n",
        "print(d[\"wiki\"])\n",
        "print(d[\"4chan\"])\n",
        "print(d)"
      ],
      "metadata": {
        "colab": {
          "base_uri": "https://localhost:8080/"
        },
        "id": "EU5rR6CI92gN",
        "outputId": "974cf71e-23b6-4c5c-a781-f994a986bb72"
      },
      "execution_count": null,
      "outputs": [
        {
          "output_type": "stream",
          "name": "stdout",
          "text": [
            "wikipedia.org\n",
            "not found\n",
            "defaultdict(<function <lambda> at 0x7a5d897a4310>, {'wiki': 'wikipedia.org', 'hse': 'hse.ru', '4chan': 'not found'})\n"
          ]
        }
      ]
    },
    {
      "cell_type": "code",
      "source": [
        "# d[\"not_exist\"] = d.default_factory()"
      ],
      "metadata": {
        "id": "cKhHK6s195kK"
      },
      "execution_count": null,
      "outputs": []
    },
    {
      "cell_type": "markdown",
      "source": [
        "Есть очень крутой лайфхак, как создать словарь словарей неограниченной вложенности:"
      ],
      "metadata": {
        "id": "kVd27wm6-U3v"
      }
    },
    {
      "cell_type": "code",
      "source": [
        "RecursiveDefaultDict = lambda: defaultdict(RecursiveDefaultDict)"
      ],
      "metadata": {
        "id": "D5qQTedn-MfU"
      },
      "execution_count": null,
      "outputs": []
    },
    {
      "cell_type": "code",
      "source": [
        "print(id(d.default_factory) == id(d.default_factory().default_factory))"
      ],
      "metadata": {
        "colab": {
          "base_uri": "https://localhost:8080/"
        },
        "id": "nKF_TiAE-rUL",
        "outputId": "b8844dff-26cc-4b6c-fe01-983d7b80b105"
      },
      "execution_count": null,
      "outputs": [
        {
          "output_type": "stream",
          "name": "stdout",
          "text": [
            "True\n"
          ]
        }
      ]
    },
    {
      "cell_type": "code",
      "source": [
        "d = RecursiveDefaultDict()"
      ],
      "metadata": {
        "id": "eiZmGrwK-XlI"
      },
      "execution_count": null,
      "outputs": []
    },
    {
      "cell_type": "code",
      "source": [
        "d[1][2] = 42"
      ],
      "metadata": {
        "id": "n8LFjLCQ-cut"
      },
      "execution_count": null,
      "outputs": []
    },
    {
      "cell_type": "code",
      "source": [
        "print(d[1][2])\n",
        "print(d)"
      ],
      "metadata": {
        "colab": {
          "base_uri": "https://localhost:8080/"
        },
        "id": "vd11HR4g-lr9",
        "outputId": "6fa38d8d-01b3-4abd-cd5d-2f76e531ad11"
      },
      "execution_count": null,
      "outputs": [
        {
          "output_type": "stream",
          "name": "stdout",
          "text": [
            "42\n",
            "defaultdict(<function <lambda> at 0x7a5d8976b7f0>, {1: defaultdict(<function <lambda> at 0x7a5d8976b7f0>, {2: 42})})\n"
          ]
        }
      ]
    },
    {
      "cell_type": "markdown",
      "source": [
        "### Плюшка #2: OrderedDict\n",
        "\n",
        "Все то, что вы хотели от словаря, только теперь он будет иметь порядок ключей, в котором она добавляются в словарь. Получается внебрачный сын словаря и списка."
      ],
      "metadata": {
        "id": "JX3k77uM_A9m"
      }
    },
    {
      "cell_type": "code",
      "source": [
        "from collections import OrderedDict\n",
        "\n",
        "d = OrderedDict()\n",
        "\n",
        "\n",
        "d[\"a\"] = 1\n",
        "d[\"b\"] = 2\n",
        "d[\"c\"] = 3\n",
        "\n",
        "\n",
        "print(d)"
      ],
      "metadata": {
        "colab": {
          "base_uri": "https://localhost:8080/"
        },
        "id": "iyfDLWyZ-zFx",
        "outputId": "42dfa593-68b9-4485-8c93-5c0f877208fe"
      },
      "execution_count": null,
      "outputs": [
        {
          "output_type": "stream",
          "name": "stdout",
          "text": [
            "OrderedDict([('a', 1), ('b', 2), ('c', 3)])\n"
          ]
        }
      ]
    },
    {
      "cell_type": "code",
      "source": [
        "for k, v in d.items():\n",
        "    print(f\"{k}: {v}\")"
      ],
      "metadata": {
        "colab": {
          "base_uri": "https://localhost:8080/"
        },
        "id": "950eU5no_KsU",
        "outputId": "5521ee74-393c-4bc5-add2-d2e9eff377f3"
      },
      "execution_count": null,
      "outputs": [
        {
          "output_type": "stream",
          "name": "stdout",
          "text": [
            "a: 1\n",
            "b: 2\n",
            "c: 3\n"
          ]
        }
      ]
    },
    {
      "cell_type": "code",
      "source": [
        "d.move_to_end(\"b\")  # поменяли порядок, передвинули ключ b в конец\n",
        "print(d)"
      ],
      "metadata": {
        "colab": {
          "base_uri": "https://localhost:8080/"
        },
        "id": "rhVZpG6Y_PDA",
        "outputId": "61062ebd-9b91-4422-930b-23357e45f497"
      },
      "execution_count": null,
      "outputs": [
        {
          "output_type": "stream",
          "name": "stdout",
          "text": [
            "OrderedDict([('a', 1), ('c', 3), ('b', 2)])\n"
          ]
        }
      ]
    },
    {
      "cell_type": "markdown",
      "source": [
        "В целом OrderedDict устроен как и обычный словарь, но рядом с ним еще лежит связный список вида\n",
        "\n",
        "`START <-> b <-> d <-> a <-> END`\n",
        "\n",
        "То есть список ключей, причем из каждого ключа есть ссылка на следующий и предыдущий.\n",
        "\n",
        "Так как в связном списке нет индексации, да и целом быстрее чем за $O(n)$ в таком случае найти нужный ключ проблематично, то казалось бы, удаление тоже должно в OrderedDict быть за линейную сложность. НО! Питон в OrderedDict рядом с ключом хранит ссылку на тот элемент списка, к которому ключ привязан. Поэтому удаление из OrderedDict происходит за $O(1)$, ибо это просто удаление из хэш-таблицы + замена ссылок."
      ],
      "metadata": {
        "id": "KXwFvKbH_Zfu"
      }
    },
    {
      "cell_type": "code",
      "source": [
        "import sys\n",
        "\n",
        "d = {\"a\": 1, \"b\": 2, \"c\": 3}\n",
        "do = OrderedDict(**{\"a\": 1, \"b\": 2, \"c\": 3})\n",
        "\n",
        "print(f\"dict: {sys.getsizeof(d)}\")\n",
        "print(f\"odict: {sys.getsizeof(do)}\")"
      ],
      "metadata": {
        "colab": {
          "base_uri": "https://localhost:8080/"
        },
        "id": "TbHavmqP_WX9",
        "outputId": "d137b0da-0a10-4019-fe18-f137c9e2b011"
      },
      "execution_count": null,
      "outputs": [
        {
          "output_type": "stream",
          "name": "stdout",
          "text": [
            "dict: 232\n",
            "odict: 456\n"
          ]
        }
      ]
    },
    {
      "cell_type": "markdown",
      "source": [
        "### Плюшка #3: удобный counter"
      ],
      "metadata": {
        "id": "QPDSZyLq__Bq"
      }
    },
    {
      "cell_type": "code",
      "source": [
        "import random\n",
        "\n",
        "numbers = [random.randint(0, 10) for _ in range(100)]\n",
        "print(numbers)"
      ],
      "metadata": {
        "colab": {
          "base_uri": "https://localhost:8080/"
        },
        "id": "fLsq0DRz_ukL",
        "outputId": "66650ca3-dc1f-459b-b5cb-936caf3af475"
      },
      "execution_count": null,
      "outputs": [
        {
          "output_type": "stream",
          "name": "stdout",
          "text": [
            "[8, 9, 10, 1, 5, 3, 1, 7, 4, 5, 2, 1, 7, 6, 4, 1, 6, 9, 4, 3, 9, 0, 4, 9, 0, 9, 9, 5, 7, 9, 1, 0, 3, 1, 4, 1, 1, 9, 3, 4, 9, 2, 6, 5, 2, 10, 1, 7, 6, 5, 2, 10, 6, 0, 8, 10, 7, 9, 10, 10, 0, 4, 5, 5, 2, 1, 4, 1, 10, 1, 7, 2, 6, 9, 6, 6, 2, 1, 6, 2, 7, 6, 3, 10, 4, 2, 3, 7, 8, 10, 2, 0, 2, 3, 6, 5, 3, 2, 9, 2]\n"
          ]
        }
      ]
    },
    {
      "cell_type": "code",
      "source": [
        "from collections import Counter\n",
        "\n",
        "counter = Counter(numbers)"
      ],
      "metadata": {
        "id": "Fm0d_QoAAFj1"
      },
      "execution_count": null,
      "outputs": []
    },
    {
      "cell_type": "code",
      "source": [
        "counter.most_common(3)"
      ],
      "metadata": {
        "colab": {
          "base_uri": "https://localhost:8080/"
        },
        "id": "-D-wQyRdAKCk",
        "outputId": "091511a5-8c88-4f88-ec30-4c1b19a19cf1"
      },
      "execution_count": null,
      "outputs": [
        {
          "output_type": "execute_result",
          "data": {
            "text/plain": [
              "[(1, 13), (2, 13), (9, 12)]"
            ]
          },
          "metadata": {},
          "execution_count": 132
        }
      ]
    },
    {
      "cell_type": "code",
      "source": [
        "# counter[8]"
      ],
      "metadata": {
        "id": "ANMIxSzxAiqT"
      },
      "execution_count": null,
      "outputs": []
    },
    {
      "cell_type": "code",
      "source": [
        "for number in counter.elements():\n",
        "    print(number, end=\", \")"
      ],
      "metadata": {
        "colab": {
          "base_uri": "https://localhost:8080/"
        },
        "id": "3wUMvm9sARRV",
        "outputId": "f1c6e912-8e32-4c94-8f24-5d17e1395838"
      },
      "execution_count": null,
      "outputs": [
        {
          "output_type": "stream",
          "name": "stdout",
          "text": [
            "8, 8, 8, 9, 9, 9, 9, 9, 9, 9, 9, 9, 9, 9, 9, 10, 10, 10, 10, 10, 10, 10, 10, 10, 1, 1, 1, 1, 1, 1, 1, 1, 1, 1, 1, 1, 1, 5, 5, 5, 5, 5, 5, 5, 5, 3, 3, 3, 3, 3, 3, 3, 3, 7, 7, 7, 7, 7, 7, 7, 7, 4, 4, 4, 4, 4, 4, 4, 4, 4, 2, 2, 2, 2, 2, 2, 2, 2, 2, 2, 2, 2, 2, 6, 6, 6, 6, 6, 6, 6, 6, 6, 6, 6, 0, 0, 0, 0, 0, 0, "
          ]
        }
      ]
    },
    {
      "cell_type": "code",
      "source": [
        "numbers1 = [random.randint(0, 10) for _ in range(10)]\n",
        "numbers2 = [random.randint(0, 10) for _ in range(100)]\n",
        "\n",
        "\n",
        "counter1 = Counter(numbers1)\n",
        "counter2 = Counter(numbers2)"
      ],
      "metadata": {
        "id": "DvF7vp08AWui"
      },
      "execution_count": null,
      "outputs": []
    },
    {
      "cell_type": "code",
      "source": [
        "for key in counter1.keys():\n",
        "    print(f\"key: {key}, counter1: {counter1[key]}, counter2: {counter2[key]}\")"
      ],
      "metadata": {
        "colab": {
          "base_uri": "https://localhost:8080/"
        },
        "id": "IWohz93ZA_VD",
        "outputId": "9e966267-0392-4489-d42e-8c00e6b615b6"
      },
      "execution_count": null,
      "outputs": [
        {
          "output_type": "stream",
          "name": "stdout",
          "text": [
            "key: 5, counter1: 1, counter2: 7\n",
            "key: 8, counter1: 1, counter2: 12\n",
            "key: 3, counter1: 3, counter2: 8\n",
            "key: 1, counter1: 1, counter2: 9\n",
            "key: 7, counter1: 2, counter2: 11\n",
            "key: 2, counter1: 1, counter2: 11\n",
            "key: 6, counter1: 1, counter2: 4\n"
          ]
        }
      ]
    },
    {
      "cell_type": "code",
      "source": [
        "counter1.subtract(counter2)"
      ],
      "metadata": {
        "id": "IE6vtRqcBAJN"
      },
      "execution_count": null,
      "outputs": []
    },
    {
      "cell_type": "code",
      "source": [
        "for key in counter1.keys():\n",
        "    print(f\"key: {key}, counter1: {counter1[key]}\")"
      ],
      "metadata": {
        "colab": {
          "base_uri": "https://localhost:8080/"
        },
        "id": "Iip9awBoBCwH",
        "outputId": "53b4b824-4a83-4a72-f9bb-9930b4fad1cd"
      },
      "execution_count": null,
      "outputs": [
        {
          "output_type": "stream",
          "name": "stdout",
          "text": [
            "key: 5, counter1: -6\n",
            "key: 8, counter1: -11\n",
            "key: 3, counter1: -5\n",
            "key: 1, counter1: -8\n",
            "key: 7, counter1: -9\n",
            "key: 2, counter1: -10\n",
            "key: 6, counter1: -3\n",
            "key: 10, counter1: -11\n",
            "key: 4, counter1: -12\n",
            "key: 9, counter1: -6\n",
            "key: 0, counter1: -9\n"
          ]
        }
      ]
    },
    {
      "cell_type": "markdown",
      "source": [
        "### Плюшка #4: ChainMap\n",
        "\n",
        "[habr link](https://habr.com/ru/companies/skillfactory/articles/570590/)"
      ],
      "metadata": {
        "id": "rbXihT-9Bju4"
      }
    },
    {
      "cell_type": "code",
      "source": [
        "from collections import ChainMap"
      ],
      "metadata": {
        "id": "xIvtWK_7BGa7"
      },
      "execution_count": null,
      "outputs": []
    },
    {
      "cell_type": "code",
      "source": [
        "baseline = {'music': 'bach', 'art': 'rembrandt'}\n",
        "adjustments = {'art': 'van gogh', 'opera': 'carmen'}"
      ],
      "metadata": {
        "id": "FF5G9_UBBr1u"
      },
      "execution_count": null,
      "outputs": []
    },
    {
      "cell_type": "code",
      "source": [
        "d = ChainMap(adjustments, baseline)"
      ],
      "metadata": {
        "id": "nRrkMMBGBt3B"
      },
      "execution_count": null,
      "outputs": []
    },
    {
      "cell_type": "code",
      "source": [
        "print(d)"
      ],
      "metadata": {
        "colab": {
          "base_uri": "https://localhost:8080/"
        },
        "id": "7ZI7SlPxBwFo",
        "outputId": "5f8c9eae-1095-41e5-e87d-a16ea05c3c24"
      },
      "execution_count": null,
      "outputs": [
        {
          "output_type": "stream",
          "name": "stdout",
          "text": [
            "ChainMap({'art': 'van gogh', 'opera': 'carmen'}, {'music': 'bach', 'art': 'rembrandt'})\n"
          ]
        }
      ]
    },
    {
      "cell_type": "code",
      "source": [
        "d[\"art\"]"
      ],
      "metadata": {
        "colab": {
          "base_uri": "https://localhost:8080/",
          "height": 35
        },
        "id": "Vp78WINeBwXj",
        "outputId": "ae672258-6b86-40ae-a16b-a1d9fd163b42"
      },
      "execution_count": null,
      "outputs": [
        {
          "output_type": "execute_result",
          "data": {
            "text/plain": [
              "'van gogh'"
            ],
            "application/vnd.google.colaboratory.intrinsic+json": {
              "type": "string"
            }
          },
          "metadata": {},
          "execution_count": 159
        }
      ]
    },
    {
      "cell_type": "code",
      "source": [
        "del d[\"art\"]\n",
        "print(d[\"art\"])"
      ],
      "metadata": {
        "colab": {
          "base_uri": "https://localhost:8080/"
        },
        "id": "Qt89inw-B1I5",
        "outputId": "c6e830ef-94ca-486e-82f4-21679c183f41"
      },
      "execution_count": null,
      "outputs": [
        {
          "output_type": "stream",
          "name": "stdout",
          "text": [
            "rembrandt\n"
          ]
        }
      ]
    },
    {
      "cell_type": "code",
      "source": [
        "print(adjustments)"
      ],
      "metadata": {
        "colab": {
          "base_uri": "https://localhost:8080/"
        },
        "id": "yoD5wbcLB7FR",
        "outputId": "c0f7b109-0787-4e5c-8ce7-322b3bc20df6"
      },
      "execution_count": null,
      "outputs": [
        {
          "output_type": "stream",
          "name": "stdout",
          "text": [
            "{'opera': 'carmen'}\n"
          ]
        }
      ]
    },
    {
      "cell_type": "code",
      "source": [
        "print(baseline)"
      ],
      "metadata": {
        "colab": {
          "base_uri": "https://localhost:8080/"
        },
        "id": "yZFdWuU_B-p0",
        "outputId": "e7f218b0-7bf6-466c-9d98-81dd76cf05de"
      },
      "execution_count": null,
      "outputs": [
        {
          "output_type": "stream",
          "name": "stdout",
          "text": [
            "{'music': 'bach', 'art': 'rembrandt'}\n"
          ]
        }
      ]
    },
    {
      "cell_type": "code",
      "source": [
        "d = d.new_child({\"art\": \"picasso\"})\n",
        "print(d[\"art\"])"
      ],
      "metadata": {
        "colab": {
          "base_uri": "https://localhost:8080/"
        },
        "id": "dDKC2OOJCADw",
        "outputId": "a1e84f37-f602-4b51-88e2-048b74332eaf"
      },
      "execution_count": null,
      "outputs": [
        {
          "output_type": "stream",
          "name": "stdout",
          "text": [
            "picasso\n"
          ]
        }
      ]
    },
    {
      "cell_type": "code",
      "source": [
        "print(d)"
      ],
      "metadata": {
        "colab": {
          "base_uri": "https://localhost:8080/"
        },
        "id": "m9y9p423CEDo",
        "outputId": "a4ef315b-6ded-4320-932c-d21b4e80e729"
      },
      "execution_count": null,
      "outputs": [
        {
          "output_type": "stream",
          "name": "stdout",
          "text": [
            "ChainMap({'art': 'picasso'}, {'opera': 'carmen'}, {'music': 'bach', 'art': 'rembrandt'})\n"
          ]
        }
      ]
    },
    {
      "cell_type": "code",
      "source": [
        "print(id(d.maps[1]) == id(adjustments))"
      ],
      "metadata": {
        "colab": {
          "base_uri": "https://localhost:8080/"
        },
        "id": "5dJfpuV_CF0N",
        "outputId": "7b94527c-49e4-4f52-f2bf-d180ebdec6d3"
      },
      "execution_count": null,
      "outputs": [
        {
          "output_type": "stream",
          "name": "stdout",
          "text": [
            "True\n"
          ]
        }
      ]
    },
    {
      "cell_type": "markdown",
      "source": [
        "# Практика"
      ],
      "metadata": {
        "id": "t78Yj9z8CVPl"
      }
    },
    {
      "cell_type": "markdown",
      "source": [
        "# Задача\n",
        "Дана база данных о продажах некоторого интернет-магазина. Каждая строка входного файла представляет собой запись вида Покупатель товар количество, где Покупатель — имя покупателя (строка без пробелов), товар — название товара (строка без пробелов), количество — количество приобретенных единиц товара. Создайте список всех покупателей, а для каждого покупателя подсчитайте количество приобретенных им единиц каждого вида товаров.\n",
        "\n",
        "Вводятся сведения о покупках в формате:\n",
        "```\n",
        "Ivanov paper 10\n",
        "Petrov pens 5\n",
        "Ivanov marker 3\n",
        "Ivanov paper 7\n",
        "Petrov envelope 20\n",
        "Ivanov envelope 5\n",
        "```\n",
        "\n",
        "Вывод:\n",
        "```\n",
        "Ivanov:\n",
        "envelope 5\n",
        "marker 3\n",
        "paper 17\n",
        "Petrov:\n",
        "envelope 20\n",
        "pens 5\n",
        "```"
      ],
      "metadata": {
        "id": "eqR61e_mCX0Q"
      }
    },
    {
      "cell_type": "code",
      "source": [
        "input = \"\"\"Ivanov paper 10\n",
        "Petrov pens 5\n",
        "Ivanov marker 3\n",
        "Ivanov paper 7\n",
        "Petrov envelope 20\n",
        "Ivanov envelope 5\"\"\"\n",
        "\n",
        "tuples = []\n",
        "\n",
        "for line in input.split(\"\\n\"):\n",
        "    name, goods, quant = line.split(\" \")\n",
        "    tuples.append((name, goods, int(quant)))"
      ],
      "metadata": {
        "id": "Xx-w_zUVCH0N"
      },
      "execution_count": null,
      "outputs": []
    },
    {
      "cell_type": "code",
      "source": [
        "type(tuples)"
      ],
      "metadata": {
        "colab": {
          "base_uri": "https://localhost:8080/"
        },
        "id": "t04dCTIaCMF5",
        "outputId": "fb8bc941-83a4-4bec-a1be-36eb1373b33a"
      },
      "execution_count": null,
      "outputs": [
        {
          "output_type": "execute_result",
          "data": {
            "text/plain": [
              "list"
            ]
          },
          "metadata": {},
          "execution_count": 171
        }
      ]
    },
    {
      "cell_type": "code",
      "source": [
        "# variation 1\n",
        "#{name: {goods: quant}}\n",
        "mapping = dict()\n",
        "\n",
        "for line in tuples:\n",
        "    name, goods, quant = line\n",
        "    if name not in mapping:\n",
        "        mapping[name] = dict()\n",
        "    if goods not in mapping[name]:\n",
        "        mapping[name][goods] = quant\n",
        "    else:\n",
        "        mapping[name][goods] += quant"
      ],
      "metadata": {
        "id": "Ag0JQrrdCvB9"
      },
      "execution_count": null,
      "outputs": []
    },
    {
      "cell_type": "code",
      "source": [
        "for k, v in mapping.items():\n",
        "    print(f\"{k}:\")\n",
        "    for kk, vv in v.items():\n",
        "        print(f\"{kk} {vv}\")"
      ],
      "metadata": {
        "colab": {
          "base_uri": "https://localhost:8080/"
        },
        "id": "gmNXTigODFms",
        "outputId": "38f2dff9-4795-47ae-d617-08715f5ddc85"
      },
      "execution_count": null,
      "outputs": [
        {
          "output_type": "stream",
          "name": "stdout",
          "text": [
            "Ivanov:\n",
            "paper 17\n",
            "marker 3\n",
            "envelope 5\n",
            "Petrov:\n",
            "pens 5\n",
            "envelope 20\n"
          ]
        }
      ]
    },
    {
      "cell_type": "code",
      "source": [
        "# variation 2\n",
        "#{name: {goods: quant}}\n",
        "mapping = dict()\n",
        "\n",
        "for line in tuples:\n",
        "    name, goods, quant = line\n",
        "    if name not in mapping:\n",
        "        mapping[name] = defaultdict(int)\n",
        "    mapping[name][goods] += quant"
      ],
      "metadata": {
        "id": "iPpunzh9Drc1"
      },
      "execution_count": null,
      "outputs": []
    },
    {
      "cell_type": "code",
      "source": [
        "for k, v in mapping.items():\n",
        "    print(f\"{k}:\")\n",
        "    for kk, vv in v.items():\n",
        "        print(f\"{kk} {vv}\")"
      ],
      "metadata": {
        "colab": {
          "base_uri": "https://localhost:8080/"
        },
        "id": "ZwYZvXJGD3wB",
        "outputId": "3f66595c-a671-494d-d237-998a44fea4e2"
      },
      "execution_count": null,
      "outputs": [
        {
          "output_type": "stream",
          "name": "stdout",
          "text": [
            "Ivanov:\n",
            "paper 17\n",
            "marker 3\n",
            "envelope 5\n",
            "Petrov:\n",
            "pens 5\n",
            "envelope 20\n"
          ]
        }
      ]
    },
    {
      "cell_type": "code",
      "source": [
        "# variation 3\n",
        "#{name: {goods: quant}}\n",
        "raise NotImplementedError()\n",
        "mapping = defaultdict\n",
        "\n",
        "for line in tuples:\n",
        "    name, goods, quant = line\n",
        "    mapping[name][goods] += quant"
      ],
      "metadata": {
        "colab": {
          "base_uri": "https://localhost:8080/",
          "height": 242
        },
        "id": "p8fB6q3OD7Kb",
        "outputId": "3d88c1cc-533a-4782-cc62-f9825c0d7d64"
      },
      "execution_count": null,
      "outputs": [
        {
          "output_type": "error",
          "ename": "NotImplementedError",
          "evalue": "ignored",
          "traceback": [
            "\u001b[0;31m---------------------------------------------------------------------------\u001b[0m",
            "\u001b[0;31mNotImplementedError\u001b[0m                       Traceback (most recent call last)",
            "\u001b[0;32m<ipython-input-179-d521491b5bda>\u001b[0m in \u001b[0;36m<cell line: 4>\u001b[0;34m()\u001b[0m\n\u001b[1;32m      2\u001b[0m \u001b[0;31m#{name: {goods: quant}}\u001b[0m\u001b[0;34m\u001b[0m\u001b[0;34m\u001b[0m\u001b[0m\n\u001b[1;32m      3\u001b[0m \u001b[0mmapping\u001b[0m \u001b[0;34m=\u001b[0m \u001b[0mdefaultdict\u001b[0m\u001b[0;34m\u001b[0m\u001b[0;34m\u001b[0m\u001b[0m\n\u001b[0;32m----> 4\u001b[0;31m \u001b[0;32mraise\u001b[0m \u001b[0mNotImplementedError\u001b[0m\u001b[0;34m(\u001b[0m\u001b[0;34m)\u001b[0m\u001b[0;34m\u001b[0m\u001b[0;34m\u001b[0m\u001b[0m\n\u001b[0m\u001b[1;32m      5\u001b[0m \u001b[0;34m\u001b[0m\u001b[0m\n\u001b[1;32m      6\u001b[0m \u001b[0;32mfor\u001b[0m \u001b[0mline\u001b[0m \u001b[0;32min\u001b[0m \u001b[0mtuples\u001b[0m\u001b[0;34m:\u001b[0m\u001b[0;34m\u001b[0m\u001b[0;34m\u001b[0m\u001b[0m\n",
            "\u001b[0;31mNotImplementedError\u001b[0m: "
          ]
        }
      ]
    },
    {
      "cell_type": "code",
      "source": [],
      "metadata": {
        "id": "Wyk2PEndEJSw"
      },
      "execution_count": null,
      "outputs": []
    }
  ]
}