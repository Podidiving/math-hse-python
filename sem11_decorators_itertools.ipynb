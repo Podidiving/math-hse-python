{
  "cells": [
    {
      "cell_type": "markdown",
      "source": [
        "**С прошлого семинара**"
      ],
      "metadata": {
        "id": "drRtHyzsM9Td"
      }
    },
    {
      "cell_type": "code",
      "source": [
        "class A:\n",
        "    def __init__(self):\n",
        "        print(\"started call init A\")\n",
        "        super().__init__()\n",
        "        print(\"ended call init A\")\n",
        "\n",
        "class B:\n",
        "    def __init__(self):\n",
        "        print(\"started call init B\")\n",
        "        super().__init__()\n",
        "        print(\"ended call init B\")\n",
        "\n",
        "class C(A, B):\n",
        "    def __init__(self):\n",
        "        print(\"started call init C\")\n",
        "        super().__init__()\n",
        "        print(\"ended call init C\")"
      ],
      "metadata": {
        "id": "Ju-eIbpLNBNx"
      },
      "execution_count": 53,
      "outputs": []
    },
    {
      "cell_type": "code",
      "source": [
        "c = C()"
      ],
      "metadata": {
        "colab": {
          "base_uri": "https://localhost:8080/"
        },
        "id": "hGeUQmTENEth",
        "outputId": "592ddd74-51c3-4bc2-b7fd-2196404a95b9"
      },
      "execution_count": 54,
      "outputs": [
        {
          "output_type": "stream",
          "name": "stdout",
          "text": [
            "started call init C\n",
            "started call init A\n",
            "started call init B\n",
            "ended call init B\n",
            "ended call init A\n",
            "ended call init C\n"
          ]
        }
      ]
    },
    {
      "cell_type": "code",
      "source": [
        "class A:\n",
        "    def __init__(self):\n",
        "        print(\"called init A\")\n",
        "\n",
        "class B:\n",
        "    def __init__(self):\n",
        "        print(\"called init B\")\n",
        "\n",
        "class C(A, B):\n",
        "    def __init__(self):\n",
        "        super().__init__()  # super(C.__mro__[0], self).__init__()\n",
        "        super(A, self).__init__()"
      ],
      "metadata": {
        "id": "0AvG62aBM32_"
      },
      "execution_count": 78,
      "outputs": []
    },
    {
      "cell_type": "code",
      "source": [
        "c = C()"
      ],
      "metadata": {
        "colab": {
          "base_uri": "https://localhost:8080/"
        },
        "id": "_v_DBwOTOAe2",
        "outputId": "bb7e8782-888c-4aa3-8461-8ec53a9bb5f8"
      },
      "execution_count": 79,
      "outputs": [
        {
          "output_type": "stream",
          "name": "stdout",
          "text": [
            "called init A\n",
            "called init B\n"
          ]
        }
      ]
    },
    {
      "cell_type": "markdown",
      "metadata": {
        "id": "o4hs7Hw2LzUe"
      },
      "source": [
        "# Семинар 11: декораторы и itertools"
      ]
    },
    {
      "cell_type": "markdown",
      "metadata": {
        "id": "SjP2a0DgLzUf"
      },
      "source": [
        "### Глава 1: декораторы"
      ]
    },
    {
      "cell_type": "code",
      "execution_count": 87,
      "metadata": {
        "id": "LhGBqHSqLzUg"
      },
      "outputs": [],
      "source": [
        "import typing as tp\n",
        "\n",
        "def uppercase(func: tp.Callable[[], str]) -> tp.Callable[[], str]:  # передаем функцию, которую будем оборачивать\n",
        "    def wrapper():\n",
        "        result = func()\n",
        "        return result.upper()\n",
        "    return wrapper # вернуть нужно функцию-обертку"
      ]
    },
    {
      "cell_type": "code",
      "execution_count": 88,
      "metadata": {
        "id": "9e2hKm36LzUh"
      },
      "outputs": [],
      "source": [
        "@uppercase\n",
        "def print_hello():\n",
        "    return \"hello world\""
      ]
    },
    {
      "cell_type": "code",
      "execution_count": 89,
      "metadata": {
        "colab": {
          "base_uri": "https://localhost:8080/",
          "height": 35
        },
        "id": "wnxSoSvaLzUh",
        "outputId": "a5564d39-9c89-4f6c-b542-88140891fbc5"
      },
      "outputs": [
        {
          "output_type": "execute_result",
          "data": {
            "text/plain": [
              "'HELLO WORLD'"
            ],
            "application/vnd.google.colaboratory.intrinsic+json": {
              "type": "string"
            }
          },
          "metadata": {},
          "execution_count": 89
        }
      ],
      "source": [
        "print_hello()"
      ]
    },
    {
      "cell_type": "code",
      "execution_count": 90,
      "metadata": {
        "id": "ytJw3wbFLzUh"
      },
      "outputs": [],
      "source": [
        "def invert_arguments(func):\n",
        "    def wrapper(*args):\n",
        "        result = func(*args[::-1])\n",
        "        return result\n",
        "    return wrapper"
      ]
    },
    {
      "cell_type": "code",
      "execution_count": 91,
      "metadata": {
        "id": "c05H6-SGLzUh"
      },
      "outputs": [],
      "source": [
        "@invert_arguments\n",
        "def print_hello(a, b, c):\n",
        "    print(a, b, c)"
      ]
    },
    {
      "cell_type": "code",
      "execution_count": 92,
      "metadata": {
        "colab": {
          "base_uri": "https://localhost:8080/"
        },
        "id": "1m_z_39rLzUi",
        "outputId": "6cf66829-5ce3-4c10-c498-fe5a62752fc3"
      },
      "outputs": [
        {
          "output_type": "stream",
          "name": "stdout",
          "text": [
            "3 2 1\n"
          ]
        }
      ],
      "source": [
        "print_hello(1, 2, 3)"
      ]
    },
    {
      "cell_type": "code",
      "execution_count": 103,
      "metadata": {
        "id": "iNF1bAvmLzUi"
      },
      "outputs": [],
      "source": [
        "def uppercase(func):  # передаем функцию, которую будем оборачивать\n",
        "    def wrapper(*args, **kwargs):\n",
        "        result = func(*args, **kwargs)\n",
        "        return result.upper()\n",
        "    return wrapper # вернуть нужно функцию-обертку"
      ]
    },
    {
      "cell_type": "code",
      "execution_count": 104,
      "metadata": {
        "id": "ly4OrpFcLzUi"
      },
      "outputs": [],
      "source": [
        "class A:\n",
        "    @uppercase\n",
        "    def __str__(self):\n",
        "        return 'some abstract class'\n",
        "\n",
        "    # __str__ = uppercase(__str__)"
      ]
    },
    {
      "cell_type": "code",
      "execution_count": 106,
      "metadata": {
        "colab": {
          "base_uri": "https://localhost:8080/"
        },
        "id": "uEu_edSxLzUi",
        "outputId": "bc9f7a6f-4b9e-457e-9de4-bfc6cae14f21"
      },
      "outputs": [
        {
          "output_type": "stream",
          "name": "stdout",
          "text": [
            "SOME ABSTRACT CLASS\n"
          ]
        }
      ],
      "source": [
        "a = A()\n",
        "print(a.__str__())\n",
        "# a.__str__() <=> A.__str__(a) <=> uppercase(A.__str__)(a) <=> wrapper(a)"
      ]
    },
    {
      "cell_type": "code",
      "execution_count": 113,
      "metadata": {
        "colab": {
          "base_uri": "https://localhost:8080/"
        },
        "id": "69VvyBygLzUj",
        "outputId": "18288128-c622-4f9a-8bd9-8f8d1e753654"
      },
      "outputs": [
        {
          "output_type": "stream",
          "name": "stdout",
          "text": [
            "SOME ABSTRACT CLASS\n"
          ]
        }
      ],
      "source": [
        "def uppercase(func):  # передаем функцию, которую будем оборачивать\n",
        "    def wrapper(*args, **kwargs):\n",
        "        result = func(*args, **kwargs)\n",
        "        return result.upper()\n",
        "    return wrapper # вернуть нужно функцию-обертку\n",
        "\n",
        "class A:\n",
        "    @uppercase\n",
        "    def __str__(self):\n",
        "        \"\"\"Converts object to str.\"\"\"\n",
        "        return 'some abstract class'\n",
        "\n",
        "a = A()\n",
        "print(a)  # будет ли этот декоратор работать с классами? если нет, то как поправить?"
      ]
    },
    {
      "cell_type": "code",
      "source": [
        "A.__str__.__name__"
      ],
      "metadata": {
        "colab": {
          "base_uri": "https://localhost:8080/",
          "height": 35
        },
        "id": "itYPwlaxRJoI",
        "outputId": "cb0f19bf-544a-417c-b327-ebfa5961875c"
      },
      "execution_count": 114,
      "outputs": [
        {
          "output_type": "execute_result",
          "data": {
            "text/plain": [
              "'wrapper'"
            ],
            "application/vnd.google.colaboratory.intrinsic+json": {
              "type": "string"
            }
          },
          "metadata": {},
          "execution_count": 114
        }
      ]
    },
    {
      "cell_type": "code",
      "source": [
        "A.__str__.__doc__"
      ],
      "metadata": {
        "id": "cYXK2ivORMgv"
      },
      "execution_count": 115,
      "outputs": []
    },
    {
      "cell_type": "code",
      "execution_count": 116,
      "metadata": {
        "colab": {
          "base_uri": "https://localhost:8080/",
          "height": 35
        },
        "id": "COM0IkC5LzUj",
        "outputId": "0a133070-4153-4a82-8894-473420310ffe"
      },
      "outputs": [
        {
          "output_type": "execute_result",
          "data": {
            "text/plain": [
              "'SOME ABSTRACT CLASS'"
            ],
            "application/vnd.google.colaboratory.intrinsic+json": {
              "type": "string"
            }
          },
          "metadata": {},
          "execution_count": 116
        }
      ],
      "source": [
        "A.__str__(a)"
      ]
    },
    {
      "cell_type": "code",
      "execution_count": 117,
      "metadata": {
        "colab": {
          "base_uri": "https://localhost:8080/",
          "height": 35
        },
        "id": "y0M7qNluLzUj",
        "outputId": "240273fc-5e0f-4fa8-f5de-ed208f799244"
      },
      "outputs": [
        {
          "output_type": "execute_result",
          "data": {
            "text/plain": [
              "'SOME ABSTRACT CLASS'"
            ],
            "application/vnd.google.colaboratory.intrinsic+json": {
              "type": "string"
            }
          },
          "metadata": {},
          "execution_count": 117
        }
      ],
      "source": [
        "a.__str__()"
      ]
    },
    {
      "cell_type": "markdown",
      "metadata": {
        "id": "lVEO0-amLzUj"
      },
      "source": [
        "При этом мы теряем метаданные о функции:"
      ]
    },
    {
      "cell_type": "code",
      "execution_count": 119,
      "metadata": {
        "id": "OdyL_jYVLzUj"
      },
      "outputs": [],
      "source": [
        "import functools\n",
        "\n",
        "\n",
        "def uppercase(func):\n",
        "    @functools.wraps(func)\n",
        "    def wrapper(*args, **kwargs):\n",
        "        result = func(*args, **kwargs)\n",
        "        return result.upper()\n",
        "    return wrapper\n",
        "\n",
        "class A:\n",
        "    @uppercase\n",
        "    def __str__(self):\n",
        "        \"\"\"Converts result to uppercase.\"\"\"\n",
        "        return 'some abstract class'"
      ]
    },
    {
      "cell_type": "code",
      "execution_count": 120,
      "metadata": {
        "colab": {
          "base_uri": "https://localhost:8080/",
          "height": 35
        },
        "id": "vqL-d1nrLzUk",
        "outputId": "94a9f534-c064-480f-9bd4-bd0f202ec282"
      },
      "outputs": [
        {
          "output_type": "execute_result",
          "data": {
            "text/plain": [
              "'__str__'"
            ],
            "application/vnd.google.colaboratory.intrinsic+json": {
              "type": "string"
            }
          },
          "metadata": {},
          "execution_count": 120
        }
      ],
      "source": [
        "A.__str__.__name__"
      ]
    },
    {
      "cell_type": "code",
      "execution_count": 121,
      "metadata": {
        "colab": {
          "base_uri": "https://localhost:8080/",
          "height": 35
        },
        "id": "JrvGKCU1LzUk",
        "outputId": "5ec899f6-3d42-4752-cd55-cbb62865faf1"
      },
      "outputs": [
        {
          "output_type": "execute_result",
          "data": {
            "text/plain": [
              "'Converts result to uppercase.'"
            ],
            "application/vnd.google.colaboratory.intrinsic+json": {
              "type": "string"
            }
          },
          "metadata": {},
          "execution_count": 121
        }
      ],
      "source": [
        "A.__str__.__doc__"
      ]
    },
    {
      "cell_type": "code",
      "source": [
        "def uppercase(func):\n",
        "    # @functools.wraps(func)\n",
        "    def wrapper(*args, **kwargs):\n",
        "        result = func(*args, **kwargs)\n",
        "        return result.upper()\n",
        "\n",
        "    # wrapper = functools.wraps(func)(wrapper)\n",
        "    wrapper.__name__ = func.__name__\n",
        "    wrapper.__doc__ = func.__doc__\n",
        "\n",
        "    return wrapper\n",
        "\n",
        "class A:\n",
        "    @uppercase\n",
        "    def __str__(self):\n",
        "        \"\"\"Converts result to uppercase.\"\"\"\n",
        "        return 'some abstract class'"
      ],
      "metadata": {
        "id": "fmtDon_DRS4J"
      },
      "execution_count": 122,
      "outputs": []
    },
    {
      "cell_type": "code",
      "source": [
        "print(A.__str__.__name__)\n",
        "print(A.__str__.__doc__)"
      ],
      "metadata": {
        "colab": {
          "base_uri": "https://localhost:8080/"
        },
        "id": "ZBAXJnhpRuE-",
        "outputId": "571102c1-06f8-42ea-f325-f61740671ef2"
      },
      "execution_count": 123,
      "outputs": [
        {
          "output_type": "stream",
          "name": "stdout",
          "text": [
            "__str__\n",
            "Converts result to uppercase.\n"
          ]
        }
      ]
    },
    {
      "cell_type": "code",
      "source": [
        "def wraps(func):\n",
        "    def decorator(decorated_func):\n",
        "        def inner(*args, **kwargs):\n",
        "            return decorated_func(*args, **kwargs)\n",
        "        inner.__name__ = func.__name__\n",
        "        inner.__doc__ = func.__doc__\n",
        "        return inner\n",
        "    return decorator\n",
        "\n",
        "def uppercase(func):\n",
        "    # @functools.wraps(func)\n",
        "    @wraps(func)\n",
        "    def wrapper(*args, **kwargs):\n",
        "        result = func(*args, **kwargs)\n",
        "        return result.upper()\n",
        "\n",
        "    # wrapper = functools.wraps(func)(wrapper)\n",
        "\n",
        "    # wrapper.__name__ = func.__name__\n",
        "    # wrapper.__doc__ = func.__doc__\n",
        "\n",
        "    return wrapper\n",
        "\n",
        "class A:\n",
        "    @uppercase\n",
        "    def __str__(self):\n",
        "        \"\"\"Converts result to uppercase.\"\"\"\n",
        "        return 'some abstract class'"
      ],
      "metadata": {
        "id": "25bUY6HQRzey"
      },
      "execution_count": 2,
      "outputs": []
    },
    {
      "cell_type": "code",
      "source": [
        "print(A.__str__.__name__)\n",
        "print(A.__str__.__doc__)"
      ],
      "metadata": {
        "colab": {
          "base_uri": "https://localhost:8080/"
        },
        "id": "UpcDh_iHSX6G",
        "outputId": "2c0d86cf-76c8-4f4a-ba56-29644c431976"
      },
      "execution_count": 3,
      "outputs": [
        {
          "output_type": "stream",
          "name": "stdout",
          "text": [
            "__str__\n",
            "Converts result to uppercase.\n"
          ]
        }
      ]
    },
    {
      "cell_type": "markdown",
      "metadata": {
        "id": "TJHBGQnOLzUk"
      },
      "source": [
        "Для чего в реальной жизни удобно использовать декоратор?\n",
        "\n",
        "Например, замерять суммарное время работы функций"
      ]
    },
    {
      "cell_type": "code",
      "execution_count": 4,
      "metadata": {
        "id": "X_aPJ1U3LzUk"
      },
      "outputs": [],
      "source": [
        "import functools\n",
        "import time\n",
        "\n",
        "\n",
        "def use_timer(result_struct: dict):\n",
        "    def decorator(func):\n",
        "        @wraps(func)\n",
        "        def wrapper(*args, **kwargs):\n",
        "            start = time.time()\n",
        "            result = func(*args, **kwargs)\n",
        "            elapsed_time = time.time() - start\n",
        "\n",
        "            result_struct.setdefault(func.__name__, 0)\n",
        "            result_struct[func.__name__] += elapsed_time\n",
        "\n",
        "            return result\n",
        "\n",
        "        return wrapper\n",
        "    return decorator\n",
        "\n",
        "\n",
        "class Worker:\n",
        "    times = {}\n",
        "\n",
        "    @use_timer(times)\n",
        "    def do_light(self):\n",
        "        for _ in range(10000):\n",
        "            ...\n",
        "\n",
        "    @use_timer(times)\n",
        "    def do_medium(self):\n",
        "        for _ in range(100000):\n",
        "            ...\n",
        "\n",
        "    @use_timer(times)\n",
        "    def do_hard(self):\n",
        "        for _ in range(1000000):\n",
        "            ..."
      ]
    },
    {
      "cell_type": "code",
      "execution_count": 5,
      "metadata": {
        "id": "DhhrIaAYLzUl"
      },
      "outputs": [],
      "source": [
        "w = Worker()\n",
        "\n",
        "for _ in range(100):\n",
        "    w.do_light()\n",
        "    w.do_medium()\n",
        "    w.do_hard()"
      ]
    },
    {
      "cell_type": "code",
      "execution_count": 6,
      "metadata": {
        "colab": {
          "base_uri": "https://localhost:8080/"
        },
        "id": "J_Ux8p3KLzUl",
        "outputId": "1d43b39e-4e84-4fc5-a94c-37986ce632f4"
      },
      "outputs": [
        {
          "output_type": "execute_result",
          "data": {
            "text/plain": [
              "{'do_light': 0.025069713592529297,\n",
              " 'do_medium': 0.2478482723236084,\n",
              " 'do_hard': 2.4894704818725586}"
            ]
          },
          "metadata": {},
          "execution_count": 6
        }
      ],
      "source": [
        "w.times"
      ]
    },
    {
      "cell_type": "code",
      "source": [
        "w.do_hard.__name__"
      ],
      "metadata": {
        "colab": {
          "base_uri": "https://localhost:8080/",
          "height": 35
        },
        "id": "eGgQQ_5CTLNY",
        "outputId": "1653fad2-e46b-4b0f-e7d7-6d4698bfe4ce"
      },
      "execution_count": 7,
      "outputs": [
        {
          "output_type": "execute_result",
          "data": {
            "text/plain": [
              "'do_hard'"
            ],
            "application/vnd.google.colaboratory.intrinsic+json": {
              "type": "string"
            }
          },
          "metadata": {},
          "execution_count": 7
        }
      ]
    },
    {
      "cell_type": "markdown",
      "metadata": {
        "id": "H0hEneqJLzUl"
      },
      "source": [
        "Декорировать можно также и классы"
      ]
    },
    {
      "cell_type": "code",
      "execution_count": 34,
      "metadata": {
        "id": "NDYLy-KJLzUl"
      },
      "outputs": [],
      "source": [
        "from functools import wraps\n",
        "from dataclasses import dataclass\n",
        "from uuid import uuid4\n",
        "\n",
        "\n",
        "def add_id(_class):\n",
        "    # @wraps(_class)\n",
        "    class WithID(_class):\n",
        "        def __init__(self, *args, **kwargs):\n",
        "            super().__init__(*args, **kwargs)\n",
        "            self.__id = str(uuid4())\n",
        "\n",
        "        @classmethod\n",
        "        def __name__(cls):\n",
        "            return _class.__name__\n",
        "\n",
        "        def __str__(self):\n",
        "            return super().__str__()\n",
        "\n",
        "        def __repr__(self):\n",
        "            return super().__repr__()\n",
        "\n",
        "        def get_id(self):\n",
        "            return self.__id\n",
        "\n",
        "    return WithID\n",
        "\n",
        "\n",
        "@add_id\n",
        "@dataclass\n",
        "class Person:\n",
        "    name: str\n",
        "    email: str\n",
        "\n",
        "# Person = add_id(dataclass(Person))"
      ]
    },
    {
      "cell_type": "code",
      "execution_count": 35,
      "metadata": {
        "colab": {
          "base_uri": "https://localhost:8080/"
        },
        "id": "SwtJaA0HLzUm",
        "outputId": "dd0a61dc-e3c6-43cd-b496-329db7775bd1"
      },
      "outputs": [
        {
          "output_type": "stream",
          "name": "stdout",
          "text": [
            "dafc7b0e-cf3a-44f1-ab12-36347b9781a5\n"
          ]
        }
      ],
      "source": [
        "p = Person(name=\"John\", email=\"john@hse.ru\")\n",
        "print(p.get_id())"
      ]
    },
    {
      "cell_type": "code",
      "source": [
        "p"
      ],
      "metadata": {
        "colab": {
          "base_uri": "https://localhost:8080/"
        },
        "id": "N2VoPZBoUSm5",
        "outputId": "b049b25f-e7b3-4a2f-f3d7-feaaafbab96f"
      },
      "execution_count": 36,
      "outputs": [
        {
          "output_type": "execute_result",
          "data": {
            "text/plain": [
              "add_id.<locals>.WithID(name='John', email='john@hse.ru')"
            ]
          },
          "metadata": {},
          "execution_count": 36
        }
      ]
    },
    {
      "cell_type": "markdown",
      "metadata": {
        "id": "JsCDv8aPLzUm"
      },
      "source": [
        "Стоит учесть, что порядок декораторов важен!! Попробуйте поменять dataclass и add_id местами.\n",
        "\n",
        "Можно еще подменять функции по ссылкам:"
      ]
    },
    {
      "cell_type": "code",
      "execution_count": 40,
      "metadata": {
        "id": "vvB_cWIuLzUm"
      },
      "outputs": [],
      "source": [
        "from dataclasses import dataclass\n",
        "from uuid import uuid4\n",
        "\n",
        "\n",
        "def add_id(_class):\n",
        "    original_init = _class.__init__\n",
        "\n",
        "    def __init__(self, *args, **kargs):\n",
        "        original_init(self, *args, **kargs)\n",
        "        self.id = str(uuid4())\n",
        "\n",
        "    _class.__init__ = __init__\n",
        "    return _class\n",
        "\n",
        "\n",
        "@add_id\n",
        "@dataclass\n",
        "class Person:\n",
        "    name: str\n",
        "    email: str"
      ]
    },
    {
      "cell_type": "code",
      "execution_count": 41,
      "metadata": {
        "colab": {
          "base_uri": "https://localhost:8080/"
        },
        "id": "N5njezFSLzUn",
        "outputId": "2b48e52f-bd95-4a44-b107-4ce0e0908417"
      },
      "outputs": [
        {
          "output_type": "stream",
          "name": "stdout",
          "text": [
            "f60fc088-3de9-417d-a3f9-bc2fc9a5a544\n"
          ]
        }
      ],
      "source": [
        "p = Person(name=\"John\", email=\"john@hse.ru\")\n",
        "print(p.id)"
      ]
    },
    {
      "cell_type": "code",
      "source": [
        "p"
      ],
      "metadata": {
        "colab": {
          "base_uri": "https://localhost:8080/"
        },
        "id": "5bqBjr2OVh2Y",
        "outputId": "f5fdfa20-843d-4eb3-96e0-c277ae025690"
      },
      "execution_count": 42,
      "outputs": [
        {
          "output_type": "execute_result",
          "data": {
            "text/plain": [
              "Person(name='John', email='john@hse.ru')"
            ]
          },
          "metadata": {},
          "execution_count": 42
        }
      ]
    },
    {
      "cell_type": "markdown",
      "metadata": {
        "id": "T7KemszPLzUn"
      },
      "source": [
        "### Глава 2: itertools"
      ]
    },
    {
      "cell_type": "code",
      "execution_count": 43,
      "metadata": {
        "colab": {
          "base_uri": "https://localhost:8080/"
        },
        "id": "ZJxx61j1LzUn",
        "outputId": "b1afcda2-58ed-4aa9-c8d5-7d9ff9c79f4f"
      },
      "outputs": [
        {
          "output_type": "execute_result",
          "data": {
            "text/plain": [
              "[1, 4, 36]"
            ]
          },
          "metadata": {},
          "execution_count": 43
        }
      ],
      "source": [
        "a = [1, -1, 6, 3, -2, 0, -6]\n",
        "\n",
        "list(map(lambda x: x ** 2, filter(lambda x: x < 0, a)))"
      ]
    },
    {
      "cell_type": "code",
      "execution_count": 48,
      "metadata": {
        "colab": {
          "base_uri": "https://localhost:8080/"
        },
        "id": "rwQkDV1LLzUn",
        "outputId": "fe25a87b-b30c-4c99-b46a-b25123290338"
      },
      "outputs": [
        {
          "output_type": "execute_result",
          "data": {
            "text/plain": [
              "21"
            ]
          },
          "metadata": {},
          "execution_count": 48
        }
      ],
      "source": [
        "from functools import reduce\n",
        "\n",
        "a = [1, 7, 3, 2, 5, 3]\n",
        "\n",
        "reduce(lambda x, y: x + y, a, 0)"
      ]
    },
    {
      "cell_type": "code",
      "execution_count": 50,
      "metadata": {
        "colab": {
          "base_uri": "https://localhost:8080/",
          "height": 35
        },
        "id": "0CnQivH6LzUn",
        "outputId": "d2d25062-80dd-4156-9b1b-e7ce8de30e86"
      },
      "outputs": [
        {
          "output_type": "execute_result",
          "data": {
            "text/plain": [
              "'abccde'"
            ],
            "application/vnd.google.colaboratory.intrinsic+json": {
              "type": "string"
            }
          },
          "metadata": {},
          "execution_count": 50
        }
      ],
      "source": [
        "a = [\"\", \"\", \"\", \"abc\", \"\", \"cde\"]\n",
        "\n",
        "reduce(lambda x, y: x + y, a)"
      ]
    },
    {
      "cell_type": "code",
      "execution_count": 51,
      "metadata": {
        "id": "LobhyH35LzUn"
      },
      "outputs": [],
      "source": [
        "import itertools"
      ]
    },
    {
      "cell_type": "code",
      "execution_count": 52,
      "metadata": {
        "colab": {
          "base_uri": "https://localhost:8080/"
        },
        "id": "b9U5Zg-FLzUn",
        "outputId": "47afb9d7-2162-4a2d-97ab-389ff31d22b5"
      },
      "outputs": [
        {
          "output_type": "execute_result",
          "data": {
            "text/plain": [
              "[1, 8, 11, 13, 18, 21]"
            ]
          },
          "metadata": {},
          "execution_count": 52
        }
      ],
      "source": [
        "a = [1, 7, 3, 2, 5, 3]\n",
        "list(itertools.accumulate(a))  # это как reduce с промежуточными значениями"
      ]
    },
    {
      "cell_type": "code",
      "source": [
        "a = [\"\", \"\", \"\", \"abc\", \"\", \"cde\"]\n",
        "list(itertools.accumulate(a))  # это как reduce с промежуточными значениями"
      ],
      "metadata": {
        "colab": {
          "base_uri": "https://localhost:8080/"
        },
        "id": "xnRFjoy8WUrm",
        "outputId": "cadb2926-f1f9-4f97-f421-ebf3c14fa1da"
      },
      "execution_count": 53,
      "outputs": [
        {
          "output_type": "execute_result",
          "data": {
            "text/plain": [
              "['', '', '', 'abc', 'abc', 'abccde']"
            ]
          },
          "metadata": {},
          "execution_count": 53
        }
      ]
    },
    {
      "cell_type": "code",
      "execution_count": 54,
      "metadata": {
        "colab": {
          "base_uri": "https://localhost:8080/"
        },
        "id": "r3vXrAx0LzUn",
        "outputId": "67bc4bcd-8ae5-41a5-9998-8bb678c7ec04"
      },
      "outputs": [
        {
          "output_type": "stream",
          "name": "stdout",
          "text": [
            "1\n",
            "2\n",
            "3\n",
            "abc\n",
            "cde\n",
            "(1, 2)\n",
            "(3, 4)\n"
          ]
        }
      ],
      "source": [
        "a = [1, 2, 3]\n",
        "b = [\"abc\", \"cde\"]\n",
        "c = [(1, 2), (3, 4)]\n",
        "\n",
        "for x in itertools.chain(a, b, c):\n",
        "    print(x)"
      ]
    },
    {
      "cell_type": "code",
      "execution_count": 55,
      "metadata": {
        "colab": {
          "base_uri": "https://localhost:8080/"
        },
        "id": "mENjd7-QLzUo",
        "outputId": "fc1d882a-e5f0-4e98-b738-84a990701eab"
      },
      "outputs": [
        {
          "output_type": "stream",
          "name": "stdout",
          "text": [
            "a\n",
            "b\n",
            "c\n",
            "c\n",
            "d\n",
            "e\n"
          ]
        }
      ],
      "source": [
        "a = [\"abc\", \"cde\"]\n",
        "\n",
        "for x in itertools.chain.from_iterable(a):\n",
        "    print(x)"
      ]
    },
    {
      "cell_type": "code",
      "source": [
        "a = \"abcdef\"\n",
        "mask = [1, 0, 1, 1, 0, 0]\n",
        "\n",
        "\"\".join([a[i] for i in range(len(a)) if mask[i] == 1])"
      ],
      "metadata": {
        "colab": {
          "base_uri": "https://localhost:8080/",
          "height": 35
        },
        "id": "ebZj4VisWrLe",
        "outputId": "fe010ade-9ca2-4236-d8b6-c5ad992fcff2"
      },
      "execution_count": 57,
      "outputs": [
        {
          "output_type": "execute_result",
          "data": {
            "text/plain": [
              "'acd'"
            ],
            "application/vnd.google.colaboratory.intrinsic+json": {
              "type": "string"
            }
          },
          "metadata": {},
          "execution_count": 57
        }
      ]
    },
    {
      "cell_type": "code",
      "execution_count": 56,
      "metadata": {
        "colab": {
          "base_uri": "https://localhost:8080/",
          "height": 35
        },
        "id": "O8uvIScbLzUo",
        "outputId": "f59b53dc-ed5e-435e-ab7a-bb1ac541c8eb"
      },
      "outputs": [
        {
          "output_type": "execute_result",
          "data": {
            "text/plain": [
              "'acd'"
            ],
            "application/vnd.google.colaboratory.intrinsic+json": {
              "type": "string"
            }
          },
          "metadata": {},
          "execution_count": 56
        }
      ],
      "source": [
        "a = \"abcdef\"\n",
        "\n",
        "\"\".join(itertools.compress(a, [1, 0, 1, 1, 0, 0]))"
      ]
    },
    {
      "cell_type": "code",
      "execution_count": 28,
      "metadata": {
        "colab": {
          "base_uri": "https://localhost:8080/"
        },
        "id": "gVUs_6ObLzUo",
        "outputId": "3f1a50be-8129-473f-c6fa-e8f5b35f61d1"
      },
      "outputs": [
        {
          "output_type": "execute_result",
          "data": {
            "text/plain": [
              "[6, 2, 1, -2, -1]"
            ]
          },
          "metadata": {},
          "execution_count": 28
        }
      ],
      "source": [
        "a = [-1, -2, -3, 6, 2, 1, -2, -1]\n",
        "\n",
        "list(itertools.dropwhile(lambda x: x < 0, a))"
      ]
    },
    {
      "cell_type": "code",
      "source": [
        "a = [-1, -2, -3, 6, 2, 1, -2, -1]\n",
        "cond = lambda x: x < 0\n",
        "\n",
        "while len(a):\n",
        "    if cond(a[0]):\n",
        "        a = a[1:]\n",
        "    else:\n",
        "        break\n",
        "\n",
        "a"
      ],
      "metadata": {
        "colab": {
          "base_uri": "https://localhost:8080/"
        },
        "id": "JCn3QqY2W-R0",
        "outputId": "538cb7fe-c503-4636-ab84-29555e9b60a0"
      },
      "execution_count": 58,
      "outputs": [
        {
          "output_type": "execute_result",
          "data": {
            "text/plain": [
              "[6, 2, 1, -2, -1]"
            ]
          },
          "metadata": {},
          "execution_count": 58
        }
      ]
    },
    {
      "cell_type": "code",
      "execution_count": 59,
      "metadata": {
        "colab": {
          "base_uri": "https://localhost:8080/"
        },
        "id": "xIkm9I72LzUo",
        "outputId": "8c43ec1b-97d6-4383-816c-292e3d6070ee"
      },
      "outputs": [
        {
          "output_type": "execute_result",
          "data": {
            "text/plain": [
              "[]"
            ]
          },
          "metadata": {},
          "execution_count": 59
        }
      ],
      "source": [
        "list(itertools.takewhile(lambda x: x < 0, a))"
      ]
    },
    {
      "cell_type": "code",
      "execution_count": 60,
      "metadata": {
        "colab": {
          "base_uri": "https://localhost:8080/"
        },
        "id": "04nf8BfqLzUo",
        "outputId": "5b1c7d8e-454e-48ac-fd9a-6bdc631c6403"
      },
      "outputs": [
        {
          "output_type": "execute_result",
          "data": {
            "text/plain": [
              "[1, 6, 3, 0]"
            ]
          },
          "metadata": {},
          "execution_count": 60
        }
      ],
      "source": [
        "a = [1, -1, 6, 3, -2, 0, -6]\n",
        "\n",
        "list(itertools.filterfalse(lambda x: x < 0, a))"
      ]
    },
    {
      "cell_type": "code",
      "source": [
        "[x for x in a if not x < 0]"
      ],
      "metadata": {
        "colab": {
          "base_uri": "https://localhost:8080/"
        },
        "id": "u3BcSLfaXVRj",
        "outputId": "dacef63f-233f-4b89-90c9-e5c9000b1a53"
      },
      "execution_count": 62,
      "outputs": [
        {
          "output_type": "execute_result",
          "data": {
            "text/plain": [
              "[1, 6, 3, 0]"
            ]
          },
          "metadata": {},
          "execution_count": 62
        }
      ]
    },
    {
      "cell_type": "markdown",
      "metadata": {
        "id": "CFE0ZUrcLzUo"
      },
      "source": [
        "Пусть есть задача: надо сделать из строки вида \"ABBBCC\" строку вида \"1A3B2C\""
      ]
    },
    {
      "cell_type": "code",
      "execution_count": 63,
      "metadata": {
        "colab": {
          "base_uri": "https://localhost:8080/"
        },
        "id": "l8ow0fEVLzUp",
        "outputId": "d18d9c64-6996-435b-c292-067c6cf1cb96"
      },
      "outputs": [
        {
          "output_type": "stream",
          "name": "stdout",
          "text": [
            "2 | 2 -2 2 -2\n",
            "1 | 1 -1 -1\n",
            "2 | 2 -2 2 -2\n",
            "0 | 0\n",
            "2 | 2\n",
            "1 | 1\n"
          ]
        }
      ],
      "source": [
        "a = [2, -2, 2, -2, 1, -1, -1, 2, -2, 2, -2, 0, 2, 1]\n",
        "\n",
        "for elem, group in itertools.groupby(a, key=abs):\n",
        "    print(elem, \"|\", *group)"
      ]
    },
    {
      "cell_type": "code",
      "execution_count": 64,
      "metadata": {
        "colab": {
          "base_uri": "https://localhost:8080/"
        },
        "id": "eR6rrO52LzUp",
        "outputId": "6635b4e4-f8c8-40cd-a46d-6eb5c8955351"
      },
      "outputs": [
        {
          "output_type": "stream",
          "name": "stdout",
          "text": [
            "ABBBCC\n",
            "1A3B2C\n"
          ]
        }
      ],
      "source": [
        "s = input()\n",
        "\n",
        "# print(list(itertools.groupby(s)))\n",
        "\n",
        "# for elem, group in itertools.groupby(s):\n",
        "#     print(elem, *group)\n",
        "\n",
        "print(\n",
        "    \"\".join(\n",
        "        f\"{len(list(group))}{symbol}\"\n",
        "        for symbol, group in itertools.groupby(s)\n",
        "    ),\n",
        ")"
      ]
    },
    {
      "cell_type": "code",
      "execution_count": 65,
      "metadata": {
        "colab": {
          "base_uri": "https://localhost:8080/"
        },
        "id": "u7_wI9sgLzUp",
        "outputId": "ce50da2b-a24c-4e49-c34a-327681757f04"
      },
      "outputs": [
        {
          "output_type": "stream",
          "name": "stdout",
          "text": [
            "2\n",
            "4\n"
          ]
        }
      ],
      "source": [
        "a = [1, 2, 3, 4, 5, 6, 7]\n",
        "\n",
        "# a[1:5:2]\n",
        "for x in itertools.islice(a, 1, 5, 2):  # аналог среза только без создания массива нового\n",
        "    print(x)"
      ]
    },
    {
      "cell_type": "code",
      "execution_count": 66,
      "metadata": {
        "colab": {
          "base_uri": "https://localhost:8080/"
        },
        "id": "GPaBMQUILzUp",
        "outputId": "64027a90-3da2-4be9-dc60-a6d9af809f42"
      },
      "outputs": [
        {
          "output_type": "stream",
          "name": "stdout",
          "text": [
            "('A', 'T')\n",
            "('T', 'G')\n",
            "('G', 'C')\n"
          ]
        }
      ],
      "source": [
        "a = [\"A\", \"T\", \"G\", \"C\"]\n",
        "\n",
        "for x in itertools.pairwise(a):\n",
        "    print(x)"
      ]
    },
    {
      "cell_type": "code",
      "execution_count": 69,
      "metadata": {
        "colab": {
          "base_uri": "https://localhost:8080/"
        },
        "id": "HdlQ17jpLzUp",
        "outputId": "62c5245b-c977-44e5-e459-a88229e6ed09"
      },
      "outputs": [
        {
          "output_type": "stream",
          "name": "stdout",
          "text": [
            "7 2 3\n"
          ]
        }
      ],
      "source": [
        "from operator import itemgetter\n",
        "\n",
        "a = [6, 3, 7, 1, 2, 3]\n",
        "\n",
        "print(*map(itemgetter(1), filter(lambda x: x[1] > x[0], itertools.pairwise(a))))"
      ]
    },
    {
      "cell_type": "code",
      "execution_count": 70,
      "metadata": {
        "colab": {
          "base_uri": "https://localhost:8080/"
        },
        "id": "wgYyfDNTLzUp",
        "outputId": "d73b37a4-20c4-4419-f687-65decb20117b"
      },
      "outputs": [
        {
          "output_type": "execute_result",
          "data": {
            "text/plain": [
              "[32, 9, 1000]"
            ]
          },
          "metadata": {},
          "execution_count": 70
        }
      ],
      "source": [
        "list(itertools.starmap(pow, [(2, 5), (3, 2), (10, 3)])) #  func(*seq[0]), func(*seq[1]) и тд"
      ]
    },
    {
      "cell_type": "code",
      "execution_count": 71,
      "metadata": {
        "colab": {
          "base_uri": "https://localhost:8080/"
        },
        "id": "Vq4XJe_iLzUp",
        "outputId": "e9090e1d-1c62-443a-a05e-8c43a27272e9"
      },
      "outputs": [
        {
          "output_type": "stream",
          "name": "stdout",
          "text": [
            "[('A', 'T'), ('A', 'G'), ('A', 'C'), ('T', 'G'), ('T', 'C'), ('G', 'C')]\n"
          ]
        }
      ],
      "source": [
        "a = [\"A\", \"T\", \"G\", \"C\"]\n",
        "b = [1, 2, 3, 4]\n",
        "\n",
        "print(list(itertools.combinations(a, 2)))"
      ]
    },
    {
      "cell_type": "code",
      "execution_count": 72,
      "metadata": {
        "colab": {
          "base_uri": "https://localhost:8080/"
        },
        "id": "OzNoipUrLzUq",
        "outputId": "7caf0755-1e8f-40ca-f033-4db3e7abb870"
      },
      "outputs": [
        {
          "output_type": "stream",
          "name": "stdout",
          "text": [
            "[('A', 1), ('A', 2), ('A', 3), ('A', 4), ('T', 1), ('T', 2), ('T', 3), ('T', 4), ('G', 1), ('G', 2), ('G', 3), ('G', 4), ('C', 1), ('C', 2), ('C', 3), ('C', 4)]\n"
          ]
        }
      ],
      "source": [
        "print(list(itertools.product(a, b)))"
      ]
    },
    {
      "cell_type": "code",
      "execution_count": 73,
      "metadata": {
        "colab": {
          "base_uri": "https://localhost:8080/"
        },
        "id": "0PoS7eqkLzUq",
        "outputId": "f2549166-225e-4573-f21d-83297add6dd6"
      },
      "outputs": [
        {
          "output_type": "stream",
          "name": "stdout",
          "text": [
            "[('A', 'T', 'G', 'C'), ('A', 'T', 'C', 'G'), ('A', 'G', 'T', 'C'), ('A', 'G', 'C', 'T'), ('A', 'C', 'T', 'G'), ('A', 'C', 'G', 'T'), ('T', 'A', 'G', 'C'), ('T', 'A', 'C', 'G'), ('T', 'G', 'A', 'C'), ('T', 'G', 'C', 'A'), ('T', 'C', 'A', 'G'), ('T', 'C', 'G', 'A'), ('G', 'A', 'T', 'C'), ('G', 'A', 'C', 'T'), ('G', 'T', 'A', 'C'), ('G', 'T', 'C', 'A'), ('G', 'C', 'A', 'T'), ('G', 'C', 'T', 'A'), ('C', 'A', 'T', 'G'), ('C', 'A', 'G', 'T'), ('C', 'T', 'A', 'G'), ('C', 'T', 'G', 'A'), ('C', 'G', 'A', 'T'), ('C', 'G', 'T', 'A')]\n"
          ]
        }
      ],
      "source": [
        "print(list(itertools.permutations(a)))"
      ]
    },
    {
      "cell_type": "code",
      "execution_count": 74,
      "metadata": {
        "colab": {
          "base_uri": "https://localhost:8080/"
        },
        "id": "xsXnxiHwLzUq",
        "outputId": "be2cee8f-404f-4707-ab3b-6ba8d24f8915"
      },
      "outputs": [
        {
          "output_type": "stream",
          "name": "stdout",
          "text": [
            "A\n",
            "T\n",
            "G\n",
            "C\n",
            "A\n",
            "T\n",
            "G\n"
          ]
        }
      ],
      "source": [
        "a = [\"A\", \"T\", \"G\", \"C\"]\n",
        "\n",
        "iter = itertools.cycle(a)\n",
        "\n",
        "print(next(iter))\n",
        "print(next(iter))\n",
        "print(next(iter))\n",
        "print(next(iter))\n",
        "print(next(iter))\n",
        "print(next(iter))\n",
        "print(next(iter))"
      ]
    },
    {
      "cell_type": "markdown",
      "metadata": {
        "id": "wq1TuehVLzUq"
      },
      "source": [
        "### Зачем нужны itertools"
      ]
    },
    {
      "cell_type": "markdown",
      "metadata": {
        "id": "sA2c8wWXLzUq"
      },
      "source": [
        "1) Можно сделать свой спиннер"
      ]
    },
    {
      "cell_type": "code",
      "execution_count": 41,
      "metadata": {
        "colab": {
          "base_uri": "https://localhost:8080/"
        },
        "id": "K7mOJgzNLzUq",
        "outputId": "c9ea57d9-2dcc-4585-8682-719248361886"
      },
      "outputs": [
        {
          "output_type": "stream",
          "name": "stdout",
          "text": [
            "Please wait... /\n"
          ]
        }
      ],
      "source": [
        "import itertools\n",
        "import sys\n",
        "import time\n",
        "\n",
        "def spinner(seconds):\n",
        "    symbols = itertools.cycle('-|/')\n",
        "    tend = time.time() + seconds\n",
        "    while time.time() < tend:\n",
        "        sys.stdout.write('\\rPlease wait... ' + next(symbols)) # no newline\n",
        "        sys.stdout.flush()\n",
        "        time.sleep(0.1)\n",
        "    print()\n",
        "\n",
        "if __name__ == \"__main__\":\n",
        "    spinner(3)"
      ]
    },
    {
      "cell_type": "markdown",
      "metadata": {
        "id": "8tJuYDhCLzUq"
      },
      "source": [
        "2) Быстро погруппировать словарь по значениям"
      ]
    },
    {
      "cell_type": "code",
      "execution_count": 42,
      "metadata": {
        "colab": {
          "base_uri": "https://localhost:8080/"
        },
        "id": "CH5ntdvcLzUq",
        "outputId": "67edd205-2bb1-44c8-ef0e-d05950be5813"
      },
      "outputs": [
        {
          "output_type": "stream",
          "name": "stdout",
          "text": [
            "1 : a d\n",
            "2 : b e\n",
            "3 : c f\n"
          ]
        }
      ],
      "source": [
        "from operator import itemgetter\n",
        "\n",
        "\n",
        "d = {\n",
        "    \"a\": 1,\n",
        "    \"b\": 2,\n",
        "    \"c\": 3,\n",
        "    \"d\": 1,\n",
        "    \"e\": 2,\n",
        "    \"f\": 3,\n",
        "}\n",
        "\n",
        "for value, items in itertools.groupby(sorted(d.items(), key=itemgetter(1)), key=itemgetter(1)):\n",
        "    print(value, \":\", *map(itemgetter(0), items))"
      ]
    },
    {
      "cell_type": "markdown",
      "metadata": {
        "id": "e89mFcvmLzUq"
      },
      "source": [
        "3) Выбрать из списка чисел пару (тройку, четверку) с наибольшим произведением"
      ]
    },
    {
      "cell_type": "code",
      "execution_count": null,
      "metadata": {
        "id": "rh3biWAnLzUq"
      },
      "outputs": [],
      "source": [
        "import functools\n",
        "\n",
        "a = list(map(int, input().split()))\n",
        "n = int(input())\n",
        "\n",
        "print(\n",
        "    max(\n",
        "        itertools.combinations(a, n),\n",
        "        key=functools.partial(functools.reduce, lambda x, y: x * y),\n",
        "    )\n",
        ")"
      ]
    },
    {
      "cell_type": "markdown",
      "metadata": {
        "id": "E1lCkVrBLzUq"
      },
      "source": [
        "### Что дальше?\n",
        "\n",
        "1) Есть еще more-itertools, предоставляющие уйму других возможностей: https://more-itertools.readthedocs.io/en/stable/\n",
        "2) Замечательная статья как упарываться декораторами и итераторами: https://www.bbayles.com/index/decorator_factory\n",
        "3) https://pydash.readthedocs.io/en/latest/"
      ]
    },
    {
      "cell_type": "code",
      "execution_count": null,
      "metadata": {
        "id": "ozOjJ45NLzUr"
      },
      "outputs": [],
      "source": []
    }
  ],
  "metadata": {
    "kernelspec": {
      "display_name": "Python 3.10.8 64-bit",
      "language": "python",
      "name": "python3"
    },
    "language_info": {
      "codemirror_mode": {
        "name": "ipython",
        "version": 3
      },
      "file_extension": ".py",
      "mimetype": "text/x-python",
      "name": "python",
      "nbconvert_exporter": "python",
      "pygments_lexer": "ipython3",
      "version": "3.10.8"
    },
    "orig_nbformat": 4,
    "vscode": {
      "interpreter": {
        "hash": "6ecdebf77f2ee3a47348d003f751c63e810ca996c1c68d1179f338200fa83b34"
      }
    },
    "colab": {
      "provenance": []
    }
  },
  "nbformat": 4,
  "nbformat_minor": 0
}