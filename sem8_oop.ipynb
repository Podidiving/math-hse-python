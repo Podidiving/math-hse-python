{
  "cells": [
    {
      "cell_type": "markdown",
      "metadata": {
        "id": "JBkZeOHuA9B4"
      },
      "source": [
        "# Семинар 8: ООП\n",
        "\n",
        "Объектно ориентированное программирование на самом деле это по факту 4 принципа:\n",
        "* **Abstraction** -- создавания классы мы меняем уровень абстракции, моделируем поведение класса и логику взаимодестсвия сущностей.\n",
        "* **Наследование** -- нет смысла дублировать код, если можно выделить его в общего родителя для классов. Таким образом мы создаем новые абстракции на основе существующих.\n",
        "* **Encapsulation** -- инкапсуляция, иными словами, скрытие внутри класса того, что не нужно явно использовать при работе с ним. Оставляем только публичный интерфейс работы с ним.\n",
        "* **Polymorphism** -- разные классы могут реализовать разную логику одного и того же интерфейса.\n",
        "\n",
        "Давайте напишем, например, свой класс комплексных чисел:"
      ]
    },
    {
      "cell_type": "code",
      "source": [
        "from typing import Union\n",
        "\n",
        "\n",
        "class Complex:\n",
        "    def __init__(self, re: Union[int, float] = 0, im: Union[int, float] = 0):\n",
        "        self.re = re\n",
        "        self.im = im\n",
        "\n",
        "    def __repr__(self) -> str:\n",
        "        return f\"Complex({self.re}, {self.im})\"\n",
        "\n",
        "    def __str__(self) -> str:\n",
        "        if not self.re and not self.im:\n",
        "            return \"0\"\n",
        "\n",
        "        str_re = str(self.re) if self.re else \"\"\n",
        "        str_im = str(abs(self.im)) if abs(self.im) not in (0, 1) else \"\"\n",
        "        i_sign = \"i\" if self.im else \"\"\n",
        "\n",
        "        if self.im < 0:\n",
        "            operator = \"-\"\n",
        "        elif self.im > 0 and self.re:\n",
        "            operator = \"+\"\n",
        "        else:\n",
        "            operator = \"\"\n",
        "\n",
        "        return str_re + operator + str_im + i_sign"
      ],
      "metadata": {
        "id": "Bbjcm1KbDrBr"
      },
      "execution_count": 14,
      "outputs": []
    },
    {
      "cell_type": "code",
      "execution_count": 17,
      "metadata": {
        "id": "4n9K3hbQA9B7"
      },
      "outputs": [],
      "source": [
        "a = Complex(0, 5)\n",
        "b = Complex(8, -1)"
      ]
    },
    {
      "cell_type": "markdown",
      "metadata": {
        "id": "omYjE-oZA9B7"
      },
      "source": [
        "Теперь добавим возможность складывать наши числа и умножать:"
      ]
    },
    {
      "cell_type": "code",
      "execution_count": 23,
      "metadata": {
        "id": "QCSM7GLEA9B8"
      },
      "outputs": [],
      "source": [
        "class Complex:\n",
        "    def __init__(self, re: Union[int, float] = 0, im: Union[int, float] = 0):\n",
        "        self.re = re\n",
        "        self.im = im\n",
        "\n",
        "    def __str__(self) -> str:\n",
        "        if not self.re and not self.im:\n",
        "            return \"0\"\n",
        "\n",
        "        str_re = str(self.re) if self.re else \"\"\n",
        "        str_im = str(abs(self.im)) if abs(self.im) not in (0, 1) else \"\"\n",
        "        i_sign = \"i\" if self.im else \"\"\n",
        "\n",
        "        if self.im < 0:\n",
        "            operator = \"-\"\n",
        "        elif self.im > 0 and self.re:\n",
        "            operator = \"+\"\n",
        "        else:\n",
        "            operator = \"\"\n",
        "\n",
        "        return str_re + operator + str_im + i_sign\n",
        "\n",
        "    __repr__ = __str__  # не обязательная строка; интерпретатор сделает это за вас\n",
        "\n",
        "    def __add__(self, other: Union[Complex, int, float]) -> Complex:\n",
        "        # с Python 3.11 можно будет вместо \"Complex\" писать просто Self\n",
        "        if isinstance(other, int) or isinstance(other, float):\n",
        "            other = self.__class__(other, 0)\n",
        "\n",
        "        return self.__class__(self.re + other.re, self.im + other.im)\n",
        "\n",
        "    def __sub__(self, other: Complex) -> Complex:\n",
        "        if isinstance(other, int) or isinstance(other, float):\n",
        "            other = self.__class__(other, 0)\n",
        "        return self.__class__(self.re - other.re, self.im - other.im)\n",
        "\n",
        "    def __mul__(self, other: Complex) -> Complex:\n",
        "        if isinstance(other, int) or isinstance(other, float):\n",
        "            other = self.__class__(other, 0)\n",
        "        return self.__class__(\n",
        "            self.re * other.re - self.im * other.im,\n",
        "            self.re * other.im + self.im * other.re\n",
        "        )\n",
        "\n",
        "    def __eq__(self, other: Complex) -> bool:\n",
        "        return self.re == other.re and self.im == other.im\n",
        "\n",
        "    def __neg__(self) -> Complex:\n",
        "        return self.__class__(-self.re, -self.im)\n",
        "\n",
        "    __radd__ = __add__\n",
        "    __rmul__ = __mul__\n",
        "    __rsub__ = __sub__\n",
        "\n",
        "    # аналогично можно использовать __sub__ для вычитания, __div__ для деления"
      ]
    },
    {
      "cell_type": "code",
      "execution_count": 26,
      "metadata": {
        "colab": {
          "base_uri": "https://localhost:8080/"
        },
        "id": "_5g5janVA9B8",
        "outputId": "ffe4c9b3-268b-4f45-9066-132512a012dc"
      },
      "outputs": [
        {
          "output_type": "execute_result",
          "data": {
            "text/plain": [
              "6+5i"
            ]
          },
          "metadata": {},
          "execution_count": 26
        }
      ],
      "source": [
        "a = Complex(1, 5)\n",
        "b = Complex(1, 5)\n",
        "\n",
        "5 + a  # a + 5 -> add"
      ]
    },
    {
      "cell_type": "code",
      "execution_count": 27,
      "metadata": {
        "colab": {
          "base_uri": "https://localhost:8080/"
        },
        "id": "COW59OjZA9B9",
        "outputId": "31b61386-c9d5-46d3-fbcf-28c7389c3fd4"
      },
      "outputs": [
        {
          "output_type": "execute_result",
          "data": {
            "text/plain": [
              "-1-5i"
            ]
          },
          "metadata": {},
          "execution_count": 27
        }
      ],
      "source": [
        "-a"
      ]
    },
    {
      "cell_type": "markdown",
      "metadata": {
        "id": "7ranlDvFA9B-"
      },
      "source": [
        "### Наследование\n",
        "\n",
        "По факту, наследованием мы расширяем наш класс, создавания от него потомка, например:"
      ]
    },
    {
      "cell_type": "code",
      "execution_count": 32,
      "metadata": {
        "id": "I16UOUddA9B-"
      },
      "outputs": [],
      "source": [
        "import math\n",
        "\n",
        "class Point(Complex):\n",
        "    def length(self):\n",
        "        return math.sqrt(self.re ** 2 + self.im ** 2)\n",
        "\n",
        "    def distance(self, other: Point) -> float:\n",
        "        return math.sqrt((self.re - other.re)**2 + (self.im - other.im)**2)"
      ]
    },
    {
      "cell_type": "code",
      "execution_count": 33,
      "metadata": {
        "colab": {
          "base_uri": "https://localhost:8080/"
        },
        "id": "GHHnGw59A9B-",
        "outputId": "748cb88a-63d8-4517-f661-ee86a74d80c6"
      },
      "outputs": [
        {
          "output_type": "stream",
          "name": "stdout",
          "text": [
            "7.810249675906654\n",
            "1.4142135623730951\n",
            "8.06225774829855\n"
          ]
        }
      ],
      "source": [
        "x = Point(5, 6)\n",
        "y = Point(-1, 1)\n",
        "\n",
        "print(x.length())\n",
        "print(y.length())\n",
        "\n",
        "print((x + y).length())"
      ]
    },
    {
      "cell_type": "code",
      "source": [
        "print(x.distance(y))"
      ],
      "metadata": {
        "colab": {
          "base_uri": "https://localhost:8080/"
        },
        "id": "xxK6wBI0ImWQ",
        "outputId": "cb4baa8c-c4f3-429c-b813-41e6efe4f195"
      },
      "execution_count": 35,
      "outputs": [
        {
          "output_type": "stream",
          "name": "stdout",
          "text": [
            "7.810249675906654\n"
          ]
        }
      ]
    },
    {
      "cell_type": "code",
      "source": [
        "# пример множественного наследования\n",
        "class A:\n",
        "    def foo(self):\n",
        "        print(\"IN A\")\n",
        "\n",
        "\n",
        "class B:\n",
        "    def foo(self):\n",
        "        print(\"IN B\")\n",
        "    def bar(self):\n",
        "        print(\"BAR\")\n",
        "\n",
        "class C(A, B):\n",
        "    pass\n",
        "\n",
        "c = C()\n",
        "c.foo()\n",
        "c.bar()"
      ],
      "metadata": {
        "colab": {
          "base_uri": "https://localhost:8080/"
        },
        "id": "AbkBBbcaJOdi",
        "outputId": "3a1447d0-841e-4b80-a09e-472161f366b1"
      },
      "execution_count": 42,
      "outputs": [
        {
          "output_type": "stream",
          "name": "stdout",
          "text": [
            "IN A\n",
            "BAR\n"
          ]
        }
      ]
    },
    {
      "cell_type": "markdown",
      "metadata": {
        "id": "NlSWbj3XA9B_"
      },
      "source": [
        "### Задание 1\n",
        "\n",
        "Немного \"причешем\" наше решение: давайте научим наш класс складываться и умножаться не только с комлексными числами, но и обычными\n",
        "\n",
        "Для того, чтобы понять, какой это тип, можно использовать функцию `isinstance`."
      ]
    },
    {
      "cell_type": "code",
      "execution_count": 36,
      "metadata": {
        "id": "EHdcml-YA9B_"
      },
      "outputs": [],
      "source": [
        "class Complex:\n",
        "    def __init__(self, re: Union[int, float] = 0, im: Union[int, float] = 0):\n",
        "        self.re = re\n",
        "        self.im = im\n",
        "\n",
        "    def __str__(self) -> str:\n",
        "        if not self.re and not self.im:\n",
        "            return \"0\"\n",
        "\n",
        "        str_re = str(self.re) if self.re else \"\"\n",
        "        str_im = str(abs(self.im)) if abs(self.im) not in (0, 1) else \"\"\n",
        "        i_sign = \"i\" if self.im else \"\"\n",
        "\n",
        "        if self.im < 0:\n",
        "            operator = \"-\"\n",
        "        elif self.im > 0 and self.re:\n",
        "            operator = \"+\"\n",
        "        else:\n",
        "            operator = \"\"\n",
        "\n",
        "        return str_re + operator + str_im + i_sign\n",
        "\n",
        "    __repr__ = __str__  # не обязательная строка; интерпретатор сделает это за вас\n",
        "\n",
        "    def __add__(self, other: Union[Complex, int, float]) -> Complex:\n",
        "        # с Python 3.11 можно будет вместо \"Complex\" писать просто Self\n",
        "        if isinstance(other, int) or isinstance(other, float):\n",
        "            other = self.__class__(other, 0)\n",
        "\n",
        "        return self.__class__(self.re + other.re, self.im + other.im)\n",
        "\n",
        "    def __sub__(self, other: Union[Complex, int, float]) -> Complex:\n",
        "        if isinstance(other, int) or isinstance(other, float):\n",
        "            other = self.__class__(other, 0)\n",
        "        return self.__class__(self.re - other.re, self.im - other.im)\n",
        "\n",
        "    def __mul__(self, other: Union[Complex, int, float]) -> Complex:\n",
        "        if isinstance(other, int) or isinstance(other, float):\n",
        "            other = self.__class__(other, 0)\n",
        "        return self.__class__(\n",
        "            self.re * other.re - self.im * other.im,\n",
        "            self.re * other.im + self.im * other.re\n",
        "        )\n",
        "\n",
        "    def __eq__(self, other: Complex) -> bool:\n",
        "        if isinstance(other, int) or isinstance(other, float):\n",
        "            other = self.__class__(other, 0)\n",
        "        return self.re == other.re and self.im == other.im\n",
        "\n",
        "    def __neg__(self) -> Complex:\n",
        "        return self.__class__(-self.re, -self.im)\n",
        "\n",
        "    __radd__ = __add__\n",
        "    __rmul__ = __mul__\n",
        "    __rsub__ = __sub__"
      ]
    },
    {
      "cell_type": "markdown",
      "metadata": {
        "id": "RgXTbOYTA9CA"
      },
      "source": [
        "### Ошибки\n",
        "\n",
        "В питоне можно явно вызывать любую ошибку через raise, например:"
      ]
    },
    {
      "cell_type": "code",
      "source": [
        "x = input()\n",
        "y = int(input())"
      ],
      "metadata": {
        "colab": {
          "base_uri": "https://localhost:8080/"
        },
        "id": "mFmWK6rsJ6O6",
        "outputId": "9b3f9a0d-c306-4ba6-a142-f76b6b912298"
      },
      "execution_count": 43,
      "outputs": [
        {
          "name": "stdout",
          "output_type": "stream",
          "text": [
            "1\n",
            "2\n"
          ]
        }
      ]
    },
    {
      "cell_type": "code",
      "source": [
        "# Очень плохо так писать\n",
        "try:\n",
        "    print(x / y)\n",
        "except:\n",
        "    print(\"ERROR HAPPENED\")"
      ],
      "metadata": {
        "colab": {
          "base_uri": "https://localhost:8080/"
        },
        "id": "bsGHpPvwJ-7n",
        "outputId": "734a6d64-7151-4db0-a1b9-870a33c47856"
      },
      "execution_count": 45,
      "outputs": [
        {
          "output_type": "stream",
          "name": "stdout",
          "text": [
            "ERROR HAPPENED\n"
          ]
        }
      ]
    },
    {
      "cell_type": "code",
      "source": [
        "try:\n",
        "    print(x / y)\n",
        "except TypeError as e:\n",
        "    print(e)"
      ],
      "metadata": {
        "colab": {
          "base_uri": "https://localhost:8080/"
        },
        "id": "SHbf4OJfKloJ",
        "outputId": "c8d867b4-2a20-4b77-f728-e8b656872c4e"
      },
      "execution_count": 47,
      "outputs": [
        {
          "output_type": "stream",
          "name": "stdout",
          "text": [
            "unsupported operand type(s) for /: 'str' and 'int'\n"
          ]
        }
      ]
    },
    {
      "cell_type": "code",
      "source": [
        "x = int(x)\n",
        "y = 0"
      ],
      "metadata": {
        "id": "9_apg2ZzKxHw"
      },
      "execution_count": 48,
      "outputs": []
    },
    {
      "cell_type": "code",
      "source": [
        "try:\n",
        "    print(x / y)\n",
        "except TypeError as e:\n",
        "    print(e)\n",
        "except ZeroDivisionError as e:\n",
        "    print(\"division by zero!\")"
      ],
      "metadata": {
        "colab": {
          "base_uri": "https://localhost:8080/"
        },
        "id": "FATJhX89Kzkm",
        "outputId": "5a4ba8e6-c824-411e-90c3-024d3591502e"
      },
      "execution_count": 50,
      "outputs": [
        {
          "output_type": "stream",
          "name": "stdout",
          "text": [
            "division by zero!\n"
          ]
        }
      ]
    },
    {
      "cell_type": "code",
      "source": [
        "try:\n",
        "    print(x / y)\n",
        "except TypeError as e:\n",
        "    print(e)\n",
        "except ZeroDivisionError as e:\n",
        "    print(\"division by zero!\")\n",
        "except ZeroDivisionError as e:\n",
        "    print(\"THIS NEVER WILL BE PRINTED\")"
      ],
      "metadata": {
        "colab": {
          "base_uri": "https://localhost:8080/"
        },
        "id": "fnO6GcaFK9tR",
        "outputId": "1f3bbd13-fd32-48f3-c232-052f9ec3117b"
      },
      "execution_count": 51,
      "outputs": [
        {
          "output_type": "stream",
          "name": "stdout",
          "text": [
            "division by zero!\n"
          ]
        }
      ]
    },
    {
      "cell_type": "code",
      "source": [
        "try:\n",
        "    print(x / y)\n",
        "except TypeError as e:\n",
        "    print(e)\n",
        "except ZeroDivisionError as e:\n",
        "    print(\"division by zero!\")\n",
        "except ZeroDivisionError as e:\n",
        "    print(\"THIS NEVER WILL BE PRINTED\")\n",
        "finally:\n",
        "    print(\"THIS WILL ALWAYS BE PRINTED\")"
      ],
      "metadata": {
        "colab": {
          "base_uri": "https://localhost:8080/"
        },
        "id": "eb19pkqILHPJ",
        "outputId": "c64db8a8-2cd3-42d9-bf3c-b85c81ced963"
      },
      "execution_count": 52,
      "outputs": [
        {
          "output_type": "stream",
          "name": "stdout",
          "text": [
            "division by zero!\n",
            "THIS WILL ALWAYS BE PRINTED\n"
          ]
        }
      ]
    },
    {
      "cell_type": "code",
      "source": [
        "try:\n",
        "    print(x / y)\n",
        "except TypeError as e:\n",
        "    print(e)\n",
        "except ZeroDivisionError as e:\n",
        "    print(\"division by zero!\")\n",
        "except ZeroDivisionError as e:\n",
        "    print(\"THIS NEVER WILL BE PRINTED\")\n",
        "finally:\n",
        "    print(\"THIS WILL ALWAYS BE PRINTED\")"
      ],
      "metadata": {
        "colab": {
          "base_uri": "https://localhost:8080/"
        },
        "id": "q_0wpBI-LRP-",
        "outputId": "d071ca1f-8521-4493-c619-e0b4e9e05d80"
      },
      "execution_count": 55,
      "outputs": [
        {
          "output_type": "stream",
          "name": "stdout",
          "text": [
            "division by zero!\n",
            "THIS WILL ALWAYS BE PRINTED\n"
          ]
        }
      ]
    },
    {
      "cell_type": "code",
      "source": [
        "try:\n",
        "    print(x / y)\n",
        "except TypeError as e:\n",
        "    print(e)\n",
        "except ZeroDivisionError as e:\n",
        "    print(\"division by zero!\")\n",
        "except ZeroDivisionError as e:\n",
        "    print(\"THIS NEVER WILL BE PRINTED\")\n",
        "else:\n",
        "    print(\"THIS WILL BE PRINTED ONLY IF NO ERROR OCCURED\")\n",
        "finally:\n",
        "    print(\"THIS WILL ALWAYS BE PRINTED\")"
      ],
      "metadata": {
        "colab": {
          "base_uri": "https://localhost:8080/"
        },
        "id": "Z1cb-3htLcNO",
        "outputId": "55ebf5c4-a3cd-497d-90f4-82b676988453"
      },
      "execution_count": 57,
      "outputs": [
        {
          "output_type": "stream",
          "name": "stdout",
          "text": [
            "division by zero!\n",
            "THIS WILL ALWAYS BE PRINTED\n"
          ]
        }
      ]
    },
    {
      "cell_type": "code",
      "source": [
        "try:\n",
        "    print(\"ALL OK\")\n",
        "except TypeError as e:\n",
        "    print(e)\n",
        "except ZeroDivisionError as e:\n",
        "    print(\"division by zero!\")\n",
        "except ZeroDivisionError as e:\n",
        "    print(\"THIS NEVER WILL BE PRINTED\")\n",
        "else:\n",
        "    print(\"THIS WILL BE PRINTED ONLY IF NO ERROR OCCURED\")\n",
        "finally:\n",
        "    print(\"THIS WILL ALWAYS BE PRINTED\")"
      ],
      "metadata": {
        "colab": {
          "base_uri": "https://localhost:8080/"
        },
        "id": "G-Ojdr1xLnwr",
        "outputId": "967a3343-8e23-4e23-c31c-78e0916f3822"
      },
      "execution_count": 59,
      "outputs": [
        {
          "output_type": "stream",
          "name": "stdout",
          "text": [
            "ALL OK\n",
            "THIS WILL BE PRINTED ONLY IF NO ERROR OCCURED\n",
            "THIS WILL ALWAYS BE PRINTED\n"
          ]
        }
      ]
    },
    {
      "cell_type": "code",
      "execution_count": 60,
      "metadata": {
        "colab": {
          "base_uri": "https://localhost:8080/"
        },
        "id": "id_g-um0A9CA",
        "outputId": "4861172b-8b61-4ecb-b0c0-62383b60adb4"
      },
      "outputs": [
        {
          "output_type": "stream",
          "name": "stdout",
          "text": [
            "2\n",
            "1\n",
            "Some error idk what happened\n",
            "Traceback (most recent call last):\n",
            "  File \"<ipython-input-60-f09b21192734>\", line 7, in <cell line: 6>\n",
            "    print(x / y)\n",
            "TypeError: unsupported operand type(s) for /: 'str' and 'int'\n",
            "\n",
            "goodbye!\n"
          ]
        }
      ],
      "source": [
        "import traceback\n",
        "\n",
        "x = input()\n",
        "y = int(input())\n",
        "\n",
        "try:\n",
        "    print(x / y)\n",
        "except ZeroDivisionError:\n",
        "    print(\"Division by zero occured\")\n",
        "except Exception:\n",
        "    print(\"Some error idk what happened\")\n",
        "    print(traceback.format_exc())\n",
        "finally:\n",
        "    print(\"goodbye!\")\n"
      ]
    },
    {
      "cell_type": "code",
      "execution_count": 61,
      "metadata": {
        "colab": {
          "base_uri": "https://localhost:8080/",
          "height": 174
        },
        "id": "pgfJpQ3YA9CA",
        "outputId": "10e37b4d-015c-4572-fc0d-6d38a636af24"
      },
      "outputs": [
        {
          "output_type": "error",
          "ename": "RuntimeError",
          "evalue": "ignored",
          "traceback": [
            "\u001b[0;31m---------------------------------------------------------------------------\u001b[0m",
            "\u001b[0;31mRuntimeError\u001b[0m                              Traceback (most recent call last)",
            "\u001b[0;32m<ipython-input-61-233f6053dfe0>\u001b[0m in \u001b[0;36m<cell line: 1>\u001b[0;34m()\u001b[0m\n\u001b[0;32m----> 1\u001b[0;31m \u001b[0;32mraise\u001b[0m \u001b[0mRuntimeError\u001b[0m\u001b[0;34m(\u001b[0m\u001b[0;34m\"Something went wrong\"\u001b[0m\u001b[0;34m)\u001b[0m\u001b[0;34m\u001b[0m\u001b[0;34m\u001b[0m\u001b[0m\n\u001b[0m",
            "\u001b[0;31mRuntimeError\u001b[0m: Something went wrong"
          ]
        }
      ],
      "source": [
        "raise RuntimeError(\"Something went wrong\")"
      ]
    },
    {
      "cell_type": "markdown",
      "metadata": {
        "id": "qNYEUe4vA9CB"
      },
      "source": [
        "А также можно создавать свои ошибки:"
      ]
    },
    {
      "cell_type": "code",
      "execution_count": 65,
      "metadata": {
        "colab": {
          "base_uri": "https://localhost:8080/",
          "height": 208
        },
        "id": "JgFLAhy0A9CB",
        "outputId": "99c8fcfd-5e81-4af3-9139-f4ca5b5b625a"
      },
      "outputs": [
        {
          "output_type": "error",
          "ename": "ComplexError",
          "evalue": "ignored",
          "traceback": [
            "\u001b[0;31m---------------------------------------------------------------------------\u001b[0m",
            "\u001b[0;31mComplexError\u001b[0m                              Traceback (most recent call last)",
            "\u001b[0;32m<ipython-input-65-8abefd2f368c>\u001b[0m in \u001b[0;36m<cell line: 4>\u001b[0;34m()\u001b[0m\n\u001b[1;32m      2\u001b[0m     \u001b[0;32mpass\u001b[0m\u001b[0;34m\u001b[0m\u001b[0;34m\u001b[0m\u001b[0m\n\u001b[1;32m      3\u001b[0m \u001b[0;34m\u001b[0m\u001b[0m\n\u001b[0;32m----> 4\u001b[0;31m \u001b[0;32mraise\u001b[0m \u001b[0mComplexError\u001b[0m\u001b[0;34m(\u001b[0m\u001b[0;34m\"Invalid usage of complex numbers\"\u001b[0m\u001b[0;34m)\u001b[0m\u001b[0;34m\u001b[0m\u001b[0;34m\u001b[0m\u001b[0m\n\u001b[0m",
            "\u001b[0;31mComplexError\u001b[0m: Invalid usage of complex numbers"
          ]
        }
      ],
      "source": [
        "class ComplexError(BaseException):\n",
        "    pass\n",
        "\n",
        "raise ComplexError(\"Invalid usage of complex numbers\")"
      ]
    },
    {
      "cell_type": "code",
      "execution_count": 64,
      "metadata": {
        "colab": {
          "base_uri": "https://localhost:8080/",
          "height": 208
        },
        "id": "y4-Km6vaA9CB",
        "outputId": "3c29fe3a-b9b0-456f-a477-375d4e6c7020"
      },
      "outputs": [
        {
          "output_type": "error",
          "ename": "ComplexOperationError",
          "evalue": "ignored",
          "traceback": [
            "\u001b[0;31m---------------------------------------------------------------------------\u001b[0m",
            "\u001b[0;31mComplexOperationError\u001b[0m                     Traceback (most recent call last)",
            "\u001b[0;32m<ipython-input-64-60f68cfc909f>\u001b[0m in \u001b[0;36m<cell line: 9>\u001b[0;34m()\u001b[0m\n\u001b[1;32m      7\u001b[0m         \u001b[0;32mreturn\u001b[0m \u001b[0;34mf\"Cannot do operation between {self.left_arg} and {self.right_arg}\"\u001b[0m\u001b[0;34m\u001b[0m\u001b[0;34m\u001b[0m\u001b[0m\n\u001b[1;32m      8\u001b[0m \u001b[0;34m\u001b[0m\u001b[0m\n\u001b[0;32m----> 9\u001b[0;31m \u001b[0;32mraise\u001b[0m \u001b[0mComplexOperationError\u001b[0m\u001b[0;34m(\u001b[0m\u001b[0mComplex\u001b[0m\u001b[0;34m(\u001b[0m\u001b[0;36m1\u001b[0m\u001b[0;34m,\u001b[0m \u001b[0;36m2\u001b[0m\u001b[0;34m)\u001b[0m\u001b[0;34m,\u001b[0m \u001b[0;34m\"abc\"\u001b[0m\u001b[0;34m)\u001b[0m\u001b[0;34m\u001b[0m\u001b[0;34m\u001b[0m\u001b[0m\n\u001b[0m",
            "\u001b[0;31mComplexOperationError\u001b[0m: Cannot do operation between 1+2i and abc"
          ]
        }
      ],
      "source": [
        "class ComplexOperationError(BaseException):\n",
        "    def __init__(self, left_arg, right_arg):\n",
        "        self.left_arg = left_arg\n",
        "        self.right_arg = right_arg\n",
        "\n",
        "    def __str__(self) -> str:\n",
        "        return f\"Cannot do operation between {self.left_arg} and {self.right_arg}\"\n",
        "\n",
        "raise ComplexOperationError(Complex(1, 2), \"abc\")"
      ]
    },
    {
      "cell_type": "markdown",
      "metadata": {
        "id": "HAgc_qqcA9CC"
      },
      "source": [
        "### Задание 3\n",
        "\n",
        "Допишите класс Complex таким образом, чтобы он возвращал ошибки, если мы пытаемся сложить/умножить, например, что-то невалидное (комплексное со строкой, например)"
      ]
    },
    {
      "cell_type": "code",
      "execution_count": 66,
      "metadata": {
        "id": "kvnh2zo8A9CC"
      },
      "outputs": [],
      "source": [
        "class Complex:\n",
        "    def __init__(self, re: Union[int, float] = 0, im: Union[int, float] = 0):\n",
        "        self.re = re\n",
        "        self.im = im\n",
        "\n",
        "    def __str__(self) -> str:\n",
        "        if not self.re and not self.im:\n",
        "            return \"0\"\n",
        "\n",
        "        str_re = str(self.re) if self.re else \"\"\n",
        "        str_im = str(abs(self.im)) if abs(self.im) not in (0, 1) else \"\"\n",
        "        i_sign = \"i\" if self.im else \"\"\n",
        "\n",
        "        if self.im < 0:\n",
        "            operator = \"-\"\n",
        "        elif self.im > 0 and self.re:\n",
        "            operator = \"+\"\n",
        "        else:\n",
        "            operator = \"\"\n",
        "\n",
        "        return str_re + operator + str_im + i_sign\n",
        "\n",
        "    __repr__ = __str__  # можно и свой repr написать, а можно и так\n",
        "\n",
        "    def __add__(self, other: Union[Complex, int, float]) -> Complex:  # <--- обратите внимание на кавычки\n",
        "        # с Python 3.11 можно будет вместо \"Complex\" писать просто Self\n",
        "        if isinstance(other, int) or isinstance(other, float):\n",
        "            other = self.__class__(other, 0)\n",
        "        elif not isinstance(other, Complex):\n",
        "            raise ComplexOperationError(self, other)\n",
        "\n",
        "        return self.__class__(self.re + other.re, self.im + other.im)\n",
        "\n",
        "    def __sub__(self, other: Complex) -> Complex:  # <--- обратите внимание на кавычки\n",
        "        if isinstance(other, int) or isinstance(other, float):\n",
        "            other = self.__class__(other, 0)\n",
        "        elif not isinstance(other, Complex):\n",
        "            raise ComplexOperationError(self, other)\n",
        "        return self.__class__(self.re - other.re, self.im - other.im)\n",
        "\n",
        "    def __mul__(self, other: Complex) -> Complex:  # <--- обратите внимание на кавычки\n",
        "        if isinstance(other, int) or isinstance(other, float):\n",
        "            other = self.__class__(other, 0)\n",
        "        elif not isinstance(other, Complex):\n",
        "            raise ComplexOperationError(self, other)\n",
        "        return self.__class__(\n",
        "            self.re * other.re - self.im * other.im,\n",
        "            self.re * other.im + self.im * other.re\n",
        "        )\n",
        "\n",
        "    def __eq__(self, other: Complex) -> bool:\n",
        "        return self.re == other.re and self.im == other.im\n",
        "\n",
        "    def __neg__(self):\n",
        "        return self.__class__(-self.re, -self.im)\n",
        "\n",
        "    __radd__ = __add__\n",
        "    __rmul__ = __mul__\n",
        "    __rsub__ = __sub__\n",
        "\n",
        "    # аналогично можно использовать __sub__ для вычитания, __div__ для деления"
      ]
    },
    {
      "cell_type": "code",
      "execution_count": 69,
      "metadata": {
        "colab": {
          "base_uri": "https://localhost:8080/"
        },
        "id": "aATcBoXNA9CD",
        "outputId": "b96f1c06-f7f0-42d6-a3b9-44e386d2ee4b"
      },
      "outputs": [
        {
          "output_type": "stream",
          "name": "stdout",
          "text": [
            "Cannot do operation between 5+3i and [1, 2, 3]\n",
            ":(\n"
          ]
        }
      ],
      "source": [
        "a = Complex(5, 3)\n",
        "b = Complex(-1, -2)\n",
        "\n",
        "try:\n",
        "    _ = a + [1, 2, 3]\n",
        "except ComplexOperationError as e:\n",
        "    print(e)\n",
        "    print(\":(\")"
      ]
    },
    {
      "cell_type": "markdown",
      "source": [
        "* **Encapsulation** -- инкапсуляция, иными словами, скрытие внутри класса того, что не нужно явно использовать при работе с ним. Оставляем только публичный интерфейс работы с ним."
      ],
      "metadata": {
        "id": "AHCmBxOtNGfi"
      }
    },
    {
      "cell_type": "code",
      "source": [
        "class Item:\n",
        "    def __init__(self, name: str, price: float):\n",
        "        self.name = name\n",
        "        self.price = price\n",
        "        self._in_stock = 10\n",
        "\n",
        "    def is_available(self):\n",
        "        return \"YES\" if self._in_stock > 0 else \"NO\"\n",
        "\n",
        "\n",
        "ball = Item(\"ball\", 5.0)\n",
        "print(ball.is_available())"
      ],
      "metadata": {
        "colab": {
          "base_uri": "https://localhost:8080/"
        },
        "id": "SldsudbENGVJ",
        "outputId": "029ad3fd-fa5e-43d4-a5a2-ccca6ade1713"
      },
      "execution_count": 74,
      "outputs": [
        {
          "output_type": "stream",
          "name": "stdout",
          "text": [
            "YES\n"
          ]
        }
      ]
    },
    {
      "cell_type": "markdown",
      "source": [
        "* **Polymorphism** -- разные классы могут реализовать разную логику одного и того же интерфейса."
      ],
      "metadata": {
        "id": "1qTcYl6lOPpY"
      }
    },
    {
      "cell_type": "code",
      "execution_count": 75,
      "metadata": {
        "id": "KXFR3tUsA9CD"
      },
      "outputs": [],
      "source": [
        "class Animal:\n",
        "    def sound(self):\n",
        "        return \"Generic Animal sound\"\n",
        "\n",
        "class Dog(Animal):\n",
        "    def sound(self):\n",
        "        return \"Barf\"\n",
        "\n",
        "class Cat(Animal):\n",
        "    def sound(self):\n",
        "        return \"Meow\"\n",
        "\n",
        "dog = Dog()\n",
        "cat = Cat()"
      ]
    },
    {
      "cell_type": "code",
      "source": [
        "def ask_animal_to_sound(animal: Animal):\n",
        "    print(\"This animal gives the following sound:\")\n",
        "    print(animal.sound())"
      ],
      "metadata": {
        "id": "0aDT533ROjqi"
      },
      "execution_count": 78,
      "outputs": []
    },
    {
      "cell_type": "code",
      "source": [],
      "metadata": {
        "id": "f78rNvbXO4vC"
      },
      "execution_count": null,
      "outputs": []
    }
  ],
  "metadata": {
    "kernelspec": {
      "display_name": "Python 3.10.8 64-bit",
      "language": "python",
      "name": "python3"
    },
    "language_info": {
      "codemirror_mode": {
        "name": "ipython",
        "version": 3
      },
      "file_extension": ".py",
      "mimetype": "text/x-python",
      "name": "python",
      "nbconvert_exporter": "python",
      "pygments_lexer": "ipython3",
      "version": "3.10.8"
    },
    "orig_nbformat": 4,
    "vscode": {
      "interpreter": {
        "hash": "6ecdebf77f2ee3a47348d003f751c63e810ca996c1c68d1179f338200fa83b34"
      }
    },
    "colab": {
      "provenance": []
    }
  },
  "nbformat": 4,
  "nbformat_minor": 0
}