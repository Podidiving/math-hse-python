{
  "nbformat": 4,
  "nbformat_minor": 0,
  "metadata": {
    "colab": {
      "provenance": []
    },
    "kernelspec": {
      "name": "python3",
      "display_name": "Python 3"
    },
    "language_info": {
      "name": "python"
    }
  },
  "cells": [
    {
      "cell_type": "markdown",
      "source": [
        "# Семинар 6: функции\n",
        "\n",
        "\n",
        "**Функцией** будем считать некоторый обособленный кусок кода, который можно вызвать из любой другой части кода."
      ],
      "metadata": {
        "id": "EXbnFMXD56BO"
      }
    },
    {
      "cell_type": "code",
      "execution_count": 1,
      "metadata": {
        "colab": {
          "base_uri": "https://localhost:8080/"
        },
        "id": "eHrgjPje50fL",
        "outputId": "72ddf488-dfc4-42a5-ab95-9df65c29942b"
      },
      "outputs": [
        {
          "output_type": "stream",
          "name": "stdout",
          "text": [
            "1\n",
            "2\n"
          ]
        },
        {
          "output_type": "execute_result",
          "data": {
            "text/plain": [
              "1"
            ]
          },
          "metadata": {},
          "execution_count": 1
        }
      ],
      "source": [
        "def func_name(arg1, arg2):\n",
        "    print(arg1)\n",
        "    print(arg2)\n",
        "\n",
        "    return arg1\n",
        "\n",
        "func_name(1, 2)"
      ]
    },
    {
      "cell_type": "code",
      "source": [
        "def has_negative_number(array):\n",
        "    for elem in array:\n",
        "        if elem < 0:\n",
        "            return True\n",
        "\n",
        "    # return False\n",
        "\n",
        "has_negative_number([1,2,3]) is None"
      ],
      "metadata": {
        "colab": {
          "base_uri": "https://localhost:8080/"
        },
        "id": "qWBKrU266d4S",
        "outputId": "e0e13f1d-2224-4540-c19e-6db1871f7bb1"
      },
      "execution_count": 5,
      "outputs": [
        {
          "output_type": "execute_result",
          "data": {
            "text/plain": [
              "True"
            ]
          },
          "metadata": {},
          "execution_count": 5
        }
      ]
    },
    {
      "cell_type": "code",
      "source": [
        "from typing import List\n",
        "\n",
        "\n",
        "# тайпинги все еще сохраняют динамическую типизацию,\n",
        "# но позволяют улучшить читаемость кода\n",
        "# чекеры вроде mypy умеют анализировать код и проверять их корректность\n",
        "\n",
        "def has_negative_number(array: List[int]) -> bool:\n",
        "    for elem in array:\n",
        "        if elem < 0:\n",
        "            return True\n",
        "\n",
        "    return False\n",
        "\n",
        "has_negative_number([1,2,3])"
      ],
      "metadata": {
        "colab": {
          "base_uri": "https://localhost:8080/"
        },
        "id": "UJF2VBte65Dr",
        "outputId": "16c71435-d370-47d2-ac3a-b2e3aaa0596c"
      },
      "execution_count": 6,
      "outputs": [
        {
          "output_type": "execute_result",
          "data": {
            "text/plain": [
              "False"
            ]
          },
          "metadata": {},
          "execution_count": 6
        }
      ]
    },
    {
      "cell_type": "code",
      "source": [
        "# has_negative_number(1,2,3,4,5,-1)\n",
        "# все аргументы через * типизируются без List\n",
        "# https://peps.python.org/pep-0484/#arbitrary-argument-lists-and-default-argument-values\n",
        "\n",
        "def has_negative_number(*array: int) -> bool:\n",
        "    print(array)\n",
        "    for elem in array:\n",
        "        if elem < 0:\n",
        "            return True\n",
        "\n",
        "    return False\n",
        "\n",
        "print(has_negative_number(1,2,3,4,5,-1))"
      ],
      "metadata": {
        "colab": {
          "base_uri": "https://localhost:8080/"
        },
        "id": "su4HiW4b7VdF",
        "outputId": "153073b0-0a9b-4c0b-e6d0-dc6f83f75438"
      },
      "execution_count": 13,
      "outputs": [
        {
          "output_type": "stream",
          "name": "stdout",
          "text": [
            "(1, 2, 3, 4, 5, -1)\n",
            "True\n"
          ]
        }
      ]
    },
    {
      "cell_type": "code",
      "source": [
        "has_negative_number([1,2,3])"
      ],
      "metadata": {
        "colab": {
          "base_uri": "https://localhost:8080/",
          "height": 310
        },
        "id": "0cCO0jIh7wsI",
        "outputId": "5055e842-081d-4a25-a0ee-3c8da0d794d6"
      },
      "execution_count": 15,
      "outputs": [
        {
          "output_type": "stream",
          "name": "stdout",
          "text": [
            "([1, 2, 3],)\n"
          ]
        },
        {
          "output_type": "error",
          "ename": "TypeError",
          "evalue": "ignored",
          "traceback": [
            "\u001b[0;31m---------------------------------------------------------------------------\u001b[0m",
            "\u001b[0;31mTypeError\u001b[0m                                 Traceback (most recent call last)",
            "\u001b[0;32m<ipython-input-15-905af682ad8f>\u001b[0m in \u001b[0;36m<cell line: 1>\u001b[0;34m()\u001b[0m\n\u001b[0;32m----> 1\u001b[0;31m \u001b[0mhas_negative_number\u001b[0m\u001b[0;34m(\u001b[0m\u001b[0;34m[\u001b[0m\u001b[0;36m1\u001b[0m\u001b[0;34m,\u001b[0m\u001b[0;36m2\u001b[0m\u001b[0;34m,\u001b[0m\u001b[0;36m3\u001b[0m\u001b[0;34m]\u001b[0m\u001b[0;34m)\u001b[0m\u001b[0;34m\u001b[0m\u001b[0;34m\u001b[0m\u001b[0m\n\u001b[0m",
            "\u001b[0;32m<ipython-input-13-df22adc003b6>\u001b[0m in \u001b[0;36mhas_negative_number\u001b[0;34m(*array)\u001b[0m\n\u001b[1;32m      6\u001b[0m     \u001b[0mprint\u001b[0m\u001b[0;34m(\u001b[0m\u001b[0marray\u001b[0m\u001b[0;34m)\u001b[0m\u001b[0;34m\u001b[0m\u001b[0;34m\u001b[0m\u001b[0m\n\u001b[1;32m      7\u001b[0m     \u001b[0;32mfor\u001b[0m \u001b[0melem\u001b[0m \u001b[0;32min\u001b[0m \u001b[0marray\u001b[0m\u001b[0;34m:\u001b[0m\u001b[0;34m\u001b[0m\u001b[0;34m\u001b[0m\u001b[0m\n\u001b[0;32m----> 8\u001b[0;31m         \u001b[0;32mif\u001b[0m \u001b[0melem\u001b[0m \u001b[0;34m<\u001b[0m \u001b[0;36m0\u001b[0m\u001b[0;34m:\u001b[0m\u001b[0;34m\u001b[0m\u001b[0;34m\u001b[0m\u001b[0m\n\u001b[0m\u001b[1;32m      9\u001b[0m             \u001b[0;32mreturn\u001b[0m \u001b[0;32mTrue\u001b[0m\u001b[0;34m\u001b[0m\u001b[0;34m\u001b[0m\u001b[0m\n\u001b[1;32m     10\u001b[0m \u001b[0;34m\u001b[0m\u001b[0m\n",
            "\u001b[0;31mTypeError\u001b[0m: '<' not supported between instances of 'list' and 'int'"
          ]
        }
      ]
    },
    {
      "cell_type": "code",
      "source": [
        "has_negative_number(*[1,2,3])"
      ],
      "metadata": {
        "colab": {
          "base_uri": "https://localhost:8080/"
        },
        "id": "hv65X7p88Kgs",
        "outputId": "d1a6e9a4-f1a3-4455-be5d-92b326c58801"
      },
      "execution_count": 16,
      "outputs": [
        {
          "output_type": "stream",
          "name": "stdout",
          "text": [
            "(1, 2, 3)\n"
          ]
        },
        {
          "output_type": "execute_result",
          "data": {
            "text/plain": [
              "False"
            ]
          },
          "metadata": {},
          "execution_count": 16
        }
      ]
    },
    {
      "cell_type": "code",
      "source": [
        "from typing import Mapping, Any\n",
        "\n",
        "# *args, **kwargs\n",
        "def func(*args: int, **kwargs: Mapping[str, Any]):\n",
        "    print(args)\n",
        "    print(kwargs)\n",
        "\n",
        "\n",
        "func(1,2,3,4,5,6,\"asdasd\",\"12312\", param1=\"1\", param2=[1,2])"
      ],
      "metadata": {
        "colab": {
          "base_uri": "https://localhost:8080/"
        },
        "id": "rwcU2pEl8UgM",
        "outputId": "65d6cf40-c6d6-4325-d3bf-4e1221dc3d7c"
      },
      "execution_count": 23,
      "outputs": [
        {
          "output_type": "stream",
          "name": "stdout",
          "text": [
            "(1, 2, 3, 4, 5, 6, 'asdasd', '12312')\n",
            "{'param1': '1', 'param2': [1, 2]}\n"
          ]
        }
      ]
    },
    {
      "cell_type": "code",
      "source": [
        "# named parameters\n",
        "def custom_max(a: int, b: int):\n",
        "    print(f\"a={a}\")\n",
        "    print(f\"b={b}\")\n",
        "    if a > b:\n",
        "        return a\n",
        "    return b\n",
        "\n",
        "print(custom_max(1,2))\n",
        "print(custom_max(a=1,b=2))\n",
        "print(custom_max(b=1,a=2))\n",
        "print(custom_max(1,b=2))\n",
        "# print(custom_max(b=2,1))  # SyntaxError"
      ],
      "metadata": {
        "colab": {
          "base_uri": "https://localhost:8080/"
        },
        "id": "wNXrSf-19Pko",
        "outputId": "db12899f-14b5-4c8b-84c3-9e6e19c53b7b"
      },
      "execution_count": 31,
      "outputs": [
        {
          "output_type": "stream",
          "name": "stdout",
          "text": [
            "a=1\n",
            "b=2\n",
            "2\n",
            "a=1\n",
            "b=2\n",
            "2\n",
            "a=2\n",
            "b=1\n",
            "2\n",
            "a=1\n",
            "b=2\n",
            "2\n"
          ]
        }
      ]
    },
    {
      "cell_type": "code",
      "source": [
        "# named parameters\n",
        "def custom_max_with_kwargs(a: int, b: int, **kwargs):\n",
        "    print(f\"a={a}\")\n",
        "    print(f\"b={b}\")\n",
        "    print(f\"kwargs={kwargs}\")\n",
        "    if a > b:\n",
        "        return a\n",
        "    return b\n",
        "\n",
        "print(custom_max_with_kwargs(1,2))\n",
        "print(custom_max_with_kwargs(1,2,x=1,y=2))\n",
        "# print(custom_max_with_kwargs(1,2,3))  # TypeError\n"
      ],
      "metadata": {
        "colab": {
          "base_uri": "https://localhost:8080/"
        },
        "id": "ku11Fjf09EmY",
        "outputId": "dc856a9d-ffdb-45aa-f846-65dc87d0e88d"
      },
      "execution_count": 36,
      "outputs": [
        {
          "output_type": "stream",
          "name": "stdout",
          "text": [
            "a=1\n",
            "b=2\n",
            "kwargs={}\n",
            "2\n",
            "a=1\n",
            "b=2\n",
            "kwargs={'x': 1, 'y': 2}\n",
            "2\n"
          ]
        }
      ]
    },
    {
      "cell_type": "code",
      "source": [
        "# named parameters\n",
        "def custom_max_with_args_and_kwargs(a: int, b: int, *args, **kwargs):\n",
        "    print(f\"a={a}\")\n",
        "    print(f\"b={b}\")\n",
        "    print(f\"args={args}\")\n",
        "    print(f\"kwargs={kwargs}\")\n",
        "    if a > b:\n",
        "        return a\n",
        "    return b\n",
        "\n",
        "print(custom_max_with_args_and_kwargs(1,2))\n",
        "print(custom_max_with_args_and_kwargs(1,2,x=1,y=2))\n",
        "print(custom_max_with_args_and_kwargs(1,2,3))\n",
        "print(custom_max_with_args_and_kwargs(1,2,3,y=123))"
      ],
      "metadata": {
        "colab": {
          "base_uri": "https://localhost:8080/"
        },
        "id": "UgN2s8LL-OPE",
        "outputId": "416647ba-30a2-401a-f965-3a761a646532"
      },
      "execution_count": 40,
      "outputs": [
        {
          "output_type": "stream",
          "name": "stdout",
          "text": [
            "a=1\n",
            "b=2\n",
            "args=()\n",
            "kwargs={}\n",
            "2\n",
            "a=1\n",
            "b=2\n",
            "args=()\n",
            "kwargs={'x': 1, 'y': 2}\n",
            "2\n",
            "a=1\n",
            "b=2\n",
            "args=(3,)\n",
            "kwargs={}\n",
            "2\n",
            "a=1\n",
            "b=2\n",
            "args=(3,)\n",
            "kwargs={'y': 123}\n",
            "2\n"
          ]
        }
      ]
    },
    {
      "cell_type": "code",
      "source": [
        "def max_value(*args: int, **kwargs):\n",
        "    return_idx = kwargs.get(\"return_idx\", False)\n",
        "    max_value = args[0]\n",
        "    max_value_idx = 0\n",
        "\n",
        "    for idx, elem in enumerate(args[1:], 1):\n",
        "        if elem > max_value:\n",
        "            max_value = elem\n",
        "            max_value_idx = idx\n",
        "\n",
        "    if return_idx:\n",
        "        return max_value_idx, max_value\n",
        "    return max_value\n",
        "\n",
        "# max_value(..., return_idx=True)"
      ],
      "metadata": {
        "id": "opjQvo2e-fRd"
      },
      "execution_count": 41,
      "outputs": []
    },
    {
      "cell_type": "code",
      "source": [
        "print(\"max value:\", max_value(6, -1, 2, 9, 1))\n",
        "print(\"max value:\", max_value(6, -1, 2, 9, 1, return_idx=True))"
      ],
      "metadata": {
        "colab": {
          "base_uri": "https://localhost:8080/"
        },
        "id": "0T6l8D1v_Jfn",
        "outputId": "79ae7aa1-f8bd-4dba-ae00-a8300164c3f9"
      },
      "execution_count": 43,
      "outputs": [
        {
          "output_type": "stream",
          "name": "stdout",
          "text": [
            "max value: 9\n",
            "max value: (3, 9)\n"
          ]
        }
      ]
    },
    {
      "cell_type": "code",
      "source": [
        "# default value\n",
        "def max_value(*args: int, return_idx: bool = False):\n",
        "    max_value = args[0]\n",
        "    max_value_idx = 0\n",
        "\n",
        "    for idx, elem in enumerate(args[1:], 1):\n",
        "        if elem > max_value:\n",
        "            max_value = elem\n",
        "            max_value_idx = idx\n",
        "\n",
        "    if return_idx:\n",
        "        return max_value_idx, max_value\n",
        "    return max_value"
      ],
      "metadata": {
        "id": "IXOEFLUP_QiE"
      },
      "execution_count": 44,
      "outputs": []
    },
    {
      "cell_type": "code",
      "source": [
        "print(\"max value:\", max_value(6, -1, 2, 9, 1))\n",
        "print(\"max value:\", max_value(6, -1, 2, 9, 1, return_idx=True))"
      ],
      "metadata": {
        "colab": {
          "base_uri": "https://localhost:8080/"
        },
        "id": "nIi4QhFC_eAj",
        "outputId": "b31faef8-022d-4e32-a592-f080552efe5e"
      },
      "execution_count": 45,
      "outputs": [
        {
          "output_type": "stream",
          "name": "stdout",
          "text": [
            "max value: 9\n",
            "max value: (3, 9)\n"
          ]
        }
      ]
    },
    {
      "cell_type": "code",
      "source": [
        "# some dangerous cases with default values\n",
        "def append_to_array(elem: int, array: List[int]) -> List[int]:\n",
        "    array.append(elem)\n",
        "    return array\n",
        "\n",
        "a = [1,2,3]\n",
        "a = append_to_array(4, a)\n",
        "print(a)\n",
        "\n",
        "\n",
        "def append_to_array_dangerous(elem: int, array: List[int] = []) -> List[int]:\n",
        "    array.append(elem)\n",
        "    return array\n",
        "\n",
        "a = append_to_array_dangerous(1)\n",
        "print(a)\n",
        "a = append_to_array_dangerous(1)\n",
        "print(a)"
      ],
      "metadata": {
        "colab": {
          "base_uri": "https://localhost:8080/"
        },
        "id": "qdbDt2H6_iBX",
        "outputId": "bea5b0ad-0b11-4e32-aa60-11f6efd2babe"
      },
      "execution_count": 49,
      "outputs": [
        {
          "output_type": "stream",
          "name": "stdout",
          "text": [
            "[1, 2, 3, 4]\n",
            "[1]\n",
            "[1, 1]\n"
          ]
        }
      ]
    },
    {
      "cell_type": "code",
      "source": [
        "from typing import Dict\n",
        "\n",
        "# everything is passed by reference\n",
        "def func(d: Dict[str, Any]) -> None:\n",
        "    print(\"INSIDE THE FUNCTION\")\n",
        "    d[\"some_str\"] = (1,2,3)\n",
        "    print(\"BYEBYE\")\n",
        "\n",
        "\n",
        "d = {1: 1, 2: 2, 3: 3}\n",
        "func(d)\n",
        "print(d)"
      ],
      "metadata": {
        "colab": {
          "base_uri": "https://localhost:8080/"
        },
        "id": "mvqWSaaSAgdy",
        "outputId": "0f9ce2d3-580a-4ffb-8d60-8a0567d53921"
      },
      "execution_count": 53,
      "outputs": [
        {
          "output_type": "stream",
          "name": "stdout",
          "text": [
            "INSIDE THE FUNCTION\n",
            "BYEBYE\n",
            "{1: 1, 2: 2, 3: 3, 'some_str': (1, 2, 3)}\n"
          ]
        }
      ]
    },
    {
      "cell_type": "code",
      "source": [
        "from typing import Dict\n",
        "\n",
        "# everything is passed by reference\n",
        "def func(d: int) -> None:\n",
        "    print(\"INSIDE THE FUNCTION\")\n",
        "    d = 1231231312\n",
        "    print(\"BYEBYE\")\n",
        "\n",
        "\n",
        "d = 1\n",
        "func(d)\n",
        "print(d)"
      ],
      "metadata": {
        "colab": {
          "base_uri": "https://localhost:8080/"
        },
        "id": "yvwUDGM5BIIW",
        "outputId": "10f9a4b9-62d0-4be5-aaeb-2b78c996a34b"
      },
      "execution_count": 54,
      "outputs": [
        {
          "output_type": "stream",
          "name": "stdout",
          "text": [
            "INSIDE THE FUNCTION\n",
            "BYEBYE\n",
            "1\n"
          ]
        }
      ]
    },
    {
      "cell_type": "markdown",
      "source": [
        "**Рестрикшены**\n",
        "\n",
        "В аргументы функции можно написать пустую `*`. Тогда будет считаться, что все после этой звездочки -- это именованные аргументы и больше позиционные использовать нельзя. Ранее мы могли вызвать функцию вот так:"
      ],
      "metadata": {
        "id": "zgddZTU5BW1O"
      }
    },
    {
      "cell_type": "code",
      "source": [
        "def custom_max(a: int, b: int, print_hello: bool = False, **kwargs):\n",
        "    if print_hello:\n",
        "        print(\"Hello\", **kwargs)  # sep, end\n",
        "    if a > b:\n",
        "        return a\n",
        "    return b\n",
        "\n",
        "print(custom_max(1,2))\n",
        "print(custom_max(1,2,print_hello=True))\n",
        "print(custom_max(1,2,print_hello=True,end=\"!\\n\"))\n",
        "print(custom_max(1,2,True,end=\"!\\n\"))"
      ],
      "metadata": {
        "colab": {
          "base_uri": "https://localhost:8080/"
        },
        "id": "egfhU5LsA9B8",
        "outputId": "8a0adf48-f35f-4ec1-8f32-8070a0e16d76"
      },
      "execution_count": 61,
      "outputs": [
        {
          "output_type": "stream",
          "name": "stdout",
          "text": [
            "2\n",
            "Hello\n",
            "2\n",
            "Hello!\n",
            "2\n",
            "Hello!\n",
            "2\n"
          ]
        }
      ]
    },
    {
      "cell_type": "code",
      "source": [
        "def custom_max(a: int, b: int, *, print_hello: bool = False, **kwargs):\n",
        "    if print_hello:\n",
        "        print(\"Hello\", **kwargs)  # sep, end\n",
        "    if a > b:\n",
        "        return a\n",
        "    return b\n",
        "\n",
        "print(custom_max(1,2))\n",
        "print(custom_max(1,2,print_hello=True))\n",
        "print(custom_max(1,2,print_hello=True,end=\"!\\n\"))"
      ],
      "metadata": {
        "colab": {
          "base_uri": "https://localhost:8080/"
        },
        "id": "JVBofEycB_6N",
        "outputId": "cf17d687-6e51-447f-fdec-c49bef0335a4"
      },
      "execution_count": 62,
      "outputs": [
        {
          "output_type": "stream",
          "name": "stdout",
          "text": [
            "2\n",
            "Hello\n",
            "2\n",
            "Hello!\n",
            "2\n"
          ]
        }
      ]
    },
    {
      "cell_type": "code",
      "source": [
        "# print(custom_max(1,2,True,end=\"!\\n\"))  # TypeError"
      ],
      "metadata": {
        "id": "2EJROcNpCGJn"
      },
      "execution_count": 64,
      "outputs": []
    },
    {
      "cell_type": "code",
      "source": [
        "print(custom_max(1,b=2,print_hello=True,end=\"!\\n\"))"
      ],
      "metadata": {
        "colab": {
          "base_uri": "https://localhost:8080/"
        },
        "id": "849YQ4T1CJTs",
        "outputId": "da57c07f-5f3a-4df1-84d7-be4c8943d346"
      },
      "execution_count": 65,
      "outputs": [
        {
          "output_type": "stream",
          "name": "stdout",
          "text": [
            "Hello!\n",
            "2\n"
          ]
        }
      ]
    },
    {
      "cell_type": "code",
      "source": [
        "def custom_max(a: int, b: int, /,  *, print_hello: bool = False, **kwargs):\n",
        "    if print_hello:\n",
        "        print(\"Hello\", **kwargs)  # sep, end\n",
        "    if a > b:\n",
        "        return a\n",
        "    return b\n",
        "\n",
        "print(custom_max(1,2))\n",
        "print(custom_max(1,2,print_hello=True))\n",
        "print(custom_max(1,2,print_hello=True,end=\"!\\n\"))"
      ],
      "metadata": {
        "colab": {
          "base_uri": "https://localhost:8080/"
        },
        "id": "-K6PReGkCRrc",
        "outputId": "60aa7e50-7afe-4791-f3e6-a7290f78da1f"
      },
      "execution_count": 66,
      "outputs": [
        {
          "output_type": "stream",
          "name": "stdout",
          "text": [
            "2\n",
            "Hello\n",
            "2\n",
            "Hello!\n",
            "2\n"
          ]
        }
      ]
    },
    {
      "cell_type": "code",
      "source": [
        "# print(custom_max(1,b=2,print_hello=True,end=\"!\\n\"))  # TypeError"
      ],
      "metadata": {
        "id": "SPn4y2dxCi5x"
      },
      "execution_count": 68,
      "outputs": []
    },
    {
      "cell_type": "markdown",
      "source": [
        "## Области видимости\n",
        "\n",
        "По умолчанию, все переменные в питоне, которые объявлены внутри функции, локальные."
      ],
      "metadata": {
        "id": "1DMVwFGBCtyc"
      }
    },
    {
      "cell_type": "code",
      "source": [
        "def f(x):\n",
        "    square_x = x**2\n",
        "    return x\n",
        "\n",
        "f(2)\n",
        "# square_x  # NameError"
      ],
      "metadata": {
        "colab": {
          "base_uri": "https://localhost:8080/"
        },
        "id": "shNpKz3ECtHk",
        "outputId": "fc7d084a-c935-4f3a-9072-ec526781618c"
      },
      "execution_count": 72,
      "outputs": [
        {
          "output_type": "execute_result",
          "data": {
            "text/plain": [
              "2"
            ]
          },
          "metadata": {},
          "execution_count": 72
        }
      ]
    },
    {
      "cell_type": "code",
      "source": [
        "VALUE = 10\n",
        "\n",
        "def f(x):\n",
        "    square_x = x**2\n",
        "    print(f\"VALUE {VALUE * 2}\")\n",
        "    return x\n",
        "\n",
        "f(2)"
      ],
      "metadata": {
        "colab": {
          "base_uri": "https://localhost:8080/"
        },
        "id": "W9qHHHLBCn0c",
        "outputId": "9101d477-5865-4004-c722-9f36255b8e1a"
      },
      "execution_count": 74,
      "outputs": [
        {
          "output_type": "stream",
          "name": "stdout",
          "text": [
            "VALUE 20\n"
          ]
        },
        {
          "output_type": "execute_result",
          "data": {
            "text/plain": [
              "2"
            ]
          },
          "metadata": {},
          "execution_count": 74
        }
      ]
    },
    {
      "cell_type": "code",
      "source": [
        "VALUE = 10\n",
        "\n",
        "def f(x):\n",
        "    square_x = x**2\n",
        "    VALUE = 2\n",
        "    print(f\"VALUE {VALUE * 2}\")\n",
        "    return x\n",
        "\n",
        "f(2)\n",
        "print(f\"VALUE OUTSIDE: {VALUE}\")"
      ],
      "metadata": {
        "colab": {
          "base_uri": "https://localhost:8080/"
        },
        "id": "RET-N81_DIey",
        "outputId": "c58e6b53-073b-4e8e-ffda-2a218f938c14"
      },
      "execution_count": 75,
      "outputs": [
        {
          "output_type": "stream",
          "name": "stdout",
          "text": [
            "VALUE 4\n",
            "VALUE OUTSIDE: 10\n"
          ]
        }
      ]
    },
    {
      "cell_type": "code",
      "source": [
        "VALUE = 10\n",
        "\n",
        "def f(x):\n",
        "    square_x = x**2\n",
        "    VALUE = VALUE + 2  # UnboundLocalError\n",
        "    print(f\"VALUE {VALUE * 2}\")\n",
        "    return x\n",
        "\n",
        "f(2)\n",
        "print(f\"VALUE OUTSIDE: {VALUE}\")"
      ],
      "metadata": {
        "colab": {
          "base_uri": "https://localhost:8080/",
          "height": 344
        },
        "id": "DkHrzXA0DQEV",
        "outputId": "81b9d643-9ee2-4df4-8432-9db4df102a75"
      },
      "execution_count": 78,
      "outputs": [
        {
          "output_type": "error",
          "ename": "UnboundLocalError",
          "evalue": "ignored",
          "traceback": [
            "\u001b[0;31m---------------------------------------------------------------------------\u001b[0m",
            "\u001b[0;31mUnboundLocalError\u001b[0m                         Traceback (most recent call last)",
            "\u001b[0;32m<ipython-input-78-9ebff03ae250>\u001b[0m in \u001b[0;36m<cell line: 9>\u001b[0;34m()\u001b[0m\n\u001b[1;32m      7\u001b[0m     \u001b[0;32mreturn\u001b[0m \u001b[0mx\u001b[0m\u001b[0;34m\u001b[0m\u001b[0;34m\u001b[0m\u001b[0m\n\u001b[1;32m      8\u001b[0m \u001b[0;34m\u001b[0m\u001b[0m\n\u001b[0;32m----> 9\u001b[0;31m \u001b[0mf\u001b[0m\u001b[0;34m(\u001b[0m\u001b[0;36m2\u001b[0m\u001b[0;34m)\u001b[0m\u001b[0;34m\u001b[0m\u001b[0;34m\u001b[0m\u001b[0m\n\u001b[0m\u001b[1;32m     10\u001b[0m \u001b[0mprint\u001b[0m\u001b[0;34m(\u001b[0m\u001b[0;34mf\"VALUE OUTSIDE: {VALUE}\"\u001b[0m\u001b[0;34m)\u001b[0m\u001b[0;34m\u001b[0m\u001b[0;34m\u001b[0m\u001b[0m\n",
            "\u001b[0;32m<ipython-input-78-9ebff03ae250>\u001b[0m in \u001b[0;36mf\u001b[0;34m(x)\u001b[0m\n\u001b[1;32m      3\u001b[0m \u001b[0;32mdef\u001b[0m \u001b[0mf\u001b[0m\u001b[0;34m(\u001b[0m\u001b[0mx\u001b[0m\u001b[0;34m)\u001b[0m\u001b[0;34m:\u001b[0m\u001b[0;34m\u001b[0m\u001b[0;34m\u001b[0m\u001b[0m\n\u001b[1;32m      4\u001b[0m     \u001b[0msquare_x\u001b[0m \u001b[0;34m=\u001b[0m \u001b[0mx\u001b[0m\u001b[0;34m**\u001b[0m\u001b[0;36m2\u001b[0m\u001b[0;34m\u001b[0m\u001b[0;34m\u001b[0m\u001b[0m\n\u001b[0;32m----> 5\u001b[0;31m     \u001b[0mVALUE\u001b[0m \u001b[0;34m=\u001b[0m \u001b[0mVALUE\u001b[0m \u001b[0;34m+\u001b[0m \u001b[0;36m2\u001b[0m  \u001b[0;31m# UnboundLocalError\u001b[0m\u001b[0;34m\u001b[0m\u001b[0;34m\u001b[0m\u001b[0m\n\u001b[0m\u001b[1;32m      6\u001b[0m     \u001b[0mprint\u001b[0m\u001b[0;34m(\u001b[0m\u001b[0;34mf\"VALUE {VALUE * 2}\"\u001b[0m\u001b[0;34m)\u001b[0m\u001b[0;34m\u001b[0m\u001b[0;34m\u001b[0m\u001b[0m\n\u001b[1;32m      7\u001b[0m     \u001b[0;32mreturn\u001b[0m \u001b[0mx\u001b[0m\u001b[0;34m\u001b[0m\u001b[0;34m\u001b[0m\u001b[0m\n",
            "\u001b[0;31mUnboundLocalError\u001b[0m: local variable 'VALUE' referenced before assignment"
          ]
        }
      ]
    },
    {
      "cell_type": "code",
      "source": [
        "VALUE = 10\n",
        "\n",
        "def f(x):\n",
        "    # this is a bad practice\n",
        "    global VALUE\n",
        "    square_x = x**2\n",
        "    VALUE = VALUE + 2\n",
        "    print(f\"VALUE {VALUE * 2}\")\n",
        "    return x\n",
        "\n",
        "f(2)\n",
        "print(f\"VALUE OUTSIDE: {VALUE}\")"
      ],
      "metadata": {
        "colab": {
          "base_uri": "https://localhost:8080/"
        },
        "id": "PUinIGL3De1G",
        "outputId": "f776057d-fa39-44ce-fd5f-f9980803d360"
      },
      "execution_count": 79,
      "outputs": [
        {
          "output_type": "stream",
          "name": "stdout",
          "text": [
            "VALUE 24\n",
            "VALUE OUTSIDE: 12\n"
          ]
        }
      ]
    },
    {
      "cell_type": "code",
      "source": [
        "a = [1,2,3]\n",
        "\n",
        "def f():\n",
        "    a.append(4)\n",
        "\n",
        "f()\n",
        "print(a)"
      ],
      "metadata": {
        "colab": {
          "base_uri": "https://localhost:8080/"
        },
        "id": "AtRqPHEpD1_n",
        "outputId": "934f35e2-6086-476c-fb6e-b5db35040036"
      },
      "execution_count": 82,
      "outputs": [
        {
          "output_type": "stream",
          "name": "stdout",
          "text": [
            "[1, 2, 3, 4]\n"
          ]
        }
      ]
    },
    {
      "cell_type": "markdown",
      "source": [
        "## Лямбды\n",
        "\n",
        "Анонимные однострочные функции\n"
      ],
      "metadata": {
        "id": "RvaagiPEEG2K"
      }
    },
    {
      "cell_type": "code",
      "source": [
        "# вообще, присваивать лямбды переменным плохой тон\n",
        "# эквивалентно\n",
        "# def is_negative(x):\n",
        "#     return x < 0\n",
        "is_negative = lambda x: x < 0\n",
        "\n",
        "is_negative(-1)"
      ],
      "metadata": {
        "colab": {
          "base_uri": "https://localhost:8080/"
        },
        "id": "nztM1yUcEBKz",
        "outputId": "428a1b1e-35c3-4368-8179-8c6e4b0310be"
      },
      "execution_count": 83,
      "outputs": [
        {
          "output_type": "execute_result",
          "data": {
            "text/plain": [
              "True"
            ]
          },
          "metadata": {},
          "execution_count": 83
        }
      ]
    },
    {
      "cell_type": "code",
      "source": [
        "(lambda *args: sum(args) / len(args))(5, 8, 7, 9)"
      ],
      "metadata": {
        "colab": {
          "base_uri": "https://localhost:8080/"
        },
        "id": "gm4F1eyqEVPo",
        "outputId": "f9f5599b-78c1-49d2-c328-a05bc7ff95aa"
      },
      "execution_count": 84,
      "outputs": [
        {
          "output_type": "execute_result",
          "data": {
            "text/plain": [
              "7.25"
            ]
          },
          "metadata": {},
          "execution_count": 84
        }
      ]
    },
    {
      "cell_type": "code",
      "source": [
        "(lambda x, y: x + y)(5, 8)"
      ],
      "metadata": {
        "colab": {
          "base_uri": "https://localhost:8080/"
        },
        "id": "hay1a6yfEj6y",
        "outputId": "44e66f62-7a3a-41c4-8936-205e5addaa0e"
      },
      "execution_count": 85,
      "outputs": [
        {
          "output_type": "execute_result",
          "data": {
            "text/plain": [
              "13"
            ]
          },
          "metadata": {},
          "execution_count": 85
        }
      ]
    },
    {
      "cell_type": "code",
      "source": [
        "values = [1, 2, 3, 4, 5, 6]\n",
        "\n",
        "print(list(map(lambda x: x**2, values)))"
      ],
      "metadata": {
        "colab": {
          "base_uri": "https://localhost:8080/"
        },
        "id": "SVqR71_OEmXz",
        "outputId": "2c581d8f-2146-4424-85c9-2340eb80f35b"
      },
      "execution_count": 86,
      "outputs": [
        {
          "output_type": "stream",
          "name": "stdout",
          "text": [
            "[1, 4, 9, 16, 25, 36]\n"
          ]
        }
      ]
    },
    {
      "cell_type": "markdown",
      "source": [
        "## Сортировка\n",
        "\n",
        "с помощью лямбда функции можно делать кастомное сравнение"
      ],
      "metadata": {
        "id": "QFXgYnPRE3R4"
      }
    },
    {
      "cell_type": "code",
      "source": [
        "a = [5,2,5,6,1,3,6,7]\n",
        "print(sorted(a))\n",
        "print(sorted(a, key=lambda x: -x))\n",
        "print(sorted(a, key=lambda x: x % 2))\n",
        "print(sorted(a, key=lambda x: (x % 2, x)))\n",
        "\n",
        "a.sort(key=lambda x: -x)\n",
        "print(a)"
      ],
      "metadata": {
        "colab": {
          "base_uri": "https://localhost:8080/"
        },
        "id": "bEuAOoApE2v-",
        "outputId": "1c86bea0-a98d-44f1-a8b1-5aefca60d8b2"
      },
      "execution_count": 91,
      "outputs": [
        {
          "output_type": "stream",
          "name": "stdout",
          "text": [
            "[1, 2, 3, 5, 5, 6, 6, 7]\n",
            "[7, 6, 6, 5, 5, 3, 2, 1]\n",
            "[2, 6, 6, 5, 5, 1, 3, 7]\n",
            "[2, 6, 6, 1, 3, 5, 5, 7]\n",
            "[7, 6, 6, 5, 5, 3, 2, 1]\n"
          ]
        }
      ]
    },
    {
      "cell_type": "code",
      "source": [
        "values = [\"abcd\", \"aab\", \"bda\", \"0xabadbabe\", \"0xdeadbeef\"]\n",
        "\n",
        "print(sorted(values))\n",
        "print(sorted(values, key=lambda x: len(x)))  # key(elem)\n",
        "print(sorted(values, key=len))  # len(elem)"
      ],
      "metadata": {
        "colab": {
          "base_uri": "https://localhost:8080/"
        },
        "id": "rOHR-1W9FbMP",
        "outputId": "35badce9-ff0a-49b2-bcf0-c7fa691f9e7c"
      },
      "execution_count": 95,
      "outputs": [
        {
          "output_type": "stream",
          "name": "stdout",
          "text": [
            "['0xabadbabe', '0xdeadbeef', 'aab', 'abcd', 'bda']\n",
            "['aab', 'bda', 'abcd', '0xabadbabe', '0xdeadbeef']\n",
            "['aab', 'bda', 'abcd', '0xabadbabe', '0xdeadbeef']\n"
          ]
        }
      ]
    },
    {
      "cell_type": "markdown",
      "source": [
        "\n",
        "### Задача 1\n",
        "Дано натуральное число $n > 1$. Выведите его наименьший делитель, отличный от 1. Решение оформите в виде функции `min_divisor(n)`. Алгоритм должен иметь сложность $O(\\sqrt n)$. Указание. Если у числа $n$ нет делителя не превосходящего $\\sqrt n$, то число $n$ — простое и ответом будет само число $n$."
      ],
      "metadata": {
        "id": "pcv9HfBS55Zm"
      }
    },
    {
      "cell_type": "code",
      "source": [
        "def min_divisor(n: int) -> int:\n",
        "    for div in range(2, int(n**0.5) + 1):\n",
        "        if not n % div:\n",
        "            return div\n",
        "    return n\n",
        "\n",
        "\n",
        "print(min_divisor(7))\n",
        "print(min_divisor(9))\n",
        "print(min_divisor(2))\n",
        "print(min_divisor(1))"
      ],
      "metadata": {
        "colab": {
          "base_uri": "https://localhost:8080/"
        },
        "id": "_dvybB1tF9X4",
        "outputId": "37fbba3c-3b17-4c7d-8481-c72a75260ca2"
      },
      "execution_count": 98,
      "outputs": [
        {
          "output_type": "stream",
          "name": "stdout",
          "text": [
            "7\n",
            "3\n",
            "2\n",
            "1\n"
          ]
        }
      ]
    },
    {
      "cell_type": "markdown",
      "source": [
        "### Задача 2\n",
        "Известно, что фамилии всех участников олимпиады — различны. Сохраните в массивах список всех участников и выведите его, отсортировав по фамилии в лексикографическом порядке.\n",
        "\n",
        "При выводе указываете фамилию, имя участника и его балл.\n",
        "\n",
        "**Ввод:**\n",
        "```\n",
        "Иванов Сергей 14 56\n",
        "Сергеев Петр 23 74\n",
        "Петров Василий 3 99\n",
        "Васильев Андрей 3 56\n",
        "Андреев Роман 14 75\n",
        "Романов Иван 27 68\n",
        "```\n",
        "\n",
        "**Вывод:**\n",
        "```\n",
        "Андреев Роман 75\n",
        "Васильев Андрей 56\n",
        "Иванов Сергей 56\n",
        "Петров Василий 99\n",
        "Романов Иван 68\n",
        "Сергеев Петр 74\n",
        "```\n",
        "\n"
      ],
      "metadata": {
        "id": "wGQSg839Gy9B"
      }
    },
    {
      "cell_type": "code",
      "source": [
        "input_ = \"\"\"Иванов Сергей 14 56\n",
        "Сергеев Петр 23 74\n",
        "Петров Василий 3 99\n",
        "Васильев Андрей 3 56\n",
        "Андреев Роман 14 75\n",
        "Романов Иван 27 68\"\"\"\n",
        "\n",
        "def process_and_print(input: str) -> None:\n",
        "    # preprocess\n",
        "    storage = []\n",
        "    for line in input.split('\\n'):\n",
        "        surname, name, _, score = line.split(\" \")\n",
        "        storage.append((surname, name, score))\n",
        "\n",
        "    # sort\n",
        "    storage.sort(key=lambda x: x[0])\n",
        "\n",
        "    # print result\n",
        "    for line in storage:\n",
        "        print(*line)\n",
        "\n",
        "process_and_print(input_)"
      ],
      "metadata": {
        "colab": {
          "base_uri": "https://localhost:8080/"
        },
        "id": "CrfjCtlKGrqG",
        "outputId": "f5098317-7fb8-4ec1-eb36-a6cf181e25d9"
      },
      "execution_count": 100,
      "outputs": [
        {
          "output_type": "stream",
          "name": "stdout",
          "text": [
            "Андреев Роман 75\n",
            "Васильев Андрей 56\n",
            "Иванов Сергей 56\n",
            "Петров Василий 99\n",
            "Романов Иван 68\n",
            "Сергеев Петр 74\n"
          ]
        }
      ]
    },
    {
      "cell_type": "code",
      "source": [],
      "metadata": {
        "id": "qOrD74SkHwrF"
      },
      "execution_count": null,
      "outputs": []
    }
  ]
}