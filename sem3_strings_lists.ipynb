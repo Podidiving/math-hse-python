{
  "nbformat": 4,
  "nbformat_minor": 0,
  "metadata": {
    "colab": {
      "provenance": []
    },
    "kernelspec": {
      "name": "python3",
      "display_name": "Python 3"
    },
    "language_info": {
      "name": "python"
    }
  },
  "cells": [
    {
      "cell_type": "markdown",
      "source": [
        "## Списки и кортежи"
      ],
      "metadata": {
        "id": "8670fFeyvDxO"
      }
    },
    {
      "cell_type": "code",
      "execution_count": null,
      "metadata": {
        "colab": {
          "base_uri": "https://localhost:8080/"
        },
        "id": "yN2dLLofu-bx",
        "outputId": "4be5897f-9fa2-4021-9402-e1aa7dc35ce9"
      },
      "outputs": [
        {
          "output_type": "stream",
          "name": "stdout",
          "text": [
            "7\n",
            "[1, 5, 3, 8, 2, -1, 0]\n"
          ]
        }
      ],
      "source": [
        "# список - list\n",
        "numbers = [1, 5, 3, 8, 2, -1, 0]\n",
        "numbers = list([1, 5, 3, 8, 2, -1, 0])\n",
        "\n",
        "print(len(numbers))  # len(numbers) == numbers.__len__()\n",
        "print(numbers)"
      ]
    },
    {
      "cell_type": "code",
      "source": [
        "whatever = [1, \"abc\", None, -1, 1.2, [1, 2, 3, 4]]  # можно хранить что угодно, нет строгой типизации\n",
        "print(whatever)"
      ],
      "metadata": {
        "colab": {
          "base_uri": "https://localhost:8080/"
        },
        "id": "fnACgxbgw_57",
        "outputId": "8a710d18-3898-4994-cc4b-08b2804cac83"
      },
      "execution_count": null,
      "outputs": [
        {
          "output_type": "stream",
          "name": "stdout",
          "text": [
            "[1, 'abc', None, -1, 1.2, [1, 2, 3, 4]]\n"
          ]
        }
      ]
    },
    {
      "cell_type": "code",
      "source": [
        "my_list = []  # пустой список, можно также написать my_list = list()\n",
        "\n",
        "# O(1) амортизированное\n",
        "my_list.append(5)  # добавим в конец списка\n",
        "my_list.append(4)\n",
        "my_list.append(3)\n",
        "my_list.append(2)\n",
        "my_list.append(1)\n",
        "\n",
        "print(my_list)\n",
        "print(len(my_list))  # так можно получить длину"
      ],
      "metadata": {
        "colab": {
          "base_uri": "https://localhost:8080/"
        },
        "id": "eJlB00sJxHym",
        "outputId": "d9bca073-4df8-48c6-956d-6d0f687c5bb7"
      },
      "execution_count": null,
      "outputs": [
        {
          "output_type": "stream",
          "name": "stdout",
          "text": [
            "[5, 4, 3, 2, 1]\n",
            "5\n"
          ]
        }
      ]
    },
    {
      "cell_type": "code",
      "source": [
        "# O(N)\n",
        "my_list.insert(0, 100)\n",
        "print(my_list)"
      ],
      "metadata": {
        "colab": {
          "base_uri": "https://localhost:8080/"
        },
        "id": "4glUsNGIxUkk",
        "outputId": "61bd3e70-6bcb-4d2a-856d-f0937e775da7"
      },
      "execution_count": null,
      "outputs": [
        {
          "output_type": "stream",
          "name": "stdout",
          "text": [
            "[100, 5, 4, 3, 2, 1]\n"
          ]
        }
      ]
    },
    {
      "cell_type": "code",
      "source": [
        "# удаление\n",
        "\n",
        "# my_list.pop()\n",
        "help(my_list.pop)"
      ],
      "metadata": {
        "colab": {
          "base_uri": "https://localhost:8080/"
        },
        "id": "AzeZyy50xbRu",
        "outputId": "9dc319bc-4cf1-447b-83fc-42807301b6c0"
      },
      "execution_count": null,
      "outputs": [
        {
          "output_type": "stream",
          "name": "stdout",
          "text": [
            "Help on built-in function pop:\n",
            "\n",
            "pop(index=-1, /) method of builtins.list instance\n",
            "    Remove and return item at index (default last).\n",
            "    \n",
            "    Raises IndexError if list is empty or index is out of range.\n",
            "\n"
          ]
        }
      ]
    },
    {
      "cell_type": "code",
      "source": [
        "help(my_list.remove)"
      ],
      "metadata": {
        "colab": {
          "base_uri": "https://localhost:8080/"
        },
        "id": "pvxmkZwWxlT-",
        "outputId": "7de884dd-ff7a-4e51-e23b-af9f621a261e"
      },
      "execution_count": null,
      "outputs": [
        {
          "output_type": "stream",
          "name": "stdout",
          "text": [
            "Help on built-in function remove:\n",
            "\n",
            "remove(value, /) method of builtins.list instance\n",
            "    Remove first occurrence of value.\n",
            "    \n",
            "    Raises ValueError if the value is not present.\n",
            "\n"
          ]
        }
      ]
    },
    {
      "cell_type": "code",
      "source": [
        "my_list = []  # пустой список, можно также написать my_list = list()\n",
        "\n",
        "# O(1) амортизированное\n",
        "my_list.append(5)  # добавим в конец списка\n",
        "my_list.append(4)\n",
        "my_list.append(3)\n",
        "my_list.append(2)\n",
        "my_list.append(1)\n",
        "\n",
        "print(my_list)\n",
        "print(len(my_list))  # так можно получить длину"
      ],
      "metadata": {
        "colab": {
          "base_uri": "https://localhost:8080/"
        },
        "id": "9LZ6WJs9x6LM",
        "outputId": "ab7304cb-2f52-49a5-ad1d-f7b0493215b4"
      },
      "execution_count": null,
      "outputs": [
        {
          "output_type": "stream",
          "name": "stdout",
          "text": [
            "[5, 4, 3, 2, 1]\n",
            "5\n"
          ]
        }
      ]
    },
    {
      "cell_type": "code",
      "source": [
        "print('my_list[0] =', my_list[0])  # первый элемент -- индексация с нуля\n",
        "print('my_list[1] =', my_list[1])  # второй\n",
        "print('my_list[:2] =', my_list[:2])  # срез -- первые два\n",
        "print('my_list[1:3] =', my_list[1:3])  # срез со второго по четвертый\n",
        "print('my_list[-1] =', my_list[-1], my_list[len(my_list) - 1])  # последний элемент, два разных способа\n",
        "print('my_list[-2] =', my_list[-2])  # предпоследний\n",
        "print('my_list[-3:-1] =', my_list[-3:-1])  # а это какие будут?\n",
        "print('my_list[0:5:2] =', my_list[0:5:2])  # можно как и в циклах задать шаг\n",
        "try:\n",
        "    print('my_list[5] =', my_list[5])  # ошибка, такого нет\n",
        "except IndexError:\n",
        "    pass"
      ],
      "metadata": {
        "colab": {
          "base_uri": "https://localhost:8080/"
        },
        "id": "q-ABhvH-xxHr",
        "outputId": "8b8ad3b2-63aa-46e5-c4a4-a69b9104b2a5"
      },
      "execution_count": null,
      "outputs": [
        {
          "output_type": "stream",
          "name": "stdout",
          "text": [
            "my_list[0] = 5\n",
            "my_list[1] = 4\n",
            "my_list[:2] = [5, 4]\n",
            "my_list[1:3] = [4, 3]\n",
            "my_list[-1] = 1 1\n",
            "my_list[-2] = 2\n",
            "my_list[-3:-1] = [3, 2]\n",
            "my_list[0:5:2] = [5, 3, 1]\n"
          ]
        }
      ]
    },
    {
      "cell_type": "code",
      "source": [
        "my_list.__getitem__(3) == my_list[3]"
      ],
      "metadata": {
        "colab": {
          "base_uri": "https://localhost:8080/"
        },
        "id": "h8_MRyahx4CC",
        "outputId": "e150e29d-fb19-4bed-acc9-8b51b0a171fa"
      },
      "execution_count": null,
      "outputs": [
        {
          "output_type": "execute_result",
          "data": {
            "text/plain": [
              "True"
            ]
          },
          "metadata": {},
          "execution_count": 21
        }
      ]
    },
    {
      "cell_type": "code",
      "source": [
        "numbers = [1, 5, 3, 8, 2, -1, 0]\n",
        "\n",
        "for elem in numbers:\n",
        "    print(elem, end=\" \")\n",
        "print()"
      ],
      "metadata": {
        "colab": {
          "base_uri": "https://localhost:8080/"
        },
        "id": "aSwJuRe_yPHj",
        "outputId": "9f0ade93-875b-41ce-982b-d1111ae50560"
      },
      "execution_count": null,
      "outputs": [
        {
          "output_type": "stream",
          "name": "stdout",
          "text": [
            "1 5 3 8 2 -1 0 \n"
          ]
        }
      ]
    },
    {
      "cell_type": "code",
      "source": [
        "print(numbers)"
      ],
      "metadata": {
        "colab": {
          "base_uri": "https://localhost:8080/"
        },
        "id": "_Mmnlcp7yvVq",
        "outputId": "591f44f0-174e-4d9a-c63a-86565aa3a887"
      },
      "execution_count": null,
      "outputs": [
        {
          "output_type": "stream",
          "name": "stdout",
          "text": [
            "[1, 5, 3, 8, 2, -1, 0]\n"
          ]
        }
      ]
    },
    {
      "cell_type": "code",
      "source": [
        "print(*numbers)"
      ],
      "metadata": {
        "colab": {
          "base_uri": "https://localhost:8080/"
        },
        "id": "w-HLXAM3yb17",
        "outputId": "514aadad-48fc-48ce-cb5f-56dc39e74742"
      },
      "execution_count": null,
      "outputs": [
        {
          "output_type": "stream",
          "name": "stdout",
          "text": [
            "1 5 3 8 2 -1 0\n"
          ]
        }
      ]
    },
    {
      "cell_type": "code",
      "source": [
        "print(*numbers, sep=\" ! \")"
      ],
      "metadata": {
        "colab": {
          "base_uri": "https://localhost:8080/"
        },
        "id": "ZogYf6t4ydpy",
        "outputId": "19606ca2-4e31-429b-b9bd-bdb6f3c30aed"
      },
      "execution_count": null,
      "outputs": [
        {
          "output_type": "stream",
          "name": "stdout",
          "text": [
            "1 ! 5 ! 3 ! 8 ! 2 ! -1 ! 0\n"
          ]
        }
      ]
    },
    {
      "cell_type": "code",
      "source": [
        "print(\" ! \".join(map(str, numbers)))"
      ],
      "metadata": {
        "colab": {
          "base_uri": "https://localhost:8080/"
        },
        "id": "Vcch-JT1ygUY",
        "outputId": "987e04c3-2dc1-4ec5-96d5-63d3523aa234"
      },
      "execution_count": null,
      "outputs": [
        {
          "output_type": "stream",
          "name": "stdout",
          "text": [
            "1 ! 5 ! 3 ! 8 ! 2 ! -1 ! 0\n"
          ]
        }
      ]
    },
    {
      "cell_type": "code",
      "source": [
        "a = [1,2,3]\n",
        "a[0] = 0\n",
        "print(a)\n",
        "\n",
        "a[:2] = [5,6]\n",
        "print(a)"
      ],
      "metadata": {
        "colab": {
          "base_uri": "https://localhost:8080/"
        },
        "id": "mbO0_abJy46A",
        "outputId": "90b0135f-7612-44f8-e920-b6ee4815d1d8"
      },
      "execution_count": null,
      "outputs": [
        {
          "output_type": "stream",
          "name": "stdout",
          "text": [
            "[0, 2, 3]\n",
            "[5, 6, 3]\n"
          ]
        }
      ]
    },
    {
      "cell_type": "code",
      "source": [
        "# вот так копировать плохо!\n",
        "a = [1, 2, 3]\n",
        "b = a\n",
        "\n",
        "# и вот почему\n",
        "\n",
        "a[0] = 0\n",
        "\n",
        "print(a, id(a))  # ячейки памяти одинаковые\n",
        "print(b, id(b))"
      ],
      "metadata": {
        "colab": {
          "base_uri": "https://localhost:8080/"
        },
        "id": "R9unxfFKzD6K",
        "outputId": "279ec42f-9e09-47a8-f781-9c8e97357bf2"
      },
      "execution_count": null,
      "outputs": [
        {
          "output_type": "stream",
          "name": "stdout",
          "text": [
            "[0, 2, 3] 134188292173760\n",
            "[0, 2, 3] 134188292173760\n"
          ]
        }
      ]
    },
    {
      "cell_type": "code",
      "source": [
        "# но копировать можно так\n",
        "\n",
        "a = [1, 2, 3]\n",
        "b = a[:]  # потому что срез создает новый массив\n",
        "\n",
        "a[0] = 0\n",
        "\n",
        "print(a, id(a))  # ячейки памяти разные\n",
        "print(b, id(b))"
      ],
      "metadata": {
        "colab": {
          "base_uri": "https://localhost:8080/"
        },
        "id": "raHxnGfSzMhH",
        "outputId": "876594a4-ee48-4d81-a93b-e41e39b8e807"
      },
      "execution_count": null,
      "outputs": [
        {
          "output_type": "stream",
          "name": "stdout",
          "text": [
            "[0, 2, 3] 134188293567488\n",
            "[1, 2, 3] 134188291939392\n"
          ]
        }
      ]
    },
    {
      "cell_type": "code",
      "source": [
        "# но копировать можно так\n",
        "\n",
        "a = [[1, 2, 3]]\n",
        "b = a[:]  # потому что срез создает новый массив\n",
        "\n",
        "a[0][0] = 0\n",
        "\n",
        "print(a, id(a))  # ячейки памяти разные\n",
        "print(b, id(b))\n",
        "print(id(a[0]))  # ячейки памяти одинаковые\n",
        "print(id(b[0]))\n"
      ],
      "metadata": {
        "colab": {
          "base_uri": "https://localhost:8080/"
        },
        "id": "8AEyXcHMzSUH",
        "outputId": "f592fc47-c4b0-459b-a14a-ffaa1538b52d"
      },
      "execution_count": null,
      "outputs": [
        {
          "output_type": "stream",
          "name": "stdout",
          "text": [
            "[[0, 2, 3]] 134188292252992\n",
            "[[0, 2, 3]] 134188292245312\n",
            "134188292248640\n",
            "134188292248640\n"
          ]
        }
      ]
    },
    {
      "cell_type": "code",
      "source": [
        "from copy import deepcopy\n",
        "\n",
        "a = [[1, 2, 3]]\n",
        "b = deepcopy(a)\n",
        "\n",
        "a[0][0] = 0\n",
        "\n",
        "print(a, id(a))  # ячейки памяти разные\n",
        "print(b, id(b))"
      ],
      "metadata": {
        "colab": {
          "base_uri": "https://localhost:8080/"
        },
        "id": "Ogp_P05GzV7P",
        "outputId": "338df7b0-b257-4e84-de2e-aea540b25f08"
      },
      "execution_count": null,
      "outputs": [
        {
          "output_type": "stream",
          "name": "stdout",
          "text": [
            "[[0, 2, 3]] 134188292241728\n",
            "[[1, 2, 3]] 134188292230272\n"
          ]
        }
      ]
    },
    {
      "cell_type": "code",
      "source": [
        "# вот так можно вводить списки\n",
        "\n",
        "my_list = list(map(int, input().split()))  # аналогично можно заменить на float, например\n",
        "print(my_list)"
      ],
      "metadata": {
        "colab": {
          "base_uri": "https://localhost:8080/"
        },
        "id": "T5Vfl8AfzllH",
        "outputId": "4c96931c-a2d4-4225-e4c9-46505d872d52"
      },
      "execution_count": null,
      "outputs": [
        {
          "output_type": "stream",
          "name": "stdout",
          "text": [
            "1 2 3 4 5 6 7 8 9 10\n",
            "[1, 2, 3, 4, 5, 6, 7, 8, 9, 10]\n"
          ]
        }
      ]
    },
    {
      "cell_type": "code",
      "source": [
        "my_list = input().split()  # список строк, разделенных по пробелу\n",
        "print(my_list)"
      ],
      "metadata": {
        "colab": {
          "base_uri": "https://localhost:8080/"
        },
        "id": "tg7TTrwxzzEr",
        "outputId": "f93acb35-b6b5-46d2-89dd-503f37f88753"
      },
      "execution_count": null,
      "outputs": [
        {
          "output_type": "stream",
          "name": "stdout",
          "text": [
            "13e12e dqwqw\n",
            "['13e12e', 'dqwqw']\n"
          ]
        }
      ]
    },
    {
      "cell_type": "code",
      "source": [
        "my_list = list(input())  # а что произойдет тут?\n",
        "print(my_list)"
      ],
      "metadata": {
        "colab": {
          "base_uri": "https://localhost:8080/"
        },
        "id": "ge1Qhel10FCh",
        "outputId": "150b6d03-6506-46a1-e7dc-5fc9c16dfaaf"
      },
      "execution_count": null,
      "outputs": [
        {
          "output_type": "stream",
          "name": "stdout",
          "text": [
            "asd2fgewgergerg\n",
            "['a', 's', 'd', '2', 'f', 'g', 'e', 'w', 'g', 'e', 'r', 'g', 'e', 'r', 'g']\n"
          ]
        }
      ]
    },
    {
      "cell_type": "code",
      "source": [
        "list(\"abcdefg\")"
      ],
      "metadata": {
        "colab": {
          "base_uri": "https://localhost:8080/"
        },
        "id": "ram7hrdD0LyT",
        "outputId": "1422a32a-682c-485a-a9e8-af4c04f833fb"
      },
      "execution_count": null,
      "outputs": [
        {
          "output_type": "execute_result",
          "data": {
            "text/plain": [
              "['a', 'b', 'c', 'd', 'e', 'f', 'g']"
            ]
          },
          "metadata": {},
          "execution_count": 43
        }
      ]
    },
    {
      "cell_type": "markdown",
      "source": [
        "## Tuple (кортеж)\n",
        "неизменяемые (иммутабельные) списки"
      ],
      "metadata": {
        "id": "ToB96G1q0U1_"
      }
    },
    {
      "cell_type": "code",
      "source": [
        "my_tuple = (1, 2, 3)\n",
        "\n",
        "# можно делать то же самое, что и со списками, только менять нельзя\n",
        "\n",
        "print(my_tuple[0])\n",
        "print(my_tuple[1:3])\n",
        "print(len(my_tuple))\n",
        "try:\n",
        "    my_tuple[0] = -1  # так нельзя\n",
        "except TypeError:\n",
        "    print(\"ERROR\")"
      ],
      "metadata": {
        "colab": {
          "base_uri": "https://localhost:8080/"
        },
        "id": "uVdFmPDQ0RBu",
        "outputId": "106b749d-a669-4e7b-9397-bbd472574672"
      },
      "execution_count": null,
      "outputs": [
        {
          "output_type": "stream",
          "name": "stdout",
          "text": [
            "1\n",
            "(2, 3)\n",
            "3\n",
            "ERROR\n"
          ]
        }
      ]
    },
    {
      "cell_type": "code",
      "source": [
        "for elem in my_tuple:\n",
        "    print(elem)"
      ],
      "metadata": {
        "colab": {
          "base_uri": "https://localhost:8080/"
        },
        "id": "FM5NsoO70d7B",
        "outputId": "08ff0b9b-789d-4f13-b590-91c1209dd365"
      },
      "execution_count": null,
      "outputs": [
        {
          "output_type": "stream",
          "name": "stdout",
          "text": [
            "1\n",
            "2\n",
            "3\n"
          ]
        }
      ]
    },
    {
      "cell_type": "code",
      "source": [
        "my_tuple.__getitem__(0)"
      ],
      "metadata": {
        "colab": {
          "base_uri": "https://localhost:8080/"
        },
        "id": "pq4KDYRM0jR2",
        "outputId": "5eaee2e9-bbef-4a71-e8c4-5ce0680d908c"
      },
      "execution_count": null,
      "outputs": [
        {
          "output_type": "execute_result",
          "data": {
            "text/plain": [
              "1"
            ]
          },
          "metadata": {},
          "execution_count": 50
        }
      ]
    },
    {
      "cell_type": "code",
      "source": [
        "a = (1,)\n",
        "print(type(a))"
      ],
      "metadata": {
        "colab": {
          "base_uri": "https://localhost:8080/"
        },
        "id": "-A7RDvRi0nE_",
        "outputId": "d697e4c4-de90-44e2-8d2f-2441a8c31887"
      },
      "execution_count": null,
      "outputs": [
        {
          "output_type": "stream",
          "name": "stdout",
          "text": [
            "<class 'tuple'>\n"
          ]
        }
      ]
    },
    {
      "cell_type": "code",
      "source": [
        "# а еще кортеж есть меньше места\n",
        "\n",
        "a = [1, 2, 3]\n",
        "b = (1, 2, 3)\n",
        "\n",
        "print(a.__sizeof__())  # почему так? потому что выделяется доп пямять, так называемый резерв\n",
        "print(b.__sizeof__())  # а кортеж занимает почти в 3 (!!!) раза меньше памяти"
      ],
      "metadata": {
        "colab": {
          "base_uri": "https://localhost:8080/"
        },
        "id": "FVf_wsVD0wug",
        "outputId": "0344745d-900b-4974-bacd-fa18474dceb8"
      },
      "execution_count": null,
      "outputs": [
        {
          "output_type": "stream",
          "name": "stdout",
          "text": [
            "72\n",
            "48\n"
          ]
        }
      ]
    },
    {
      "cell_type": "code",
      "source": [
        "from random import shuffle\n",
        "\n",
        "my_own_list = [1, 2, 3]\n",
        "\n",
        "my_own_list.extend([4, 5, 6])  # аналогично можно написать my_own_list += [4, 5, 6]\n",
        "print('after extend:', my_own_list)\n",
        "\n",
        "my_own_list.append(7)  # \"константное\" время, амортизированно O(1)\n",
        "print('after append:', my_own_list)\n",
        "\n",
        "del my_own_list[0]  # линейное время, в худшем случае O(n), где n -- размер списка\n",
        "print('after del:', my_own_list)\n",
        "\n",
        "print('index of value 2:', my_own_list.index(2))  # находим элемент в массиве, линейный поиск на O(n)\n",
        "\n",
        "print('popped value:', my_own_list.pop())  # удаление из конца, быстро, за O(1), возвращает удаленное значение\n",
        "print('after pop', my_own_list)\n",
        "\n",
        "my_own_list.insert(0, 1)  # тоже дорого, O(n) времени\n",
        "print('after insert(0, 1):', my_own_list)\n",
        "\n",
        "my_own_list.reverse()  # развернем список!\n",
        "print('after reverse:', my_own_list)\n",
        "\n",
        "my_own_list = my_own_list[::-1]\n",
        "print(my_own_list[::-1])  # или развернем вот так\n",
        "print('after reverse one more time:', my_own_list)\n",
        "\n",
        "shuffle(my_own_list)\n",
        "print('after shuffle:', my_own_list)\n",
        "\n",
        "my_own_list.sort()  # а еще тут есть параметр reverse=True, если надо в обратную сторону\n",
        "# или my_own_list = sorted(my_own_list)\n",
        "print('after sort:', my_own_list)\n",
        "\n",
        "my_own_list.remove(6)\n",
        "print('after remove 6:', my_own_list)\n",
        "\n",
        "my_own_list.clear()  # удаляем все элеметы\n",
        "print('after clear:', my_own_list)\n",
        "\n",
        "my_own_list.remove(6)  # а вот так уже нельзя :(\n",
        "print('after remove 6 when it is not present:', my_own_list)"
      ],
      "metadata": {
        "colab": {
          "base_uri": "https://localhost:8080/",
          "height": 463
        },
        "id": "iTGqk2qO06BA",
        "outputId": "19b25d78-9938-49a9-e9b5-a70fa0b6ee67"
      },
      "execution_count": null,
      "outputs": [
        {
          "output_type": "stream",
          "name": "stdout",
          "text": [
            "after extend: [1, 2, 3, 4, 5, 6]\n",
            "after append: [1, 2, 3, 4, 5, 6, 7]\n",
            "after del: [2, 3, 4, 5, 6, 7]\n",
            "index of value 2: 0\n",
            "popped value: 7\n",
            "after pop [2, 3, 4, 5, 6]\n",
            "after insert(0, 1): [1, 2, 3, 4, 5, 6]\n",
            "after reverse: [6, 5, 4, 3, 2, 1]\n",
            "[6, 5, 4, 3, 2, 1]\n",
            "after reverse one more time: [1, 2, 3, 4, 5, 6]\n",
            "after shuffle: [3, 2, 5, 1, 6, 4]\n",
            "after sort: [1, 2, 3, 4, 5, 6]\n",
            "after remove 6: [1, 2, 3, 4, 5]\n",
            "after clear: []\n"
          ]
        },
        {
          "output_type": "error",
          "ename": "ValueError",
          "evalue": "ignored",
          "traceback": [
            "\u001b[0;31m---------------------------------------------------------------------------\u001b[0m",
            "\u001b[0;31mValueError\u001b[0m                                Traceback (most recent call last)",
            "\u001b[0;32m<ipython-input-54-3bac08138109>\u001b[0m in \u001b[0;36m<cell line: 42>\u001b[0;34m()\u001b[0m\n\u001b[1;32m     40\u001b[0m \u001b[0mprint\u001b[0m\u001b[0;34m(\u001b[0m\u001b[0;34m'after clear:'\u001b[0m\u001b[0;34m,\u001b[0m \u001b[0mmy_own_list\u001b[0m\u001b[0;34m)\u001b[0m\u001b[0;34m\u001b[0m\u001b[0;34m\u001b[0m\u001b[0m\n\u001b[1;32m     41\u001b[0m \u001b[0;34m\u001b[0m\u001b[0m\n\u001b[0;32m---> 42\u001b[0;31m \u001b[0mmy_own_list\u001b[0m\u001b[0;34m.\u001b[0m\u001b[0mremove\u001b[0m\u001b[0;34m(\u001b[0m\u001b[0;36m6\u001b[0m\u001b[0;34m)\u001b[0m  \u001b[0;31m# а вот так уже нельзя :(\u001b[0m\u001b[0;34m\u001b[0m\u001b[0;34m\u001b[0m\u001b[0m\n\u001b[0m\u001b[1;32m     43\u001b[0m \u001b[0mprint\u001b[0m\u001b[0;34m(\u001b[0m\u001b[0;34m'after remove 6 when it is not present:'\u001b[0m\u001b[0;34m,\u001b[0m \u001b[0mmy_own_list\u001b[0m\u001b[0;34m)\u001b[0m\u001b[0;34m\u001b[0m\u001b[0;34m\u001b[0m\u001b[0m\n",
            "\u001b[0;31mValueError\u001b[0m: list.remove(x): x not in list"
          ]
        }
      ]
    },
    {
      "cell_type": "markdown",
      "source": [
        "## Строки"
      ],
      "metadata": {
        "id": "VQgtnEVd1KZs"
      }
    },
    {
      "cell_type": "code",
      "source": [
        "s = \"somebody once told me\"\n",
        "t = \"GO DOWN MOSES\""
      ],
      "metadata": {
        "id": "Rmjl-MCY1HRx"
      },
      "execution_count": null,
      "outputs": []
    },
    {
      "cell_type": "code",
      "source": [
        "print(s.capitalize())  # оставить все буквы строчные, первую сделать заглавной\n",
        "print(s)  # заметьте, что сама строка не меняется, потому что иммутабельна\n",
        "print(s.upper())  # все заглавные\n",
        "print(t.lower())  # все строчные\n",
        "print(t.capitalize())"
      ],
      "metadata": {
        "colab": {
          "base_uri": "https://localhost:8080/"
        },
        "id": "6TmWAEAj1NjA",
        "outputId": "f71848d8-4555-47c5-f906-e03d45689092"
      },
      "execution_count": null,
      "outputs": [
        {
          "output_type": "stream",
          "name": "stdout",
          "text": [
            "Somebody once told me\n",
            "somebody once told me\n",
            "SOMEBODY ONCE TOLD ME\n",
            "go down moses\n",
            "Go down moses\n"
          ]
        }
      ]
    },
    {
      "cell_type": "code",
      "source": [
        "try:\n",
        "    s[0] = \"a\"\n",
        "except TypeError:\n",
        "    print(\"ERROR\")"
      ],
      "metadata": {
        "colab": {
          "base_uri": "https://localhost:8080/"
        },
        "id": "J59qSZu41PeM",
        "outputId": "a226514e-2ac3-4c7d-db6c-510251fdf0bd"
      },
      "execution_count": null,
      "outputs": [
        {
          "output_type": "stream",
          "name": "stdout",
          "text": [
            "ERROR\n"
          ]
        }
      ]
    },
    {
      "cell_type": "code",
      "source": [
        "print(id(s))\n",
        "s += \"abc\"\n",
        "print(id(s))"
      ],
      "metadata": {
        "colab": {
          "base_uri": "https://localhost:8080/"
        },
        "id": "DIxBD90S1Xww",
        "outputId": "30f50738-9059-4d2f-d76e-ffb99d2f344d"
      },
      "execution_count": null,
      "outputs": [
        {
          "output_type": "stream",
          "name": "stdout",
          "text": [
            "134188291823120\n",
            "134188291793792\n"
          ]
        }
      ]
    },
    {
      "cell_type": "code",
      "source": [
        "# можно работать с индексами как со списками и кортежами\n",
        "\n",
        "print(s[0])\n",
        "print(s[2:10:2])"
      ],
      "metadata": {
        "colab": {
          "base_uri": "https://localhost:8080/"
        },
        "id": "3SoBX-ct1hb1",
        "outputId": "1368f0b3-68da-4b65-f93e-fe82e4401ebf"
      },
      "execution_count": null,
      "outputs": [
        {
          "output_type": "stream",
          "name": "stdout",
          "text": [
            "s\n",
            "mbd \n"
          ]
        }
      ]
    },
    {
      "cell_type": "code",
      "source": [
        "s = s.replace(\"somebody\", \"nobody\")  # заменить все вхождения подстроки на другую\n",
        "print(s)"
      ],
      "metadata": {
        "colab": {
          "base_uri": "https://localhost:8080/"
        },
        "id": "2WEg35Gb1mCx",
        "outputId": "75fa2b5c-78ac-4f30-cb08-3db27f6e6594"
      },
      "execution_count": null,
      "outputs": [
        {
          "output_type": "stream",
          "name": "stdout",
          "text": [
            "nobody once told meabc\n"
          ]
        }
      ]
    },
    {
      "cell_type": "code",
      "source": [
        "s = \"aaaaa\"\n",
        "print(s.replace(\"aa\", \"b\", 1))  # хм, а тут что будет?"
      ],
      "metadata": {
        "colab": {
          "base_uri": "https://localhost:8080/"
        },
        "id": "BlPXgSHJ1omQ",
        "outputId": "1d55f8b1-892d-4380-ec17-9a967a4a6377"
      },
      "execution_count": null,
      "outputs": [
        {
          "output_type": "stream",
          "name": "stdout",
          "text": [
            "baaa\n"
          ]
        }
      ]
    },
    {
      "cell_type": "code",
      "source": [
        "print(\", \".join([\"bread\", \"milk\", \"cheese\"]))"
      ],
      "metadata": {
        "colab": {
          "base_uri": "https://localhost:8080/"
        },
        "id": "PA3Xu5lh1yc6",
        "outputId": "d7cbea78-6c91-46b9-c227-e0e86db9a17d"
      },
      "execution_count": null,
      "outputs": [
        {
          "output_type": "stream",
          "name": "stdout",
          "text": [
            "bread, milk, cheese\n"
          ]
        }
      ]
    },
    {
      "cell_type": "code",
      "source": [
        "print(s.count(\"e\"))  # количество вхождений символа\n",
        "print(\"abracadabra\".count(\"ra\"))  # или целой подстроки"
      ],
      "metadata": {
        "colab": {
          "base_uri": "https://localhost:8080/"
        },
        "id": "rdqHwTv515BI",
        "outputId": "a90628d9-6bca-40b9-b3b5-8b32878c7a1b"
      },
      "execution_count": null,
      "outputs": [
        {
          "output_type": "stream",
          "name": "stdout",
          "text": [
            "0\n",
            "2\n"
          ]
        }
      ]
    },
    {
      "cell_type": "code",
      "source": [
        "s = \"say what again, i dare you, i double dare you\"\n",
        "print(s.find(\"dare\"))  # индекс первого вхождения, вторым аргументом можно указать, с какого индекса начинать иска"
      ],
      "metadata": {
        "colab": {
          "base_uri": "https://localhost:8080/"
        },
        "id": "4k5yztoS19ih",
        "outputId": "7c790337-b76f-434b-ab5e-fa69d6510932"
      },
      "execution_count": null,
      "outputs": [
        {
          "output_type": "stream",
          "name": "stdout",
          "text": [
            "18\n"
          ]
        }
      ]
    },
    {
      "cell_type": "code",
      "source": [
        "s = \"say what again, i dare you, i double dare you\"\n",
        "print(s.rfind(\"dare\"))  # индекс первого вхождения, вторым аргументом можно указать, с какого индекса начинать иска"
      ],
      "metadata": {
        "colab": {
          "base_uri": "https://localhost:8080/"
        },
        "id": "_mGQll6i2A6y",
        "outputId": "4e2452db-8125-436b-e954-2379a674b9bd"
      },
      "execution_count": null,
      "outputs": [
        {
          "output_type": "stream",
          "name": "stdout",
          "text": [
            "37\n"
          ]
        }
      ]
    },
    {
      "cell_type": "code",
      "source": [
        "print(s.startswith(\"say\"))  # начинается с say\n",
        "print(s.endswith(\"you\"))  # заканчивается на you\n",
        "print(s.startswith(\"cry\"))"
      ],
      "metadata": {
        "colab": {
          "base_uri": "https://localhost:8080/"
        },
        "id": "6MAiOVoV2DO2",
        "outputId": "5a6b72dc-5087-44fc-8f8f-b2872a27da66"
      },
      "execution_count": null,
      "outputs": [
        {
          "output_type": "stream",
          "name": "stdout",
          "text": [
            "True\n",
            "True\n",
            "False\n"
          ]
        }
      ]
    },
    {
      "cell_type": "code",
      "source": [
        "s = \"    hello, honey!   \"\n",
        "\n",
        "print(s.__repr__())  # __repr__ тут нужен, чтобы увидеть скрытые символы\n",
        "print(s.strip().__repr__())  # обрезать с двух сторон все пробельные символы\n",
        "print(s.rstrip().__repr__())  # только справа\n",
        "print(s.lstrip().__repr__())  # только слева"
      ],
      "metadata": {
        "colab": {
          "base_uri": "https://localhost:8080/"
        },
        "id": "GKhRVTdD2MQP",
        "outputId": "be291fab-164d-4619-8094-e3cd632db451"
      },
      "execution_count": null,
      "outputs": [
        {
          "output_type": "stream",
          "name": "stdout",
          "text": [
            "'    hello, honey!   '\n",
            "'hello, honey!'\n",
            "'    hello, honey!'\n",
            "'hello, honey!   '\n"
          ]
        }
      ]
    },
    {
      "cell_type": "code",
      "source": [
        "# with open(\"file\", \"r\") as f:\n",
        "#     for line in f:\n",
        "#         line = line.strip()"
      ],
      "metadata": {
        "id": "8KbbSieW2RcE"
      },
      "execution_count": null,
      "outputs": []
    },
    {
      "cell_type": "code",
      "source": [
        "s = \"hello world\"\n",
        "print(s.split())\n",
        "\n",
        "s = \"hello, world\"\n",
        "print(s.split(\",\"))  # можно делать сплит по любой строке\n",
        "\n",
        "s = \"hello\"\n",
        "print(s.isalpha())  # только буквы\n",
        "\n",
        "s = \"hello!\"\n",
        "print(s.isalpha())\n",
        "\n",
        "s = \"12345\"\n",
        "print(s.isdigit())  # только цифры\n",
        "\n",
        "s = \"abc123\"\n",
        "print(s.isalnum())  # буквы и цифры\n",
        "\n",
        "print(s.islower())  # только нижний регистр (и цифры)\n",
        "\n",
        "print(s.isupper())  # только нижний регистр (и цифры)\n",
        "\n",
        "s = \"   \\n\\t\"\n",
        "print(s.isspace())  # проверка что строка состоит из пробельных символов (в том числе табы и \\n)"
      ],
      "metadata": {
        "colab": {
          "base_uri": "https://localhost:8080/"
        },
        "id": "1qK9mZ-o2cVo",
        "outputId": "fa014c63-7abf-4829-b77f-2535b0ad771a"
      },
      "execution_count": null,
      "outputs": [
        {
          "output_type": "stream",
          "name": "stdout",
          "text": [
            "['hello', 'world']\n",
            "['hello', ' world']\n",
            "True\n",
            "False\n",
            "True\n",
            "True\n",
            "True\n",
            "False\n",
            "True\n"
          ]
        }
      ]
    },
    {
      "cell_type": "code",
      "source": [
        "s = \"\"\"Brian\n",
        "Top marks for not trying\n",
        "So kind of you to bless us\n",
        "With your effortlessness\n",
        "We're grateful and so strangely comforted.\n",
        "\"\"\"  # строки можно делать мультилайновыми\n",
        "\n",
        "s"
      ],
      "metadata": {
        "colab": {
          "base_uri": "https://localhost:8080/",
          "height": 35
        },
        "id": "aTyNjoq-2jY3",
        "outputId": "7dd40234-07a6-4a5f-b405-d86d323e0599"
      },
      "execution_count": null,
      "outputs": [
        {
          "output_type": "execute_result",
          "data": {
            "text/plain": [
              "\"Brian\\nTop marks for not trying\\nSo kind of you to bless us\\nWith your effortlessness\\nWe're grateful and so strangely comforted.\\n\""
            ],
            "application/vnd.google.colaboratory.intrinsic+json": {
              "type": "string"
            }
          },
          "metadata": {},
          "execution_count": 78
        }
      ]
    },
    {
      "cell_type": "code",
      "source": [
        "print(s)"
      ],
      "metadata": {
        "colab": {
          "base_uri": "https://localhost:8080/"
        },
        "id": "ieAIZj1v2uop",
        "outputId": "cc9618ca-40e7-4dcf-b116-418ac5ef7fbc"
      },
      "execution_count": null,
      "outputs": [
        {
          "output_type": "stream",
          "name": "stdout",
          "text": [
            "Brian\n",
            "Top marks for not trying\n",
            "So kind of you to bless us\n",
            "With your effortlessness\n",
            "We're grateful and so strangely comforted.\n",
            "\n"
          ]
        }
      ]
    },
    {
      "cell_type": "code",
      "source": [
        "s = \"I'm going back to 505\"\n",
        "\n",
        "for idx, symbol in enumerate(s, start=1):\n",
        "    print(f\"Symbol on position {idx} is {symbol}\")"
      ],
      "metadata": {
        "colab": {
          "base_uri": "https://localhost:8080/"
        },
        "id": "GZwI5pCH2xrj",
        "outputId": "7707aa21-f2f1-4c7b-bdd4-79ceb8d5a692"
      },
      "execution_count": null,
      "outputs": [
        {
          "output_type": "stream",
          "name": "stdout",
          "text": [
            "Symbol on position 1 is I\n",
            "Symbol on position 2 is '\n",
            "Symbol on position 3 is m\n",
            "Symbol on position 4 is  \n",
            "Symbol on position 5 is g\n",
            "Symbol on position 6 is o\n",
            "Symbol on position 7 is i\n",
            "Symbol on position 8 is n\n",
            "Symbol on position 9 is g\n",
            "Symbol on position 10 is  \n",
            "Symbol on position 11 is b\n",
            "Symbol on position 12 is a\n",
            "Symbol on position 13 is c\n",
            "Symbol on position 14 is k\n",
            "Symbol on position 15 is  \n",
            "Symbol on position 16 is t\n",
            "Symbol on position 17 is o\n",
            "Symbol on position 18 is  \n",
            "Symbol on position 19 is 5\n",
            "Symbol on position 20 is 0\n",
            "Symbol on position 21 is 5\n"
          ]
        }
      ]
    },
    {
      "cell_type": "code",
      "source": [],
      "metadata": {
        "id": "w3_IX7G726jD"
      },
      "execution_count": null,
      "outputs": []
    }
  ]
}