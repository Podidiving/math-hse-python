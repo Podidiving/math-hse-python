{
  "cells": [
    {
      "cell_type": "markdown",
      "metadata": {
        "id": "dxauLtryzxYN"
      },
      "source": [
        "![](https://gohighbrow.com/wp-content/uploads/2018/07/Computer-science-fundamentals_6.1.png)"
      ]
    },
    {
      "cell_type": "code",
      "execution_count": null,
      "metadata": {
        "colab": {
          "base_uri": "https://localhost:8080/"
        },
        "id": "Wwb6H7x-yNNe",
        "outputId": "9368d170-bfa8-40c9-d2cf-3229d45f9eeb"
      },
      "outputs": [
        {
          "name": "stdout",
          "output_type": "stream",
          "text": [
            "2\n",
            "1\n",
            "0\n"
          ]
        }
      ],
      "source": [
        "# [] -> [0] -> [0, 1] -> [0, 1, 2] -> [0, 1]\n",
        "stack = list()\n",
        "\n",
        "# add to stack\n",
        "stack.append(0)  # O(1)\n",
        "stack.append(1)  # O(1)\n",
        "stack.append(2)  # O(1)\n",
        "\n",
        "# delete from stack\n",
        "print(stack.pop())  # O(1)\n",
        "print(stack.pop())  # O(1)\n",
        "print(stack.pop())  # O(1)"
      ]
    },
    {
      "cell_type": "markdown",
      "metadata": {
        "id": "FXr-doFS3w4u"
      },
      "source": [
        "### ПСП (Правильная скобочная последовательность)\n",
        "\n",
        "строка, состоящая из `(` и `)`\n",
        "\n",
        "строка может быть ПСП либо не ПСП\n",
        "\n",
        "ПСП:\n",
        "1. пустая строка - ПСП\n",
        "2. если A ПСП -> (A) - ПСП\n",
        "3. если A и B ПСП -> AB - ПСП\n",
        "\n",
        "\n",
        "**ПСП**: последовательность с неотрициательным балансом на любом префиксе и вся строка имеет баланс 0\n",
        "\n",
        "\n",
        "Баланс: `( == 1`, `) == -1`"
      ]
    },
    {
      "cell_type": "code",
      "execution_count": null,
      "metadata": {
        "colab": {
          "base_uri": "https://localhost:8080/"
        },
        "id": "Eg2Lc8-Q3u4u",
        "outputId": "d62b9581-df6d-4772-d88f-806119a995a2"
      },
      "outputs": [
        {
          "name": "stdout",
          "output_type": "stream",
          "text": [
            "BREAK ON PREFIX\n",
            "NOT PSP\n"
          ]
        }
      ],
      "source": [
        "s = \"(()))()))(())(()\"\n",
        "stack = []\n",
        "\n",
        "for i in s:\n",
        "    if i == \"(\":\n",
        "        stack.append(1)\n",
        "    else:\n",
        "        if len(stack) == 0:  # if not stack:\n",
        "            print(\"BREAK ON PREFIX\")\n",
        "            print(\"NOT PSP\")\n",
        "            break\n",
        "        else:\n",
        "            stack.pop()\n",
        "else:\n",
        "    if len(stack) == 0:\n",
        "        print(\"PSP\")\n",
        "    else:\n",
        "        print(\"BALANCE NOT 0\")\n",
        "        print(\"NOT PSP\")"
      ]
    },
    {
      "cell_type": "code",
      "execution_count": null,
      "metadata": {
        "colab": {
          "base_uri": "https://localhost:8080/"
        },
        "id": "yxp_54sm6trb",
        "outputId": "cd4677d4-7433-426d-a324-ab4f67c2c09c"
      },
      "outputs": [
        {
          "name": "stdout",
          "output_type": "stream",
          "text": [
            "0\n",
            "1\n",
            "2\n"
          ]
        }
      ],
      "source": [
        "# queue\n",
        "# [] -> [0] -> [0, 1] -> [0, 1, 2] -> [1, 2] -> [2] -> []\n",
        "a = []\n",
        "\n",
        "# add to queue\n",
        "a.append(0)  # O(1)\n",
        "a.append(1)  # O(1)\n",
        "a.append(2)  # O(1)\n",
        "\n",
        "# delete from queue\n",
        "print(a.pop(0))  # O(N)\n",
        "print(a.pop(0))  # O(N)\n",
        "print(a.pop(0))  # O(N)"
      ]
    },
    {
      "cell_type": "markdown",
      "metadata": {
        "id": "jGu4zkmFz2RF"
      },
      "source": [
        "### Глава 0: дэк\n",
        "Очень удобная структура данных, позволяющая добавлять элементы как в конец, так и в начало. На ее основе можно сделать очередь или двустороннюю очередь.\n",
        "Все добавления и удаления из конца происходят за константное количество операций, то есть за $O(1)$. Это быстро и очень удобно. Удаление из любой другой части **не гарантируют** такую быстроту. Под капотом дэк устроен из трех массивов на самом деле."
      ]
    },
    {
      "cell_type": "code",
      "execution_count": null,
      "metadata": {
        "id": "najUcfl5z7zO"
      },
      "outputs": [],
      "source": [
        "from collections import deque"
      ]
    },
    {
      "cell_type": "code",
      "execution_count": null,
      "metadata": {
        "colab": {
          "base_uri": "https://localhost:8080/"
        },
        "id": "vEwmQiPn7sz-",
        "outputId": "a460fcb9-d9f4-4452-b6fd-6ac762a4a383"
      },
      "outputs": [
        {
          "name": "stdout",
          "output_type": "stream",
          "text": [
            "0\n",
            "1\n",
            "2\n"
          ]
        }
      ],
      "source": [
        "queue = deque()\n",
        "\n",
        "\n",
        "queue.append(0)  # O(1)\n",
        "queue.append(1)  # O(1)\n",
        "queue.append(2)  # O(1)\n",
        "\n",
        "print(queue.popleft())  # O(1)\n",
        "print(queue.popleft())  # O(1)\n",
        "print(queue.popleft())  # O(1)"
      ]
    },
    {
      "cell_type": "code",
      "execution_count": null,
      "metadata": {
        "colab": {
          "base_uri": "https://localhost:8080/"
        },
        "id": "W2QCyltH8Amx",
        "outputId": "5aafb4f9-7d2f-44da-9636-190349dd63fd"
      },
      "outputs": [
        {
          "name": "stdout",
          "output_type": "stream",
          "text": [
            "2\n",
            "1\n",
            "0\n"
          ]
        }
      ],
      "source": [
        "stack = deque()\n",
        "\n",
        "\n",
        "stack.append(0)  # O(1)\n",
        "stack.append(1)  # O(1)\n",
        "stack.append(2)  # O(1)\n",
        "\n",
        "print(stack.pop())  # O(1)\n",
        "print(stack.pop())  # O(1)\n",
        "print(stack.pop())  # O(1)"
      ]
    },
    {
      "cell_type": "code",
      "execution_count": null,
      "metadata": {
        "colab": {
          "base_uri": "https://localhost:8080/"
        },
        "id": "keD604an8FOF",
        "outputId": "02786ab1-54fb-4ddc-b8b7-b41bb3e140a7"
      },
      "outputs": [
        {
          "data": {
            "text/plain": [
              "deque([2, 1, 0])"
            ]
          },
          "execution_count": 20,
          "metadata": {},
          "output_type": "execute_result"
        }
      ],
      "source": [
        "deq = deque()\n",
        "deq.appendleft(0)\n",
        "deq.appendleft(1)\n",
        "deq.appendleft(2)\n",
        "\n",
        "deq"
      ]
    },
    {
      "cell_type": "code",
      "execution_count": null,
      "metadata": {
        "id": "GUCRNm4C8K1_"
      },
      "outputs": [],
      "source": [
        "deq[1] = 10"
      ]
    },
    {
      "cell_type": "code",
      "execution_count": null,
      "metadata": {
        "colab": {
          "base_uri": "https://localhost:8080/"
        },
        "id": "yclWpVdi8Nds",
        "outputId": "5320a34c-cfa7-424b-8a2b-53c7832924e1"
      },
      "outputs": [
        {
          "data": {
            "text/plain": [
              "deque([2, 10, 0])"
            ]
          },
          "execution_count": 23,
          "metadata": {},
          "output_type": "execute_result"
        }
      ],
      "source": [
        "deq"
      ]
    },
    {
      "cell_type": "markdown",
      "metadata": {
        "id": "nrm129as0G1N"
      },
      "source": [
        "### Глава 1: введение в хэши\n",
        "\n",
        "**Definition:** A hash function is a function that takes a set of inputs of any arbitrary size and fits them into a table or other data structure that contains fixed-size elements.\n",
        "\n",
        "\n",
        "Более просто (но это не общий случай), можно считать, что некоторый объект `obj` может быть передан некоторой функции $f$, такой что $f(obj) \\in H\\subset\\mathbb{Z}$.\n",
        "\n",
        "С точки зрения практики, это, например, позволяет \"укомплектовать\" любого размера строчки в числа. При этом могут быть коллизии:"
      ]
    },
    {
      "cell_type": "markdown",
      "metadata": {
        "id": "kQfk4DMT0I8X"
      },
      "source": [
        "<img src=\"https://upload.wikimedia.org/wikipedia/commons/d/d0/Hash_table_5_0_1_1_1_1_1_LL.svg\" style=\"background-color:white\">"
      ]
    },
    {
      "cell_type": "markdown",
      "metadata": {
        "id": "NrBVP58x0NOq"
      },
      "source": [
        "**Пример:** как хэшировать строки? Например, пусть у нас есть некоторые простые числа $p > 2$ и $M$ (достаточно большое) и некоторая строка $s$ длины $n$, тогда\n",
        "$h(s) = s_1 * p + s_2 * p^2 + \\ldots + s_n * p^n \\mod M$\n",
        "\n",
        "Модуль здесь нужен, чтобы не хранить большие числа, так как такая полиномиальная функция обычно имеет без модуля очень большое значение. В питоне это не так критично, но в языках, где чаще всего размер числа ограничен 8 байтами, это может привести к проблемам.\n",
        "\n",
        "Простота чисел $p$ и $M$ здесь важна чтобы избежать случая, когда строки из одинаковых символов будут давать по модулю 0.\n",
        "\n",
        "Однако понятно, что тут все равно могут быть коллизии, причем коллизия будет порядка $\\frac{n - 1}{M}$ для строк длины $n$. Если $M$ достаточно большое простое, то это не так критично и хэш таблица такие случаи решать умеет (смотри картинку выше)."
      ]
    },
    {
      "cell_type": "markdown",
      "metadata": {
        "id": "yvOQIGV10KXT"
      },
      "source": [
        "### Глава 2: множества\n",
        "\n",
        "Множества в питоне -- это один из примеров реализации хэш-таблицы в питоне. Позволяет хранить неповторяющиеся объекты и быстро проверять их наличие. Добавление и проверка наличия происходит за $O(1)$, удаление -- тоже за $O(1)$ (с поправкой на коллизии)."
      ]
    },
    {
      "cell_type": "code",
      "execution_count": null,
      "metadata": {
        "colab": {
          "base_uri": "https://localhost:8080/"
        },
        "id": "iXtC0HxU0Igd",
        "outputId": "850cae29-c565-4dd2-cb06-6f5299883f94"
      },
      "outputs": [
        {
          "name": "stdout",
          "output_type": "stream",
          "text": [
            "True\n",
            "False\n"
          ]
        }
      ],
      "source": [
        "a = {1,2,3,4,5}\n",
        "# set([1,2,3,4,5])\n",
        "\n",
        "# add to set\n",
        "a.add(6)  # O(1)\n",
        "\n",
        "# remove from set\n",
        "a.remove(6)  # O(1)\n",
        "\n",
        "# check if in set\n",
        "print(1 in a)  # O(1)\n",
        "print(7 in a)  # O(1)"
      ]
    },
    {
      "cell_type": "code",
      "execution_count": null,
      "metadata": {
        "id": "0OcTN81g-pKj"
      },
      "outputs": [],
      "source": [
        "N_NUMBERS = 10 ** 4\n",
        "\n",
        "my_list = [i ** 2 for i in range(N_NUMBERS)]\n",
        "my_set = {i ** 2 for i in range(N_NUMBERS)}"
      ]
    },
    {
      "cell_type": "code",
      "execution_count": null,
      "metadata": {
        "colab": {
          "base_uri": "https://localhost:8080/"
        },
        "id": "33fUtokU_ENi",
        "outputId": "4d769d5f-4803-4334-9fcb-ef1696c50fe0"
      },
      "outputs": [
        {
          "name": "stdout",
          "output_type": "stream",
          "text": [
            "1.14 s ± 329 ms per loop (mean ± std. dev. of 7 runs, 1 loop each)\n"
          ]
        }
      ],
      "source": [
        "%%timeit\n",
        "\n",
        "for i in range(N_NUMBERS):\n",
        "    i in my_list"
      ]
    },
    {
      "cell_type": "code",
      "execution_count": null,
      "metadata": {
        "colab": {
          "base_uri": "https://localhost:8080/"
        },
        "id": "3lPMuhcF_OOO",
        "outputId": "033a5a30-8de9-4819-af4e-c9e736533af0"
      },
      "outputs": [
        {
          "name": "stdout",
          "output_type": "stream",
          "text": [
            "684 µs ± 24 µs per loop (mean ± std. dev. of 7 runs, 1000 loops each)\n"
          ]
        }
      ],
      "source": [
        "%%timeit\n",
        "\n",
        "for i in range(N_NUMBERS):\n",
        "    i in my_set"
      ]
    },
    {
      "cell_type": "code",
      "execution_count": null,
      "metadata": {
        "colab": {
          "base_uri": "https://localhost:8080/"
        },
        "id": "8yNxeoe6_Qsv",
        "outputId": "72a674c5-fb8e-4b50-bd2f-6e20e4897472"
      },
      "outputs": [
        {
          "name": "stdout",
          "output_type": "stream",
          "text": [
            "{1, 2, 3, 4, 5}\n",
            "{1, 2, 3, 4, 5}\n"
          ]
        }
      ],
      "source": [
        "# set consists of unique elements\n",
        "a = {1,2,3,4,5}\n",
        "\n",
        "print(a)\n",
        "a.add(1)\n",
        "print(a)"
      ]
    },
    {
      "cell_type": "code",
      "execution_count": null,
      "metadata": {
        "colab": {
          "base_uri": "https://localhost:8080/",
          "height": 225
        },
        "id": "oxL0XZZc_gdi",
        "outputId": "8ddc02d7-3ceb-42ce-dec1-78566afdfeba"
      },
      "outputs": [
        {
          "name": "stdout",
          "output_type": "stream",
          "text": [
            "{1, 2, 3, 4}\n"
          ]
        },
        {
          "ename": "KeyError",
          "evalue": "ignored",
          "output_type": "error",
          "traceback": [
            "\u001b[0;31m---------------------------------------------------------------------------\u001b[0m",
            "\u001b[0;31mKeyError\u001b[0m                                  Traceback (most recent call last)",
            "\u001b[0;32m<ipython-input-32-a521ddfdd2d8>\u001b[0m in \u001b[0;36m<cell line: 6>\u001b[0;34m()\u001b[0m\n\u001b[1;32m      4\u001b[0m \u001b[0ma\u001b[0m\u001b[0;34m.\u001b[0m\u001b[0mremove\u001b[0m\u001b[0;34m(\u001b[0m\u001b[0;36m5\u001b[0m\u001b[0;34m)\u001b[0m\u001b[0;34m\u001b[0m\u001b[0;34m\u001b[0m\u001b[0m\n\u001b[1;32m      5\u001b[0m \u001b[0mprint\u001b[0m\u001b[0;34m(\u001b[0m\u001b[0ma\u001b[0m\u001b[0;34m)\u001b[0m\u001b[0;34m\u001b[0m\u001b[0;34m\u001b[0m\u001b[0m\n\u001b[0;32m----> 6\u001b[0;31m \u001b[0ma\u001b[0m\u001b[0;34m.\u001b[0m\u001b[0mremove\u001b[0m\u001b[0;34m(\u001b[0m\u001b[0;36m5\u001b[0m\u001b[0;34m)\u001b[0m\u001b[0;34m\u001b[0m\u001b[0;34m\u001b[0m\u001b[0m\n\u001b[0m",
            "\u001b[0;31mKeyError\u001b[0m: 5"
          ]
        }
      ],
      "source": [
        "# remove may raise an exception\n",
        "\n",
        "a = {1,2,3,4,5}\n",
        "a.remove(5)\n",
        "print(a)\n",
        "a.remove(5)"
      ]
    },
    {
      "cell_type": "code",
      "execution_count": null,
      "metadata": {
        "colab": {
          "base_uri": "https://localhost:8080/"
        },
        "id": "l-sAXxwH_tqL",
        "outputId": "3fb80686-7c2e-4681-f985-d3a4c2553463"
      },
      "outputs": [
        {
          "name": "stdout",
          "output_type": "stream",
          "text": [
            "{1, 2, 3, 4}\n",
            "{1, 2, 3, 4}\n"
          ]
        }
      ],
      "source": [
        "a = {1,2,3,4,5}\n",
        "a.discard(5)\n",
        "print(a)\n",
        "a.discard(5)\n",
        "print(a)"
      ]
    },
    {
      "cell_type": "code",
      "execution_count": null,
      "metadata": {
        "colab": {
          "base_uri": "https://localhost:8080/"
        },
        "id": "t5d2CETq_yTU",
        "outputId": "3b4ed21e-64ce-4cb7-d9c2-fd695bf2def1"
      },
      "outputs": [
        {
          "name": "stdout",
          "output_type": "stream",
          "text": [
            "<class 'set'>\n"
          ]
        }
      ],
      "source": [
        "# empty set\n",
        "s = set()\n",
        "print(type(s))"
      ]
    },
    {
      "cell_type": "code",
      "execution_count": null,
      "metadata": {
        "colab": {
          "base_uri": "https://localhost:8080/"
        },
        "id": "ME-jRlRD_6Qm",
        "outputId": "deeff923-a954-4fb3-e3e7-fd807d565167"
      },
      "outputs": [
        {
          "name": "stdout",
          "output_type": "stream",
          "text": [
            "<class 'dict'>\n"
          ]
        }
      ],
      "source": [
        "s = {}\n",
        "print(type(s))"
      ]
    },
    {
      "cell_type": "code",
      "execution_count": null,
      "metadata": {
        "colab": {
          "base_uri": "https://localhost:8080/"
        },
        "id": "DBPiV-Zm_77l",
        "outputId": "1fb9a7b2-9884-444c-93a6-331528684e17"
      },
      "outputs": [
        {
          "name": "stdout",
          "output_type": "stream",
          "text": [
            "{1, 2, 3, 4, 5}\n",
            "original: 15, set: 5\n"
          ]
        }
      ],
      "source": [
        "# set from collection\n",
        "values = [1, 2, 1, 1, 1, 2, 2, 3, 5, 4, 4, 3, 5, 2, 1]\n",
        "print(set(values))\n",
        "print(f\"original: {len(values)}, set: {len(set(values))}\")"
      ]
    },
    {
      "cell_type": "code",
      "execution_count": null,
      "metadata": {
        "colab": {
          "base_uri": "https://localhost:8080/"
        },
        "id": "I5eIF_2BAIK2",
        "outputId": "84533acb-883c-42b6-bfdf-37bb295d7363"
      },
      "outputs": [
        {
          "name": "stdout",
          "output_type": "stream",
          "text": [
            "{1, (1, 2, 3, 4, 5), 'str'}\n"
          ]
        }
      ],
      "source": [
        "# set consists of arbitrary elements\n",
        "s = {1, 1.0, \"str\", (1,2,3,4,5)}\n",
        "print(s)"
      ]
    },
    {
      "cell_type": "code",
      "execution_count": null,
      "metadata": {
        "colab": {
          "base_uri": "https://localhost:8080/",
          "height": 191
        },
        "id": "2WPj3w77AUX0",
        "outputId": "1e30d5f0-5315-4cc7-b051-75422554747f"
      },
      "outputs": [
        {
          "ename": "TypeError",
          "evalue": "ignored",
          "output_type": "error",
          "traceback": [
            "\u001b[0;31m---------------------------------------------------------------------------\u001b[0m",
            "\u001b[0;31mTypeError\u001b[0m                                 Traceback (most recent call last)",
            "\u001b[0;32m<ipython-input-38-578561cc62ec>\u001b[0m in \u001b[0;36m<cell line: 2>\u001b[0;34m()\u001b[0m\n\u001b[1;32m      1\u001b[0m \u001b[0;31m# NOTE\u001b[0m\u001b[0;34m\u001b[0m\u001b[0;34m\u001b[0m\u001b[0m\n\u001b[0;32m----> 2\u001b[0;31m \u001b[0ms\u001b[0m \u001b[0;34m=\u001b[0m \u001b[0;34m{\u001b[0m\u001b[0;36m1\u001b[0m\u001b[0;34m,\u001b[0m \u001b[0;36m1.0\u001b[0m\u001b[0;34m,\u001b[0m \u001b[0;34m\"str\"\u001b[0m\u001b[0;34m,\u001b[0m \u001b[0;34m(\u001b[0m\u001b[0;36m1\u001b[0m\u001b[0;34m,\u001b[0m\u001b[0;36m2\u001b[0m\u001b[0;34m,\u001b[0m\u001b[0;36m3\u001b[0m\u001b[0;34m,\u001b[0m\u001b[0;36m4\u001b[0m\u001b[0;34m,\u001b[0m\u001b[0;36m5\u001b[0m\u001b[0;34m)\u001b[0m\u001b[0;34m,\u001b[0m \u001b[0;34m[\u001b[0m\u001b[0;36m1\u001b[0m\u001b[0;34m,\u001b[0m\u001b[0;36m2\u001b[0m\u001b[0;34m,\u001b[0m\u001b[0;36m3\u001b[0m\u001b[0;34m,\u001b[0m\u001b[0;36m4\u001b[0m\u001b[0;34m]\u001b[0m\u001b[0;34m}\u001b[0m\u001b[0;34m\u001b[0m\u001b[0;34m\u001b[0m\u001b[0m\n\u001b[0m",
            "\u001b[0;31mTypeError\u001b[0m: unhashable type: 'list'"
          ]
        }
      ],
      "source": [
        "# NOTE\n",
        "s = {1, 1.0, \"str\", (1,2,3,4,5), [1,2,3,4]}"
      ]
    },
    {
      "cell_type": "code",
      "execution_count": null,
      "metadata": {
        "colab": {
          "background_save": true
        },
        "id": "UXRaO5B5AYSs",
        "outputId": "ed53e815-a903-485c-95d3-5b93e983e25f"
      },
      "outputs": [
        {
          "data": {
            "text/plain": [
              "-5659871693760987716"
            ]
          },
          "execution_count": 39,
          "metadata": {},
          "output_type": "execute_result"
        }
      ],
      "source": []
    }
  ],
  "metadata": {
    "colab": {
      "provenance": []
    },
    "kernelspec": {
      "display_name": "Python 3",
      "name": "python3"
    },
    "language_info": {
      "name": "python"
    }
  },
  "nbformat": 4,
  "nbformat_minor": 0
}