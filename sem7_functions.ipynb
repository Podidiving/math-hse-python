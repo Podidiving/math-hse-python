{
  "cells": [
    {
      "cell_type": "markdown",
      "metadata": {
        "id": "ZptOTCDwhD-2"
      },
      "source": [
        "# Семинар 7: продвинутые функции"
      ]
    },
    {
      "cell_type": "markdown",
      "metadata": {
        "id": "0zp16rV4hD-4"
      },
      "source": [
        "### Рекурсия\n",
        "\n",
        "Пусть мы хотим написать функцию быстрого возведения числа в степень:\n",
        "\n",
        "```\n",
        "def pow(base: Union[int, float], deg: int)\n",
        "```\n",
        "\n",
        "Известно, что:\n",
        "```\n",
        "pow(a, n)\n",
        "    = pow(a, n // 2) ** 2, если n -- четное\n",
        "    = a * pow(a, n // 2) ** 2, если n -- нечетное\n",
        "```"
      ]
    },
    {
      "cell_type": "code",
      "source": [
        "# n - четное: a^n = (a^(n / 2))^2\n",
        "# n - нечетное: a^n = a^(n - 1 + 1) = a * a^(n - 1)\n",
        "\n",
        "# n = 0: pow(a, n) = 1\n",
        "# a = 0: pow(a, n) = 0"
      ],
      "metadata": {
        "id": "Ht0kIKpV8-Jg"
      },
      "execution_count": 1,
      "outputs": []
    },
    {
      "cell_type": "code",
      "execution_count": 3,
      "metadata": {
        "id": "RcBZQEp1hD-4"
      },
      "outputs": [],
      "source": [
        "from typing import Union\n",
        "\n",
        "\n",
        "def pow(base: Union[int, float], deg: int):\n",
        "    if base == 0:\n",
        "        return 0  # а без этого получим DivisionByZeroError, если deg < 0 [1]\n",
        "    if deg == 0:\n",
        "        return 1  # без этого получим бесконечное выполнение\n",
        "\n",
        "    # a^(-n) = (1/a)^n\n",
        "    elif deg < 0:\n",
        "        deg *= -1\n",
        "        base = 1 / base  # [1] вот тут\n",
        "\n",
        "    if not deg % 2:\n",
        "        return pow(base, deg // 2) ** 2\n",
        "    return base * pow(base, deg // 2) ** 2\n"
      ]
    },
    {
      "cell_type": "code",
      "execution_count": 4,
      "metadata": {
        "colab": {
          "base_uri": "https://localhost:8080/"
        },
        "id": "NdJnsnSJhD-5",
        "outputId": "32ea70e7-8e08-4993-ff5a-69f9b1ac6faa"
      },
      "outputs": [
        {
          "output_type": "execute_result",
          "data": {
            "text/plain": [
              "4"
            ]
          },
          "metadata": {},
          "execution_count": 4
        }
      ],
      "source": [
        "pow(2, 2)"
      ]
    },
    {
      "cell_type": "markdown",
      "metadata": {
        "id": "GahZVR7GhD-5"
      },
      "source": [
        "Что тут произошло? Правильно, мы вызвали из функции саму себя, получается так называемая рекурсия.\n",
        "\n",
        "С рекурсией стоит быть аккуратным: неаккуратное ее использование приведет к бесконечной работе программы, а также она выжрет у вас всю память компа или питон прибьет ее раньше."
      ]
    },
    {
      "cell_type": "markdown",
      "metadata": {
        "id": "Z_k_KYVIhD-6"
      },
      "source": [
        "Под капотом рекурсия работает как стэк вызовов. Каждый новый вызов помещается на его верхушку, после выполнения работы функции на этапе рекурсии этот вызов со стэка снимается. Проще всего это заметить если Сделать искусственный пример, где выдадим ошибку в какой-то момент времени."
      ]
    },
    {
      "cell_type": "code",
      "execution_count": 5,
      "metadata": {
        "id": "pvb5lW4ihD-6"
      },
      "outputs": [],
      "source": [
        "def recursive(n: int):\n",
        "    if n == 0:\n",
        "        raise RuntimeError(\"Just checking call stack\")\n",
        "\n",
        "    recursive(n - 1)\n"
      ]
    },
    {
      "cell_type": "code",
      "execution_count": 6,
      "metadata": {
        "colab": {
          "base_uri": "https://localhost:8080/",
          "height": 317
        },
        "id": "GkDrnDiKhD-7",
        "outputId": "0d86a66d-38a4-4463-d334-714a27476817"
      },
      "outputs": [
        {
          "output_type": "error",
          "ename": "RuntimeError",
          "evalue": "ignored",
          "traceback": [
            "\u001b[0;31m---------------------------------------------------------------------------\u001b[0m",
            "\u001b[0;31mRuntimeError\u001b[0m                              Traceback (most recent call last)",
            "\u001b[0;32m<ipython-input-6-5acf469c4589>\u001b[0m in \u001b[0;36m<cell line: 1>\u001b[0;34m()\u001b[0m\n\u001b[0;32m----> 1\u001b[0;31m \u001b[0mrecursive\u001b[0m\u001b[0;34m(\u001b[0m\u001b[0;36m6\u001b[0m\u001b[0;34m)\u001b[0m\u001b[0;34m\u001b[0m\u001b[0;34m\u001b[0m\u001b[0m\n\u001b[0m",
            "\u001b[0;32m<ipython-input-5-1f2dd356d26b>\u001b[0m in \u001b[0;36mrecursive\u001b[0;34m(n)\u001b[0m\n\u001b[1;32m      3\u001b[0m         \u001b[0;32mraise\u001b[0m \u001b[0mRuntimeError\u001b[0m\u001b[0;34m(\u001b[0m\u001b[0;34m\"Just checking call stack\"\u001b[0m\u001b[0;34m)\u001b[0m\u001b[0;34m\u001b[0m\u001b[0;34m\u001b[0m\u001b[0m\n\u001b[1;32m      4\u001b[0m \u001b[0;34m\u001b[0m\u001b[0m\n\u001b[0;32m----> 5\u001b[0;31m     \u001b[0mrecursive\u001b[0m\u001b[0;34m(\u001b[0m\u001b[0mn\u001b[0m \u001b[0;34m-\u001b[0m \u001b[0;36m1\u001b[0m\u001b[0;34m)\u001b[0m\u001b[0;34m\u001b[0m\u001b[0;34m\u001b[0m\u001b[0m\n\u001b[0m",
            "\u001b[0;32m<ipython-input-5-1f2dd356d26b>\u001b[0m in \u001b[0;36mrecursive\u001b[0;34m(n)\u001b[0m\n\u001b[1;32m      3\u001b[0m         \u001b[0;32mraise\u001b[0m \u001b[0mRuntimeError\u001b[0m\u001b[0;34m(\u001b[0m\u001b[0;34m\"Just checking call stack\"\u001b[0m\u001b[0;34m)\u001b[0m\u001b[0;34m\u001b[0m\u001b[0;34m\u001b[0m\u001b[0m\n\u001b[1;32m      4\u001b[0m \u001b[0;34m\u001b[0m\u001b[0m\n\u001b[0;32m----> 5\u001b[0;31m     \u001b[0mrecursive\u001b[0m\u001b[0;34m(\u001b[0m\u001b[0mn\u001b[0m \u001b[0;34m-\u001b[0m \u001b[0;36m1\u001b[0m\u001b[0;34m)\u001b[0m\u001b[0;34m\u001b[0m\u001b[0;34m\u001b[0m\u001b[0m\n\u001b[0m",
            "\u001b[0;32m<ipython-input-5-1f2dd356d26b>\u001b[0m in \u001b[0;36mrecursive\u001b[0;34m(n)\u001b[0m\n\u001b[1;32m      3\u001b[0m         \u001b[0;32mraise\u001b[0m \u001b[0mRuntimeError\u001b[0m\u001b[0;34m(\u001b[0m\u001b[0;34m\"Just checking call stack\"\u001b[0m\u001b[0;34m)\u001b[0m\u001b[0;34m\u001b[0m\u001b[0;34m\u001b[0m\u001b[0m\n\u001b[1;32m      4\u001b[0m \u001b[0;34m\u001b[0m\u001b[0m\n\u001b[0;32m----> 5\u001b[0;31m     \u001b[0mrecursive\u001b[0m\u001b[0;34m(\u001b[0m\u001b[0mn\u001b[0m \u001b[0;34m-\u001b[0m \u001b[0;36m1\u001b[0m\u001b[0;34m)\u001b[0m\u001b[0;34m\u001b[0m\u001b[0;34m\u001b[0m\u001b[0m\n\u001b[0m",
            "\u001b[0;32m<ipython-input-5-1f2dd356d26b>\u001b[0m in \u001b[0;36mrecursive\u001b[0;34m(n)\u001b[0m\n\u001b[1;32m      3\u001b[0m         \u001b[0;32mraise\u001b[0m \u001b[0mRuntimeError\u001b[0m\u001b[0;34m(\u001b[0m\u001b[0;34m\"Just checking call stack\"\u001b[0m\u001b[0;34m)\u001b[0m\u001b[0;34m\u001b[0m\u001b[0;34m\u001b[0m\u001b[0m\n\u001b[1;32m      4\u001b[0m \u001b[0;34m\u001b[0m\u001b[0m\n\u001b[0;32m----> 5\u001b[0;31m     \u001b[0mrecursive\u001b[0m\u001b[0;34m(\u001b[0m\u001b[0mn\u001b[0m \u001b[0;34m-\u001b[0m \u001b[0;36m1\u001b[0m\u001b[0;34m)\u001b[0m\u001b[0;34m\u001b[0m\u001b[0;34m\u001b[0m\u001b[0m\n\u001b[0m",
            "\u001b[0;32m<ipython-input-5-1f2dd356d26b>\u001b[0m in \u001b[0;36mrecursive\u001b[0;34m(n)\u001b[0m\n\u001b[1;32m      3\u001b[0m         \u001b[0;32mraise\u001b[0m \u001b[0mRuntimeError\u001b[0m\u001b[0;34m(\u001b[0m\u001b[0;34m\"Just checking call stack\"\u001b[0m\u001b[0;34m)\u001b[0m\u001b[0;34m\u001b[0m\u001b[0;34m\u001b[0m\u001b[0m\n\u001b[1;32m      4\u001b[0m \u001b[0;34m\u001b[0m\u001b[0m\n\u001b[0;32m----> 5\u001b[0;31m     \u001b[0mrecursive\u001b[0m\u001b[0;34m(\u001b[0m\u001b[0mn\u001b[0m \u001b[0;34m-\u001b[0m \u001b[0;36m1\u001b[0m\u001b[0;34m)\u001b[0m\u001b[0;34m\u001b[0m\u001b[0;34m\u001b[0m\u001b[0m\n\u001b[0m",
            "\u001b[0;32m<ipython-input-5-1f2dd356d26b>\u001b[0m in \u001b[0;36mrecursive\u001b[0;34m(n)\u001b[0m\n\u001b[1;32m      3\u001b[0m         \u001b[0;32mraise\u001b[0m \u001b[0mRuntimeError\u001b[0m\u001b[0;34m(\u001b[0m\u001b[0;34m\"Just checking call stack\"\u001b[0m\u001b[0;34m)\u001b[0m\u001b[0;34m\u001b[0m\u001b[0;34m\u001b[0m\u001b[0m\n\u001b[1;32m      4\u001b[0m \u001b[0;34m\u001b[0m\u001b[0m\n\u001b[0;32m----> 5\u001b[0;31m     \u001b[0mrecursive\u001b[0m\u001b[0;34m(\u001b[0m\u001b[0mn\u001b[0m \u001b[0;34m-\u001b[0m \u001b[0;36m1\u001b[0m\u001b[0;34m)\u001b[0m\u001b[0;34m\u001b[0m\u001b[0;34m\u001b[0m\u001b[0m\n\u001b[0m",
            "\u001b[0;32m<ipython-input-5-1f2dd356d26b>\u001b[0m in \u001b[0;36mrecursive\u001b[0;34m(n)\u001b[0m\n\u001b[1;32m      1\u001b[0m \u001b[0;32mdef\u001b[0m \u001b[0mrecursive\u001b[0m\u001b[0;34m(\u001b[0m\u001b[0mn\u001b[0m\u001b[0;34m:\u001b[0m \u001b[0mint\u001b[0m\u001b[0;34m)\u001b[0m\u001b[0;34m:\u001b[0m\u001b[0;34m\u001b[0m\u001b[0;34m\u001b[0m\u001b[0m\n\u001b[1;32m      2\u001b[0m     \u001b[0;32mif\u001b[0m \u001b[0mn\u001b[0m \u001b[0;34m==\u001b[0m \u001b[0;36m0\u001b[0m\u001b[0;34m:\u001b[0m\u001b[0;34m\u001b[0m\u001b[0;34m\u001b[0m\u001b[0m\n\u001b[0;32m----> 3\u001b[0;31m         \u001b[0;32mraise\u001b[0m \u001b[0mRuntimeError\u001b[0m\u001b[0;34m(\u001b[0m\u001b[0;34m\"Just checking call stack\"\u001b[0m\u001b[0;34m)\u001b[0m\u001b[0;34m\u001b[0m\u001b[0;34m\u001b[0m\u001b[0m\n\u001b[0m\u001b[1;32m      4\u001b[0m \u001b[0;34m\u001b[0m\u001b[0m\n\u001b[1;32m      5\u001b[0m     \u001b[0mrecursive\u001b[0m\u001b[0;34m(\u001b[0m\u001b[0mn\u001b[0m \u001b[0;34m-\u001b[0m \u001b[0;36m1\u001b[0m\u001b[0;34m)\u001b[0m\u001b[0;34m\u001b[0m\u001b[0;34m\u001b[0m\u001b[0m\n",
            "\u001b[0;31mRuntimeError\u001b[0m: Just checking call stack"
          ]
        }
      ],
      "source": [
        "recursive(6)"
      ]
    },
    {
      "cell_type": "markdown",
      "metadata": {
        "id": "ARoLYinOhD-7"
      },
      "source": [
        "### Проблема лимита рекурсии\n",
        "\n",
        "Пусть мы хотим рекурсивно сумму для всех чисел от 1 до n (примечание: ДА, я знаю, что это можно просто сделать циклом, это игрушечный пример)"
      ]
    },
    {
      "cell_type": "code",
      "execution_count": 8,
      "metadata": {
        "id": "WOALtpkrhD-7"
      },
      "outputs": [],
      "source": [
        "def recursive(n: int):\n",
        "    if n == 1:\n",
        "        return 1\n",
        "\n",
        "    return n + recursive(n - 1)"
      ]
    },
    {
      "cell_type": "code",
      "execution_count": 9,
      "metadata": {
        "colab": {
          "base_uri": "https://localhost:8080/"
        },
        "id": "XxhLt_kkhD-8",
        "outputId": "d128a95e-4886-4eec-b3bf-c786656774db"
      },
      "outputs": [
        {
          "output_type": "execute_result",
          "data": {
            "text/plain": [
              "6"
            ]
          },
          "metadata": {},
          "execution_count": 9
        }
      ],
      "source": [
        "recursive(3)"
      ]
    },
    {
      "cell_type": "code",
      "execution_count": 10,
      "metadata": {
        "colab": {
          "base_uri": "https://localhost:8080/",
          "height": 317
        },
        "id": "RT20zBt2hD-8",
        "outputId": "659e140e-6a42-423c-d113-c35b2de1d38f"
      },
      "outputs": [
        {
          "output_type": "error",
          "ename": "RecursionError",
          "evalue": "ignored",
          "traceback": [
            "\u001b[0;31m---------------------------------------------------------------------------\u001b[0m",
            "\u001b[0;31mRecursionError\u001b[0m                            Traceback (most recent call last)",
            "\u001b[0;32m<ipython-input-10-e342e74d6a76>\u001b[0m in \u001b[0;36m<cell line: 1>\u001b[0;34m()\u001b[0m\n\u001b[0;32m----> 1\u001b[0;31m \u001b[0mrecursive\u001b[0m\u001b[0;34m(\u001b[0m\u001b[0;36m10000\u001b[0m\u001b[0;34m)\u001b[0m  \u001b[0;31m# ой, а че это мы такое поймали?\u001b[0m\u001b[0;34m\u001b[0m\u001b[0;34m\u001b[0m\u001b[0m\n\u001b[0m",
            "\u001b[0;32m<ipython-input-8-66f3b720eb1e>\u001b[0m in \u001b[0;36mrecursive\u001b[0;34m(n)\u001b[0m\n\u001b[1;32m      3\u001b[0m         \u001b[0;32mreturn\u001b[0m \u001b[0;36m1\u001b[0m\u001b[0;34m\u001b[0m\u001b[0;34m\u001b[0m\u001b[0m\n\u001b[1;32m      4\u001b[0m \u001b[0;34m\u001b[0m\u001b[0m\n\u001b[0;32m----> 5\u001b[0;31m     \u001b[0;32mreturn\u001b[0m \u001b[0mn\u001b[0m \u001b[0;34m+\u001b[0m \u001b[0mrecursive\u001b[0m\u001b[0;34m(\u001b[0m\u001b[0mn\u001b[0m \u001b[0;34m-\u001b[0m \u001b[0;36m1\u001b[0m\u001b[0;34m)\u001b[0m\u001b[0;34m\u001b[0m\u001b[0;34m\u001b[0m\u001b[0m\n\u001b[0m",
            "... last 1 frames repeated, from the frame below ...\n",
            "\u001b[0;32m<ipython-input-8-66f3b720eb1e>\u001b[0m in \u001b[0;36mrecursive\u001b[0;34m(n)\u001b[0m\n\u001b[1;32m      3\u001b[0m         \u001b[0;32mreturn\u001b[0m \u001b[0;36m1\u001b[0m\u001b[0;34m\u001b[0m\u001b[0;34m\u001b[0m\u001b[0m\n\u001b[1;32m      4\u001b[0m \u001b[0;34m\u001b[0m\u001b[0m\n\u001b[0;32m----> 5\u001b[0;31m     \u001b[0;32mreturn\u001b[0m \u001b[0mn\u001b[0m \u001b[0;34m+\u001b[0m \u001b[0mrecursive\u001b[0m\u001b[0;34m(\u001b[0m\u001b[0mn\u001b[0m \u001b[0;34m-\u001b[0m \u001b[0;36m1\u001b[0m\u001b[0;34m)\u001b[0m\u001b[0;34m\u001b[0m\u001b[0;34m\u001b[0m\u001b[0m\n\u001b[0m",
            "\u001b[0;31mRecursionError\u001b[0m: maximum recursion depth exceeded in comparison"
          ]
        }
      ],
      "source": [
        "recursive(10000)  # ой, а че это мы такое поймали?"
      ]
    },
    {
      "cell_type": "code",
      "execution_count": 11,
      "metadata": {
        "colab": {
          "base_uri": "https://localhost:8080/"
        },
        "id": "6UjG0SEmhD-8",
        "outputId": "f9660ff5-9dc6-4ddc-8398-0d82d9355371"
      },
      "outputs": [
        {
          "output_type": "execute_result",
          "data": {
            "text/plain": [
              "1000"
            ]
          },
          "metadata": {},
          "execution_count": 11
        }
      ],
      "source": [
        "import sys\n",
        "\n",
        "sys.getrecursionlimit()  # по умолчанию в питоне очень маленький лимит на рекурсивные вызовы"
      ]
    },
    {
      "cell_type": "code",
      "execution_count": 12,
      "metadata": {
        "colab": {
          "base_uri": "https://localhost:8080/"
        },
        "id": "fKQeswp3hD-9",
        "outputId": "d5cfae11-d18c-461f-e9e9-d9761dbe1313"
      },
      "outputs": [
        {
          "output_type": "execute_result",
          "data": {
            "text/plain": [
              "50005000"
            ]
          },
          "metadata": {},
          "execution_count": 12
        }
      ],
      "source": [
        "sys.setrecursionlimit(10 ** 6)  # надо быть аккуратным\n",
        "\n",
        "recursive(10000)"
      ]
    },
    {
      "cell_type": "markdown",
      "metadata": {
        "id": "MbJ7ZBCZhD-9"
      },
      "source": [
        "### Проблема отсутствия мемоизации\n",
        "\n",
        "Пусть мы хотим посчитать $n$-ое число Фибоначчи\n",
        "\n",
        "$F_1 = F_2 = 1$\n",
        "\n",
        "$F_n = F_{n - 1} + F_{n - 2}$"
      ]
    },
    {
      "cell_type": "code",
      "execution_count": 14,
      "metadata": {
        "id": "Tpj1VtsAhD-9"
      },
      "outputs": [],
      "source": [
        "def fib(n: int):\n",
        "    if n <= 2:\n",
        "        return 1\n",
        "    return fib(n - 1) + fib(n - 2)  # рекурсивно берем предыдущие числа Фибоначчи"
      ]
    },
    {
      "cell_type": "markdown",
      "metadata": {
        "id": "i5rH-QauhD--"
      },
      "source": [
        "А теперь давайте подумаем: сколько будет работать такой код?"
      ]
    },
    {
      "cell_type": "code",
      "execution_count": 15,
      "metadata": {
        "colab": {
          "base_uri": "https://localhost:8080/"
        },
        "id": "6FKc3wiZhD--",
        "outputId": "07325536-9074-44ac-c1d6-eea1617193d6"
      },
      "outputs": [
        {
          "output_type": "stream",
          "name": "stdout",
          "text": [
            "CPU times: user 15 µs, sys: 2 µs, total: 17 µs\n",
            "Wall time: 20.3 µs\n"
          ]
        },
        {
          "output_type": "execute_result",
          "data": {
            "text/plain": [
              "21"
            ]
          },
          "metadata": {},
          "execution_count": 15
        }
      ],
      "source": [
        "%%time\n",
        "fib(8)"
      ]
    },
    {
      "cell_type": "code",
      "execution_count": 16,
      "metadata": {
        "colab": {
          "base_uri": "https://localhost:8080/"
        },
        "id": "Xs5_Xyn3hD--",
        "outputId": "f5da4d26-3fb6-401e-a16e-9f67d0f2d62d"
      },
      "outputs": [
        {
          "output_type": "stream",
          "name": "stdout",
          "text": [
            "CPU times: user 1.45 s, sys: 733 µs, total: 1.45 s\n",
            "Wall time: 1.46 s\n"
          ]
        },
        {
          "output_type": "execute_result",
          "data": {
            "text/plain": [
              "5702887"
            ]
          },
          "metadata": {},
          "execution_count": 16
        }
      ],
      "source": [
        "%%time\n",
        "fib(34)  # тут уже будет долго"
      ]
    },
    {
      "cell_type": "code",
      "execution_count": 17,
      "metadata": {
        "colab": {
          "base_uri": "https://localhost:8080/"
        },
        "id": "9PmPUmvPhD-_",
        "outputId": "32cd0fb2-b09a-4bf7-a620-a2f151527c01"
      },
      "outputs": [
        {
          "output_type": "stream",
          "name": "stdout",
          "text": [
            "CPU times: user 28.7 s, sys: 46.8 ms, total: 28.7 s\n",
            "Wall time: 29.4 s\n"
          ]
        },
        {
          "output_type": "execute_result",
          "data": {
            "text/plain": [
              "102334155"
            ]
          },
          "metadata": {},
          "execution_count": 17
        }
      ],
      "source": [
        "%%time\n",
        "fib(40)  # и чем дальше, тем хуже, а 40 -- это же еще не то чтобы много"
      ]
    },
    {
      "cell_type": "code",
      "source": [
        "%%time\n",
        "n = 40\n",
        "a, b = 1, 1\n",
        "for i in range(3, n + 1):\n",
        "    a, b = a + b, a\n",
        "print(a)"
      ],
      "metadata": {
        "colab": {
          "base_uri": "https://localhost:8080/"
        },
        "id": "Ii_wt5Yk_mlr",
        "outputId": "be1533d3-f5d1-4996-a477-1fefa332f27c"
      },
      "execution_count": 20,
      "outputs": [
        {
          "output_type": "stream",
          "name": "stdout",
          "text": [
            "102334155\n",
            "CPU times: user 516 µs, sys: 11 µs, total: 527 µs\n",
            "Wall time: 535 µs\n"
          ]
        }
      ]
    },
    {
      "cell_type": "markdown",
      "metadata": {
        "id": "CmYUK89thD-_"
      },
      "source": [
        "Проблема заключается в том, что у нас есть дубликаты вызовов. Поэтому питон делает много дополнительных действий. Чем дальше по номеру число Фибоначчи -- тем больше придется решать одинаковых абсолютно вызовов рекурсии. Решить это можно мемоизацией:"
      ]
    },
    {
      "cell_type": "code",
      "source": [
        "cache = dict()\n",
        "\n",
        "def fib(n: int) -> int:\n",
        "    if n <= 2:\n",
        "        return 1\n",
        "    if n in cache:\n",
        "        return cache[n]\n",
        "    else:\n",
        "        cache[n] = fib(n - 1) + fib(n - 2)\n",
        "        return cache[n]"
      ],
      "metadata": {
        "id": "s3F4gc7xA9g-"
      },
      "execution_count": 29,
      "outputs": []
    },
    {
      "cell_type": "code",
      "source": [
        "%%time\n",
        "fib(40)  # быстро? быстро!"
      ],
      "metadata": {
        "colab": {
          "base_uri": "https://localhost:8080/"
        },
        "id": "oG1P7icpBAjz",
        "outputId": "fa8e7323-1777-4b0f-f6a8-788d8fb80059"
      },
      "execution_count": 30,
      "outputs": [
        {
          "output_type": "stream",
          "name": "stdout",
          "text": [
            "CPU times: user 67 µs, sys: 0 ns, total: 67 µs\n",
            "Wall time: 71.8 µs\n"
          ]
        },
        {
          "output_type": "execute_result",
          "data": {
            "text/plain": [
              "102334155"
            ]
          },
          "metadata": {},
          "execution_count": 30
        }
      ]
    },
    {
      "cell_type": "code",
      "execution_count": 34,
      "metadata": {
        "id": "QdoTWG_GhD-_"
      },
      "outputs": [],
      "source": [
        "from collections import defaultdict\n",
        "\n",
        "\n",
        "SENTINEL = object()\n",
        "\n",
        "\n",
        "fib_cache = defaultdict(lambda: SENTINEL)\n",
        "\n",
        "\n",
        "def set_cache(n: int, result: int):\n",
        "    fib_cache[n] = result\n",
        "\n",
        "\n",
        "def fib(n: int):\n",
        "    if fib_cache[n] is not SENTINEL:\n",
        "        return fib_cache[n]\n",
        "\n",
        "    if n <= 2:\n",
        "        set_cache(n, 1)\n",
        "        return 1\n",
        "\n",
        "    result = fib(n - 1) + fib(n - 2)\n",
        "    set_cache(n, result)\n",
        "    return result"
      ]
    },
    {
      "cell_type": "code",
      "source": [
        "%%time\n",
        "fib(40)  # быстро? быстро!"
      ],
      "metadata": {
        "colab": {
          "base_uri": "https://localhost:8080/"
        },
        "id": "fp9Bl7MFA3U4",
        "outputId": "ffdf330a-36a8-4808-9c48-23984defcf9a"
      },
      "execution_count": 35,
      "outputs": [
        {
          "output_type": "stream",
          "name": "stdout",
          "text": [
            "CPU times: user 80 µs, sys: 2 µs, total: 82 µs\n",
            "Wall time: 86.3 µs\n"
          ]
        },
        {
          "output_type": "execute_result",
          "data": {
            "text/plain": [
              "102334155"
            ]
          },
          "metadata": {},
          "execution_count": 35
        }
      ]
    },
    {
      "cell_type": "code",
      "execution_count": 36,
      "metadata": {
        "colab": {
          "base_uri": "https://localhost:8080/"
        },
        "id": "_F7fQd-BhD_A",
        "outputId": "37e6f85e-1f97-4ce7-e337-d33d88d583ee"
      },
      "outputs": [
        {
          "output_type": "stream",
          "name": "stdout",
          "text": [
            "CPU times: user 2.21 ms, sys: 5 µs, total: 2.22 ms\n",
            "Wall time: 2.24 ms\n"
          ]
        },
        {
          "output_type": "execute_result",
          "data": {
            "text/plain": [
              "43466557686937456435688527675040625802564660517371780402481729089536555417949051890403879840079255169295922593080322634775209689623239873322471161642996440906533187938298969649928516003704476137795166849228875"
            ]
          },
          "metadata": {},
          "execution_count": 36
        }
      ],
      "source": [
        "%%time\n",
        "fib(1000)  # быстро? быстро!"
      ]
    },
    {
      "cell_type": "markdown",
      "metadata": {
        "id": "oLBqmuSohD_A"
      },
      "source": [
        "Очевидно, что это уже получается громоздко и неудобно, поэтому кэширование в питоне есть в том числе и встроенное.\n",
        "\n",
        "Есть так называемые декораторы `@cache` и `@lru_cache` (least recently used). Второй выкидывает из кэша элементы, когда его размер достиг заданного максимума. При этом `@cache` устроен вот так:\n",
        "\n",
        "```(python)\n",
        "def cache(user_function, /):\n",
        "    return lru_cache(maxsize=None)(user_function)\n",
        "```\n",
        "\n",
        "У `@lru_cache` параметр maxsize по умолчанию равен 128, можно увеличить при желании."
      ]
    },
    {
      "cell_type": "code",
      "execution_count": 39,
      "metadata": {
        "id": "r8ojzTTEhD_A"
      },
      "outputs": [],
      "source": [
        "from functools import cache, lru_cache\n",
        "\n",
        "# lru_cache -- можно еще указать параметр maxsize\n",
        "@lru_cache(maxsize=1000)  # <--- это декоратор, про них поговорим чуть позже\n",
        "def fib(n: int):\n",
        "    if n <= 2:\n",
        "        return 1\n",
        "\n",
        "    return fib(n - 1) + fib(n - 2)"
      ]
    },
    {
      "cell_type": "code",
      "execution_count": 40,
      "metadata": {
        "colab": {
          "base_uri": "https://localhost:8080/"
        },
        "id": "iCxulNuEhD_A",
        "outputId": "45c0b174-81f6-4f77-987d-53641a40327d"
      },
      "outputs": [
        {
          "output_type": "stream",
          "name": "stdout",
          "text": [
            "CPU times: user 2.6 ms, sys: 0 ns, total: 2.6 ms\n",
            "Wall time: 2.66 ms\n"
          ]
        },
        {
          "output_type": "execute_result",
          "data": {
            "text/plain": [
              "43466557686937456435688527675040625802564660517371780402481729089536555417949051890403879840079255169295922593080322634775209689623239873322471161642996440906533187938298969649928516003704476137795166849228875"
            ]
          },
          "metadata": {},
          "execution_count": 40
        }
      ],
      "source": [
        "%%time\n",
        "fib(1000)"
      ]
    },
    {
      "cell_type": "markdown",
      "metadata": {
        "id": "rWDtwaTihD_B"
      },
      "source": [
        "### Что еще умеет functools?\n",
        "\n",
        "Есть какие-то очень специфичные функции, например, [cmp_to_key](https://docs.python.org/3/library/functools.html#functools.cmp_to_key), который не очень рекомендуется использовать без особой надобности.\n",
        "\n",
        "Но есть и полезные штуки:"
      ]
    },
    {
      "cell_type": "code",
      "execution_count": 42,
      "metadata": {
        "colab": {
          "base_uri": "https://localhost:8080/"
        },
        "id": "XQDDfE3yhD_B",
        "outputId": "3096826a-f874-433c-aba4-b81265d16e55"
      },
      "outputs": [
        {
          "name": "stdout",
          "output_type": "stream",
          "text": [
            "4 12 2 3 6 1 23 5 3\n"
          ]
        }
      ],
      "source": [
        "from functools import partial\n",
        "\n",
        "my_list = list(map(int, input().split()))"
      ]
    },
    {
      "cell_type": "code",
      "source": [
        "get_sorted_list = partial(sorted, my_list)  # создаем функцию из функции прямо в коде = sorted(my_list)"
      ],
      "metadata": {
        "id": "bPNl7PxKDlGe"
      },
      "execution_count": 44,
      "outputs": []
    },
    {
      "cell_type": "code",
      "source": [
        "get_sorted_list(reverse=True)  # sorted(my_list, reverse=True)"
      ],
      "metadata": {
        "colab": {
          "base_uri": "https://localhost:8080/"
        },
        "id": "0ubTht32Dy0g",
        "outputId": "ebcaeea1-2dec-468e-eb51-24b74f54274f"
      },
      "execution_count": 47,
      "outputs": [
        {
          "output_type": "execute_result",
          "data": {
            "text/plain": [
              "[23, 12, 6, 5, 4, 3, 3, 2, 1]"
            ]
          },
          "metadata": {},
          "execution_count": 47
        }
      ]
    },
    {
      "cell_type": "code",
      "source": [
        "get_reverse_sorted_list = partial(sorted, my_list, reverse=True)  # = sorted(my_list, reversed=True)"
      ],
      "metadata": {
        "id": "TQ1UIkuODj6r"
      },
      "execution_count": 48,
      "outputs": []
    },
    {
      "cell_type": "code",
      "execution_count": 50,
      "metadata": {
        "colab": {
          "base_uri": "https://localhost:8080/"
        },
        "id": "7hW2t7oKhD_B",
        "outputId": "b7f38a2a-c5f1-43cf-f149-8eca9e88b8dd"
      },
      "outputs": [
        {
          "output_type": "execute_result",
          "data": {
            "text/plain": [
              "[1, 2, 3, 3, 4, 5, 6, 12, 23]"
            ]
          },
          "metadata": {},
          "execution_count": 50
        }
      ],
      "source": [
        "get_reverse_sorted_list(key=lambda x: -x)"
      ]
    },
    {
      "cell_type": "code",
      "source": [
        "def add(a, b):\n",
        "    return a + b\n",
        "\n",
        "# def add10(a):\n",
        "#     return a + 10\n",
        "\n",
        "add10 = partial(add, 10)\n",
        "add10(19)"
      ],
      "metadata": {
        "colab": {
          "base_uri": "https://localhost:8080/"
        },
        "id": "GUSCqpKRERZ0",
        "outputId": "77aeef87-c5b6-45d2-dc50-04200f821556"
      },
      "execution_count": 52,
      "outputs": [
        {
          "output_type": "execute_result",
          "data": {
            "text/plain": [
              "29"
            ]
          },
          "metadata": {},
          "execution_count": 52
        }
      ]
    },
    {
      "cell_type": "markdown",
      "metadata": {
        "id": "7LIl5BP_hD_C"
      },
      "source": [
        "Можно заранее и не передавать объект:"
      ]
    },
    {
      "cell_type": "code",
      "execution_count": 53,
      "metadata": {
        "id": "Z8umUod2hD_C"
      },
      "outputs": [],
      "source": [
        "from typing import Callable\n",
        "\n",
        "\n",
        "def reverse_number(n: int) -> int:\n",
        "    return int(str(n)[::-1])  # 456 -> 654\n",
        "\n",
        "def sort_digits(n: int) -> int:\n",
        "    return int(\"\".join(sorted(str(n))))  # 672 -> 267\n",
        "\n",
        "def add_one(n: int) -> int:\n",
        "    return n + 1\n",
        "\n",
        "def combine(*functions: Callable[[int], int], number: int) -> int:\n",
        "    result = number\n",
        "    for func in functions:\n",
        "        result = func(result)\n",
        "    return result\n",
        "\n",
        "# по сути partial позволяет заполнить какие-то аргументы заранее, а остальные дозаполнить потом\n",
        "do_some_stuff = partial(combine, add_one, reverse_number, add_one, add_one, sort_digits)\n",
        "do_another_stuff = partial(combine, reverse_number, add_one, add_one, add_one)"
      ]
    },
    {
      "cell_type": "code",
      "execution_count": 54,
      "metadata": {
        "colab": {
          "base_uri": "https://localhost:8080/"
        },
        "id": "9OZ0-2cphD_C",
        "outputId": "a377e057-aa51-4a90-e229-2ea566f31aa1"
      },
      "outputs": [
        {
          "output_type": "execute_result",
          "data": {
            "text/plain": [
              "567"
            ]
          },
          "metadata": {},
          "execution_count": 54
        }
      ],
      "source": [
        "do_some_stuff(number=456)"
      ]
    },
    {
      "cell_type": "code",
      "execution_count": 55,
      "metadata": {
        "colab": {
          "base_uri": "https://localhost:8080/"
        },
        "id": "bcDILhEOhD_C",
        "outputId": "0b6d1242-10e3-48ef-8dee-1c5d4e4d1db4"
      },
      "outputs": [
        {
          "output_type": "execute_result",
          "data": {
            "text/plain": [
              "657"
            ]
          },
          "metadata": {},
          "execution_count": 55
        }
      ],
      "source": [
        "do_another_stuff(number=456)"
      ]
    },
    {
      "cell_type": "markdown",
      "source": [
        "## Декораторы (optional)"
      ],
      "metadata": {
        "id": "NouKNE3Khg2b"
      }
    },
    {
      "cell_type": "code",
      "source": [
        "import time\n",
        "\n",
        "def fancy_function():\n",
        "    time.sleep(1)\n",
        "    print(\"I'm a fancy function\")"
      ],
      "metadata": {
        "id": "77Nt2yq4hl6R"
      },
      "execution_count": 85,
      "outputs": []
    },
    {
      "cell_type": "code",
      "source": [
        "start = time.time()\n",
        "fancy_function()\n",
        "end = time.time()\n",
        "print(end - start)"
      ],
      "metadata": {
        "colab": {
          "base_uri": "https://localhost:8080/"
        },
        "id": "t7ydcz9DFEgC",
        "outputId": "734a9fcb-4b1a-4901-ad87-24095fbcb147"
      },
      "execution_count": 86,
      "outputs": [
        {
          "output_type": "stream",
          "name": "stdout",
          "text": [
            "I'm a fancy function\n",
            "1.0020358562469482\n"
          ]
        }
      ]
    },
    {
      "cell_type": "code",
      "source": [
        "def wrap_with_timer(func):\n",
        "    def inner():\n",
        "        start = time.time()\n",
        "        func()\n",
        "        end = time.time()\n",
        "        print(end - start)\n",
        "    return inner"
      ],
      "metadata": {
        "id": "2vlXPLuoFZi8"
      },
      "execution_count": 87,
      "outputs": []
    },
    {
      "cell_type": "code",
      "source": [
        "# fancy_function = wrap_with_timer(fancy_function)\n",
        "\n",
        "@wrap_with_timer\n",
        "def fancy_function():\n",
        "    time.sleep(1)\n",
        "    print(\"I'm a fancy function\")"
      ],
      "metadata": {
        "id": "ofaXJhTlFuJi"
      },
      "execution_count": 90,
      "outputs": []
    },
    {
      "cell_type": "code",
      "source": [
        "fancy_function()"
      ],
      "metadata": {
        "colab": {
          "base_uri": "https://localhost:8080/"
        },
        "id": "Y1x_w-vOGU2T",
        "outputId": "e6b725ca-e14f-4b51-f33c-7ff925f606bf"
      },
      "execution_count": 91,
      "outputs": [
        {
          "output_type": "stream",
          "name": "stdout",
          "text": [
            "I'm a fancy function\n",
            "1.0019216537475586\n"
          ]
        }
      ]
    },
    {
      "cell_type": "code",
      "source": [
        "def wrap_with_timer(func):\n",
        "    def inner(*args, **kwargs):\n",
        "        start = time.time()\n",
        "        result = func(*args, **kwargs)\n",
        "        end = time.time()\n",
        "        print(end - start)\n",
        "        return result\n",
        "    return inner\n",
        "\n",
        "@wrap_with_timer\n",
        "def fancy_function(a, b, c):\n",
        "    time.sleep(1)\n",
        "    print(\"I'm a fancy function\")\n",
        "    return a + b + c"
      ],
      "metadata": {
        "id": "4ii0sd69HHpN"
      },
      "execution_count": 93,
      "outputs": []
    },
    {
      "cell_type": "code",
      "source": [
        "fancy_function(1, 2, 3)"
      ],
      "metadata": {
        "colab": {
          "base_uri": "https://localhost:8080/"
        },
        "id": "Sm0XM5ATHntw",
        "outputId": "b02b0cc5-4fab-4246-baf9-432502e8d7c0"
      },
      "execution_count": 94,
      "outputs": [
        {
          "output_type": "stream",
          "name": "stdout",
          "text": [
            "I'm a fancy function\n",
            "1.0012321472167969\n"
          ]
        },
        {
          "output_type": "execute_result",
          "data": {
            "text/plain": [
              "6"
            ]
          },
          "metadata": {},
          "execution_count": 94
        }
      ]
    },
    {
      "cell_type": "code",
      "source": [
        "def fancy_function(a, b, c):\n",
        "    time.sleep(1)\n",
        "    print(\"I'm a fancy function\")\n",
        "    return a + b + c"
      ],
      "metadata": {
        "id": "XLf3tyeRHu3w"
      },
      "execution_count": 95,
      "outputs": []
    },
    {
      "cell_type": "code",
      "source": [
        "fancy_function.__name__"
      ],
      "metadata": {
        "colab": {
          "base_uri": "https://localhost:8080/",
          "height": 35
        },
        "id": "O-kIVqf4Hv-C",
        "outputId": "1de60820-1938-41db-b986-96539bf56629"
      },
      "execution_count": 96,
      "outputs": [
        {
          "output_type": "execute_result",
          "data": {
            "text/plain": [
              "'fancy_function'"
            ],
            "application/vnd.google.colaboratory.intrinsic+json": {
              "type": "string"
            }
          },
          "metadata": {},
          "execution_count": 96
        }
      ]
    },
    {
      "cell_type": "code",
      "source": [
        "def wrap_with_timer(func):\n",
        "    def inner(*args, **kwargs):\n",
        "        start = time.time()\n",
        "        result = func(*args, **kwargs)\n",
        "        end = time.time()\n",
        "        print(end - start)\n",
        "        return result\n",
        "    return inner\n",
        "\n",
        "# fancy_function = wrap_with_timer(fancy_function)\n",
        "@wrap_with_timer\n",
        "def fancy_function(a, b, c):\n",
        "    time.sleep(1)\n",
        "    print(\"I'm a fancy function\")\n",
        "    return a + b + c"
      ],
      "metadata": {
        "id": "HWxT4kE0HzMf"
      },
      "execution_count": 97,
      "outputs": []
    },
    {
      "cell_type": "code",
      "source": [
        "fancy_function.__name__"
      ],
      "metadata": {
        "colab": {
          "base_uri": "https://localhost:8080/",
          "height": 35
        },
        "id": "lDWFr4y7H4sW",
        "outputId": "b9ab780c-bcf8-432b-c3d3-caf94fb67543"
      },
      "execution_count": 98,
      "outputs": [
        {
          "output_type": "execute_result",
          "data": {
            "text/plain": [
              "'inner'"
            ],
            "application/vnd.google.colaboratory.intrinsic+json": {
              "type": "string"
            }
          },
          "metadata": {},
          "execution_count": 98
        }
      ]
    },
    {
      "cell_type": "code",
      "source": [
        "from functools import wraps\n",
        "\n",
        "def wrap_with_timer(func):\n",
        "    @wraps(func)\n",
        "    def inner(*args, **kwargs):\n",
        "        start = time.time()\n",
        "        result = func(*args, **kwargs)\n",
        "        end = time.time()\n",
        "        print(end - start)\n",
        "        return result\n",
        "    return inner\n",
        "\n",
        "# fancy_function = wrap_with_timer(fancy_function)\n",
        "@wrap_with_timer\n",
        "def fancy_function(a, b, c):\n",
        "    time.sleep(1)\n",
        "    print(\"I'm a fancy function\")\n",
        "    return a + b + c"
      ],
      "metadata": {
        "id": "yGF3S_MIH-qs"
      },
      "execution_count": 103,
      "outputs": []
    },
    {
      "cell_type": "code",
      "source": [
        "fancy_function.__name__"
      ],
      "metadata": {
        "colab": {
          "base_uri": "https://localhost:8080/",
          "height": 35
        },
        "id": "4Bm2V36DIIPs",
        "outputId": "b96d3ea7-971a-4645-deee-234d1a8857d0"
      },
      "execution_count": 104,
      "outputs": [
        {
          "output_type": "execute_result",
          "data": {
            "text/plain": [
              "'fancy_function'"
            ],
            "application/vnd.google.colaboratory.intrinsic+json": {
              "type": "string"
            }
          },
          "metadata": {},
          "execution_count": 104
        }
      ]
    },
    {
      "cell_type": "code",
      "source": [
        "# def inner(func):\n",
        "#     start = time.time()\n",
        "#     func()\n",
        "#     end = time.time()\n",
        "#     print(end - start)\n",
        "\n",
        "# def wrap_with_timer(func):\n",
        "#     inner_ = partial(inner, func)\n",
        "#     return inner_\n",
        "\n",
        "# def fancy_function():\n",
        "#     time.sleep(1)\n",
        "#     print(\"I'm a fancy function\")\n",
        "\n",
        "# fancy_function = wrap_with_timer(fancy_function)\n",
        "# fancy_function()"
      ],
      "metadata": {
        "id": "fZwNPj2rGGTq"
      },
      "execution_count": 105,
      "outputs": []
    },
    {
      "cell_type": "markdown",
      "metadata": {
        "id": "PFl21_TXhD_D"
      },
      "source": [
        "# Практика\n",
        "\n",
        "### Задача 1\n",
        "Пусть у нас есть словарь любой вложенности. При этом на самом нижнем уровне у него всегда находится строка. Ключи тоже всегда строки. Надо написать функцию, которая принимает на себя такой словарь, и выводит на экран все строки на нижнем уровне, в любом порядке.\n",
        "\n",
        "```(python)\n",
        "a = {\n",
        "    \"x\": {\n",
        "        \"y\": \"you_killed_kenny\",\n",
        "        \"w\": \"south_park\",\n",
        "    },\n",
        "    \"p\": \"matt_stone\",\n",
        "}\n",
        "\n",
        "print(recursive_print(a))\n",
        "```\n",
        "\n",
        "Для того, чтобы понять, что перед нами -- словарь или список -- можно воспользоваться функцией `isinstance(some_variable, dict)` -- она вернет True, если это словарь и False иначе"
      ]
    },
    {
      "cell_type": "code",
      "execution_count": 106,
      "metadata": {
        "id": "Ml44YeCihD_D"
      },
      "outputs": [],
      "source": [
        "def recursive_print(a):\n",
        "    if isinstance(a, str):\n",
        "        print(a)\n",
        "    elif isinstance(a, dict):\n",
        "        for value in a.values():\n",
        "            recursive_print(value)\n",
        "    else:\n",
        "        raise ValueError(\"something strange\")"
      ]
    },
    {
      "cell_type": "code",
      "execution_count": 107,
      "metadata": {
        "colab": {
          "base_uri": "https://localhost:8080/"
        },
        "id": "1DmOjOlHhD_E",
        "outputId": "95c99c23-0858-43ff-bd60-6a1447d4ce49"
      },
      "outputs": [
        {
          "output_type": "stream",
          "name": "stdout",
          "text": [
            "you_killed_kenny\n",
            "south_park\n",
            "matt_stone\n"
          ]
        }
      ],
      "source": [
        "a = {\n",
        "    \"x\": {\n",
        "        \"y\": \"you_killed_kenny\",\n",
        "        \"w\": \"south_park\",\n",
        "    },\n",
        "    \"p\": \"matt_stone\",\n",
        "}\n",
        "\n",
        "recursive_print(a)"
      ]
    },
    {
      "cell_type": "markdown",
      "metadata": {
        "id": "spcbSKO_hD_E"
      },
      "source": [
        "### Задача 2\n",
        "\n",
        "Напишите программу, которая выбирает их полученной на вход последовательности (каждое число на новой строке) квадраты целых чисел выводит их в обратном порядке. Использовать массив для хранения последовательности не разрешается."
      ]
    },
    {
      "cell_type": "code",
      "execution_count": null,
      "metadata": {
        "id": "1Srf2iG1hD_E"
      },
      "outputs": [],
      "source": []
    },
    {
      "cell_type": "code",
      "execution_count": null,
      "metadata": {
        "id": "AKeO5kFShD_E"
      },
      "outputs": [],
      "source": []
    },
    {
      "cell_type": "markdown",
      "metadata": {
        "id": "ljmXjRCvhD_E"
      },
      "source": [
        "### Задача 3\n",
        "\n",
        "Для быстрого вычисления наибольшего общего делителя двух чисел используют алгоритм Евклида. Он построен на следующем соотношении: $gcd(a, b) = gcd(b, a \\mod b)$\n",
        "\n",
        "Реализуйте рекурсивный алгоритм Евклида в виде функции gcd(a, b)."
      ]
    },
    {
      "cell_type": "code",
      "execution_count": null,
      "metadata": {
        "id": "CMrzWfK6hD_E"
      },
      "outputs": [],
      "source": []
    }
  ],
  "metadata": {
    "kernelspec": {
      "display_name": "Python 3.10.8 64-bit",
      "language": "python",
      "name": "python3"
    },
    "language_info": {
      "codemirror_mode": {
        "name": "ipython",
        "version": 3
      },
      "file_extension": ".py",
      "mimetype": "text/x-python",
      "name": "python",
      "nbconvert_exporter": "python",
      "pygments_lexer": "ipython3",
      "version": "3.10.8"
    },
    "orig_nbformat": 4,
    "vscode": {
      "interpreter": {
        "hash": "b0fa6594d8f4cbf19f97940f81e996739fb7646882a419484c72d19e05852a7e"
      }
    },
    "colab": {
      "provenance": []
    }
  },
  "nbformat": 4,
  "nbformat_minor": 0
}