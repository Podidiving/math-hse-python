{
  "cells": [
    {
      "cell_type": "markdown",
      "metadata": {
        "id": "ikMu1F8pFGTM"
      },
      "source": [
        "# ООП-2\n",
        "\n",
        "### Глава 1: датаклассы и енамы\n",
        "\n",
        "В датаклассе не нужен инит, достаточно просто объявит нужны в нем поля и дальше так и использовать"
      ]
    },
    {
      "cell_type": "code",
      "execution_count": 28,
      "metadata": {
        "id": "G2g5myN4FGTO"
      },
      "outputs": [],
      "source": [
        "from dataclasses import dataclass\n",
        "\n",
        "@dataclass\n",
        "class User:\n",
        "    email: str\n",
        "    gender: int  # 1 for male, 0 for female\n",
        "    first_name: str\n",
        "    middle_name: str\n",
        "    last_name: str\n",
        "\n",
        "    @property\n",
        "    def full_name(self):\n",
        "        return f\"{self.first_name} {self.middle_name} {self.last_name}\""
      ]
    },
    {
      "cell_type": "code",
      "source": [
        "import json\n",
        "\n",
        "\n",
        "response = {\n",
        "    \"email\": \"johndoe@gmail.com\",\n",
        "    \"gender\": 1,\n",
        "    \"first_name\": \"John\",\n",
        "    \"middle_name\": \"Sergeevich\",\n",
        "    \"last_name\": \"Doe\"\n",
        "}\n",
        "\n",
        "response = json.dumps(response)\n",
        "response"
      ],
      "metadata": {
        "colab": {
          "base_uri": "https://localhost:8080/",
          "height": 52
        },
        "id": "o_1mse9VGsW3",
        "outputId": "0c9ba3ce-9d7c-4d8f-8658-c271e2b11828"
      },
      "execution_count": 33,
      "outputs": [
        {
          "output_type": "execute_result",
          "data": {
            "text/plain": [
              "'{\"email\": \"johndoe@gmail.com\", \"gender\": 1, \"first_name\": \"John\", \"middle_name\": \"Sergeevich\", \"last_name\": \"Doe\"}'"
            ],
            "application/vnd.google.colaboratory.intrinsic+json": {
              "type": "string"
            }
          },
          "metadata": {},
          "execution_count": 33
        }
      ]
    },
    {
      "cell_type": "code",
      "source": [
        "user = User(**json.loads(response))\n",
        "print(user.email)\n",
        "print(user.full_name)"
      ],
      "metadata": {
        "colab": {
          "base_uri": "https://localhost:8080/"
        },
        "id": "p4_o6X20HnhS",
        "outputId": "0444111e-14f9-4e43-8c3f-dcab471e800a"
      },
      "execution_count": 35,
      "outputs": [
        {
          "output_type": "stream",
          "name": "stdout",
          "text": [
            "johndoe@gmail.com\n",
            "John Sergeevich Doe\n"
          ]
        }
      ]
    },
    {
      "cell_type": "code",
      "execution_count": 36,
      "metadata": {
        "colab": {
          "base_uri": "https://localhost:8080/"
        },
        "id": "AYBJ6ulGFGTP",
        "outputId": "7ea301ed-773b-4d1e-c277-ea0322c8da04"
      },
      "outputs": [
        {
          "output_type": "stream",
          "name": "stdout",
          "text": [
            "johndoe@gmail.com\n",
            "John Sergeevich Doe\n"
          ]
        }
      ],
      "source": [
        "user = User(\"johndoe@gmail.com\", 1, \"John\", \"Sergeevich\", \"Doe\")\n",
        "print(user.email)\n",
        "print(user.full_name)"
      ]
    },
    {
      "cell_type": "markdown",
      "metadata": {
        "id": "qkq--U8nFGTb"
      },
      "source": [
        "Из грустного: gender сейчас хранится числом и получается какая-то магия, постоянно надо помнить, какому полу соответствует какое число"
      ]
    },
    {
      "cell_type": "code",
      "execution_count": 49,
      "metadata": {
        "id": "CwcgwDUTFGTb"
      },
      "outputs": [],
      "source": [
        "from dataclasses import dataclass\n",
        "from enum import Enum, auto\n",
        "\n",
        "\n",
        "class Gender(Enum):  # тут также можно использовать IntEnum\n",
        "    female = auto()  # auto автоматически пронумерует элементы енама\n",
        "    male = auto()  # но можно задать какое-то и свое значение, например\n",
        "                   # male = \"male\"\n",
        "                   # female = \"female\""
      ]
    },
    {
      "cell_type": "code",
      "source": [
        "print(Gender.female)\n",
        "print(Gender.female.name)\n",
        "print(Gender.female.value)"
      ],
      "metadata": {
        "colab": {
          "base_uri": "https://localhost:8080/"
        },
        "id": "7DVkypsJIMAC",
        "outputId": "a8814389-f73f-465e-9655-2192a3c26697"
      },
      "execution_count": 50,
      "outputs": [
        {
          "output_type": "stream",
          "name": "stdout",
          "text": [
            "Gender.female\n",
            "female\n",
            "1\n"
          ]
        }
      ]
    },
    {
      "cell_type": "code",
      "execution_count": 51,
      "metadata": {
        "colab": {
          "base_uri": "https://localhost:8080/"
        },
        "id": "G_8IoGF9FGTc",
        "outputId": "13c8d4db-bd77-4d02-882d-8e7de9d82fba"
      },
      "outputs": [
        {
          "output_type": "stream",
          "name": "stdout",
          "text": [
            "Gender.male\n",
            "male\n",
            "2\n"
          ]
        }
      ],
      "source": [
        "print(Gender.male)\n",
        "print(Gender.male.name)\n",
        "print(Gender.male.value)"
      ]
    },
    {
      "cell_type": "code",
      "execution_count": 54,
      "metadata": {
        "colab": {
          "base_uri": "https://localhost:8080/"
        },
        "id": "eYozqKLIFGTc",
        "outputId": "aa089d0e-da48-48fc-cb25-7465ea39f70f"
      },
      "outputs": [
        {
          "output_type": "execute_result",
          "data": {
            "text/plain": [
              "{'female': <Gender.female: 1>, 'male': <Gender.male: 2>}"
            ]
          },
          "metadata": {},
          "execution_count": 54
        }
      ],
      "source": [
        "Gender._member_map_"
      ]
    },
    {
      "cell_type": "code",
      "execution_count": 55,
      "metadata": {
        "colab": {
          "base_uri": "https://localhost:8080/"
        },
        "id": "9CKrM2wuFGTc",
        "outputId": "b43704b2-8019-4ced-e8e9-6b2d59a7af99"
      },
      "outputs": [
        {
          "output_type": "execute_result",
          "data": {
            "text/plain": [
              "{1: <Gender.female: 1>, 2: <Gender.male: 2>}"
            ]
          },
          "metadata": {},
          "execution_count": 55
        }
      ],
      "source": [
        "Gender._value2member_map_"
      ]
    },
    {
      "cell_type": "code",
      "source": [
        "Gender.male"
      ],
      "metadata": {
        "colab": {
          "base_uri": "https://localhost:8080/"
        },
        "id": "Jluxdy-YIpxn",
        "outputId": "239aca4f-d197-4cf8-938c-c4e8a6ffe7c2"
      },
      "execution_count": 57,
      "outputs": [
        {
          "output_type": "execute_result",
          "data": {
            "text/plain": [
              "<Gender.male: 2>"
            ]
          },
          "metadata": {},
          "execution_count": 57
        }
      ]
    },
    {
      "cell_type": "code",
      "execution_count": 58,
      "metadata": {
        "id": "CpMMrzPlFGTd"
      },
      "outputs": [],
      "source": [
        "from dataclasses import dataclass\n",
        "from enum import Enum, auto\n",
        "\n",
        "\n",
        "class Gender(Enum):  # тут также можно использовать IntEnum\n",
        "    female = auto()\n",
        "    male = auto()\n",
        "\n",
        "    def __str__(self):\n",
        "        return self.name  # name, чтобы получить названия самого элемента енама, value -- чтобы получить значение\n",
        "\n",
        "    __repr__ = __str__"
      ]
    },
    {
      "cell_type": "code",
      "source": [
        "Gender.male"
      ],
      "metadata": {
        "colab": {
          "base_uri": "https://localhost:8080/"
        },
        "id": "thwEQQbpIxRN",
        "outputId": "d857e0b8-7bd8-4711-d425-76ec17b0445b"
      },
      "execution_count": 60,
      "outputs": [
        {
          "output_type": "execute_result",
          "data": {
            "text/plain": [
              "male"
            ]
          },
          "metadata": {},
          "execution_count": 60
        }
      ]
    },
    {
      "cell_type": "code",
      "execution_count": 61,
      "metadata": {
        "id": "KmPzRFGHFGTd"
      },
      "outputs": [],
      "source": [
        "from dataclasses import dataclass\n",
        "\n",
        "@dataclass\n",
        "class User:\n",
        "    email: str\n",
        "    gender: Gender\n",
        "    first_name: str\n",
        "    middle_name: str\n",
        "    last_name: str\n",
        "\n",
        "    @property\n",
        "    def full_name(self):\n",
        "        return f\"{self.first_name} {self.middle_name} {self.last_name}\"\n",
        "\n",
        "    @property\n",
        "    def is_male(self):\n",
        "        return self.gender == Gender.male"
      ]
    },
    {
      "cell_type": "code",
      "execution_count": 62,
      "metadata": {
        "colab": {
          "base_uri": "https://localhost:8080/"
        },
        "id": "SDARN9xtFGTd",
        "outputId": "6d2c89c9-f779-4f95-f04a-6814c4a512ab"
      },
      "outputs": [
        {
          "output_type": "stream",
          "name": "stdout",
          "text": [
            "johndoe@gmail.com\n",
            "John Sergeevich Doe\n",
            "male\n",
            "True\n"
          ]
        }
      ],
      "source": [
        "user = User(email=\"johndoe@gmail.com\", gender=Gender.male, first_name=\"John\", middle_name=\"Sergeevich\", last_name=\"Doe\")\n",
        "\n",
        "print(user.email)\n",
        "print(user.full_name)\n",
        "print(user.gender)\n",
        "print(user.is_male)"
      ]
    },
    {
      "cell_type": "markdown",
      "metadata": {
        "id": "REj9qhbFFGTe"
      },
      "source": [
        "### Глава 2: классметоды и статикметоды\n",
        "\n",
        "Classmethod используется когда нужно вызвать функцию класса, не создавая объект. Чаще всего это нужно для создания экземпляра класса на основе каких-то данных которые еще как-то нужно обработать"
      ]
    },
    {
      "cell_type": "code",
      "execution_count": 63,
      "metadata": {
        "id": "MQcfDv1sFGTe"
      },
      "outputs": [],
      "source": [
        "from dataclasses import dataclass\n",
        "from datetime import date\n",
        "\n",
        "@dataclass\n",
        "class Person:\n",
        "    age: int\n",
        "    name: str\n",
        "\n",
        "    @classmethod\n",
        "    def from_birthyear(cls, name: str, birth_year: int) -> \"Person\":  # в cls лежит фактически сам класс\n",
        "        return cls(\n",
        "            age=date.today().year - birth_year,\n",
        "            name=name,\n",
        "        )\n",
        "\n",
        "    def __str__(self):\n",
        "        return f\"{self.name}, age {self.age}\""
      ]
    },
    {
      "cell_type": "code",
      "execution_count": 65,
      "metadata": {
        "colab": {
          "base_uri": "https://localhost:8080/"
        },
        "id": "KdLphpZ_FGTe",
        "outputId": "25d982e1-ba64-4236-d3ce-5a2741bc3e59"
      },
      "outputs": [
        {
          "output_type": "stream",
          "name": "stdout",
          "text": [
            "John, age 23\n"
          ]
        }
      ],
      "source": [
        "person = Person.from_birthyear(\"John\", 2000)\n",
        "\n",
        "print(person)"
      ]
    },
    {
      "cell_type": "markdown",
      "metadata": {
        "id": "Odm0sBZnFGTe"
      },
      "source": [
        "Staticmethod же применяется обычно для инкапуляции какой-то логики внутри класса, которой вроде и не нужен self, а вроде и не хочется это просто отдельными функциями плодить"
      ]
    },
    {
      "cell_type": "code",
      "execution_count": 66,
      "metadata": {
        "id": "KeQ3gzoRFGTf"
      },
      "outputs": [],
      "source": [
        "from dataclasses import dataclass\n",
        "from datetime import date\n",
        "\n",
        "@dataclass\n",
        "class Person:\n",
        "    age: int\n",
        "    name: str\n",
        "\n",
        "    @staticmethod\n",
        "    def calculate_age(birth_year: int) -> int:  # заметьте, тут не нужен self/cls\n",
        "        return date.today().year - birth_year\n",
        "\n",
        "    @classmethod\n",
        "    def from_birthyear(cls, name: str, birth_year: int) -> \"Person\":\n",
        "        return cls(\n",
        "            age=cls.calculate_age(birth_year),  # а вот тут уже нужен\n",
        "            name=name,\n",
        "        )\n",
        "\n",
        "    def __str__(self):\n",
        "        return f\"{self.name}, age {self.age}\""
      ]
    },
    {
      "cell_type": "code",
      "execution_count": 67,
      "metadata": {
        "colab": {
          "base_uri": "https://localhost:8080/"
        },
        "id": "zBLWgmseFGTf",
        "outputId": "69d48d6a-d6d6-413c-9c0d-5054deed9a24"
      },
      "outputs": [
        {
          "output_type": "stream",
          "name": "stdout",
          "text": [
            "John, age 23\n"
          ]
        }
      ],
      "source": [
        "person = Person.from_birthyear(\"John\", 2000)\n",
        "\n",
        "print(person)"
      ]
    },
    {
      "cell_type": "markdown",
      "metadata": {
        "id": "sRgO_aiFFGTf"
      },
      "source": [
        "### Глава 3: (не)безопасность\n",
        "\n",
        "В питоне есть так называемые private переменные класса, но работают они с переменным успехом."
      ]
    },
    {
      "cell_type": "code",
      "execution_count": 70,
      "metadata": {
        "id": "Mner43pjFGTg"
      },
      "outputs": [],
      "source": [
        "class Client:\n",
        "    def __init__(self, id, phone_number):\n",
        "        self._id = id\n",
        "        self.__phone_number = phone_number"
      ]
    },
    {
      "cell_type": "code",
      "execution_count": 71,
      "metadata": {
        "colab": {
          "base_uri": "https://localhost:8080/"
        },
        "id": "XU-Y4NA3FGTg",
        "outputId": "56db1e6e-90b6-47b9-9e2b-3b66aeb72201"
      },
      "outputs": [
        {
          "output_type": "execute_result",
          "data": {
            "text/plain": [
              "123"
            ]
          },
          "metadata": {},
          "execution_count": 71
        }
      ],
      "source": [
        "client = Client(123, \"88005553535\")\n",
        "client._id"
      ]
    },
    {
      "cell_type": "code",
      "source": [
        "client.__phone_number"
      ],
      "metadata": {
        "colab": {
          "base_uri": "https://localhost:8080/",
          "height": 174
        },
        "id": "bcmlnfy8Ktmu",
        "outputId": "d9e3b781-320d-4ceb-97d9-b33281d2dc8b"
      },
      "execution_count": 72,
      "outputs": [
        {
          "output_type": "error",
          "ename": "AttributeError",
          "evalue": "ignored",
          "traceback": [
            "\u001b[0;31m---------------------------------------------------------------------------\u001b[0m",
            "\u001b[0;31mAttributeError\u001b[0m                            Traceback (most recent call last)",
            "\u001b[0;32m<ipython-input-72-e2c6d214cc85>\u001b[0m in \u001b[0;36m<cell line: 1>\u001b[0;34m()\u001b[0m\n\u001b[0;32m----> 1\u001b[0;31m \u001b[0mclient\u001b[0m\u001b[0;34m.\u001b[0m\u001b[0m__phone_number\u001b[0m\u001b[0;34m\u001b[0m\u001b[0;34m\u001b[0m\u001b[0m\n\u001b[0m",
            "\u001b[0;31mAttributeError\u001b[0m: 'Client' object has no attribute '__phone_number'"
          ]
        }
      ]
    },
    {
      "cell_type": "markdown",
      "metadata": {
        "id": "JXo8-OElFGTg"
      },
      "source": [
        "НО!!!"
      ]
    },
    {
      "cell_type": "code",
      "execution_count": 73,
      "metadata": {
        "colab": {
          "base_uri": "https://localhost:8080/"
        },
        "id": "DwToTdx9FGTg",
        "outputId": "5665c8a4-1879-40ed-9d8e-3dd1c748439b"
      },
      "outputs": [
        {
          "output_type": "execute_result",
          "data": {
            "text/plain": [
              "{'_id': 123, '_Client__phone_number': '88005553535'}"
            ]
          },
          "metadata": {},
          "execution_count": 73
        }
      ],
      "source": [
        "client.__dict__"
      ]
    },
    {
      "cell_type": "code",
      "execution_count": 74,
      "metadata": {
        "colab": {
          "base_uri": "https://localhost:8080/",
          "height": 35
        },
        "id": "Hhp64LvbFGTh",
        "outputId": "aa5a773b-5b3b-4d68-b3d3-57b9d8be3777"
      },
      "outputs": [
        {
          "output_type": "execute_result",
          "data": {
            "text/plain": [
              "'88005553535'"
            ],
            "application/vnd.google.colaboratory.intrinsic+json": {
              "type": "string"
            }
          },
          "metadata": {},
          "execution_count": 74
        }
      ],
      "source": [
        "client._Client__phone_number"
      ]
    },
    {
      "cell_type": "markdown",
      "metadata": {
        "id": "0nJtcar_FGTh"
      },
      "source": [
        "### Глава 4: namedtuple\n",
        "\n",
        "Это некоторый гибрид кортежа и класса. Работает как обычный кортеж, только помимо этого у него именованные поля."
      ]
    },
    {
      "cell_type": "code",
      "execution_count": 75,
      "metadata": {
        "colab": {
          "base_uri": "https://localhost:8080/"
        },
        "id": "27cR7hjuFGTh",
        "outputId": "cf646703-a65e-4273-b8b3-75d467d170fa"
      },
      "outputs": [
        {
          "output_type": "stream",
          "name": "stdout",
          "text": [
            "Point(x=5, y=6)\n"
          ]
        }
      ],
      "source": [
        "from collections import namedtuple\n",
        "\n",
        "Point = namedtuple(\"Point\", [\"x\", \"y\"])\n",
        "\n",
        "w = Point(5, 6)\n",
        "\n",
        "print(w)"
      ]
    },
    {
      "cell_type": "code",
      "source": [
        "w[0], w[1], w.x, w.y"
      ],
      "metadata": {
        "colab": {
          "base_uri": "https://localhost:8080/"
        },
        "id": "YIKLDQ7CLi36",
        "outputId": "9fdff921-67c1-4d65-bd41-6f35d02670b3"
      },
      "execution_count": 77,
      "outputs": [
        {
          "output_type": "execute_result",
          "data": {
            "text/plain": [
              "(5, 6, 5, 6)"
            ]
          },
          "metadata": {},
          "execution_count": 77
        }
      ]
    },
    {
      "cell_type": "markdown",
      "metadata": {
        "id": "HS7_dorSFGTi"
      },
      "source": [
        "В остальном это обычный tuple:"
      ]
    },
    {
      "cell_type": "code",
      "execution_count": 78,
      "metadata": {
        "colab": {
          "base_uri": "https://localhost:8080/"
        },
        "id": "NWJUlE5uFGTi",
        "outputId": "bd6b9c0c-eeec-4012-f9d9-3d1897b6d2e8"
      },
      "outputs": [
        {
          "output_type": "stream",
          "name": "stdout",
          "text": [
            "5\n",
            "6\n"
          ]
        }
      ],
      "source": [
        "for coord in w:\n",
        "    print(coord)"
      ]
    },
    {
      "cell_type": "code",
      "execution_count": 79,
      "metadata": {
        "colab": {
          "base_uri": "https://localhost:8080/"
        },
        "id": "Or23nS8rFGTi",
        "outputId": "60f66f3c-a41e-438e-b8e7-33cdf72b4987"
      },
      "outputs": [
        {
          "output_type": "execute_result",
          "data": {
            "text/plain": [
              "1"
            ]
          },
          "metadata": {},
          "execution_count": 79
        }
      ],
      "source": [
        "w.count(5)"
      ]
    },
    {
      "cell_type": "code",
      "execution_count": 80,
      "metadata": {
        "colab": {
          "base_uri": "https://localhost:8080/"
        },
        "id": "M4Yi-r1pFGTi",
        "outputId": "c6dd1c64-9abe-412c-dcba-bc13877c169c"
      },
      "outputs": [
        {
          "output_type": "execute_result",
          "data": {
            "text/plain": [
              "2"
            ]
          },
          "metadata": {},
          "execution_count": 80
        }
      ],
      "source": [
        "len(w)"
      ]
    },
    {
      "cell_type": "code",
      "execution_count": 82,
      "metadata": {
        "id": "q6jYQDJ9FGTj"
      },
      "outputs": [],
      "source": [
        "from typing import NamedTuple\n",
        "\n",
        "class Point(NamedTuple):\n",
        "    x: int\n",
        "    y: int"
      ]
    },
    {
      "cell_type": "code",
      "source": [
        "w = Point(5, 6)\n",
        "\n",
        "print(w)"
      ],
      "metadata": {
        "colab": {
          "base_uri": "https://localhost:8080/"
        },
        "id": "l-9LuL9-LtlI",
        "outputId": "54e1b792-b758-4974-e65c-92801d3140b8"
      },
      "execution_count": 83,
      "outputs": [
        {
          "output_type": "stream",
          "name": "stdout",
          "text": [
            "Point(x=5, y=6)\n"
          ]
        }
      ]
    },
    {
      "cell_type": "code",
      "source": [
        "for coord in w:\n",
        "    print(coord)"
      ],
      "metadata": {
        "colab": {
          "base_uri": "https://localhost:8080/"
        },
        "id": "mypkUy5ALznr",
        "outputId": "69e116d4-6a80-4a6f-ee86-a5873a977ea9"
      },
      "execution_count": 84,
      "outputs": [
        {
          "output_type": "stream",
          "name": "stdout",
          "text": [
            "5\n",
            "6\n"
          ]
        }
      ]
    },
    {
      "cell_type": "code",
      "source": [
        "w.count(5)"
      ],
      "metadata": {
        "colab": {
          "base_uri": "https://localhost:8080/"
        },
        "id": "28bzFEmRL0vC",
        "outputId": "5efb960a-165b-4253-f3a6-38560f13e5a6"
      },
      "execution_count": 85,
      "outputs": [
        {
          "output_type": "execute_result",
          "data": {
            "text/plain": [
              "1"
            ]
          },
          "metadata": {},
          "execution_count": 85
        }
      ]
    },
    {
      "cell_type": "markdown",
      "source": [
        "# Abstract Base Classes"
      ],
      "metadata": {
        "id": "3L2v3kWsMDnU"
      }
    },
    {
      "cell_type": "code",
      "source": [
        "from abc import ABC, abstractmethod\n",
        "\n",
        "\n",
        "class SmartWatchInterface(ABC):\n",
        "    @abstractmethod\n",
        "    def show_time(self):\n",
        "        pass\n",
        "\n",
        "    @abstractmethod\n",
        "    def show_battery_level(self):\n",
        "        pass\n",
        "\n",
        "    def say_goodbye(self):\n",
        "        print(\"Bye!\")"
      ],
      "metadata": {
        "id": "jAPmp4XjL1zc"
      },
      "execution_count": 15,
      "outputs": []
    },
    {
      "cell_type": "code",
      "source": [
        "import time\n",
        "import random\n",
        "\n",
        "\n",
        "class MySmartWatch(SmartWatchInterface):\n",
        "    def show_time(self):\n",
        "        print(time.time())\n",
        "\n",
        "    def show_battery_level(self):\n",
        "        print(random.randint(1, 100))\n",
        "\n",
        "    def say_hello(self):\n",
        "        print(\"Hello\")"
      ],
      "metadata": {
        "id": "9ux_3NKgMkHJ"
      },
      "execution_count": 16,
      "outputs": []
    },
    {
      "cell_type": "code",
      "source": [
        "watch = MySmartWatch()"
      ],
      "metadata": {
        "id": "R-ZwGwgyM77V"
      },
      "execution_count": 17,
      "outputs": []
    },
    {
      "cell_type": "code",
      "source": [
        "watch.show_time()\n",
        "watch.show_battery_level()\n",
        "watch.say_hello()\n",
        "watch.say_goodbye()"
      ],
      "metadata": {
        "colab": {
          "base_uri": "https://localhost:8080/"
        },
        "id": "sqtxzw-oM9Zn",
        "outputId": "3c4d2d3b-941f-41c1-b485-ae724a10b732"
      },
      "execution_count": 18,
      "outputs": [
        {
          "output_type": "stream",
          "name": "stdout",
          "text": [
            "1699451671.4272513\n",
            "44\n",
            "Hello\n",
            "Bye!\n"
          ]
        }
      ]
    },
    {
      "cell_type": "code",
      "source": [
        "from collections.abc import Container, Sequence, Callable"
      ],
      "metadata": {
        "id": "MYogcNBZNLZk"
      },
      "execution_count": 19,
      "outputs": []
    },
    {
      "cell_type": "code",
      "source": [
        "class MyContainer(Container):\n",
        "    def __init__(self, *objs):\n",
        "        self.objs = objs\n",
        "\n",
        "    def __contains__(self, obj):\n",
        "        print(\"in contains method\")\n",
        "        return obj in self.objs"
      ],
      "metadata": {
        "id": "8896IDDROB1P"
      },
      "execution_count": 42,
      "outputs": []
    },
    {
      "cell_type": "code",
      "source": [
        "my_container = MyContainer(1,2,3,4,5,6,7,8,9,10)"
      ],
      "metadata": {
        "id": "8jJym3UUOIw9"
      },
      "execution_count": 43,
      "outputs": []
    },
    {
      "cell_type": "code",
      "source": [
        "1 in my_container"
      ],
      "metadata": {
        "colab": {
          "base_uri": "https://localhost:8080/"
        },
        "id": "kkaogiikP-MU",
        "outputId": "0dbdfe35-0c2a-4703-b21c-b3bb0ff3dc5d"
      },
      "execution_count": 44,
      "outputs": [
        {
          "output_type": "stream",
          "name": "stdout",
          "text": [
            "in contains method\n"
          ]
        },
        {
          "output_type": "execute_result",
          "data": {
            "text/plain": [
              "True"
            ]
          },
          "metadata": {},
          "execution_count": 44
        }
      ]
    },
    {
      "cell_type": "code",
      "source": [
        "issubclass(MyContainer, Container)"
      ],
      "metadata": {
        "colab": {
          "base_uri": "https://localhost:8080/"
        },
        "id": "UsOeM9mQPom_",
        "outputId": "3403d4d0-87a6-4231-81ed-a0df3cfa2536"
      },
      "execution_count": 45,
      "outputs": [
        {
          "output_type": "execute_result",
          "data": {
            "text/plain": [
              "True"
            ]
          },
          "metadata": {},
          "execution_count": 45
        }
      ]
    },
    {
      "cell_type": "code",
      "source": [
        "isinstance(my_container, Container)"
      ],
      "metadata": {
        "colab": {
          "base_uri": "https://localhost:8080/"
        },
        "id": "tfzPyprbPleW",
        "outputId": "77b037aa-18c5-4a45-f424-b1a5a2b2d2e8"
      },
      "execution_count": 46,
      "outputs": [
        {
          "output_type": "execute_result",
          "data": {
            "text/plain": [
              "True"
            ]
          },
          "metadata": {},
          "execution_count": 46
        }
      ]
    },
    {
      "cell_type": "code",
      "source": [
        "class MySequence(Sequence):\n",
        "    def __init__(self, *items):\n",
        "        self.items = items\n",
        "\n",
        "    def __len__(self):\n",
        "        return len(self.items)\n",
        "\n",
        "    def __getitem__(self, item):\n",
        "        return self.items[item]"
      ],
      "metadata": {
        "id": "r9eJ1DmXOdCY"
      },
      "execution_count": 31,
      "outputs": []
    },
    {
      "cell_type": "code",
      "source": [
        "my_sequence = MySequence(1,2,3,4,5,6,7,8,9)"
      ],
      "metadata": {
        "id": "Ld8abLDOOlBQ"
      },
      "execution_count": 32,
      "outputs": []
    },
    {
      "cell_type": "code",
      "source": [
        "len(my_sequence)"
      ],
      "metadata": {
        "colab": {
          "base_uri": "https://localhost:8080/"
        },
        "id": "DOiMGIWIOnBs",
        "outputId": "ed72584e-d10f-460b-a538-920b27212745"
      },
      "execution_count": 33,
      "outputs": [
        {
          "output_type": "execute_result",
          "data": {
            "text/plain": [
              "9"
            ]
          },
          "metadata": {},
          "execution_count": 33
        }
      ]
    },
    {
      "cell_type": "code",
      "source": [
        "my_sequence[1]"
      ],
      "metadata": {
        "colab": {
          "base_uri": "https://localhost:8080/"
        },
        "id": "_VrkzapaO1cv",
        "outputId": "e9dd51dd-5baa-4876-858e-f04d75e30cd2"
      },
      "execution_count": 34,
      "outputs": [
        {
          "output_type": "execute_result",
          "data": {
            "text/plain": [
              "2"
            ]
          },
          "metadata": {},
          "execution_count": 34
        }
      ]
    },
    {
      "cell_type": "code",
      "source": [
        "class MyCallable(Callable):\n",
        "    def __call__(self):\n",
        "        print(\"I'm called!\")\n",
        "\n",
        "my_callable = MyCallable()\n",
        "my_callable()"
      ],
      "metadata": {
        "colab": {
          "base_uri": "https://localhost:8080/"
        },
        "id": "UtQXDsmOO15p",
        "outputId": "17344b46-1880-44e6-b741-996bab3dd1ec"
      },
      "execution_count": 37,
      "outputs": [
        {
          "output_type": "stream",
          "name": "stdout",
          "text": [
            "I'm called!\n"
          ]
        }
      ]
    },
    {
      "cell_type": "code",
      "source": [],
      "metadata": {
        "id": "v70255ySO7bK"
      },
      "execution_count": null,
      "outputs": []
    }
  ],
  "metadata": {
    "kernelspec": {
      "display_name": "Python 3.10.8 64-bit",
      "language": "python",
      "name": "python3"
    },
    "language_info": {
      "codemirror_mode": {
        "name": "ipython",
        "version": 3
      },
      "file_extension": ".py",
      "mimetype": "text/x-python",
      "name": "python",
      "nbconvert_exporter": "python",
      "pygments_lexer": "ipython3",
      "version": "3.10.8"
    },
    "orig_nbformat": 4,
    "vscode": {
      "interpreter": {
        "hash": "6ecdebf77f2ee3a47348d003f751c63e810ca996c1c68d1179f338200fa83b34"
      }
    },
    "colab": {
      "provenance": []
    }
  },
  "nbformat": 4,
  "nbformat_minor": 0
}