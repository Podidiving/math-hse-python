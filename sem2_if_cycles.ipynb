{
  "nbformat": 4,
  "nbformat_minor": 0,
  "metadata": {
    "colab": {
      "provenance": []
    },
    "kernelspec": {
      "name": "python3",
      "display_name": "Python 3"
    },
    "language_info": {
      "name": "python"
    }
  },
  "cells": [
    {
      "cell_type": "markdown",
      "source": [
        "### Input"
      ],
      "metadata": {
        "id": "vPZq7yogtLES"
      }
    },
    {
      "cell_type": "code",
      "source": [
        "print(\"smthg\")"
      ],
      "metadata": {
        "colab": {
          "base_uri": "https://localhost:8080/"
        },
        "id": "dSmEbSFDAfch",
        "outputId": "f394c35b-7bd1-4c30-bc8c-e6c69d9ca5e0"
      },
      "execution_count": null,
      "outputs": [
        {
          "output_type": "stream",
          "name": "stdout",
          "text": [
            "smthg\n"
          ]
        }
      ]
    },
    {
      "cell_type": "code",
      "source": [
        "result = input(\"Print something\")"
      ],
      "metadata": {
        "colab": {
          "base_uri": "https://localhost:8080/"
        },
        "id": "hrmPkGCBAX5V",
        "outputId": "f1c98c8c-7467-4754-cd82-147bd0561e59"
      },
      "execution_count": null,
      "outputs": [
        {
          "name": "stdout",
          "output_type": "stream",
          "text": [
            "Print something1123\\nfwafa\n"
          ]
        }
      ]
    },
    {
      "cell_type": "code",
      "source": [
        "result = input(\"Input 3 numbers, separated by comma and whitespace: \")"
      ],
      "metadata": {
        "colab": {
          "base_uri": "https://localhost:8080/"
        },
        "id": "iptg1J0Jt9iZ",
        "outputId": "0f9bd1f1-9c48-4114-ba42-c67543287d64"
      },
      "execution_count": null,
      "outputs": [
        {
          "name": "stdout",
          "output_type": "stream",
          "text": [
            "Input 3 numbers, separated by comma and whitespace: 1, 2, 5    \n"
          ]
        }
      ]
    },
    {
      "cell_type": "code",
      "source": [
        "result.strip().split(\", \")"
      ],
      "metadata": {
        "colab": {
          "base_uri": "https://localhost:8080/"
        },
        "id": "edKfUq3UBiqm",
        "outputId": "9a830ce7-d8eb-4ee3-d8f5-c49ba5fb7533"
      },
      "execution_count": null,
      "outputs": [
        {
          "output_type": "execute_result",
          "data": {
            "text/plain": [
              "['1', '2', '5']"
            ]
          },
          "metadata": {},
          "execution_count": 30
        }
      ]
    },
    {
      "cell_type": "code",
      "source": [
        "print(type(result.split()))"
      ],
      "metadata": {
        "colab": {
          "base_uri": "https://localhost:8080/"
        },
        "id": "KLXlyl_9A_vE",
        "outputId": "1f2ba526-b7fa-4f99-a9c7-6ca4c69be8a7"
      },
      "execution_count": null,
      "outputs": [
        {
          "output_type": "stream",
          "name": "stdout",
          "text": [
            "<class 'list'>\n"
          ]
        }
      ]
    },
    {
      "cell_type": "code",
      "source": [
        "print(type(result.split()[0]))"
      ],
      "metadata": {
        "colab": {
          "base_uri": "https://localhost:8080/"
        },
        "id": "P1yY8_MhBeYe",
        "outputId": "52c30431-76ad-4db6-e19f-d167c52f6808"
      },
      "execution_count": null,
      "outputs": [
        {
          "output_type": "stream",
          "name": "stdout",
          "text": [
            "<class 'str'>\n"
          ]
        }
      ]
    },
    {
      "cell_type": "code",
      "source": [
        "list_of_str = result.strip().split(\", \")\n",
        "\n",
        "a = int(list_of_str[0])\n",
        "b = int(list_of_str[1])\n",
        "c = int(list_of_str[2])"
      ],
      "metadata": {
        "id": "ZiQnkA2LB4cf"
      },
      "execution_count": null,
      "outputs": []
    },
    {
      "cell_type": "code",
      "source": [
        "# 1\n",
        "list(map(int, list_of_str))"
      ],
      "metadata": {
        "colab": {
          "base_uri": "https://localhost:8080/"
        },
        "id": "kEeO0NBrCL2b",
        "outputId": "f448b4db-9cb7-4b63-8f30-4aecc67ab669"
      },
      "execution_count": null,
      "outputs": [
        {
          "output_type": "execute_result",
          "data": {
            "text/plain": [
              "[1, 2, 5]"
            ]
          },
          "metadata": {},
          "execution_count": 50
        }
      ]
    },
    {
      "cell_type": "code",
      "source": [
        "# list(map(lambda x: x + 1, map(int, list_of_str)))\n",
        "\n",
        "# a = (1,2,3,4,5)\n",
        "# b = [1,2,3,4,5]\n",
        "\n",
        "# print(f\"{type(a)=}\")\n",
        "# print(f\"{type(b)=}\")\n",
        "\n",
        "# a.__sizeof__(), b.__sizeof__()\n",
        "\n",
        "# hash(a)\n",
        "# hash(b)"
      ],
      "metadata": {
        "id": "5UcgxLGeECbW"
      },
      "execution_count": null,
      "outputs": []
    },
    {
      "cell_type": "code",
      "source": [
        "# 2\n",
        "# list comprehension\n",
        "\n",
        "[int(x) for x in list_of_str]"
      ],
      "metadata": {
        "colab": {
          "base_uri": "https://localhost:8080/"
        },
        "id": "gCykWt0_Dtbi",
        "outputId": "b35cc2fd-a6d5-47ac-d064-7c42e6416c2a"
      },
      "execution_count": null,
      "outputs": [
        {
          "output_type": "execute_result",
          "data": {
            "text/plain": [
              "[1, 2, 5]"
            ]
          },
          "metadata": {},
          "execution_count": 51
        }
      ]
    },
    {
      "cell_type": "code",
      "source": [
        "# unpacking\n",
        "\n",
        "a, b, c = list(map(int, list_of_str))"
      ],
      "metadata": {
        "id": "4-t7U_aZEIp6"
      },
      "execution_count": null,
      "outputs": []
    },
    {
      "cell_type": "code",
      "source": [
        "result = input(\"Input numbers, separated by whitespace: \")"
      ],
      "metadata": {
        "colab": {
          "base_uri": "https://localhost:8080/"
        },
        "id": "fNxF2AGgCgfl",
        "outputId": "86a21c13-2be0-42bb-e6b0-73aee75eab1a"
      },
      "execution_count": null,
      "outputs": [
        {
          "name": "stdout",
          "output_type": "stream",
          "text": [
            "Input numbers, separated by whitespace: 1 2 3 4 5 6 7 8 9 10 12 13 15 12 5123234\n"
          ]
        }
      ]
    },
    {
      "cell_type": "code",
      "source": [
        "list_of_str = result.strip().split(\" \")\n",
        "\n",
        "\n",
        "# get fst, lst elements\n",
        "# unpacking\n",
        "\n",
        "fst, *_, lst = list(map(int, list_of_str))\n",
        "\n",
        "print(fst, lst)\n",
        "\n",
        "# get fst, trd, lst elements\n",
        "# unpacking\n",
        "\n",
        "# *_ may mean 0 variables\n",
        "fst, _, trd, *_, lst = list(map(int, list_of_str))\n",
        "\n",
        "print(fst, trd, lst)\n",
        "\n",
        "# _ may be any number times\n",
        "# *_ may be at most once"
      ],
      "metadata": {
        "colab": {
          "base_uri": "https://localhost:8080/"
        },
        "id": "u9j9iixmCEiw",
        "outputId": "bd767ebd-34b8-4c7d-bec2-5f5c76c2139e"
      },
      "execution_count": null,
      "outputs": [
        {
          "output_type": "stream",
          "name": "stdout",
          "text": [
            "1 5123234\n",
            "1 3 5123234\n"
          ]
        }
      ]
    },
    {
      "cell_type": "code",
      "source": [
        "# fst, *_, x, *_, lst = list(map(int, list_of_str))"
      ],
      "metadata": {
        "id": "0jGwA5HFF7d7"
      },
      "execution_count": null,
      "outputs": []
    },
    {
      "cell_type": "code",
      "source": [
        "fst, _, trd, *_, lst = map(int, list_of_str)"
      ],
      "metadata": {
        "id": "TzFUo5-gE6iX"
      },
      "execution_count": null,
      "outputs": []
    },
    {
      "cell_type": "code",
      "source": [
        "# put back together:\n",
        "a, _, c = map(int, input(\"Input 3 numbers, separated by whitespace: \").strip().split(\" \"))"
      ],
      "metadata": {
        "id": "4UHTXmL-GF4v"
      },
      "execution_count": null,
      "outputs": []
    },
    {
      "cell_type": "code",
      "source": [
        "a, c"
      ],
      "metadata": {
        "colab": {
          "base_uri": "https://localhost:8080/"
        },
        "id": "Feqt4qnAGbNU",
        "outputId": "2c4c6d1a-135b-48cb-c1c0-d374f52592cd"
      },
      "execution_count": null,
      "outputs": [
        {
          "output_type": "execute_result",
          "data": {
            "text/plain": [
              "(1, 3)"
            ]
          },
          "metadata": {},
          "execution_count": 71
        }
      ]
    },
    {
      "cell_type": "code",
      "source": [],
      "metadata": {
        "id": "gEwqJc1EGhXV"
      },
      "execution_count": null,
      "outputs": []
    },
    {
      "cell_type": "code",
      "source": [],
      "metadata": {
        "id": "LHPqlJqIB32G"
      },
      "execution_count": null,
      "outputs": []
    },
    {
      "cell_type": "markdown",
      "source": [
        "### If/else"
      ],
      "metadata": {
        "id": "4l3zhRXktOOq"
      }
    },
    {
      "cell_type": "code",
      "source": [
        "# if BOOL_STATEMENT:\n",
        "#   # COMPUTE IF TRUE\n",
        "# else:\n",
        "#   # COMPUTE IF FALSE"
      ],
      "metadata": {
        "id": "dRmeMM4-HJa4"
      },
      "execution_count": null,
      "outputs": []
    },
    {
      "cell_type": "code",
      "source": [
        "a = int(input(\"Input a single number: \"))\n",
        "\n",
        "if a % 2 == 0:\n",
        "    print(a, \"DIV BY 2\")\n",
        "else:\n",
        "    print(a, \"NOT DIV BY 2\")"
      ],
      "metadata": {
        "colab": {
          "base_uri": "https://localhost:8080/"
        },
        "id": "k5h2lC-ky11i",
        "outputId": "a25132f9-5971-48fa-a58e-a961f298cae1"
      },
      "execution_count": null,
      "outputs": [
        {
          "output_type": "stream",
          "name": "stdout",
          "text": [
            "Input a single number: 124\n",
            "124 DIV BY 2\n"
          ]
        }
      ]
    },
    {
      "cell_type": "code",
      "source": [
        "a = int(input(\"Input a single number: \"))\n",
        "\n",
        "if a % 2 == 0:\n",
        "    print(a, \"DIV BY 2\")\n",
        "elif a % 3 == 0:\n",
        "    print(a, \"DIV BY 3\")\n",
        "elif a % 5 == 0:\n",
        "    print(a, \"DIV BY 5\")\n",
        "else:\n",
        "    print(a, \"NOT DIV BY 2 AND BY 3 AND BY 5\")"
      ],
      "metadata": {
        "colab": {
          "base_uri": "https://localhost:8080/"
        },
        "id": "jPBlATBlHYid",
        "outputId": "c62db211-d118-4e86-9d58-a08c6ff8dd84"
      },
      "execution_count": null,
      "outputs": [
        {
          "output_type": "stream",
          "name": "stdout",
          "text": [
            "Input a single number: 6\n",
            "6 DIV BY 2\n"
          ]
        }
      ]
    },
    {
      "cell_type": "code",
      "source": [
        "if a % 2 == 0:\n",
        "    print(a, \"DIV BY 2\")"
      ],
      "metadata": {
        "colab": {
          "base_uri": "https://localhost:8080/"
        },
        "id": "Bn73Ct0SIHLk",
        "outputId": "d9427edf-1443-4007-c8de-0899acf94b93"
      },
      "execution_count": null,
      "outputs": [
        {
          "output_type": "stream",
          "name": "stdout",
          "text": [
            "6 DIV BY 2\n"
          ]
        }
      ]
    },
    {
      "cell_type": "code",
      "source": [
        "a / 0"
      ],
      "metadata": {
        "colab": {
          "base_uri": "https://localhost:8080/",
          "height": 174
        },
        "id": "HQufuRwyIaNC",
        "outputId": "90930d28-5c51-4205-c218-a9ea01d591ef"
      },
      "execution_count": null,
      "outputs": [
        {
          "output_type": "error",
          "ename": "ZeroDivisionError",
          "evalue": "ignored",
          "traceback": [
            "\u001b[0;31m---------------------------------------------------------------------------\u001b[0m",
            "\u001b[0;31mZeroDivisionError\u001b[0m                         Traceback (most recent call last)",
            "\u001b[0;32m<ipython-input-87-4f74cdd1c1e6>\u001b[0m in \u001b[0;36m<cell line: 1>\u001b[0;34m()\u001b[0m\n\u001b[0;32m----> 1\u001b[0;31m \u001b[0ma\u001b[0m \u001b[0;34m/\u001b[0m \u001b[0;36m0\u001b[0m\u001b[0;34m\u001b[0m\u001b[0;34m\u001b[0m\u001b[0m\n\u001b[0m",
            "\u001b[0;31mZeroDivisionError\u001b[0m: division by zero"
          ]
        }
      ]
    },
    {
      "cell_type": "code",
      "source": [
        "# OR\n",
        "a = int(input(\"Input a single number: \"))\n",
        "\n",
        "if a > 0 or a / 0 == 0:\n",
        "    print(\"ALL GOOD\")"
      ],
      "metadata": {
        "colab": {
          "base_uri": "https://localhost:8080/"
        },
        "id": "OKVRMDQRIQbp",
        "outputId": "3448d9df-de8b-4aef-d7cf-648a0737e3ae"
      },
      "execution_count": null,
      "outputs": [
        {
          "output_type": "stream",
          "name": "stdout",
          "text": [
            "Input a single number: 1\n",
            "ALL GOOD\n"
          ]
        }
      ]
    },
    {
      "cell_type": "code",
      "source": [
        "# OR\n",
        "a = int(input(\"Input a single number: \"))\n",
        "\n",
        "if a > 0 or a / 0 == 0:\n",
        "    print(\"ALL GOOD\")"
      ],
      "metadata": {
        "colab": {
          "base_uri": "https://localhost:8080/",
          "height": 242
        },
        "id": "fgWDScDiIoYh",
        "outputId": "3b468415-09bd-4964-a3f6-ab1d1f9fc01d"
      },
      "execution_count": null,
      "outputs": [
        {
          "name": "stdout",
          "output_type": "stream",
          "text": [
            "Input a single number: -1\n"
          ]
        },
        {
          "output_type": "error",
          "ename": "ZeroDivisionError",
          "evalue": "ignored",
          "traceback": [
            "\u001b[0;31m---------------------------------------------------------------------------\u001b[0m",
            "\u001b[0;31mZeroDivisionError\u001b[0m                         Traceback (most recent call last)",
            "\u001b[0;32m<ipython-input-89-8f9f4e261281>\u001b[0m in \u001b[0;36m<cell line: 4>\u001b[0;34m()\u001b[0m\n\u001b[1;32m      2\u001b[0m \u001b[0ma\u001b[0m \u001b[0;34m=\u001b[0m \u001b[0mint\u001b[0m\u001b[0;34m(\u001b[0m\u001b[0minput\u001b[0m\u001b[0;34m(\u001b[0m\u001b[0;34m\"Input a single number: \"\u001b[0m\u001b[0;34m)\u001b[0m\u001b[0;34m)\u001b[0m\u001b[0;34m\u001b[0m\u001b[0;34m\u001b[0m\u001b[0m\n\u001b[1;32m      3\u001b[0m \u001b[0;34m\u001b[0m\u001b[0m\n\u001b[0;32m----> 4\u001b[0;31m \u001b[0;32mif\u001b[0m \u001b[0ma\u001b[0m \u001b[0;34m>\u001b[0m \u001b[0;36m0\u001b[0m \u001b[0;32mor\u001b[0m \u001b[0ma\u001b[0m \u001b[0;34m/\u001b[0m \u001b[0;36m0\u001b[0m \u001b[0;34m==\u001b[0m \u001b[0;36m0\u001b[0m\u001b[0;34m:\u001b[0m\u001b[0;34m\u001b[0m\u001b[0;34m\u001b[0m\u001b[0m\n\u001b[0m\u001b[1;32m      5\u001b[0m     \u001b[0mprint\u001b[0m\u001b[0;34m(\u001b[0m\u001b[0;34m\"ALL GOOD\"\u001b[0m\u001b[0;34m)\u001b[0m\u001b[0;34m\u001b[0m\u001b[0;34m\u001b[0m\u001b[0m\n",
            "\u001b[0;31mZeroDivisionError\u001b[0m: division by zero"
          ]
        }
      ]
    },
    {
      "cell_type": "code",
      "source": [
        "# AND\n",
        "a = int(input(\"Input a single number: \"))\n",
        "\n",
        "if a > 0 and a / 0 == 0:\n",
        "    print(\"!\")\n",
        "else:\n",
        "    print(\"ALL GOOD\")"
      ],
      "metadata": {
        "colab": {
          "base_uri": "https://localhost:8080/"
        },
        "id": "OA5OGMf9IoeD",
        "outputId": "434eaecf-01cc-4688-ca3c-9922010e6dfd"
      },
      "execution_count": null,
      "outputs": [
        {
          "output_type": "stream",
          "name": "stdout",
          "text": [
            "Input a single number: -1\n",
            "ALL GOOD\n"
          ]
        }
      ]
    },
    {
      "cell_type": "code",
      "source": [
        "# AND\n",
        "a = int(input(\"Input a single number: \"))\n",
        "\n",
        "if a > 0 and a / 0 == 0:\n",
        "    print(\"!\")\n",
        "else:\n",
        "    print(\"ALL GOOD\")"
      ],
      "metadata": {
        "colab": {
          "base_uri": "https://localhost:8080/",
          "height": 259
        },
        "id": "tCUuLWIAIogw",
        "outputId": "1287b933-038e-4661-fc2f-c1a3a36d4a4b"
      },
      "execution_count": null,
      "outputs": [
        {
          "name": "stdout",
          "output_type": "stream",
          "text": [
            "Input a single number: 1\n"
          ]
        },
        {
          "output_type": "error",
          "ename": "ZeroDivisionError",
          "evalue": "ignored",
          "traceback": [
            "\u001b[0;31m---------------------------------------------------------------------------\u001b[0m",
            "\u001b[0;31mZeroDivisionError\u001b[0m                         Traceback (most recent call last)",
            "\u001b[0;32m<ipython-input-91-9ae7d9ca25ad>\u001b[0m in \u001b[0;36m<cell line: 4>\u001b[0;34m()\u001b[0m\n\u001b[1;32m      2\u001b[0m \u001b[0ma\u001b[0m \u001b[0;34m=\u001b[0m \u001b[0mint\u001b[0m\u001b[0;34m(\u001b[0m\u001b[0minput\u001b[0m\u001b[0;34m(\u001b[0m\u001b[0;34m\"Input a single number: \"\u001b[0m\u001b[0;34m)\u001b[0m\u001b[0;34m)\u001b[0m\u001b[0;34m\u001b[0m\u001b[0;34m\u001b[0m\u001b[0m\n\u001b[1;32m      3\u001b[0m \u001b[0;34m\u001b[0m\u001b[0m\n\u001b[0;32m----> 4\u001b[0;31m \u001b[0;32mif\u001b[0m \u001b[0ma\u001b[0m \u001b[0;34m>\u001b[0m \u001b[0;36m0\u001b[0m \u001b[0;32mand\u001b[0m \u001b[0ma\u001b[0m \u001b[0;34m/\u001b[0m \u001b[0;36m0\u001b[0m \u001b[0;34m==\u001b[0m \u001b[0;36m0\u001b[0m\u001b[0;34m:\u001b[0m\u001b[0;34m\u001b[0m\u001b[0;34m\u001b[0m\u001b[0m\n\u001b[0m\u001b[1;32m      5\u001b[0m     \u001b[0mprint\u001b[0m\u001b[0;34m(\u001b[0m\u001b[0;34m\"!\"\u001b[0m\u001b[0;34m)\u001b[0m\u001b[0;34m\u001b[0m\u001b[0;34m\u001b[0m\u001b[0m\n\u001b[1;32m      6\u001b[0m \u001b[0;32melse\u001b[0m\u001b[0;34m:\u001b[0m\u001b[0;34m\u001b[0m\u001b[0;34m\u001b[0m\u001b[0m\n",
            "\u001b[0;31mZeroDivisionError\u001b[0m: division by zero"
          ]
        }
      ]
    },
    {
      "cell_type": "code",
      "source": [
        "# python 3.10\n",
        "# https://peps.python.org/pep-0636/\n",
        "\n",
        "\n",
        "a = int(input())\n",
        "\n",
        "# pattern matching\n",
        "match a:\n",
        "    case 1:  # a == 1\n",
        "        print(\"A IS 1\")\n",
        "    case 2:  # a == 2\n",
        "        print(\"A IS 2\")\n",
        "    case _:  # optional\n",
        "        print(\"A NOT IS 1 OR 2\")"
      ],
      "metadata": {
        "colab": {
          "base_uri": "https://localhost:8080/"
        },
        "id": "cTHEoI_nJR_R",
        "outputId": "9410e370-42d2-46e9-832c-5b701bf3d5ad"
      },
      "execution_count": null,
      "outputs": [
        {
          "output_type": "stream",
          "name": "stdout",
          "text": [
            "3\n",
            "A NOT IS 1 OR 2\n"
          ]
        }
      ]
    },
    {
      "cell_type": "code",
      "source": [
        "if int(input(\"Enter a number: \")) % 2 == 0:\n",
        "    print(\"DIV BY 2\")\n",
        "else:\n",
        "    print(\"NOT DIV BY 2\")"
      ],
      "metadata": {
        "colab": {
          "base_uri": "https://localhost:8080/"
        },
        "id": "liln7V9BKPA3",
        "outputId": "d7f9516f-261b-4ce9-8cdf-3cbcf284c58e"
      },
      "execution_count": null,
      "outputs": [
        {
          "output_type": "stream",
          "name": "stdout",
          "text": [
            "Enter a number: 2\n",
            "DIV BY 2\n"
          ]
        }
      ]
    },
    {
      "cell_type": "code",
      "source": [
        "# walrus operator\n",
        "# python3.9+\n",
        "\n",
        "# tee\n",
        "if (a := int(input(\"Enter a number: \"))) % 2 == 0:\n",
        "    print(\"DIV BY 2\")\n",
        "    print(a)\n",
        "else:\n",
        "    print(\"NOT DIV BY 2\")\n",
        "    print(a)"
      ],
      "metadata": {
        "colab": {
          "base_uri": "https://localhost:8080/"
        },
        "id": "a8vLzBtVKnq4",
        "outputId": "a6d0f982-60cc-40cf-acfe-394bbc26164e"
      },
      "execution_count": null,
      "outputs": [
        {
          "output_type": "stream",
          "name": "stdout",
          "text": [
            "Enter a number: 32\n",
            "DIV BY 2\n",
            "32\n"
          ]
        }
      ]
    },
    {
      "cell_type": "markdown",
      "source": [
        "### For While"
      ],
      "metadata": {
        "id": "rcLo4cgGtPfO"
      }
    },
    {
      "cell_type": "code",
      "source": [
        "# calculate the sum\n",
        "s = [123,1,2,3,4,5,6,7,8,9,10]  # iterable object\n",
        "\n",
        "sum(s)"
      ],
      "metadata": {
        "id": "f1ai4OXZtRkv",
        "colab": {
          "base_uri": "https://localhost:8080/"
        },
        "outputId": "fbdf3d52-825f-4045-c500-5ba5d91557e6"
      },
      "execution_count": null,
      "outputs": [
        {
          "output_type": "execute_result",
          "data": {
            "text/plain": [
              "178"
            ]
          },
          "metadata": {},
          "execution_count": 101
        }
      ]
    },
    {
      "cell_type": "code",
      "source": [
        "answer = 0\n",
        "for elem in s:\n",
        "    answer += elem\n",
        "print(answer)"
      ],
      "metadata": {
        "colab": {
          "base_uri": "https://localhost:8080/"
        },
        "id": "drXs3ymKLNXB",
        "outputId": "95d92190-1a63-438f-a501-e2e30bb8a25b"
      },
      "execution_count": null,
      "outputs": [
        {
          "output_type": "stream",
          "name": "stdout",
          "text": [
            "178\n"
          ]
        }
      ]
    },
    {
      "cell_type": "code",
      "source": [
        "# calculate the sum of even elements\n",
        "answer = 0\n",
        "for elem in s:\n",
        "    if elem % 2 == 0:\n",
        "        answer += elem\n",
        "print(answer)"
      ],
      "metadata": {
        "colab": {
          "base_uri": "https://localhost:8080/"
        },
        "id": "ehOwuBpSLoW4",
        "outputId": "1161403f-415e-431c-bac8-8589e0686f86"
      },
      "execution_count": null,
      "outputs": [
        {
          "output_type": "stream",
          "name": "stdout",
          "text": [
            "30\n"
          ]
        }
      ]
    },
    {
      "cell_type": "code",
      "source": [
        "# calculate the sum of even elements\n",
        "answer = 0\n",
        "for elem in s:\n",
        "    # elem = 123\n",
        "    if elem % 2 != 0:  # True\n",
        "        continue  # GOTO line 3\n",
        "    answer += elem\n",
        "print(answer)"
      ],
      "metadata": {
        "colab": {
          "base_uri": "https://localhost:8080/"
        },
        "id": "Mc2tuJNoMBlO",
        "outputId": "7f647826-068c-43ff-fe0c-6bb16f05ee14"
      },
      "execution_count": null,
      "outputs": [
        {
          "output_type": "stream",
          "name": "stdout",
          "text": [
            "30\n"
          ]
        }
      ]
    },
    {
      "cell_type": "code",
      "source": [
        "# calculate the sum until you see 123\n",
        "s = [1,2,3,4,5,6,7,8,9,123,10]  # iterable object\n",
        "\n",
        "print(sum([1,2,3,4,5,6,7,8,9]))\n",
        "\n",
        "answer = 0\n",
        "for elem in s:\n",
        "    if elem == 123:\n",
        "        break  # GOTO line 11\n",
        "    answer += elem\n",
        "\n",
        "print(answer)"
      ],
      "metadata": {
        "colab": {
          "base_uri": "https://localhost:8080/"
        },
        "id": "wdz-5prVMc-L",
        "outputId": "60d15a2f-1f31-41e6-fffb-201996914954"
      },
      "execution_count": null,
      "outputs": [
        {
          "output_type": "stream",
          "name": "stdout",
          "text": [
            "45\n",
            "45\n"
          ]
        }
      ]
    },
    {
      "cell_type": "code",
      "source": [
        "s = [1,2,3,4,5,6,7,8,9,123,10]\n",
        "\n",
        "answer = 0\n",
        "for elem in s:\n",
        "    if elem == 123:\n",
        "        break\n",
        "    answer += elem\n",
        "else:\n",
        "    print(\"123 WAS NOT FOUND\")\n",
        "\n",
        "print(answer)"
      ],
      "metadata": {
        "colab": {
          "base_uri": "https://localhost:8080/"
        },
        "id": "NVyfEUIEMpIL",
        "outputId": "9e982de6-adf5-472f-bc94-0a4efb535f9a"
      },
      "execution_count": null,
      "outputs": [
        {
          "output_type": "stream",
          "name": "stdout",
          "text": [
            "45\n"
          ]
        }
      ]
    },
    {
      "cell_type": "code",
      "source": [
        "s = [1,2,3,4,5,6,7,8,9,10]\n",
        "\n",
        "answer = 0\n",
        "for elem in s:\n",
        "    if elem == 123:\n",
        "        break\n",
        "    answer += elem\n",
        "else:\n",
        "    print(\"123 WAS NOT FOUND\")\n",
        "\n",
        "print(answer)"
      ],
      "metadata": {
        "colab": {
          "base_uri": "https://localhost:8080/"
        },
        "id": "X-_uKnS8NQbY",
        "outputId": "26dae7c2-087a-4d42-cc2a-372cbb6e06ca"
      },
      "execution_count": null,
      "outputs": [
        {
          "output_type": "stream",
          "name": "stdout",
          "text": [
            "123 WAS NOT FOUND\n",
            "55\n"
          ]
        }
      ]
    },
    {
      "cell_type": "code",
      "source": [
        "start = 0  # inclusive\n",
        "stop = 10  # exclusive\n",
        "step = 1\n",
        "range(start, stop, step)\n",
        "range(start, stop)  # by default step = 1\n",
        "range(stop)  # by default start = 0 step = 1"
      ],
      "metadata": {
        "colab": {
          "base_uri": "https://localhost:8080/"
        },
        "id": "7L87RKyWNtMS",
        "outputId": "9364a16c-bd15-4a01-f6a4-b11ee145ec1c"
      },
      "execution_count": null,
      "outputs": [
        {
          "output_type": "execute_result",
          "data": {
            "text/plain": [
              "range(0, 10)"
            ]
          },
          "metadata": {},
          "execution_count": 114
        }
      ]
    },
    {
      "cell_type": "code",
      "source": [
        "s = [1,2,3,4,5,6,7,8,9,10]\n",
        "\n",
        "answer = 0\n",
        "for idx in range(len(s)):\n",
        "    if s[idx] == 123:\n",
        "        break\n",
        "    answer += s[idx]\n",
        "else:\n",
        "    print(\"123 WAS NOT FOUND\")\n",
        "\n",
        "print(answer)"
      ],
      "metadata": {
        "colab": {
          "base_uri": "https://localhost:8080/"
        },
        "id": "1x_imF35OJ1Z",
        "outputId": "d8d0a65e-5d33-46db-f840-697f2e634cdf"
      },
      "execution_count": null,
      "outputs": [
        {
          "output_type": "stream",
          "name": "stdout",
          "text": [
            "123 WAS NOT FOUND\n",
            "55\n"
          ]
        }
      ]
    },
    {
      "cell_type": "code",
      "source": [
        "for idx in range(10):\n",
        "    print(idx, end=\" \")"
      ],
      "metadata": {
        "colab": {
          "base_uri": "https://localhost:8080/"
        },
        "id": "EluDAd71OfHq",
        "outputId": "faf6a5c4-380b-4f87-accf-bdd10a0a2014"
      },
      "execution_count": null,
      "outputs": [
        {
          "output_type": "stream",
          "name": "stdout",
          "text": [
            "0 1 2 3 4 5 6 7 8 9 "
          ]
        }
      ]
    },
    {
      "cell_type": "code",
      "source": [
        "for idx in range(-10, 0):\n",
        "    print(idx, end=\" \")"
      ],
      "metadata": {
        "colab": {
          "base_uri": "https://localhost:8080/"
        },
        "id": "rm4qNExbOhne",
        "outputId": "569dbfd3-0ec5-49bc-b5aa-85943020740a"
      },
      "execution_count": null,
      "outputs": [
        {
          "output_type": "stream",
          "name": "stdout",
          "text": [
            "-10 -9 -8 -7 -6 -5 -4 -3 -2 -1 "
          ]
        }
      ]
    },
    {
      "cell_type": "code",
      "source": [
        "for idx in range(len(s) - 1, -1, -1):\n",
        "    print(s[idx], end=\" \")"
      ],
      "metadata": {
        "colab": {
          "base_uri": "https://localhost:8080/"
        },
        "id": "sjlKqQcLOmfc",
        "outputId": "c765b31e-64a8-47d6-b48f-9bf7f91ad2eb"
      },
      "execution_count": null,
      "outputs": [
        {
          "output_type": "stream",
          "name": "stdout",
          "text": [
            "10 9 8 7 6 5 4 3 2 1 "
          ]
        }
      ]
    },
    {
      "cell_type": "code",
      "source": [
        "word = input()  # str is an iterable obj\n",
        "\n",
        "vowels = 'aeiou'\n",
        "for char in word:\n",
        "    if char in vowels:\n",
        "        continue\n",
        "    print(char, end=\"\")"
      ],
      "metadata": {
        "colab": {
          "base_uri": "https://localhost:8080/"
        },
        "id": "h_WD6HplO-pJ",
        "outputId": "031c97a4-dd64-4d1b-c19f-b6b0d8257138"
      },
      "execution_count": null,
      "outputs": [
        {
          "output_type": "stream",
          "name": "stdout",
          "text": [
            "abracadabra\n",
            "brcdbr"
          ]
        }
      ]
    },
    {
      "cell_type": "code",
      "source": [
        "print(1,2,3,4,5, sep=\"|\")#, end=\"\")\n",
        "print(1)"
      ],
      "metadata": {
        "colab": {
          "base_uri": "https://localhost:8080/"
        },
        "id": "MmKL-0B7Pa_-",
        "outputId": "1fed075d-b52d-4f8f-f5d7-5f21cdb572ab"
      },
      "execution_count": null,
      "outputs": [
        {
          "output_type": "stream",
          "name": "stdout",
          "text": [
            "1|2|3|4|5\n",
            "1\n"
          ]
        }
      ]
    },
    {
      "cell_type": "code",
      "source": [
        "a = [\n",
        "    [1,2,3],\n",
        "    [4,5,6,7]\n",
        "]\n",
        "\n",
        "# len(a) == 2\n",
        "# len(a[0]) == 3\n",
        "# len(a[1]) == 4\n",
        "for i in range(len(a)): # range(2)\n",
        "    res = 0\n",
        "    for j in range(len(a[i])):  # range(4)\n",
        "        res += a[i][j]\n",
        "    print(res)\n"
      ],
      "metadata": {
        "colab": {
          "base_uri": "https://localhost:8080/"
        },
        "id": "kh42swqHP60D",
        "outputId": "c64ebc2e-0cf5-407d-99bf-249a986c6b38"
      },
      "execution_count": null,
      "outputs": [
        {
          "output_type": "stream",
          "name": "stdout",
          "text": [
            "6\n",
            "22\n"
          ]
        }
      ]
    },
    {
      "cell_type": "code",
      "source": [
        "# предусловие\n",
        "# постусловие"
      ],
      "metadata": {
        "id": "wT3O2X9GQTL6"
      },
      "execution_count": null,
      "outputs": []
    },
    {
      "cell_type": "code",
      "source": [
        "# while CONDITION:\n",
        "#     DO_SOMETHING"
      ],
      "metadata": {
        "id": "CvAlS7dKRHyU"
      },
      "execution_count": null,
      "outputs": []
    },
    {
      "cell_type": "code",
      "source": [
        "while (word := input()) != \"NO\":\n",
        "    print(f\"YOU ENTERED {word}\")"
      ],
      "metadata": {
        "colab": {
          "base_uri": "https://localhost:8080/"
        },
        "id": "PXv4iUh8ROxD",
        "outputId": "72c0e246-59f7-404d-f02e-146cae41114b"
      },
      "execution_count": null,
      "outputs": [
        {
          "name": "stdout",
          "output_type": "stream",
          "text": [
            "asdasd\n",
            "YOU ENTERED asdasd\n",
            "avsvasv\n",
            "YOU ENTERED avsvasv\n",
            "NO\n"
          ]
        }
      ]
    },
    {
      "cell_type": "code",
      "source": [
        "while (word := input()) != \"NO\":\n",
        "    print(f\"YOU ENTERED {word}\")"
      ],
      "metadata": {
        "colab": {
          "base_uri": "https://localhost:8080/"
        },
        "id": "h0rPld2-RX8_",
        "outputId": "bfedad31-3e9f-4bea-d328-a9fda42e7223"
      },
      "execution_count": null,
      "outputs": [
        {
          "name": "stdout",
          "output_type": "stream",
          "text": [
            "NO\n"
          ]
        }
      ]
    },
    {
      "cell_type": "code",
      "source": [
        "# while True:\n",
        "#     DO_SOMETHING\n",
        "#     if not CONDITION:\n",
        "#         break"
      ],
      "metadata": {
        "id": "Ls37n4yJRbKu"
      },
      "execution_count": null,
      "outputs": []
    },
    {
      "cell_type": "code",
      "source": [
        "while True:\n",
        "    print(1)\n",
        "    word = input()\n",
        "    if word == \"NO\":\n",
        "        break"
      ],
      "metadata": {
        "colab": {
          "base_uri": "https://localhost:8080/"
        },
        "id": "TANmPcE3Rk5d",
        "outputId": "ce942306-4857-4fdc-8be8-87216a5b0caf"
      },
      "execution_count": null,
      "outputs": [
        {
          "name": "stdout",
          "output_type": "stream",
          "text": [
            "1\n",
            "NO\n"
          ]
        }
      ]
    },
    {
      "cell_type": "markdown",
      "source": [
        "#### Задача 1.\n",
        "\n",
        "Дано натуральное число. Требуется определить, является ли год с данным номером високосным. Если год является високосным, то выведите YES, иначе выведите NO. Напомним, что в соответствии с григорианским календарем, год является високосным, если его номер кратен 4, но не кратен 100, а также если он кратен 400."
      ],
      "metadata": {
        "id": "4tczA1fa74Br"
      }
    },
    {
      "cell_type": "code",
      "source": [
        "year = int(input())\n",
        "\n",
        "if year % 4 == 0 and year % 100 != 0 or year % 400 == 0:\n",
        "    print(year, \"IS A LEAP YEAR\")\n",
        "else:\n",
        "    print(year, \"IS NOT A LEAP YEAR\")"
      ],
      "metadata": {
        "colab": {
          "base_uri": "https://localhost:8080/"
        },
        "id": "b1g6cSFB7o4V",
        "outputId": "5e26d56e-398a-419e-95fc-2d120fe16332"
      },
      "execution_count": null,
      "outputs": [
        {
          "output_type": "stream",
          "name": "stdout",
          "text": [
            "2000\n",
            "2000 IS A LEAP YEAR\n"
          ]
        }
      ]
    },
    {
      "cell_type": "markdown",
      "source": [
        "Задача 2.\n",
        "\n",
        "По данному натуральному n <= 9 выведите лесенку из n ступенек, i-я ступенька состоит из чисел от 1 до  без пробелов. Например, для числа 4:\n",
        "\n",
        "1\n",
        "\n",
        "12\n",
        "\n",
        "123\n",
        "\n",
        "1234"
      ],
      "metadata": {
        "id": "V1nrkwp-8aYU"
      }
    },
    {
      "cell_type": "code",
      "source": [],
      "metadata": {
        "id": "xgxqY7KF8LWA"
      },
      "execution_count": null,
      "outputs": []
    },
    {
      "cell_type": "markdown",
      "source": [
        "Задача 3.\n",
        "\n",
        "Последовательность состоит из натуральных чисел и завершается числом 0. Определите значение наибольшего элемента последовательности."
      ],
      "metadata": {
        "id": "Z7yigglP8zCs"
      }
    },
    {
      "cell_type": "code",
      "source": [],
      "metadata": {
        "id": "oonHq18-8vh8"
      },
      "execution_count": null,
      "outputs": []
    },
    {
      "cell_type": "markdown",
      "source": [
        "Задача 4\n",
        "\n",
        "По данному натуральному числу N выведите такое наименьшее целое число K, что $2^K \\geq N$.\n",
        "\n",
        "Операцией возведения в степень пользоваться нельзя!"
      ],
      "metadata": {
        "id": "hNEyEyvz9SWu"
      }
    },
    {
      "cell_type": "code",
      "source": [],
      "metadata": {
        "id": "WErUtA4Y9Npk"
      },
      "execution_count": null,
      "outputs": []
    }
  ]
}