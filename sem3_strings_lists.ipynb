{
  "nbformat": 4,
  "nbformat_minor": 0,
  "metadata": {
    "colab": {
      "provenance": []
    },
    "kernelspec": {
      "name": "python3",
      "display_name": "Python 3"
    },
    "language_info": {
      "name": "python"
    }
  },
  "cells": [
    {
      "cell_type": "markdown",
      "source": [
        "## Списки и кортежи"
      ],
      "metadata": {
        "id": "8670fFeyvDxO"
      }
    },
    {
      "cell_type": "markdown",
      "source": [
        "Список в питоне -- это некоторая коллекция, которая хранит в себе последовательность чего-либо, важно, что это \"что-либо\" может быть совершенно разным даже внутри одного списка."
      ],
      "metadata": {
        "id": "FkAqXaZvCQAn"
      }
    },
    {
      "cell_type": "code",
      "execution_count": 1,
      "metadata": {
        "colab": {
          "base_uri": "https://localhost:8080/"
        },
        "id": "yN2dLLofu-bx",
        "outputId": "969705b0-ecfc-475a-f46d-ab1826079773"
      },
      "outputs": [
        {
          "output_type": "stream",
          "name": "stdout",
          "text": [
            "7\n",
            "[1, 5, 3, 8, 2, -1, 0]\n"
          ]
        }
      ],
      "source": [
        "# список - list\n",
        "numbers = [1, 5, 3, 8, 2, -1, 0]\n",
        "numbers = list([1, 5, 3, 8, 2, -1, 0])\n",
        "\n",
        "print(len(numbers))  # len(numbers) == numbers.__len__()\n",
        "print(numbers)"
      ]
    },
    {
      "cell_type": "code",
      "source": [
        "whatever = [1, \"abc\", None, -1, 1.2, [1, 2, 3, 4]]  # можно хранить что угодно, нет строгой типизации\n",
        "print(whatever)"
      ],
      "metadata": {
        "colab": {
          "base_uri": "https://localhost:8080/"
        },
        "id": "fnACgxbgw_57",
        "outputId": "cb83f050-b9a4-4886-be0e-0d7a219ce575"
      },
      "execution_count": 4,
      "outputs": [
        {
          "output_type": "stream",
          "name": "stdout",
          "text": [
            "[1, 'abc', None, -1, 1.2, [1, 2, 3, 4]]\n"
          ]
        }
      ]
    },
    {
      "cell_type": "code",
      "source": [
        "my_list = []  # пустой список, можно также написать my_list = list()\n",
        "my_list = list()\n",
        "\n",
        "# O(1) амортизированное\n",
        "my_list.append(5)  # добавим в конец списка\n",
        "my_list.append(4)\n",
        "my_list.append(3)\n",
        "my_list.append(2)\n",
        "my_list.append(1)\n",
        "\n",
        "print(my_list)\n",
        "print(len(my_list))  # так можно получить длину"
      ],
      "metadata": {
        "colab": {
          "base_uri": "https://localhost:8080/"
        },
        "id": "eJlB00sJxHym",
        "outputId": "2b3dbc6c-965d-4743-9b70-f894e9b2d26a"
      },
      "execution_count": 6,
      "outputs": [
        {
          "output_type": "stream",
          "name": "stdout",
          "text": [
            "[5, 4, 3, 2, 1]\n",
            "5\n"
          ]
        }
      ]
    },
    {
      "cell_type": "code",
      "source": [
        "# O(N)\n",
        "my_list.insert(0, 100)\n",
        "print(my_list)"
      ],
      "metadata": {
        "colab": {
          "base_uri": "https://localhost:8080/"
        },
        "id": "4glUsNGIxUkk",
        "outputId": "73dda310-f535-429f-db12-5fb42da4b72d"
      },
      "execution_count": 7,
      "outputs": [
        {
          "output_type": "stream",
          "name": "stdout",
          "text": [
            "[100, 5, 4, 3, 2, 1]\n"
          ]
        }
      ]
    },
    {
      "cell_type": "code",
      "source": [
        "# удаление\n",
        "\n",
        "# my_list.pop()\n",
        "help(my_list.pop)"
      ],
      "metadata": {
        "colab": {
          "base_uri": "https://localhost:8080/"
        },
        "id": "AzeZyy50xbRu",
        "outputId": "020ec2d9-cdc6-49fb-999c-91c7a343d46d"
      },
      "execution_count": 8,
      "outputs": [
        {
          "output_type": "stream",
          "name": "stdout",
          "text": [
            "Help on built-in function pop:\n",
            "\n",
            "pop(index=-1, /) method of builtins.list instance\n",
            "    Remove and return item at index (default last).\n",
            "    \n",
            "    Raises IndexError if list is empty or index is out of range.\n",
            "\n"
          ]
        }
      ]
    },
    {
      "cell_type": "code",
      "source": [
        "help(my_list.remove)"
      ],
      "metadata": {
        "colab": {
          "base_uri": "https://localhost:8080/"
        },
        "id": "pvxmkZwWxlT-",
        "outputId": "643dc2a0-20d4-44b7-bd36-c75b1eed27c8"
      },
      "execution_count": 9,
      "outputs": [
        {
          "output_type": "stream",
          "name": "stdout",
          "text": [
            "Help on built-in function remove:\n",
            "\n",
            "remove(value, /) method of builtins.list instance\n",
            "    Remove first occurrence of value.\n",
            "    \n",
            "    Raises ValueError if the value is not present.\n",
            "\n"
          ]
        }
      ]
    },
    {
      "cell_type": "code",
      "source": [
        "my_list = []  # пустой список, можно также написать my_list = list()\n",
        "\n",
        "# O(1) амортизированное\n",
        "my_list.append(5)  # добавим в конец списка\n",
        "my_list.append(4)\n",
        "my_list.append(3)\n",
        "my_list.append(2)\n",
        "my_list.append(1)\n",
        "\n",
        "print(my_list)\n",
        "print(len(my_list))  # так можно получить длину"
      ],
      "metadata": {
        "colab": {
          "base_uri": "https://localhost:8080/"
        },
        "id": "9LZ6WJs9x6LM",
        "outputId": "ead73bd8-55b5-47fc-de25-e47f49e579d8"
      },
      "execution_count": 10,
      "outputs": [
        {
          "output_type": "stream",
          "name": "stdout",
          "text": [
            "[5, 4, 3, 2, 1]\n",
            "5\n"
          ]
        }
      ]
    },
    {
      "cell_type": "code",
      "source": [
        "start = 0\n",
        "end = len(my_list)\n",
        "step = 1\n",
        "my_list[start:end:step]\n",
        "my_list[start:end] # step = 1\n",
        "my_list[:end] # step = 1, start = 0\n",
        "my_list[:]  # step = 1 start = 0 end = len(my_list)"
      ],
      "metadata": {
        "colab": {
          "base_uri": "https://localhost:8080/"
        },
        "id": "94vCXqe9GzvI",
        "outputId": "1ac1c013-1091-4f31-be5e-c733ea9c5ff5"
      },
      "execution_count": 14,
      "outputs": [
        {
          "output_type": "execute_result",
          "data": {
            "text/plain": [
              "[5, 4, 3, 2, 1]"
            ]
          },
          "metadata": {},
          "execution_count": 14
        }
      ]
    },
    {
      "cell_type": "code",
      "source": [
        "print('my_list[0] =', my_list[0])  # первый элемент -- индексация с нуля\n",
        "print('my_list[1] =', my_list[1])  # второй\n",
        "print('my_list[:2] =', my_list[:2])  # срез -- первые два\n",
        "print('my_list[1:3] =', my_list[1:3])  # срез со второго по четвертый\n",
        "print('my_list[-1] =', my_list[-1], my_list[len(my_list) - 1])  # последний элемент, два разных способа\n",
        "print('my_list[-2] =', my_list[-2])  # предпоследний\n",
        "print('my_list[-3:-1] =', my_list[-3:-1])  # а это какие будут?\n",
        "print('my_list[0:5:2] =', my_list[0:5:2])  # можно как и в циклах задать шаг\n",
        "try:\n",
        "    print('my_list[5] =', my_list[5])  # ошибка, такого нет\n",
        "except IndexError:\n",
        "    pass"
      ],
      "metadata": {
        "colab": {
          "base_uri": "https://localhost:8080/"
        },
        "id": "q-ABhvH-xxHr",
        "outputId": "16a6b9ef-eb52-4074-bee7-98e8119fffb4"
      },
      "execution_count": 15,
      "outputs": [
        {
          "output_type": "stream",
          "name": "stdout",
          "text": [
            "my_list[0] = 5\n",
            "my_list[1] = 4\n",
            "my_list[:2] = [5, 4]\n",
            "my_list[1:3] = [4, 3]\n",
            "my_list[-1] = 1 1\n",
            "my_list[-2] = 2\n",
            "my_list[-3:-1] = [3, 2]\n",
            "my_list[0:5:2] = [5, 3, 1]\n"
          ]
        }
      ]
    },
    {
      "cell_type": "code",
      "source": [
        "for i in range(len(my_list) - 1, -1, -1):\n",
        "    print(my_list[i], end=\" \")\n",
        "print()"
      ],
      "metadata": {
        "colab": {
          "base_uri": "https://localhost:8080/"
        },
        "id": "x-0d3lDlHib5",
        "outputId": "841fe58c-e46c-45bf-cf03-9d4db986e933"
      },
      "execution_count": 18,
      "outputs": [
        {
          "output_type": "stream",
          "name": "stdout",
          "text": [
            "1 2 3 4 5 \n"
          ]
        }
      ]
    },
    {
      "cell_type": "code",
      "source": [
        "for i in range(len(my_list) - 1, -2, -1):\n",
        "    print(my_list[i], end=\" \")\n",
        "print()"
      ],
      "metadata": {
        "colab": {
          "base_uri": "https://localhost:8080/"
        },
        "id": "2EvkY-qnHp4F",
        "outputId": "16463ba2-dfe4-48dd-c9aa-0388a8b8571a"
      },
      "execution_count": 19,
      "outputs": [
        {
          "output_type": "stream",
          "name": "stdout",
          "text": [
            "1 2 3 4 5 1 \n"
          ]
        }
      ]
    },
    {
      "cell_type": "code",
      "source": [
        "my_list.__getitem__(3) == my_list[3]"
      ],
      "metadata": {
        "colab": {
          "base_uri": "https://localhost:8080/"
        },
        "id": "h8_MRyahx4CC",
        "outputId": "bebd83c7-05ef-4790-d491-83dcaf16e7bf"
      },
      "execution_count": 20,
      "outputs": [
        {
          "output_type": "execute_result",
          "data": {
            "text/plain": [
              "True"
            ]
          },
          "metadata": {},
          "execution_count": 20
        }
      ]
    },
    {
      "cell_type": "code",
      "source": [
        "numbers = [1, 5, 3, 8, 2, -1, 0]\n",
        "\n",
        "for elem in numbers:\n",
        "    print(elem, end=\" \")\n",
        "print()"
      ],
      "metadata": {
        "colab": {
          "base_uri": "https://localhost:8080/"
        },
        "id": "aSwJuRe_yPHj",
        "outputId": "887b51c8-a873-44c8-c361-2b22ff4a4343"
      },
      "execution_count": 21,
      "outputs": [
        {
          "output_type": "stream",
          "name": "stdout",
          "text": [
            "1 5 3 8 2 -1 0 \n"
          ]
        }
      ]
    },
    {
      "cell_type": "code",
      "source": [
        "print(numbers)"
      ],
      "metadata": {
        "colab": {
          "base_uri": "https://localhost:8080/"
        },
        "id": "_Mmnlcp7yvVq",
        "outputId": "d2133c34-a0e3-4e56-9895-4e156c1f094f"
      },
      "execution_count": 22,
      "outputs": [
        {
          "output_type": "stream",
          "name": "stdout",
          "text": [
            "[1, 5, 3, 8, 2, -1, 0]\n"
          ]
        }
      ]
    },
    {
      "cell_type": "code",
      "source": [
        "print(*numbers)"
      ],
      "metadata": {
        "colab": {
          "base_uri": "https://localhost:8080/"
        },
        "id": "w-HLXAM3yb17",
        "outputId": "11473a85-e792-4c97-87da-9e33cba38483"
      },
      "execution_count": 23,
      "outputs": [
        {
          "output_type": "stream",
          "name": "stdout",
          "text": [
            "1 5 3 8 2 -1 0\n"
          ]
        }
      ]
    },
    {
      "cell_type": "code",
      "source": [
        "print(*[1,2,3,4,5,6,7,8])  # <=> print(1,2,3,4,5,6,7,8)"
      ],
      "metadata": {
        "colab": {
          "base_uri": "https://localhost:8080/"
        },
        "id": "w70gNtcUH4_p",
        "outputId": "9abf770a-9e30-4c64-880f-5bc3a94a497f"
      },
      "execution_count": 29,
      "outputs": [
        {
          "output_type": "stream",
          "name": "stdout",
          "text": [
            "1 2 3 4 5 6 7 8\n"
          ]
        }
      ]
    },
    {
      "cell_type": "code",
      "source": [
        "print(*numbers, sep=\" ! \")"
      ],
      "metadata": {
        "colab": {
          "base_uri": "https://localhost:8080/"
        },
        "id": "ZogYf6t4ydpy",
        "outputId": "14f8de4f-f48c-4faa-eeb6-6179b27ecd5a"
      },
      "execution_count": 30,
      "outputs": [
        {
          "output_type": "stream",
          "name": "stdout",
          "text": [
            "1 ! 5 ! 3 ! 8 ! 2 ! -1 ! 0\n"
          ]
        }
      ]
    },
    {
      "cell_type": "code",
      "source": [
        "print(\" ! \".join(numbers))"
      ],
      "metadata": {
        "colab": {
          "base_uri": "https://localhost:8080/",
          "height": 174
        },
        "id": "aE5ENorzILZ6",
        "outputId": "5544229d-03bc-4426-cd80-6f81393f5c08"
      },
      "execution_count": 32,
      "outputs": [
        {
          "output_type": "error",
          "ename": "TypeError",
          "evalue": "ignored",
          "traceback": [
            "\u001b[0;31m---------------------------------------------------------------------------\u001b[0m",
            "\u001b[0;31mTypeError\u001b[0m                                 Traceback (most recent call last)",
            "\u001b[0;32m<ipython-input-32-ec4523137046>\u001b[0m in \u001b[0;36m<cell line: 1>\u001b[0;34m()\u001b[0m\n\u001b[0;32m----> 1\u001b[0;31m \u001b[0mprint\u001b[0m\u001b[0;34m(\u001b[0m\u001b[0;34m\" ! \"\u001b[0m\u001b[0;34m.\u001b[0m\u001b[0mjoin\u001b[0m\u001b[0;34m(\u001b[0m\u001b[0mnumbers\u001b[0m\u001b[0;34m)\u001b[0m\u001b[0;34m)\u001b[0m\u001b[0;34m\u001b[0m\u001b[0;34m\u001b[0m\u001b[0m\n\u001b[0m",
            "\u001b[0;31mTypeError\u001b[0m: sequence item 0: expected str instance, int found"
          ]
        }
      ]
    },
    {
      "cell_type": "code",
      "source": [
        "print(\" ! \".join(map(str, numbers)))"
      ],
      "metadata": {
        "colab": {
          "base_uri": "https://localhost:8080/"
        },
        "id": "Vcch-JT1ygUY",
        "outputId": "5145fd28-54b4-4d86-c7dd-05a9ddd99f63"
      },
      "execution_count": 33,
      "outputs": [
        {
          "output_type": "stream",
          "name": "stdout",
          "text": [
            "1 ! 5 ! 3 ! 8 ! 2 ! -1 ! 0\n"
          ]
        }
      ]
    },
    {
      "cell_type": "code",
      "source": [
        "a = [1,2,3]\n",
        "a[0] = 0\n",
        "print(a)\n",
        "\n",
        "a[:2] = [5,6]\n",
        "print(a)"
      ],
      "metadata": {
        "colab": {
          "base_uri": "https://localhost:8080/"
        },
        "id": "mbO0_abJy46A",
        "outputId": "bfdd5a72-998e-40eb-bdb2-9781ed213fcd"
      },
      "execution_count": 35,
      "outputs": [
        {
          "output_type": "stream",
          "name": "stdout",
          "text": [
            "[0, 2, 3]\n",
            "[5, 6, 3]\n"
          ]
        }
      ]
    },
    {
      "cell_type": "code",
      "source": [
        "# вот так копировать плохо!\n",
        "a = [1, 2, 3]\n",
        "b = a\n",
        "\n",
        "# и вот почему\n",
        "\n",
        "a[0] = 0\n",
        "\n",
        "print(a, id(a))  # ячейки памяти одинаковые\n",
        "print(b, id(b))"
      ],
      "metadata": {
        "colab": {
          "base_uri": "https://localhost:8080/"
        },
        "id": "R9unxfFKzD6K",
        "outputId": "e002c22d-0ab2-47be-a581-ae9bfc8871fe"
      },
      "execution_count": 37,
      "outputs": [
        {
          "output_type": "stream",
          "name": "stdout",
          "text": [
            "[0, 2, 3] 139898645064512\n",
            "[0, 2, 3] 139898645064512\n"
          ]
        }
      ]
    },
    {
      "cell_type": "code",
      "source": [
        "# но копировать можно так\n",
        "\n",
        "a = [1, 2, 3]\n",
        "b = a[:]  # потому что срез создает новый массив\n",
        "\n",
        "a[0] = 0\n",
        "\n",
        "print(a, id(a))  # ячейки памяти разные\n",
        "print(b, id(b))"
      ],
      "metadata": {
        "colab": {
          "base_uri": "https://localhost:8080/"
        },
        "id": "raHxnGfSzMhH",
        "outputId": "7aa569f0-aad0-4197-fdc3-b92558b04184"
      },
      "execution_count": 38,
      "outputs": [
        {
          "output_type": "stream",
          "name": "stdout",
          "text": [
            "[0, 2, 3] 139898645063168\n",
            "[1, 2, 3] 139898646720768\n"
          ]
        }
      ]
    },
    {
      "cell_type": "code",
      "source": [
        "a = [[1, 2, 3]]\n",
        "b = a[:]  # shallow copy\n",
        "\n",
        "a[0][0] = 0\n",
        "\n",
        "print(a, id(a))\n",
        "print(b, id(b))\n",
        "\n",
        "print(\"*\"*10)\n",
        "\n",
        "print(a, id(a[0]))\n",
        "print(b, id(b[0]))"
      ],
      "metadata": {
        "colab": {
          "base_uri": "https://localhost:8080/"
        },
        "id": "8AEyXcHMzSUH",
        "outputId": "9d76b49e-5e3b-448f-b27b-50261e49449c"
      },
      "execution_count": 41,
      "outputs": [
        {
          "output_type": "stream",
          "name": "stdout",
          "text": [
            "[[0, 2, 3]] 139898878781312\n",
            "[[0, 2, 3]] 139898646676096\n",
            "**********\n",
            "[[0, 2, 3]] 139898645760384\n",
            "[[0, 2, 3]] 139898645760384\n"
          ]
        }
      ]
    },
    {
      "cell_type": "code",
      "source": [
        "from copy import deepcopy\n",
        "\n",
        "a = [[1, 2, 3]]\n",
        "b = deepcopy(a)\n",
        "\n",
        "a[0][0] = 0\n",
        "\n",
        "print(a, id(a))  # ячейки памяти разные\n",
        "print(b, id(b))"
      ],
      "metadata": {
        "colab": {
          "base_uri": "https://localhost:8080/"
        },
        "id": "Ogp_P05GzV7P",
        "outputId": "5cf977ea-a373-4c7c-a1d5-50753272f054"
      },
      "execution_count": 43,
      "outputs": [
        {
          "output_type": "stream",
          "name": "stdout",
          "text": [
            "[[0, 2, 3]] 139898646415488\n",
            "[[1, 2, 3]] 139898646423872\n"
          ]
        }
      ]
    },
    {
      "cell_type": "code",
      "source": [
        "# вот так можно вводить списки\n",
        "\n",
        "my_list = list(map(int, input().split()))  # аналогично можно заменить на float, например\n",
        "print(my_list)"
      ],
      "metadata": {
        "colab": {
          "base_uri": "https://localhost:8080/"
        },
        "id": "T5Vfl8AfzllH",
        "outputId": "cff98987-590f-448e-e724-2bc3d58a9d11"
      },
      "execution_count": 44,
      "outputs": [
        {
          "output_type": "stream",
          "name": "stdout",
          "text": [
            "1 2 3 4 5 6 7 8 123\n",
            "[1, 2, 3, 4, 5, 6, 7, 8, 123]\n"
          ]
        }
      ]
    },
    {
      "cell_type": "code",
      "source": [
        "my_list = input().split()  # список строк, разделенных по пробелу\n",
        "print(my_list)"
      ],
      "metadata": {
        "colab": {
          "base_uri": "https://localhost:8080/"
        },
        "id": "tg7TTrwxzzEr",
        "outputId": "109d76ae-63a8-4197-ec9f-dfde649fe337"
      },
      "execution_count": 45,
      "outputs": [
        {
          "output_type": "stream",
          "name": "stdout",
          "text": [
            "23523 3r2f23f 345 q3er\n",
            "['23523', '3r2f23f', '345', 'q3er']\n"
          ]
        }
      ]
    },
    {
      "cell_type": "code",
      "source": [
        "my_list = list(input())  # а что произойдет тут?\n",
        "print(my_list)"
      ],
      "metadata": {
        "colab": {
          "base_uri": "https://localhost:8080/"
        },
        "id": "ge1Qhel10FCh",
        "outputId": "fd7dea23-9770-4d91-947f-4ff657400b48"
      },
      "execution_count": 46,
      "outputs": [
        {
          "output_type": "stream",
          "name": "stdout",
          "text": [
            "some string\n",
            "['s', 'o', 'm', 'e', ' ', 's', 't', 'r', 'i', 'n', 'g']\n"
          ]
        }
      ]
    },
    {
      "cell_type": "code",
      "source": [
        "list(\"abcdefg\")"
      ],
      "metadata": {
        "colab": {
          "base_uri": "https://localhost:8080/"
        },
        "id": "ram7hrdD0LyT",
        "outputId": "8c2d9750-e8ba-4d88-8e1f-0fdee033f587"
      },
      "execution_count": 47,
      "outputs": [
        {
          "output_type": "execute_result",
          "data": {
            "text/plain": [
              "['a', 'b', 'c', 'd', 'e', 'f', 'g']"
            ]
          },
          "metadata": {},
          "execution_count": 47
        }
      ]
    },
    {
      "cell_type": "markdown",
      "source": [
        "## Tuple (кортеж)\n",
        "неизменяемые (иммутабельные) списки"
      ],
      "metadata": {
        "id": "ToB96G1q0U1_"
      }
    },
    {
      "cell_type": "code",
      "source": [
        "my_tuple = (1, 2, 3)\n",
        "\n",
        "# можно делать то же самое, что и со списками, только менять нельзя\n",
        "\n",
        "print(my_tuple[0])\n",
        "print(my_tuple[1:3])\n",
        "print(len(my_tuple))\n",
        "try:\n",
        "    my_tuple[0] = -1  # так нельзя\n",
        "except TypeError:\n",
        "    print(\"ERROR\")"
      ],
      "metadata": {
        "colab": {
          "base_uri": "https://localhost:8080/"
        },
        "id": "uVdFmPDQ0RBu",
        "outputId": "fd779692-11b6-4616-dabe-715225bec1e3"
      },
      "execution_count": 49,
      "outputs": [
        {
          "output_type": "stream",
          "name": "stdout",
          "text": [
            "1\n",
            "(2, 3)\n",
            "3\n",
            "ERROR\n"
          ]
        }
      ]
    },
    {
      "cell_type": "code",
      "source": [
        "# my_tuple.append"
      ],
      "metadata": {
        "id": "sS9RpRAzJ_R9"
      },
      "execution_count": 51,
      "outputs": []
    },
    {
      "cell_type": "code",
      "source": [
        "for elem in my_tuple:\n",
        "    print(elem)"
      ],
      "metadata": {
        "colab": {
          "base_uri": "https://localhost:8080/"
        },
        "id": "FM5NsoO70d7B",
        "outputId": "53b6ff70-39ca-497f-b722-f858c2eae3ff"
      },
      "execution_count": 52,
      "outputs": [
        {
          "output_type": "stream",
          "name": "stdout",
          "text": [
            "1\n",
            "2\n",
            "3\n"
          ]
        }
      ]
    },
    {
      "cell_type": "code",
      "source": [
        "my_tuple.__getitem__(0)"
      ],
      "metadata": {
        "colab": {
          "base_uri": "https://localhost:8080/"
        },
        "id": "pq4KDYRM0jR2",
        "outputId": "959eb8a0-8431-4f2e-d931-88841a158fb5"
      },
      "execution_count": 54,
      "outputs": [
        {
          "output_type": "execute_result",
          "data": {
            "text/plain": [
              "1"
            ]
          },
          "metadata": {},
          "execution_count": 54
        }
      ]
    },
    {
      "cell_type": "code",
      "source": [
        "a = (1)\n",
        "print(type(a))"
      ],
      "metadata": {
        "colab": {
          "base_uri": "https://localhost:8080/"
        },
        "id": "-A7RDvRi0nE_",
        "outputId": "92503091-98e4-460a-902c-c4b86ba23b3d"
      },
      "execution_count": 57,
      "outputs": [
        {
          "output_type": "stream",
          "name": "stdout",
          "text": [
            "<class 'int'>\n"
          ]
        }
      ]
    },
    {
      "cell_type": "code",
      "source": [
        "a = (1,)\n",
        "print(type(a))"
      ],
      "metadata": {
        "colab": {
          "base_uri": "https://localhost:8080/"
        },
        "id": "e_ZAL8nlKLnS",
        "outputId": "941b5303-db18-466d-a2fa-2cda0237ab1b"
      },
      "execution_count": 58,
      "outputs": [
        {
          "output_type": "stream",
          "name": "stdout",
          "text": [
            "<class 'tuple'>\n"
          ]
        }
      ]
    },
    {
      "cell_type": "code",
      "source": [
        "# а еще кортеж есть меньше места\n",
        "\n",
        "a = [1, 2, 3]\n",
        "b = (1, 2, 3)\n",
        "\n",
        "print(a.__sizeof__())\n",
        "print(b.__sizeof__())"
      ],
      "metadata": {
        "colab": {
          "base_uri": "https://localhost:8080/"
        },
        "id": "FVf_wsVD0wug",
        "outputId": "b7f1fb00-e0db-4b8b-e462-9cb4a8577b9c"
      },
      "execution_count": 60,
      "outputs": [
        {
          "output_type": "stream",
          "name": "stdout",
          "text": [
            "72\n",
            "48\n"
          ]
        }
      ]
    },
    {
      "cell_type": "code",
      "source": [
        "import sys\n",
        "\n",
        "\n",
        "print(sys.getsizeof(a))\n",
        "print(sys.getsizeof(b))"
      ],
      "metadata": {
        "colab": {
          "base_uri": "https://localhost:8080/"
        },
        "id": "sher5riNKVI0",
        "outputId": "006d349b-9bae-4d66-84ef-6d24b8552f0d"
      },
      "execution_count": 64,
      "outputs": [
        {
          "output_type": "stream",
          "name": "stdout",
          "text": [
            "88\n",
            "64\n"
          ]
        }
      ]
    },
    {
      "cell_type": "code",
      "source": [
        "\n",
        "my_own_list = [1, 3, 2]\n",
        "\n",
        "my_own_list.extend([4, 5, 6])  # аналогично можно написать my_own_list += [4, 5, 6]\n",
        "print('after extend:', my_own_list)\n",
        "\n",
        "my_own_list.append(7)  # \"константное\" время, амортизированно O(1)\n",
        "print('after append:', my_own_list)\n",
        "\n",
        "# del my_own_list[0]  # линейное время, в худшем случае O(n), где n -- размер списка\n",
        "my_own_list.pop(0)\n",
        "print('after del:', my_own_list)"
      ],
      "metadata": {
        "colab": {
          "base_uri": "https://localhost:8080/"
        },
        "id": "3iD9ktsUKvmU",
        "outputId": "37fcd318-260e-4892-cc06-5d6c0c6c8027"
      },
      "execution_count": 73,
      "outputs": [
        {
          "output_type": "stream",
          "name": "stdout",
          "text": [
            "after extend: [1, 3, 2, 4, 5, 6]\n",
            "after append: [1, 3, 2, 4, 5, 6, 7]\n",
            "after del: [3, 2, 4, 5, 6, 7]\n"
          ]
        }
      ]
    },
    {
      "cell_type": "code",
      "source": [
        "my_own_list = sorted(my_own_list)"
      ],
      "metadata": {
        "id": "xiBRY6K2LbKH"
      },
      "execution_count": 81,
      "outputs": []
    },
    {
      "cell_type": "code",
      "source": [
        "print('index of value 2:', my_own_list.index(2))  # находим элемент в массиве, линейный поиск на O(n)"
      ],
      "metadata": {
        "colab": {
          "base_uri": "https://localhost:8080/"
        },
        "id": "ZtwqSf_WK3pW",
        "outputId": "cbc61d2a-51ae-4a44-afff-af1c41779766"
      },
      "execution_count": 82,
      "outputs": [
        {
          "output_type": "stream",
          "name": "stdout",
          "text": [
            "index of value 2: 0\n"
          ]
        }
      ]
    },
    {
      "cell_type": "code",
      "source": [
        "import bisect"
      ],
      "metadata": {
        "id": "uuYfvfbNLEj2"
      },
      "execution_count": 83,
      "outputs": []
    },
    {
      "cell_type": "code",
      "source": [
        "# idx = bisect.bisect_left(arr, x)\n",
        "# arr[:idx] < x, arr[idx:] >= x\n",
        "# bisect.bisect_left([1, 2, 4], 3) -> 2: [1, 2, 3, 4]\n",
        "idx = bisect.bisect_left(my_own_list, 2)\n",
        "if idx < len(my_own_list) and my_own_list[idx] == 2:\n",
        "    print('index of value 2:', idx)\n",
        "else:\n",
        "    print(\"Not found\")"
      ],
      "metadata": {
        "colab": {
          "base_uri": "https://localhost:8080/"
        },
        "id": "p7zPQXYPLEnY",
        "outputId": "268febfe-bf9f-4913-bd2e-a91b13b2766d"
      },
      "execution_count": 87,
      "outputs": [
        {
          "output_type": "stream",
          "name": "stdout",
          "text": [
            "index of value 2: 0\n"
          ]
        }
      ]
    },
    {
      "cell_type": "code",
      "source": [
        "print('popped value:', my_own_list.pop())  # удаление из конца, быстро, за O(1), возвращает удаленное значение\n",
        "print('after pop', my_own_list)"
      ],
      "metadata": {
        "colab": {
          "base_uri": "https://localhost:8080/"
        },
        "id": "VfaAMHO_Ldhf",
        "outputId": "6d765366-cfa5-43df-f3db-4fc0b8f8d463"
      },
      "execution_count": 88,
      "outputs": [
        {
          "output_type": "stream",
          "name": "stdout",
          "text": [
            "popped value: 7\n",
            "after pop [2, 3, 4, 5, 6]\n"
          ]
        }
      ]
    },
    {
      "cell_type": "code",
      "source": [
        "my_own_list.insert(0, 1)  # тоже дорого, O(n) времени\n",
        "print('after insert(0, 1):', my_own_list)"
      ],
      "metadata": {
        "colab": {
          "base_uri": "https://localhost:8080/"
        },
        "id": "_VeX0SfZMQDJ",
        "outputId": "0fde2dc7-53e2-4dec-9988-217092c46c37"
      },
      "execution_count": 89,
      "outputs": [
        {
          "output_type": "stream",
          "name": "stdout",
          "text": [
            "after insert(0, 1): [1, 2, 3, 4, 5, 6]\n"
          ]
        }
      ]
    },
    {
      "cell_type": "code",
      "source": [
        "my_own_list.reverse()  # развернем список!\n",
        "# my_own_list = my_own_list[::-1]\n",
        "\n",
        "print('after reverse:', my_own_list)"
      ],
      "metadata": {
        "colab": {
          "base_uri": "https://localhost:8080/"
        },
        "id": "MeRR87w8LEpl",
        "outputId": "fe033b0b-095c-4ee7-b043-5d442d1f1d8a"
      },
      "execution_count": 91,
      "outputs": [
        {
          "output_type": "stream",
          "name": "stdout",
          "text": [
            "after reverse: [1, 2, 3, 4, 5, 6]\n"
          ]
        }
      ]
    },
    {
      "cell_type": "code",
      "source": [
        "my_own_list = my_own_list[::-1]\n",
        "print(my_own_list[::-1])  # или развернем вот так\n",
        "print('after reverse one more time:', my_own_list)"
      ],
      "metadata": {
        "colab": {
          "base_uri": "https://localhost:8080/"
        },
        "id": "Ea9YHjFNMTni",
        "outputId": "bea347aa-c0de-41fe-b88d-e79b4f1b5aad"
      },
      "execution_count": 95,
      "outputs": [
        {
          "output_type": "stream",
          "name": "stdout",
          "text": [
            "[1, 2, 3, 4, 5, 6]\n",
            "after reverse one more time: [6, 5, 4, 3, 2, 1]\n"
          ]
        }
      ]
    },
    {
      "cell_type": "code",
      "source": [
        "from random import shuffle\n",
        "\n",
        "shuffle(my_own_list)\n",
        "print(my_own_list)"
      ],
      "metadata": {
        "colab": {
          "base_uri": "https://localhost:8080/"
        },
        "id": "d_n5MJMMMaEa",
        "outputId": "aba8676f-30c9-41ba-974f-3bdf1209f7ea"
      },
      "execution_count": 98,
      "outputs": [
        {
          "output_type": "stream",
          "name": "stdout",
          "text": [
            "[2, 6, 5, 1, 4, 3]\n"
          ]
        }
      ]
    },
    {
      "cell_type": "code",
      "source": [
        "my_own_list.sort()  # а еще тут есть параметр reverse=True, если надо в обратную сторону\n",
        "# или my_own_list = sorted(my_own_list)\n",
        "print('after sort:', my_own_list)"
      ],
      "metadata": {
        "colab": {
          "base_uri": "https://localhost:8080/"
        },
        "id": "P935yScBMp7Z",
        "outputId": "76ea6a32-1cb0-43a7-c0ca-15b63aaef60e"
      },
      "execution_count": 99,
      "outputs": [
        {
          "output_type": "stream",
          "name": "stdout",
          "text": [
            "after sort: [1, 2, 3, 4, 5, 6]\n"
          ]
        }
      ]
    },
    {
      "cell_type": "code",
      "source": [
        "shuffle(my_own_list)\n",
        "print(my_own_list)"
      ],
      "metadata": {
        "colab": {
          "base_uri": "https://localhost:8080/"
        },
        "id": "eahK0OWWMuJE",
        "outputId": "8a6b944f-85f6-4e50-b729-09c78a86c61b"
      },
      "execution_count": 100,
      "outputs": [
        {
          "output_type": "stream",
          "name": "stdout",
          "text": [
            "[6, 2, 4, 5, 1, 3]\n"
          ]
        }
      ]
    },
    {
      "cell_type": "code",
      "source": [
        "my_own_list.remove(6)\n",
        "print('after remove 6:', my_own_list)"
      ],
      "metadata": {
        "colab": {
          "base_uri": "https://localhost:8080/"
        },
        "id": "WabEcboXMvbN",
        "outputId": "958e7e18-8076-4f95-d438-c1b674c6a95f"
      },
      "execution_count": 101,
      "outputs": [
        {
          "output_type": "stream",
          "name": "stdout",
          "text": [
            "after remove 6: [2, 4, 5, 1, 3]\n"
          ]
        }
      ]
    },
    {
      "cell_type": "code",
      "source": [
        "my_own_list.clear()  # удаляем все элеметы\n",
        "print('after clear:', my_own_list)"
      ],
      "metadata": {
        "colab": {
          "base_uri": "https://localhost:8080/"
        },
        "id": "lzwT-FH0My3A",
        "outputId": "a8793954-6a2d-43c6-9f01-bc1b7c66ded3"
      },
      "execution_count": 102,
      "outputs": [
        {
          "output_type": "stream",
          "name": "stdout",
          "text": [
            "after clear: []\n"
          ]
        }
      ]
    },
    {
      "cell_type": "code",
      "source": [
        "my_own_list.remove(6)  # а вот так уже нельзя :(\n",
        "print('after remove 6 when it is not present:', my_own_list)"
      ],
      "metadata": {
        "colab": {
          "base_uri": "https://localhost:8080/",
          "height": 191
        },
        "id": "iTGqk2qO06BA",
        "outputId": "c8fa6bb5-9b94-4c2e-b3d0-eecbe0096e7a"
      },
      "execution_count": 103,
      "outputs": [
        {
          "output_type": "error",
          "ename": "ValueError",
          "evalue": "ignored",
          "traceback": [
            "\u001b[0;31m---------------------------------------------------------------------------\u001b[0m",
            "\u001b[0;31mValueError\u001b[0m                                Traceback (most recent call last)",
            "\u001b[0;32m<ipython-input-103-98b194cc2528>\u001b[0m in \u001b[0;36m<cell line: 1>\u001b[0;34m()\u001b[0m\n\u001b[0;32m----> 1\u001b[0;31m \u001b[0mmy_own_list\u001b[0m\u001b[0;34m.\u001b[0m\u001b[0mremove\u001b[0m\u001b[0;34m(\u001b[0m\u001b[0;36m6\u001b[0m\u001b[0;34m)\u001b[0m  \u001b[0;31m# а вот так уже нельзя :(\u001b[0m\u001b[0;34m\u001b[0m\u001b[0;34m\u001b[0m\u001b[0m\n\u001b[0m\u001b[1;32m      2\u001b[0m \u001b[0mprint\u001b[0m\u001b[0;34m(\u001b[0m\u001b[0;34m'after remove 6 when it is not present:'\u001b[0m\u001b[0;34m,\u001b[0m \u001b[0mmy_own_list\u001b[0m\u001b[0;34m)\u001b[0m\u001b[0;34m\u001b[0m\u001b[0;34m\u001b[0m\u001b[0m\n",
            "\u001b[0;31mValueError\u001b[0m: list.remove(x): x not in list"
          ]
        }
      ]
    },
    {
      "cell_type": "markdown",
      "source": [
        "## Строки"
      ],
      "metadata": {
        "id": "VQgtnEVd1KZs"
      }
    },
    {
      "cell_type": "code",
      "source": [
        "s = \"somebody once told me\"\n",
        "t = \"GO DOWN MOSES\""
      ],
      "metadata": {
        "id": "Rmjl-MCY1HRx"
      },
      "execution_count": 104,
      "outputs": []
    },
    {
      "cell_type": "code",
      "source": [
        "print(s.capitalize())  # оставить все буквы строчные, первую сделать заглавной\n",
        "print(s)  # заметьте, что сама строка не меняется, потому что иммутабельна\n",
        "print(s.upper())  # все заглавные\n",
        "print(t.lower())  # все строчные\n",
        "print(t.capitalize())"
      ],
      "metadata": {
        "colab": {
          "base_uri": "https://localhost:8080/"
        },
        "id": "6TmWAEAj1NjA",
        "outputId": "8dc49dc0-5d60-404b-f9e1-ceee5be8f2b6"
      },
      "execution_count": 106,
      "outputs": [
        {
          "output_type": "stream",
          "name": "stdout",
          "text": [
            "Somebody once told me\n",
            "somebody once told me\n",
            "SOMEBODY ONCE TOLD ME\n",
            "go down moses\n",
            "Go down moses\n"
          ]
        }
      ]
    },
    {
      "cell_type": "code",
      "source": [
        "print(t.lower().islower())\n",
        "print(t.upper().isupper())"
      ],
      "metadata": {
        "colab": {
          "base_uri": "https://localhost:8080/"
        },
        "id": "5cVul7ZFNEIv",
        "outputId": "d4aca5fc-6766-4e93-d326-15b7b191bf33"
      },
      "execution_count": 110,
      "outputs": [
        {
          "output_type": "stream",
          "name": "stdout",
          "text": [
            "True\n",
            "True\n"
          ]
        }
      ]
    },
    {
      "cell_type": "code",
      "source": [
        "try:\n",
        "    s[0] = \"a\"\n",
        "except TypeError:\n",
        "    print(\"ERROR\")"
      ],
      "metadata": {
        "colab": {
          "base_uri": "https://localhost:8080/"
        },
        "id": "J59qSZu41PeM",
        "outputId": "57589d9f-4747-488e-f0c4-5901f2ef458c"
      },
      "execution_count": 111,
      "outputs": [
        {
          "output_type": "stream",
          "name": "stdout",
          "text": [
            "ERROR\n"
          ]
        }
      ]
    },
    {
      "cell_type": "code",
      "source": [
        "# \"a\" + s[1:]"
      ],
      "metadata": {
        "id": "dCBy1VQvNQif"
      },
      "execution_count": 113,
      "outputs": []
    },
    {
      "cell_type": "code",
      "source": [
        "print(id(s))\n",
        "s += \"abc\"\n",
        "print(id(s))"
      ],
      "metadata": {
        "colab": {
          "base_uri": "https://localhost:8080/"
        },
        "id": "DIxBD90S1Xww",
        "outputId": "913a0901-f8a9-4ef8-83af-ff65c03189e2"
      },
      "execution_count": 114,
      "outputs": [
        {
          "output_type": "stream",
          "name": "stdout",
          "text": [
            "139898646794992\n",
            "139898646960512\n"
          ]
        }
      ]
    },
    {
      "cell_type": "code",
      "source": [
        "# можно работать с индексами как со списками и кортежами\n",
        "\n",
        "print(s[0])\n",
        "print(s[2:10:2])"
      ],
      "metadata": {
        "colab": {
          "base_uri": "https://localhost:8080/"
        },
        "id": "3SoBX-ct1hb1",
        "outputId": "b8e8de15-60e9-4770-ebbb-6fc06e7043ca"
      },
      "execution_count": 115,
      "outputs": [
        {
          "output_type": "stream",
          "name": "stdout",
          "text": [
            "s\n",
            "mbd \n"
          ]
        }
      ]
    },
    {
      "cell_type": "code",
      "source": [
        "s = s.replace(\"somebody\", \"nobody\")  # заменить все вхождения подстроки на другую\n",
        "print(s)"
      ],
      "metadata": {
        "colab": {
          "base_uri": "https://localhost:8080/"
        },
        "id": "2WEg35Gb1mCx",
        "outputId": "e3c57ed7-5492-4e07-999a-9611a53d5f8a"
      },
      "execution_count": 116,
      "outputs": [
        {
          "output_type": "stream",
          "name": "stdout",
          "text": [
            "nobody once told meabc\n"
          ]
        }
      ]
    },
    {
      "cell_type": "code",
      "source": [
        "s = \"aaaaaaa\"\n",
        "print(s.replace(\"aa\", \"b\", 2))  # хм, а тут что будет?"
      ],
      "metadata": {
        "colab": {
          "base_uri": "https://localhost:8080/"
        },
        "id": "BlPXgSHJ1omQ",
        "outputId": "cce01343-2150-488d-bd6c-309aab13e951"
      },
      "execution_count": 121,
      "outputs": [
        {
          "output_type": "stream",
          "name": "stdout",
          "text": [
            "bbaaa\n"
          ]
        }
      ]
    },
    {
      "cell_type": "code",
      "source": [
        "print(\", \".join([\"bread\", \"milk\", \"cheese\"]))"
      ],
      "metadata": {
        "colab": {
          "base_uri": "https://localhost:8080/"
        },
        "id": "PA3Xu5lh1yc6",
        "outputId": "d7cbea78-6c91-46b9-c227-e0e86db9a17d"
      },
      "execution_count": null,
      "outputs": [
        {
          "output_type": "stream",
          "name": "stdout",
          "text": [
            "bread, milk, cheese\n"
          ]
        }
      ]
    },
    {
      "cell_type": "code",
      "source": [
        "print(s.count(\"e\"))  # количество вхождений символа\n",
        "print(\"abracadabra\".count(\"ra\"))  # или целой подстроки"
      ],
      "metadata": {
        "colab": {
          "base_uri": "https://localhost:8080/"
        },
        "id": "rdqHwTv515BI",
        "outputId": "014f339e-5e21-476b-bf8d-9a8b5ab23e22"
      },
      "execution_count": 122,
      "outputs": [
        {
          "output_type": "stream",
          "name": "stdout",
          "text": [
            "0\n",
            "2\n"
          ]
        }
      ]
    },
    {
      "cell_type": "code",
      "source": [
        "s = \"say what again, i dare you, i double dare you\"\n",
        "print(s.find(\"dare\"))  # индекс первого вхождения, вторым аргументом можно указать, с какого индекса начинать иска"
      ],
      "metadata": {
        "colab": {
          "base_uri": "https://localhost:8080/"
        },
        "id": "4k5yztoS19ih",
        "outputId": "9dc044af-3f3e-4152-a27a-d409847ff43d"
      },
      "execution_count": 124,
      "outputs": [
        {
          "output_type": "stream",
          "name": "stdout",
          "text": [
            "18\n"
          ]
        }
      ]
    },
    {
      "cell_type": "code",
      "source": [
        "s = \"say what again, i dare you, i double dare you\"\n",
        "print(s.rfind(\"dare\"))  # индекс первого вхождения, вторым аргументом можно указать, с какого индекса начинать иска"
      ],
      "metadata": {
        "colab": {
          "base_uri": "https://localhost:8080/"
        },
        "id": "_mGQll6i2A6y",
        "outputId": "9c871b6f-f366-48d0-e409-b00245dd5fe7"
      },
      "execution_count": 125,
      "outputs": [
        {
          "output_type": "stream",
          "name": "stdout",
          "text": [
            "37\n"
          ]
        }
      ]
    },
    {
      "cell_type": "code",
      "source": [
        "print(s.startswith(\"say\"))  # начинается с say\n",
        "print(s.endswith(\"you\"))  # заканчивается на you\n",
        "print(s.startswith(\"cry\"))"
      ],
      "metadata": {
        "colab": {
          "base_uri": "https://localhost:8080/"
        },
        "id": "6MAiOVoV2DO2",
        "outputId": "1b750473-198d-480d-bbee-f4f5f504d10c"
      },
      "execution_count": 126,
      "outputs": [
        {
          "output_type": "stream",
          "name": "stdout",
          "text": [
            "True\n",
            "True\n",
            "False\n"
          ]
        }
      ]
    },
    {
      "cell_type": "code",
      "source": [
        "s = \"    hello, honey!   \"\n",
        "\n",
        "print(s.__repr__())  # __repr__ тут нужен, чтобы увидеть скрытые символы\n",
        "print(s.strip().__repr__())  # обрезать с двух сторон все пробельные символы\n",
        "print(s.rstrip().__repr__())  # только справа\n",
        "print(s.lstrip().__repr__())  # только слева"
      ],
      "metadata": {
        "colab": {
          "base_uri": "https://localhost:8080/"
        },
        "id": "GKhRVTdD2MQP",
        "outputId": "567b9160-bb57-46ec-fb0d-db64696a8876"
      },
      "execution_count": 127,
      "outputs": [
        {
          "output_type": "stream",
          "name": "stdout",
          "text": [
            "'    hello, honey!   '\n",
            "'hello, honey!'\n",
            "'    hello, honey!'\n",
            "'hello, honey!   '\n"
          ]
        }
      ]
    },
    {
      "cell_type": "code",
      "source": [
        "# with open(\"file\", \"r\") as f:\n",
        "#     for line in f:\n",
        "#         line = line.strip()"
      ],
      "metadata": {
        "id": "8KbbSieW2RcE"
      },
      "execution_count": null,
      "outputs": []
    },
    {
      "cell_type": "code",
      "source": [
        "s = \"hello world\"\n",
        "print(s.split())\n",
        "\n",
        "s = \"hello, world\"\n",
        "print(s.split(\",\"))  # можно делать сплит по любой строке\n",
        "\n",
        "s = \"hello\"\n",
        "print(s.isalpha())  # только буквы\n",
        "\n",
        "s = \"hello!\"\n",
        "print(s.isalpha())\n",
        "\n",
        "s = \"12345\"\n",
        "print(s.isdigit())  # только цифры\n",
        "\n",
        "s = \"abc123\"\n",
        "print(s.isalnum())  # буквы и цифры\n",
        "\n",
        "print(s.islower())  # только нижний регистр (и цифры)\n",
        "\n",
        "print(s.isupper())  # только нижний регистр (и цифры)\n",
        "\n",
        "s = \"   \\n\\t\"\n",
        "print(s.isspace())  # проверка что строка состоит из пробельных символов (в том числе табы и \\n)"
      ],
      "metadata": {
        "colab": {
          "base_uri": "https://localhost:8080/"
        },
        "id": "1qK9mZ-o2cVo",
        "outputId": "fa014c63-7abf-4829-b77f-2535b0ad771a"
      },
      "execution_count": null,
      "outputs": [
        {
          "output_type": "stream",
          "name": "stdout",
          "text": [
            "['hello', 'world']\n",
            "['hello', ' world']\n",
            "True\n",
            "False\n",
            "True\n",
            "True\n",
            "True\n",
            "False\n",
            "True\n"
          ]
        }
      ]
    },
    {
      "cell_type": "code",
      "source": [
        "s = \"\"\"Brian\n",
        "Top marks for not trying\n",
        "So kind of you to bless us\n",
        "With your effortlessness\n",
        "We're grateful and so strangely comforted.\n",
        "\"\"\"  # строки можно делать мультилайновыми\n",
        "\n",
        "s"
      ],
      "metadata": {
        "colab": {
          "base_uri": "https://localhost:8080/",
          "height": 35
        },
        "id": "aTyNjoq-2jY3",
        "outputId": "41dde283-3ac8-4877-ff65-0dc5960630fa"
      },
      "execution_count": 128,
      "outputs": [
        {
          "output_type": "execute_result",
          "data": {
            "text/plain": [
              "\"Brian\\nTop marks for not trying\\nSo kind of you to bless us\\nWith your effortlessness\\nWe're grateful and so strangely comforted.\\n\""
            ],
            "application/vnd.google.colaboratory.intrinsic+json": {
              "type": "string"
            }
          },
          "metadata": {},
          "execution_count": 128
        }
      ]
    },
    {
      "cell_type": "code",
      "source": [
        "print(s)"
      ],
      "metadata": {
        "colab": {
          "base_uri": "https://localhost:8080/"
        },
        "id": "ieAIZj1v2uop",
        "outputId": "e4c13d0d-0423-460a-f208-911845b51a16"
      },
      "execution_count": 129,
      "outputs": [
        {
          "output_type": "stream",
          "name": "stdout",
          "text": [
            "Brian\n",
            "Top marks for not trying\n",
            "So kind of you to bless us\n",
            "With your effortlessness\n",
            "We're grateful and so strangely comforted.\n",
            "\n"
          ]
        }
      ]
    },
    {
      "cell_type": "code",
      "source": [
        "s = \"I'm going back to 505\"\n",
        "\n",
        "for idx, symbol in enumerate(s, start=1):\n",
        "    print(f\"Symbol on position {idx} is {symbol}\")"
      ],
      "metadata": {
        "colab": {
          "base_uri": "https://localhost:8080/"
        },
        "id": "yW5Yw2F2OssJ",
        "outputId": "b3a8cf12-a75c-421d-dffd-a0ef28376e8c"
      },
      "execution_count": 132,
      "outputs": [
        {
          "output_type": "stream",
          "name": "stdout",
          "text": [
            "Symbol on position 1 is I\n",
            "Symbol on position 2 is '\n",
            "Symbol on position 3 is m\n",
            "Symbol on position 4 is  \n",
            "Symbol on position 5 is g\n",
            "Symbol on position 6 is o\n",
            "Symbol on position 7 is i\n",
            "Symbol on position 8 is n\n",
            "Symbol on position 9 is g\n",
            "Symbol on position 10 is  \n",
            "Symbol on position 11 is b\n",
            "Symbol on position 12 is a\n",
            "Symbol on position 13 is c\n",
            "Symbol on position 14 is k\n",
            "Symbol on position 15 is  \n",
            "Symbol on position 16 is t\n",
            "Symbol on position 17 is o\n",
            "Symbol on position 18 is  \n",
            "Symbol on position 19 is 5\n",
            "Symbol on position 20 is 0\n",
            "Symbol on position 21 is 5\n"
          ]
        }
      ]
    }
  ]
}